{
 "cells": [
  {
   "cell_type": "markdown",
   "id": "e566e8d1",
   "metadata": {},
   "source": [
    "# API OpenWeatherMap\n",
    "\n"
   ]
  },
  {
   "cell_type": "markdown",
   "id": "6f5b796c",
   "metadata": {},
   "source": [
    "## Configuration de l'application:\n",
    "\n",
    "- api_key\n"
   ]
  },
  {
   "cell_type": "markdown",
   "id": "d8371c1d",
   "metadata": {},
   "source": [
    "### Chargement de la configuration sinon création d'une configuration de base"
   ]
  },
  {
   "cell_type": "code",
   "execution_count": 7,
   "id": "d3f95919",
   "metadata": {},
   "outputs": [
    {
     "name": "stdout",
     "output_type": "stream",
     "text": [
      "ConfigJSON: [\n",
      "\tdossier: '.'\n",
      "\tfichier: 'config.json'\n",
      "\tconfig: {\n",
      "\t\tapi_key: **secret**\n",
      "\t}\n",
      "]\n",
      "\n"
     ]
    }
   ],
   "source": [
    "# Chargement de la configuration ou création d\"une configuration de base\n",
    "from ConfigJSON import ConfigJSON\n",
    "\n",
    "# Variable de configuration globale\n",
    "config = ConfigJSON(\"config.json\")\n",
    "\n",
    "if config.exist_file():\n",
    "    \n",
    "    config.read_file()\n",
    "    print( config )\n",
    "    \n",
    "else:\n",
    "    print(\"Erreur pas de fichier de configuration config.json\")\n",
    "    \n",
    "    api_key = input(\"Entrez votre clé d'API openWeather Map: \")\n",
    "    config.set_config( \"api_key\", api_key )\n",
    "    \n",
    "    config.write_file()\n",
    "    "
   ]
  },
  {
   "cell_type": "markdown",
   "id": "c2a563f4",
   "metadata": {},
   "source": [
    "### Geocoding API\n",
    "\n",
    "Documentation : https://openweathermap.org/api/geocoding-api\n",
    "\n",
    "Faire une requete pour rechercher une ville:"
   ]
  },
  {
   "cell_type": "code",
   "execution_count": 12,
   "id": "7b59789d",
   "metadata": {},
   "outputs": [
    {
     "name": "stdout",
     "output_type": "stream",
     "text": [
      "Saisir une ville : saint-étienne\n",
      "Code pays (ISO 3166) : FR\n",
      "0 ['Saint-Étienne', 'Saint-Étienne', 45.4401467, 4.3873058, 'FR', 'Auvergne-Rhône-Alpes']\n",
      "1 ['Saint-Étienne-la-Cigogne', 'Saint-Étienne-la-Cigogne', 46.1148482, -0.5034125, 'FR', 'Nouvelle-Aquitaine']\n",
      "2 ['Saint-Étienne', 'Saint-Étienne', 45.409604200000004, 4.484915566669622, 'FR', 'Auvergne-Rhône-Alpes']\n",
      "3 ['Saint-Étienne', 'Saint-Étienne', 43.1587144, -0.8931555, 'FR', 'Nouvelle-Aquitaine']\n",
      "4 ['Saint-Étienne', 'Saint-Étienne', 43.2419885, -1.1431591, 'FR', 'Nouvelle-Aquitaine']\n"
     ]
    }
   ],
   "source": [
    "from ConfigJSON import ConfigJSON\n",
    "\n",
    "config = ConfigJSON(\"config.json\")\n",
    "config.read_file()\n",
    "\n",
    "ville = input(\"Saisir une ville : \")\n",
    "pays = input(\"Code pays (ISO 3166) : \")\n",
    "\n",
    "url_api = \"http://api.openweathermap.org/geo/1.0/direct?limit=20&appid=\" + config.get_config(\"api_key\")\n",
    "url_api += \"&q=\" + ville\n",
    "if len(pays) > 0:\n",
    "    url_api += \",\" + pays\n",
    "\n",
    "# Executer la requete\n",
    "req = requests.get( url_api )\n",
    "api_data = req.json()\n",
    "\n",
    "#print(api_data)\n",
    "\n",
    "geo_match = []\n",
    "\n",
    "for index_geo, geo_loc in enumerate(api_data):\n",
    "    \n",
    "    local_name = \"\"\n",
    "    if \"local_names\" in geo_loc:\n",
    "            for key in geo_loc[\"local_names\"]:\n",
    "                if local_name == \"\" and key == \"fr\":\n",
    "                    local_name = geo_loc[\"local_names\"][key]\n",
    "    geo_match.append( [geo_loc[\"name\"], local_name, geo_loc[\"lat\"], geo_loc[\"lon\"], geo_loc[\"country\"], geo_loc[\"state\"] ] )\n",
    "\n",
    "# Affichage des localisations trouvées\n",
    "for index_geo, geo_loc in enumerate(geo_match):\n",
    "    print(index_geo, geo_loc)\n",
    "    "
   ]
  },
  {
   "cell_type": "markdown",
   "id": "bad01d05",
   "metadata": {},
   "source": [
    "#### enregistrement de la configuration d'une localisation trouvé"
   ]
  },
  {
   "cell_type": "code",
   "execution_count": 13,
   "id": "d8b27896",
   "metadata": {},
   "outputs": [
    {
     "name": "stdout",
     "output_type": "stream",
     "text": [
      "Numéro de localisation à paramétrer : 0\n"
     ]
    }
   ],
   "source": [
    "from ConfigJSON import ConfigJSON\n",
    "\n",
    "config = ConfigJSON(\"config.json\")\n",
    "config.read_file()\n",
    "\n",
    "index_geo = int( input(\"Numéro de localisation à paramétrer : \") )\n",
    "\n",
    "config.set_config( \"lat\", geo_match[index_geo][2] )\n",
    "config.set_config( \"lon\", geo_match[index_geo][3] )\n",
    "    \n",
    "config.write_file()"
   ]
  },
  {
   "cell_type": "markdown",
   "id": "dee9232b",
   "metadata": {},
   "source": [
    "### Appel API météo actuelle"
   ]
  },
  {
   "cell_type": "code",
   "execution_count": 19,
   "id": "a5ea1c00",
   "metadata": {},
   "outputs": [
    {
     "name": "stdout",
     "output_type": "stream",
     "text": [
      "{'timestamp': 1666542634, 'lieu': 'Saint-Étienne', 'sunrise': 1666505333, 'sunset': 1666543465, 'coord_lon': 4.3873, 'coord_lat': 45.4401, 'meteo_id': 800, 'meteo_group': 'Clear', 'meteo_desc': 'ciel dégagé', 'meteo_icon': '01d', 'vent_kph': 40.752, 'vent_dir': 190, 'temperature': 21.73, 'temp_ressentie': 21.16, 'temp_min': 21.02, 'temp_max': 22.17, 'humidite': 46, 'pression': 1011, 'visibilite': 10000, 'nuage': 0}\n"
     ]
    }
   ],
   "source": [
    "# Endpoint current weather data\n",
    "# Documentation : https://openweathermap.org/current\n",
    "\n",
    "from ConfigJSON import ConfigJSON\n",
    "\n",
    "config = ConfigJSON(\"config.json\")\n",
    "config.read_file()\n",
    "\n",
    "url_api = \"http://api.openweathermap.org/data/2.5/weather?units=metric&lang=fr&appid=\" + config.get_config(\"api_key\")\n",
    "url_api += \"&lat=\" + str( config.get_config(\"lat\") )\n",
    "url_api += \"&lon=\" + str( config.get_config(\"lon\") )\n",
    "\n",
    "# Executer la requete\n",
    "req = requests.get( url_api )\n",
    "api_data = req.json()\n",
    "\n",
    "#print(api_data)\n",
    "\n",
    "meteo = {}\n",
    "meteo['timestamp'] = api_data['dt']\n",
    "meteo['lieu'] = api_data[\"name\"]\n",
    "meteo['sunrise'] = api_data[\"sys\"][\"sunrise\"]\n",
    "meteo['sunset'] = api_data[\"sys\"][\"sunset\"]\n",
    "meteo['coord_lon'] = api_data[\"coord\"][\"lon\"]\n",
    "meteo['coord_lat'] = api_data[\"coord\"][\"lat\"]\n",
    "meteo['meteo_id'] = api_data[\"weather\"][0][\"id\"]\n",
    "meteo['meteo_group'] = api_data[\"weather\"][0][\"main\"]\n",
    "meteo['meteo_desc'] = api_data[\"weather\"][0][\"description\"]\n",
    "meteo['meteo_icon'] = api_data[\"weather\"][0][\"icon\"]\n",
    "meteo['vent_kph'] = api_data[\"wind\"][\"speed\"] * 3.6\n",
    "meteo['vent_dir'] = api_data[\"wind\"][\"deg\"]\n",
    "meteo['temperature'] = api_data[\"main\"][\"temp\"]\n",
    "meteo['temp_ressentie'] = api_data[\"main\"][\"feels_like\"]\n",
    "meteo['temp_min'] = api_data[\"main\"][\"temp_min\"]\n",
    "meteo['temp_max'] = api_data[\"main\"][\"temp_max\"]\n",
    "meteo['humidite'] = api_data[\"main\"][\"humidity\"]\n",
    "meteo['pression'] = api_data[\"main\"][\"pressure\"]\n",
    "meteo['visibilite'] = api_data[\"visibility\"]\n",
    "meteo['nuages'] = api_data[\"clouds\"][\"all\"]\n",
    "\n",
    "print(meteo)"
   ]
  },
  {
   "cell_type": "markdown",
   "id": "bd1b9687",
   "metadata": {},
   "source": [
    "### Appel API prévisions météo"
   ]
  },
  {
   "cell_type": "code",
   "execution_count": 22,
   "id": "c9c6fdf6",
   "metadata": {},
   "outputs": [
    {
     "name": "stdout",
     "output_type": "stream",
     "text": [
      "{'cod': '200', 'message': 0, 'cnt': 40, 'list': [{'dt': 1666548000, 'main': {'temp': 21.11, 'feels_like': 20.66, 'temp_min': 17.2, 'temp_max': 21.11, 'pressure': 1012, 'sea_level': 1012, 'grnd_level': 954, 'humidity': 53, 'temp_kf': 3.91}, 'weather': [{'id': 500, 'main': 'Rain', 'description': 'légère pluie', 'icon': '10n'}], 'clouds': {'all': 0}, 'wind': {'speed': 3.84, 'deg': 221, 'gust': 8.49}, 'visibility': 10000, 'pop': 0.62, 'rain': {'3h': 1.2}, 'sys': {'pod': 'n'}, 'dt_txt': '2022-10-23 18:00:00'}, {'dt': 1666558800, 'main': {'temp': 19.6, 'feels_like': 19.29, 'temp_min': 16.58, 'temp_max': 19.6, 'pressure': 1013, 'sea_level': 1013, 'grnd_level': 954, 'humidity': 64, 'temp_kf': 3.02}, 'weather': [{'id': 501, 'main': 'Rain', 'description': 'pluie modérée', 'icon': '10n'}], 'clouds': {'all': 33}, 'wind': {'speed': 3.34, 'deg': 181, 'gust': 8.16}, 'visibility': 10000, 'pop': 0.62, 'rain': {'3h': 3.35}, 'sys': {'pod': 'n'}, 'dt_txt': '2022-10-23 21:00:00'}, {'dt': 1666569600, 'main': {'temp': 17.46, 'feels_like': 17.27, 'temp_min': 15.63, 'temp_max': 17.46, 'pressure': 1013, 'sea_level': 1013, 'grnd_level': 954, 'humidity': 77, 'temp_kf': 1.83}, 'weather': [{'id': 500, 'main': 'Rain', 'description': 'légère pluie', 'icon': '10n'}], 'clouds': {'all': 67}, 'wind': {'speed': 2.56, 'deg': 178, 'gust': 4.66}, 'visibility': 10000, 'pop': 0.73, 'rain': {'3h': 1.57}, 'sys': {'pod': 'n'}, 'dt_txt': '2022-10-24 00:00:00'}, {'dt': 1666580400, 'main': {'temp': 14.43, 'feels_like': 14.33, 'temp_min': 14.43, 'temp_max': 14.43, 'pressure': 1014, 'sea_level': 1014, 'grnd_level': 954, 'humidity': 92, 'temp_kf': 0}, 'weather': [{'id': 500, 'main': 'Rain', 'description': 'légère pluie', 'icon': '10n'}], 'clouds': {'all': 100}, 'wind': {'speed': 2.61, 'deg': 179, 'gust': 4.11}, 'visibility': 10000, 'pop': 0.79, 'rain': {'3h': 1.51}, 'sys': {'pod': 'n'}, 'dt_txt': '2022-10-24 03:00:00'}, {'dt': 1666591200, 'main': {'temp': 13.85, 'feels_like': 13.69, 'temp_min': 13.85, 'temp_max': 13.85, 'pressure': 1015, 'sea_level': 1015, 'grnd_level': 954, 'humidity': 92, 'temp_kf': 0}, 'weather': [{'id': 500, 'main': 'Rain', 'description': 'légère pluie', 'icon': '10n'}], 'clouds': {'all': 100}, 'wind': {'speed': 2.35, 'deg': 208, 'gust': 3.29}, 'visibility': 10000, 'pop': 0.79, 'rain': {'3h': 1.04}, 'sys': {'pod': 'n'}, 'dt_txt': '2022-10-24 06:00:00'}, {'dt': 1666602000, 'main': {'temp': 17.91, 'feels_like': 17.74, 'temp_min': 17.91, 'temp_max': 17.91, 'pressure': 1016, 'sea_level': 1016, 'grnd_level': 956, 'humidity': 76, 'temp_kf': 0}, 'weather': [{'id': 500, 'main': 'Rain', 'description': 'légère pluie', 'icon': '10d'}], 'clouds': {'all': 100}, 'wind': {'speed': 1.93, 'deg': 227, 'gust': 3.95}, 'visibility': 10000, 'pop': 0.54, 'rain': {'3h': 0.3}, 'sys': {'pod': 'd'}, 'dt_txt': '2022-10-24 09:00:00'}, {'dt': 1666612800, 'main': {'temp': 20.54, 'feels_like': 20.03, 'temp_min': 20.54, 'temp_max': 20.54, 'pressure': 1016, 'sea_level': 1016, 'grnd_level': 957, 'humidity': 53, 'temp_kf': 0}, 'weather': [{'id': 500, 'main': 'Rain', 'description': 'légère pluie', 'icon': '10d'}], 'clouds': {'all': 60}, 'wind': {'speed': 2.4, 'deg': 241, 'gust': 4.38}, 'visibility': 10000, 'pop': 0.58, 'rain': {'3h': 0.6}, 'sys': {'pod': 'd'}, 'dt_txt': '2022-10-24 12:00:00'}, {'dt': 1666623600, 'main': {'temp': 20.55, 'feels_like': 20.04, 'temp_min': 20.55, 'temp_max': 20.55, 'pressure': 1016, 'sea_level': 1016, 'grnd_level': 956, 'humidity': 53, 'temp_kf': 0}, 'weather': [{'id': 500, 'main': 'Rain', 'description': 'légère pluie', 'icon': '10d'}], 'clouds': {'all': 42}, 'wind': {'speed': 1.58, 'deg': 273, 'gust': 3.26}, 'visibility': 10000, 'pop': 0.43, 'rain': {'3h': 0.15}, 'sys': {'pod': 'd'}, 'dt_txt': '2022-10-24 15:00:00'}, {'dt': 1666634400, 'main': {'temp': 14.39, 'feels_like': 13.74, 'temp_min': 14.39, 'temp_max': 14.39, 'pressure': 1018, 'sea_level': 1018, 'grnd_level': 957, 'humidity': 71, 'temp_kf': 0}, 'weather': [{'id': 803, 'main': 'Clouds', 'description': 'nuageux', 'icon': '04n'}], 'clouds': {'all': 60}, 'wind': {'speed': 1.38, 'deg': 237, 'gust': 1.31}, 'visibility': 10000, 'pop': 0.39, 'sys': {'pod': 'n'}, 'dt_txt': '2022-10-24 18:00:00'}, {'dt': 1666645200, 'main': {'temp': 13.49, 'feels_like': 12.75, 'temp_min': 13.49, 'temp_max': 13.49, 'pressure': 1020, 'sea_level': 1020, 'grnd_level': 958, 'humidity': 71, 'temp_kf': 0}, 'weather': [{'id': 804, 'main': 'Clouds', 'description': 'couvert', 'icon': '04n'}], 'clouds': {'all': 100}, 'wind': {'speed': 1.75, 'deg': 212, 'gust': 1.83}, 'visibility': 10000, 'pop': 0.1, 'sys': {'pod': 'n'}, 'dt_txt': '2022-10-24 21:00:00'}, {'dt': 1666656000, 'main': {'temp': 12.76, 'feels_like': 11.92, 'temp_min': 12.76, 'temp_max': 12.76, 'pressure': 1020, 'sea_level': 1020, 'grnd_level': 959, 'humidity': 70, 'temp_kf': 0}, 'weather': [{'id': 804, 'main': 'Clouds', 'description': 'couvert', 'icon': '04n'}], 'clouds': {'all': 100}, 'wind': {'speed': 1.97, 'deg': 206, 'gust': 2.07}, 'visibility': 10000, 'pop': 0.04, 'sys': {'pod': 'n'}, 'dt_txt': '2022-10-25 00:00:00'}, {'dt': 1666666800, 'main': {'temp': 11.91, 'feels_like': 10.98, 'temp_min': 11.91, 'temp_max': 11.91, 'pressure': 1019, 'sea_level': 1019, 'grnd_level': 958, 'humidity': 70, 'temp_kf': 0}, 'weather': [{'id': 804, 'main': 'Clouds', 'description': 'couvert', 'icon': '04n'}], 'clouds': {'all': 100}, 'wind': {'speed': 1.55, 'deg': 193, 'gust': 1.53}, 'visibility': 10000, 'pop': 0, 'sys': {'pod': 'n'}, 'dt_txt': '2022-10-25 03:00:00'}, {'dt': 1666677600, 'main': {'temp': 11.15, 'feels_like': 10.17, 'temp_min': 11.15, 'temp_max': 11.15, 'pressure': 1019, 'sea_level': 1019, 'grnd_level': 958, 'humidity': 71, 'temp_kf': 0}, 'weather': [{'id': 803, 'main': 'Clouds', 'description': 'nuageux', 'icon': '04n'}], 'clouds': {'all': 73}, 'wind': {'speed': 1.68, 'deg': 189, 'gust': 1.59}, 'visibility': 10000, 'pop': 0, 'sys': {'pod': 'n'}, 'dt_txt': '2022-10-25 06:00:00'}, {'dt': 1666688400, 'main': {'temp': 16.93, 'feels_like': 16.14, 'temp_min': 16.93, 'temp_max': 16.93, 'pressure': 1019, 'sea_level': 1019, 'grnd_level': 958, 'humidity': 56, 'temp_kf': 0}, 'weather': [{'id': 803, 'main': 'Clouds', 'description': 'nuageux', 'icon': '04d'}], 'clouds': {'all': 54}, 'wind': {'speed': 1.22, 'deg': 144, 'gust': 2.29}, 'visibility': 10000, 'pop': 0, 'sys': {'pod': 'd'}, 'dt_txt': '2022-10-25 09:00:00'}, {'dt': 1666699200, 'main': {'temp': 20.98, 'feels_like': 20.36, 'temp_min': 20.98, 'temp_max': 20.98, 'pressure': 1017, 'sea_level': 1017, 'grnd_level': 957, 'humidity': 47, 'temp_kf': 0}, 'weather': [{'id': 803, 'main': 'Clouds', 'description': 'nuageux', 'icon': '04d'}], 'clouds': {'all': 77}, 'wind': {'speed': 2.65, 'deg': 140, 'gust': 4.98}, 'visibility': 10000, 'pop': 0, 'sys': {'pod': 'd'}, 'dt_txt': '2022-10-25 12:00:00'}, {'dt': 1666710000, 'main': {'temp': 20.2, 'feels_like': 19.79, 'temp_min': 20.2, 'temp_max': 20.2, 'pressure': 1015, 'sea_level': 1015, 'grnd_level': 956, 'humidity': 58, 'temp_kf': 0}, 'weather': [{'id': 804, 'main': 'Clouds', 'description': 'couvert', 'icon': '04d'}], 'clouds': {'all': 100}, 'wind': {'speed': 2.61, 'deg': 147, 'gust': 5.35}, 'visibility': 10000, 'pop': 0, 'sys': {'pod': 'd'}, 'dt_txt': '2022-10-25 15:00:00'}, {'dt': 1666720800, 'main': {'temp': 15.25, 'feels_like': 14.79, 'temp_min': 15.25, 'temp_max': 15.25, 'pressure': 1016, 'sea_level': 1016, 'grnd_level': 956, 'humidity': 75, 'temp_kf': 0}, 'weather': [{'id': 804, 'main': 'Clouds', 'description': 'couvert', 'icon': '04n'}], 'clouds': {'all': 99}, 'wind': {'speed': 2.65, 'deg': 178, 'gust': 3.89}, 'visibility': 10000, 'pop': 0, 'sys': {'pod': 'n'}, 'dt_txt': '2022-10-25 18:00:00'}, {'dt': 1666731600, 'main': {'temp': 14.08, 'feels_like': 13.66, 'temp_min': 14.08, 'temp_max': 14.08, 'pressure': 1017, 'sea_level': 1017, 'grnd_level': 956, 'humidity': 81, 'temp_kf': 0}, 'weather': [{'id': 804, 'main': 'Clouds', 'description': 'couvert', 'icon': '04n'}], 'clouds': {'all': 98}, 'wind': {'speed': 2.95, 'deg': 184, 'gust': 3.89}, 'visibility': 10000, 'pop': 0, 'sys': {'pod': 'n'}, 'dt_txt': '2022-10-25 21:00:00'}, {'dt': 1666742400, 'main': {'temp': 13.62, 'feels_like': 13.18, 'temp_min': 13.62, 'temp_max': 13.62, 'pressure': 1017, 'sea_level': 1017, 'grnd_level': 956, 'humidity': 82, 'temp_kf': 0}, 'weather': [{'id': 803, 'main': 'Clouds', 'description': 'nuageux', 'icon': '04n'}], 'clouds': {'all': 80}, 'wind': {'speed': 2.37, 'deg': 201, 'gust': 3.33}, 'visibility': 10000, 'pop': 0, 'sys': {'pod': 'n'}, 'dt_txt': '2022-10-26 00:00:00'}, {'dt': 1666753200, 'main': {'temp': 12.95, 'feels_like': 12.62, 'temp_min': 12.95, 'temp_max': 12.95, 'pressure': 1019, 'sea_level': 1019, 'grnd_level': 958, 'humidity': 89, 'temp_kf': 0}, 'weather': [{'id': 802, 'main': 'Clouds', 'description': 'partiellement nuageux', 'icon': '03n'}], 'clouds': {'all': 29}, 'wind': {'speed': 2.81, 'deg': 203, 'gust': 3.48}, 'visibility': 10000, 'pop': 0, 'sys': {'pod': 'n'}, 'dt_txt': '2022-10-26 03:00:00'}, {'dt': 1666764000, 'main': {'temp': 12.63, 'feels_like': 12.22, 'temp_min': 12.63, 'temp_max': 12.63, 'pressure': 1020, 'sea_level': 1020, 'grnd_level': 959, 'humidity': 87, 'temp_kf': 0}, 'weather': [{'id': 801, 'main': 'Clouds', 'description': 'peu nuageux', 'icon': '02n'}], 'clouds': {'all': 20}, 'wind': {'speed': 2.36, 'deg': 209, 'gust': 2.28}, 'visibility': 10000, 'pop': 0, 'sys': {'pod': 'n'}, 'dt_txt': '2022-10-26 06:00:00'}, {'dt': 1666774800, 'main': {'temp': 18.85, 'feels_like': 18.38, 'temp_min': 18.85, 'temp_max': 18.85, 'pressure': 1021, 'sea_level': 1021, 'grnd_level': 961, 'humidity': 61, 'temp_kf': 0}, 'weather': [{'id': 800, 'main': 'Clear', 'description': 'ciel dégagé', 'icon': '01d'}], 'clouds': {'all': 7}, 'wind': {'speed': 0.78, 'deg': 177, 'gust': 1.52}, 'visibility': 10000, 'pop': 0, 'sys': {'pod': 'd'}, 'dt_txt': '2022-10-26 09:00:00'}, {'dt': 1666785600, 'main': {'temp': 22.46, 'feels_like': 22.07, 'temp_min': 22.46, 'temp_max': 22.46, 'pressure': 1020, 'sea_level': 1020, 'grnd_level': 961, 'humidity': 50, 'temp_kf': 0}, 'weather': [{'id': 800, 'main': 'Clear', 'description': 'ciel dégagé', 'icon': '01d'}], 'clouds': {'all': 4}, 'wind': {'speed': 1.96, 'deg': 93, 'gust': 2.78}, 'visibility': 10000, 'pop': 0, 'sys': {'pod': 'd'}, 'dt_txt': '2022-10-26 12:00:00'}, {'dt': 1666796400, 'main': {'temp': 22.09, 'feels_like': 21.87, 'temp_min': 22.09, 'temp_max': 22.09, 'pressure': 1019, 'sea_level': 1019, 'grnd_level': 960, 'humidity': 58, 'temp_kf': 0}, 'weather': [{'id': 802, 'main': 'Clouds', 'description': 'partiellement nuageux', 'icon': '03d'}], 'clouds': {'all': 33}, 'wind': {'speed': 1.82, 'deg': 94, 'gust': 3.47}, 'visibility': 10000, 'pop': 0, 'sys': {'pod': 'd'}, 'dt_txt': '2022-10-26 15:00:00'}, {'dt': 1666807200, 'main': {'temp': 15.62, 'feels_like': 15.33, 'temp_min': 15.62, 'temp_max': 15.62, 'pressure': 1022, 'sea_level': 1022, 'grnd_level': 961, 'humidity': 80, 'temp_kf': 0}, 'weather': [{'id': 803, 'main': 'Clouds', 'description': 'nuageux', 'icon': '04n'}], 'clouds': {'all': 52}, 'wind': {'speed': 2.03, 'deg': 184, 'gust': 2.2}, 'visibility': 10000, 'pop': 0, 'sys': {'pod': 'n'}, 'dt_txt': '2022-10-26 18:00:00'}, {'dt': 1666818000, 'main': {'temp': 15.43, 'feels_like': 15.07, 'temp_min': 15.43, 'temp_max': 15.43, 'pressure': 1023, 'sea_level': 1023, 'grnd_level': 962, 'humidity': 78, 'temp_kf': 0}, 'weather': [{'id': 804, 'main': 'Clouds', 'description': 'couvert', 'icon': '04n'}], 'clouds': {'all': 97}, 'wind': {'speed': 2.35, 'deg': 184, 'gust': 2.67}, 'visibility': 10000, 'pop': 0, 'sys': {'pod': 'n'}, 'dt_txt': '2022-10-26 21:00:00'}, {'dt': 1666828800, 'main': {'temp': 15.07, 'feels_like': 14.56, 'temp_min': 15.07, 'temp_max': 15.07, 'pressure': 1023, 'sea_level': 1023, 'grnd_level': 962, 'humidity': 74, 'temp_kf': 0}, 'weather': [{'id': 804, 'main': 'Clouds', 'description': 'couvert', 'icon': '04n'}], 'clouds': {'all': 97}, 'wind': {'speed': 2.27, 'deg': 192, 'gust': 2.37}, 'visibility': 10000, 'pop': 0, 'sys': {'pod': 'n'}, 'dt_txt': '2022-10-27 00:00:00'}, {'dt': 1666839600, 'main': {'temp': 13.69, 'feels_like': 13.07, 'temp_min': 13.69, 'temp_max': 13.69, 'pressure': 1023, 'sea_level': 1023, 'grnd_level': 962, 'humidity': 75, 'temp_kf': 0}, 'weather': [{'id': 803, 'main': 'Clouds', 'description': 'nuageux', 'icon': '04n'}], 'clouds': {'all': 58}, 'wind': {'speed': 2.3, 'deg': 193, 'gust': 2.37}, 'visibility': 10000, 'pop': 0, 'sys': {'pod': 'n'}, 'dt_txt': '2022-10-27 03:00:00'}, {'dt': 1666850400, 'main': {'temp': 13.2, 'feels_like': 12.59, 'temp_min': 13.2, 'temp_max': 13.2, 'pressure': 1024, 'sea_level': 1024, 'grnd_level': 962, 'humidity': 77, 'temp_kf': 0}, 'weather': [{'id': 802, 'main': 'Clouds', 'description': 'partiellement nuageux', 'icon': '03n'}], 'clouds': {'all': 42}, 'wind': {'speed': 2.27, 'deg': 186, 'gust': 2.27}, 'visibility': 10000, 'pop': 0, 'sys': {'pod': 'n'}, 'dt_txt': '2022-10-27 06:00:00'}, {'dt': 1666861200, 'main': {'temp': 19.81, 'feels_like': 19.23, 'temp_min': 19.81, 'temp_max': 19.81, 'pressure': 1024, 'sea_level': 1024, 'grnd_level': 964, 'humidity': 53, 'temp_kf': 0}, 'weather': [{'id': 803, 'main': 'Clouds', 'description': 'nuageux', 'icon': '04d'}], 'clouds': {'all': 61}, 'wind': {'speed': 2.24, 'deg': 176, 'gust': 3.89}, 'visibility': 10000, 'pop': 0, 'sys': {'pod': 'd'}, 'dt_txt': '2022-10-27 09:00:00'}, {'dt': 1666872000, 'main': {'temp': 24.01, 'feels_like': 23.35, 'temp_min': 24.01, 'temp_max': 24.01, 'pressure': 1023, 'sea_level': 1023, 'grnd_level': 964, 'humidity': 34, 'temp_kf': 0}, 'weather': [{'id': 803, 'main': 'Clouds', 'description': 'nuageux', 'icon': '04d'}], 'clouds': {'all': 57}, 'wind': {'speed': 3.5, 'deg': 182, 'gust': 6.5}, 'visibility': 10000, 'pop': 0, 'sys': {'pod': 'd'}, 'dt_txt': '2022-10-27 12:00:00'}, {'dt': 1666882800, 'main': {'temp': 22.32, 'feels_like': 21.73, 'temp_min': 22.32, 'temp_max': 22.32, 'pressure': 1023, 'sea_level': 1023, 'grnd_level': 963, 'humidity': 43, 'temp_kf': 0}, 'weather': [{'id': 801, 'main': 'Clouds', 'description': 'peu nuageux', 'icon': '02d'}], 'clouds': {'all': 22}, 'wind': {'speed': 2.79, 'deg': 176, 'gust': 5.13}, 'visibility': 10000, 'pop': 0, 'sys': {'pod': 'd'}, 'dt_txt': '2022-10-27 15:00:00'}, {'dt': 1666893600, 'main': {'temp': 15.28, 'feels_like': 14.61, 'temp_min': 15.28, 'temp_max': 15.28, 'pressure': 1025, 'sea_level': 1025, 'grnd_level': 964, 'humidity': 67, 'temp_kf': 0}, 'weather': [{'id': 802, 'main': 'Clouds', 'description': 'partiellement nuageux', 'icon': '03n'}], 'clouds': {'all': 46}, 'wind': {'speed': 2.7, 'deg': 191, 'gust': 2.84}, 'visibility': 10000, 'pop': 0, 'sys': {'pod': 'n'}, 'dt_txt': '2022-10-27 18:00:00'}, {'dt': 1666904400, 'main': {'temp': 14.93, 'feels_like': 14.12, 'temp_min': 14.93, 'temp_max': 14.93, 'pressure': 1025, 'sea_level': 1025, 'grnd_level': 964, 'humidity': 63, 'temp_kf': 0}, 'weather': [{'id': 804, 'main': 'Clouds', 'description': 'couvert', 'icon': '04n'}], 'clouds': {'all': 100}, 'wind': {'speed': 2.61, 'deg': 194, 'gust': 3.29}, 'visibility': 10000, 'pop': 0, 'sys': {'pod': 'n'}, 'dt_txt': '2022-10-27 21:00:00'}, {'dt': 1666915200, 'main': {'temp': 14.21, 'feels_like': 13.15, 'temp_min': 14.21, 'temp_max': 14.21, 'pressure': 1025, 'sea_level': 1025, 'grnd_level': 964, 'humidity': 56, 'temp_kf': 0}, 'weather': [{'id': 804, 'main': 'Clouds', 'description': 'couvert', 'icon': '04n'}], 'clouds': {'all': 100}, 'wind': {'speed': 2.6, 'deg': 195, 'gust': 3.2}, 'visibility': 10000, 'pop': 0, 'sys': {'pod': 'n'}, 'dt_txt': '2022-10-28 00:00:00'}, {'dt': 1666926000, 'main': {'temp': 13.02, 'feels_like': 11.79, 'temp_min': 13.02, 'temp_max': 13.02, 'pressure': 1025, 'sea_level': 1025, 'grnd_level': 963, 'humidity': 54, 'temp_kf': 0}, 'weather': [{'id': 804, 'main': 'Clouds', 'description': 'couvert', 'icon': '04n'}], 'clouds': {'all': 100}, 'wind': {'speed': 2.52, 'deg': 191, 'gust': 2.71}, 'visibility': 10000, 'pop': 0, 'sys': {'pod': 'n'}, 'dt_txt': '2022-10-28 03:00:00'}, {'dt': 1666936800, 'main': {'temp': 13.01, 'feels_like': 11.75, 'temp_min': 13.01, 'temp_max': 13.01, 'pressure': 1025, 'sea_level': 1025, 'grnd_level': 963, 'humidity': 53, 'temp_kf': 0}, 'weather': [{'id': 804, 'main': 'Clouds', 'description': 'couvert', 'icon': '04n'}], 'clouds': {'all': 100}, 'wind': {'speed': 2.5, 'deg': 193, 'gust': 2.84}, 'visibility': 10000, 'pop': 0, 'sys': {'pod': 'n'}, 'dt_txt': '2022-10-28 06:00:00'}, {'dt': 1666947600, 'main': {'temp': 19.24, 'feels_like': 18.37, 'temp_min': 19.24, 'temp_max': 19.24, 'pressure': 1024, 'sea_level': 1024, 'grnd_level': 964, 'humidity': 44, 'temp_kf': 0}, 'weather': [{'id': 803, 'main': 'Clouds', 'description': 'nuageux', 'icon': '04d'}], 'clouds': {'all': 78}, 'wind': {'speed': 2.08, 'deg': 177, 'gust': 3.88}, 'visibility': 10000, 'pop': 0, 'sys': {'pod': 'd'}, 'dt_txt': '2022-10-28 09:00:00'}, {'dt': 1666958400, 'main': {'temp': 24.3, 'feels_like': 23.54, 'temp_min': 24.3, 'temp_max': 24.3, 'pressure': 1023, 'sea_level': 1023, 'grnd_level': 964, 'humidity': 29, 'temp_kf': 0}, 'weather': [{'id': 803, 'main': 'Clouds', 'description': 'nuageux', 'icon': '04d'}], 'clouds': {'all': 59}, 'wind': {'speed': 3.51, 'deg': 176, 'gust': 5.93}, 'visibility': 10000, 'pop': 0, 'sys': {'pod': 'd'}, 'dt_txt': '2022-10-28 12:00:00'}, {'dt': 1666969200, 'main': {'temp': 21.69, 'feels_like': 21.04, 'temp_min': 21.69, 'temp_max': 21.69, 'pressure': 1022, 'sea_level': 1022, 'grnd_level': 963, 'humidity': 43, 'temp_kf': 0}, 'weather': [{'id': 803, 'main': 'Clouds', 'description': 'nuageux', 'icon': '04d'}], 'clouds': {'all': 79}, 'wind': {'speed': 2.48, 'deg': 164, 'gust': 4.21}, 'visibility': 10000, 'pop': 0, 'sys': {'pod': 'd'}, 'dt_txt': '2022-10-28 15:00:00'}], 'city': {'id': 2980291, 'name': 'Saint-Étienne', 'coord': {'lat': 45.4401, 'lon': 4.3873}, 'country': 'FR', 'population': 176280, 'timezone': 7200, 'sunrise': 1666505333, 'sunset': 1666543465}}\n"
     ]
    }
   ],
   "source": [
    "# Endpoint 5 day / 3 hour forecast data\n",
    "# Documentation : https://openweathermap.org/forecast5\n",
    "from ConfigJSON import ConfigJSON\n",
    "\n",
    "config = ConfigJSON(\"config.json\")\n",
    "config.read_file()\n",
    "\n",
    "url_api = \"http://api.openweathermap.org/data/2.5/forecast?units=metric&lang=fr&appid=\" + config.get_config(\"api_key\")\n",
    "url_api += \"&lat=\" + str( config.get_config(\"lat\") )\n",
    "url_api += \"&lon=\" + str( config.get_config(\"lon\") )\n",
    "\n",
    "# Executer la requete\n",
    "req = requests.get( url_api )\n",
    "api_data = req.json()\n",
    "\n",
    "print(api_data)\n",
    "\n"
   ]
  },
  {
   "cell_type": "code",
   "execution_count": 26,
   "id": "dc1322ef",
   "metadata": {},
   "outputs": [
    {
     "name": "stdout",
     "output_type": "stream",
     "text": [
      "{'timestamp': 1666548000, 'date': '2022-10-23 18:00:00', 'jour_nuit': 'nuit', 'lieu': 'Saint-Étienne', 'sunrise': 1666505333, 'sunset': 1666543465, 'coord_lon': 4.3873, 'coord_lat': 45.4401, 'meteo_id': 500, 'meteo_desc': 'légère pluie', 'meteo_group': 'Rain', 'meteo_icon': '10n', 'temperature': 21.1, 'temp_ressentie': 20.7, 'temp_max': 21.1, 'temp_min': 17.2, 'pression': 954, 'pression_mer': 1012, 'humidite': 53, 'nuages': 0, 'vent_kph': 13.8, 'vent_dir': 221, 'vent_rafale': 30.6, 'visibilite': 10000, 'pluie_probalite': 62, 'pluie_volume': 1, 'neige_volume': 0} \n",
      "\n",
      "{'timestamp': 1666558800, 'date': '2022-10-23 21:00:00', 'jour_nuit': 'nuit', 'lieu': 'Saint-Étienne', 'sunrise': 1666505333, 'sunset': 1666543465, 'coord_lon': 4.3873, 'coord_lat': 45.4401, 'meteo_id': 501, 'meteo_desc': 'pluie modérée', 'meteo_group': 'Rain', 'meteo_icon': '10n', 'temperature': 19.6, 'temp_ressentie': 19.3, 'temp_max': 19.6, 'temp_min': 16.6, 'pression': 954, 'pression_mer': 1013, 'humidite': 64, 'nuages': 33, 'vent_kph': 12.0, 'vent_dir': 181, 'vent_rafale': 29.4, 'visibilite': 10000, 'pluie_probalite': 62, 'pluie_volume': 3, 'neige_volume': 0} \n",
      "\n",
      "{'timestamp': 1666569600, 'date': '2022-10-24 00:00:00', 'jour_nuit': 'nuit', 'lieu': 'Saint-Étienne', 'sunrise': 1666505333, 'sunset': 1666543465, 'coord_lon': 4.3873, 'coord_lat': 45.4401, 'meteo_id': 500, 'meteo_desc': 'légère pluie', 'meteo_group': 'Rain', 'meteo_icon': '10n', 'temperature': 17.5, 'temp_ressentie': 17.3, 'temp_max': 17.5, 'temp_min': 15.6, 'pression': 954, 'pression_mer': 1013, 'humidite': 77, 'nuages': 67, 'vent_kph': 9.2, 'vent_dir': 178, 'vent_rafale': 16.8, 'visibilite': 10000, 'pluie_probalite': 73, 'pluie_volume': 2, 'neige_volume': 0} \n",
      "\n",
      "{'timestamp': 1666580400, 'date': '2022-10-24 03:00:00', 'jour_nuit': 'nuit', 'lieu': 'Saint-Étienne', 'sunrise': 1666505333, 'sunset': 1666543465, 'coord_lon': 4.3873, 'coord_lat': 45.4401, 'meteo_id': 500, 'meteo_desc': 'légère pluie', 'meteo_group': 'Rain', 'meteo_icon': '10n', 'temperature': 14.4, 'temp_ressentie': 14.3, 'temp_max': 14.4, 'temp_min': 14.4, 'pression': 954, 'pression_mer': 1014, 'humidite': 92, 'nuages': 100, 'vent_kph': 9.4, 'vent_dir': 179, 'vent_rafale': 14.8, 'visibilite': 10000, 'pluie_probalite': 79, 'pluie_volume': 2, 'neige_volume': 0} \n",
      "\n",
      "{'timestamp': 1666591200, 'date': '2022-10-24 06:00:00', 'jour_nuit': 'nuit', 'lieu': 'Saint-Étienne', 'sunrise': 1666505333, 'sunset': 1666543465, 'coord_lon': 4.3873, 'coord_lat': 45.4401, 'meteo_id': 500, 'meteo_desc': 'légère pluie', 'meteo_group': 'Rain', 'meteo_icon': '10n', 'temperature': 13.8, 'temp_ressentie': 13.7, 'temp_max': 13.8, 'temp_min': 13.8, 'pression': 954, 'pression_mer': 1015, 'humidite': 92, 'nuages': 100, 'vent_kph': 8.5, 'vent_dir': 208, 'vent_rafale': 11.8, 'visibilite': 10000, 'pluie_probalite': 79, 'pluie_volume': 1, 'neige_volume': 0} \n",
      "\n",
      "{'timestamp': 1666602000, 'date': '2022-10-24 09:00:00', 'jour_nuit': 'jour', 'lieu': 'Saint-Étienne', 'sunrise': 1666505333, 'sunset': 1666543465, 'coord_lon': 4.3873, 'coord_lat': 45.4401, 'meteo_id': 500, 'meteo_desc': 'légère pluie', 'meteo_group': 'Rain', 'meteo_icon': '10d', 'temperature': 17.9, 'temp_ressentie': 17.7, 'temp_max': 17.9, 'temp_min': 17.9, 'pression': 956, 'pression_mer': 1016, 'humidite': 76, 'nuages': 100, 'vent_kph': 6.9, 'vent_dir': 227, 'vent_rafale': 14.2, 'visibilite': 10000, 'pluie_probalite': 54, 'pluie_volume': 0, 'neige_volume': 0} \n",
      "\n",
      "{'timestamp': 1666612800, 'date': '2022-10-24 12:00:00', 'jour_nuit': 'jour', 'lieu': 'Saint-Étienne', 'sunrise': 1666505333, 'sunset': 1666543465, 'coord_lon': 4.3873, 'coord_lat': 45.4401, 'meteo_id': 500, 'meteo_desc': 'légère pluie', 'meteo_group': 'Rain', 'meteo_icon': '10d', 'temperature': 20.5, 'temp_ressentie': 20.0, 'temp_max': 20.5, 'temp_min': 20.5, 'pression': 957, 'pression_mer': 1016, 'humidite': 53, 'nuages': 60, 'vent_kph': 8.6, 'vent_dir': 241, 'vent_rafale': 15.8, 'visibilite': 10000, 'pluie_probalite': 57, 'pluie_volume': 1, 'neige_volume': 0} \n",
      "\n",
      "{'timestamp': 1666623600, 'date': '2022-10-24 15:00:00', 'jour_nuit': 'jour', 'lieu': 'Saint-Étienne', 'sunrise': 1666505333, 'sunset': 1666543465, 'coord_lon': 4.3873, 'coord_lat': 45.4401, 'meteo_id': 500, 'meteo_desc': 'légère pluie', 'meteo_group': 'Rain', 'meteo_icon': '10d', 'temperature': 20.6, 'temp_ressentie': 20.0, 'temp_max': 20.6, 'temp_min': 20.6, 'pression': 956, 'pression_mer': 1016, 'humidite': 53, 'nuages': 42, 'vent_kph': 5.7, 'vent_dir': 273, 'vent_rafale': 11.7, 'visibilite': 10000, 'pluie_probalite': 43, 'pluie_volume': 0, 'neige_volume': 0} \n",
      "\n",
      "{'timestamp': 1666634400, 'date': '2022-10-24 18:00:00', 'jour_nuit': 'nuit', 'lieu': 'Saint-Étienne', 'sunrise': 1666505333, 'sunset': 1666543465, 'coord_lon': 4.3873, 'coord_lat': 45.4401, 'meteo_id': 803, 'meteo_desc': 'nuageux', 'meteo_group': 'Clouds', 'meteo_icon': '04n', 'temperature': 14.4, 'temp_ressentie': 13.7, 'temp_max': 14.4, 'temp_min': 14.4, 'pression': 957, 'pression_mer': 1018, 'humidite': 71, 'nuages': 60, 'vent_kph': 5.0, 'vent_dir': 237, 'vent_rafale': 4.7, 'visibilite': 10000, 'pluie_probalite': 39, 'pluie_volume': 0, 'neige_volume': 0} \n",
      "\n",
      "{'timestamp': 1666645200, 'date': '2022-10-24 21:00:00', 'jour_nuit': 'nuit', 'lieu': 'Saint-Étienne', 'sunrise': 1666505333, 'sunset': 1666543465, 'coord_lon': 4.3873, 'coord_lat': 45.4401, 'meteo_id': 804, 'meteo_desc': 'couvert', 'meteo_group': 'Clouds', 'meteo_icon': '04n', 'temperature': 13.5, 'temp_ressentie': 12.8, 'temp_max': 13.5, 'temp_min': 13.5, 'pression': 958, 'pression_mer': 1020, 'humidite': 71, 'nuages': 100, 'vent_kph': 6.3, 'vent_dir': 212, 'vent_rafale': 6.6, 'visibilite': 10000, 'pluie_probalite': 10, 'pluie_volume': 0, 'neige_volume': 0} \n",
      "\n",
      "{'timestamp': 1666656000, 'date': '2022-10-25 00:00:00', 'jour_nuit': 'nuit', 'lieu': 'Saint-Étienne', 'sunrise': 1666505333, 'sunset': 1666543465, 'coord_lon': 4.3873, 'coord_lat': 45.4401, 'meteo_id': 804, 'meteo_desc': 'couvert', 'meteo_group': 'Clouds', 'meteo_icon': '04n', 'temperature': 12.8, 'temp_ressentie': 11.9, 'temp_max': 12.8, 'temp_min': 12.8, 'pression': 959, 'pression_mer': 1020, 'humidite': 70, 'nuages': 100, 'vent_kph': 7.1, 'vent_dir': 206, 'vent_rafale': 7.5, 'visibilite': 10000, 'pluie_probalite': 4, 'pluie_volume': 0, 'neige_volume': 0} \n",
      "\n",
      "{'timestamp': 1666666800, 'date': '2022-10-25 03:00:00', 'jour_nuit': 'nuit', 'lieu': 'Saint-Étienne', 'sunrise': 1666505333, 'sunset': 1666543465, 'coord_lon': 4.3873, 'coord_lat': 45.4401, 'meteo_id': 804, 'meteo_desc': 'couvert', 'meteo_group': 'Clouds', 'meteo_icon': '04n', 'temperature': 11.9, 'temp_ressentie': 11.0, 'temp_max': 11.9, 'temp_min': 11.9, 'pression': 958, 'pression_mer': 1019, 'humidite': 70, 'nuages': 100, 'vent_kph': 5.6, 'vent_dir': 193, 'vent_rafale': 5.5, 'visibilite': 10000, 'pluie_probalite': 0, 'pluie_volume': 0, 'neige_volume': 0} \n",
      "\n",
      "{'timestamp': 1666677600, 'date': '2022-10-25 06:00:00', 'jour_nuit': 'nuit', 'lieu': 'Saint-Étienne', 'sunrise': 1666505333, 'sunset': 1666543465, 'coord_lon': 4.3873, 'coord_lat': 45.4401, 'meteo_id': 803, 'meteo_desc': 'nuageux', 'meteo_group': 'Clouds', 'meteo_icon': '04n', 'temperature': 11.2, 'temp_ressentie': 10.2, 'temp_max': 11.2, 'temp_min': 11.2, 'pression': 958, 'pression_mer': 1019, 'humidite': 71, 'nuages': 73, 'vent_kph': 6.0, 'vent_dir': 189, 'vent_rafale': 5.7, 'visibilite': 10000, 'pluie_probalite': 0, 'pluie_volume': 0, 'neige_volume': 0} \n",
      "\n",
      "{'timestamp': 1666688400, 'date': '2022-10-25 09:00:00', 'jour_nuit': 'jour', 'lieu': 'Saint-Étienne', 'sunrise': 1666505333, 'sunset': 1666543465, 'coord_lon': 4.3873, 'coord_lat': 45.4401, 'meteo_id': 803, 'meteo_desc': 'nuageux', 'meteo_group': 'Clouds', 'meteo_icon': '04d', 'temperature': 16.9, 'temp_ressentie': 16.1, 'temp_max': 16.9, 'temp_min': 16.9, 'pression': 958, 'pression_mer': 1019, 'humidite': 56, 'nuages': 54, 'vent_kph': 4.4, 'vent_dir': 144, 'vent_rafale': 8.2, 'visibilite': 10000, 'pluie_probalite': 0, 'pluie_volume': 0, 'neige_volume': 0} \n",
      "\n",
      "{'timestamp': 1666699200, 'date': '2022-10-25 12:00:00', 'jour_nuit': 'jour', 'lieu': 'Saint-Étienne', 'sunrise': 1666505333, 'sunset': 1666543465, 'coord_lon': 4.3873, 'coord_lat': 45.4401, 'meteo_id': 803, 'meteo_desc': 'nuageux', 'meteo_group': 'Clouds', 'meteo_icon': '04d', 'temperature': 21.0, 'temp_ressentie': 20.4, 'temp_max': 21.0, 'temp_min': 21.0, 'pression': 957, 'pression_mer': 1017, 'humidite': 47, 'nuages': 77, 'vent_kph': 9.5, 'vent_dir': 140, 'vent_rafale': 17.9, 'visibilite': 10000, 'pluie_probalite': 0, 'pluie_volume': 0, 'neige_volume': 0} \n",
      "\n",
      "{'timestamp': 1666710000, 'date': '2022-10-25 15:00:00', 'jour_nuit': 'jour', 'lieu': 'Saint-Étienne', 'sunrise': 1666505333, 'sunset': 1666543465, 'coord_lon': 4.3873, 'coord_lat': 45.4401, 'meteo_id': 804, 'meteo_desc': 'couvert', 'meteo_group': 'Clouds', 'meteo_icon': '04d', 'temperature': 20.2, 'temp_ressentie': 19.8, 'temp_max': 20.2, 'temp_min': 20.2, 'pression': 956, 'pression_mer': 1015, 'humidite': 58, 'nuages': 100, 'vent_kph': 9.4, 'vent_dir': 147, 'vent_rafale': 19.3, 'visibilite': 10000, 'pluie_probalite': 0, 'pluie_volume': 0, 'neige_volume': 0} \n",
      "\n",
      "{'timestamp': 1666720800, 'date': '2022-10-25 18:00:00', 'jour_nuit': 'nuit', 'lieu': 'Saint-Étienne', 'sunrise': 1666505333, 'sunset': 1666543465, 'coord_lon': 4.3873, 'coord_lat': 45.4401, 'meteo_id': 804, 'meteo_desc': 'couvert', 'meteo_group': 'Clouds', 'meteo_icon': '04n', 'temperature': 15.2, 'temp_ressentie': 14.8, 'temp_max': 15.2, 'temp_min': 15.2, 'pression': 956, 'pression_mer': 1016, 'humidite': 75, 'nuages': 99, 'vent_kph': 9.5, 'vent_dir': 178, 'vent_rafale': 14.0, 'visibilite': 10000, 'pluie_probalite': 0, 'pluie_volume': 0, 'neige_volume': 0} \n",
      "\n",
      "{'timestamp': 1666731600, 'date': '2022-10-25 21:00:00', 'jour_nuit': 'nuit', 'lieu': 'Saint-Étienne', 'sunrise': 1666505333, 'sunset': 1666543465, 'coord_lon': 4.3873, 'coord_lat': 45.4401, 'meteo_id': 804, 'meteo_desc': 'couvert', 'meteo_group': 'Clouds', 'meteo_icon': '04n', 'temperature': 14.1, 'temp_ressentie': 13.7, 'temp_max': 14.1, 'temp_min': 14.1, 'pression': 956, 'pression_mer': 1017, 'humidite': 81, 'nuages': 98, 'vent_kph': 10.6, 'vent_dir': 184, 'vent_rafale': 14.0, 'visibilite': 10000, 'pluie_probalite': 0, 'pluie_volume': 0, 'neige_volume': 0} \n",
      "\n",
      "{'timestamp': 1666742400, 'date': '2022-10-26 00:00:00', 'jour_nuit': 'nuit', 'lieu': 'Saint-Étienne', 'sunrise': 1666505333, 'sunset': 1666543465, 'coord_lon': 4.3873, 'coord_lat': 45.4401, 'meteo_id': 803, 'meteo_desc': 'nuageux', 'meteo_group': 'Clouds', 'meteo_icon': '04n', 'temperature': 13.6, 'temp_ressentie': 13.2, 'temp_max': 13.6, 'temp_min': 13.6, 'pression': 956, 'pression_mer': 1017, 'humidite': 82, 'nuages': 80, 'vent_kph': 8.5, 'vent_dir': 201, 'vent_rafale': 12.0, 'visibilite': 10000, 'pluie_probalite': 0, 'pluie_volume': 0, 'neige_volume': 0} \n",
      "\n",
      "{'timestamp': 1666753200, 'date': '2022-10-26 03:00:00', 'jour_nuit': 'nuit', 'lieu': 'Saint-Étienne', 'sunrise': 1666505333, 'sunset': 1666543465, 'coord_lon': 4.3873, 'coord_lat': 45.4401, 'meteo_id': 802, 'meteo_desc': 'partiellement nuageux', 'meteo_group': 'Clouds', 'meteo_icon': '03n', 'temperature': 12.9, 'temp_ressentie': 12.6, 'temp_max': 12.9, 'temp_min': 12.9, 'pression': 958, 'pression_mer': 1019, 'humidite': 89, 'nuages': 29, 'vent_kph': 10.1, 'vent_dir': 203, 'vent_rafale': 12.5, 'visibilite': 10000, 'pluie_probalite': 0, 'pluie_volume': 0, 'neige_volume': 0} \n",
      "\n",
      "{'timestamp': 1666764000, 'date': '2022-10-26 06:00:00', 'jour_nuit': 'nuit', 'lieu': 'Saint-Étienne', 'sunrise': 1666505333, 'sunset': 1666543465, 'coord_lon': 4.3873, 'coord_lat': 45.4401, 'meteo_id': 801, 'meteo_desc': 'peu nuageux', 'meteo_group': 'Clouds', 'meteo_icon': '02n', 'temperature': 12.6, 'temp_ressentie': 12.2, 'temp_max': 12.6, 'temp_min': 12.6, 'pression': 959, 'pression_mer': 1020, 'humidite': 87, 'nuages': 20, 'vent_kph': 8.5, 'vent_dir': 209, 'vent_rafale': 8.2, 'visibilite': 10000, 'pluie_probalite': 0, 'pluie_volume': 0, 'neige_volume': 0} \n",
      "\n",
      "{'timestamp': 1666774800, 'date': '2022-10-26 09:00:00', 'jour_nuit': 'jour', 'lieu': 'Saint-Étienne', 'sunrise': 1666505333, 'sunset': 1666543465, 'coord_lon': 4.3873, 'coord_lat': 45.4401, 'meteo_id': 800, 'meteo_desc': 'ciel dégagé', 'meteo_group': 'Clear', 'meteo_icon': '01d', 'temperature': 18.9, 'temp_ressentie': 18.4, 'temp_max': 18.9, 'temp_min': 18.9, 'pression': 961, 'pression_mer': 1021, 'humidite': 61, 'nuages': 7, 'vent_kph': 2.8, 'vent_dir': 177, 'vent_rafale': 5.5, 'visibilite': 10000, 'pluie_probalite': 0, 'pluie_volume': 0, 'neige_volume': 0} \n",
      "\n",
      "{'timestamp': 1666785600, 'date': '2022-10-26 12:00:00', 'jour_nuit': 'jour', 'lieu': 'Saint-Étienne', 'sunrise': 1666505333, 'sunset': 1666543465, 'coord_lon': 4.3873, 'coord_lat': 45.4401, 'meteo_id': 800, 'meteo_desc': 'ciel dégagé', 'meteo_group': 'Clear', 'meteo_icon': '01d', 'temperature': 22.5, 'temp_ressentie': 22.1, 'temp_max': 22.5, 'temp_min': 22.5, 'pression': 961, 'pression_mer': 1020, 'humidite': 50, 'nuages': 4, 'vent_kph': 7.1, 'vent_dir': 93, 'vent_rafale': 10.0, 'visibilite': 10000, 'pluie_probalite': 0, 'pluie_volume': 0, 'neige_volume': 0} \n",
      "\n",
      "{'timestamp': 1666796400, 'date': '2022-10-26 15:00:00', 'jour_nuit': 'jour', 'lieu': 'Saint-Étienne', 'sunrise': 1666505333, 'sunset': 1666543465, 'coord_lon': 4.3873, 'coord_lat': 45.4401, 'meteo_id': 802, 'meteo_desc': 'partiellement nuageux', 'meteo_group': 'Clouds', 'meteo_icon': '03d', 'temperature': 22.1, 'temp_ressentie': 21.9, 'temp_max': 22.1, 'temp_min': 22.1, 'pression': 960, 'pression_mer': 1019, 'humidite': 58, 'nuages': 33, 'vent_kph': 6.6, 'vent_dir': 94, 'vent_rafale': 12.5, 'visibilite': 10000, 'pluie_probalite': 0, 'pluie_volume': 0, 'neige_volume': 0} \n",
      "\n",
      "{'timestamp': 1666807200, 'date': '2022-10-26 18:00:00', 'jour_nuit': 'nuit', 'lieu': 'Saint-Étienne', 'sunrise': 1666505333, 'sunset': 1666543465, 'coord_lon': 4.3873, 'coord_lat': 45.4401, 'meteo_id': 803, 'meteo_desc': 'nuageux', 'meteo_group': 'Clouds', 'meteo_icon': '04n', 'temperature': 15.6, 'temp_ressentie': 15.3, 'temp_max': 15.6, 'temp_min': 15.6, 'pression': 961, 'pression_mer': 1022, 'humidite': 80, 'nuages': 52, 'vent_kph': 7.3, 'vent_dir': 184, 'vent_rafale': 7.9, 'visibilite': 10000, 'pluie_probalite': 0, 'pluie_volume': 0, 'neige_volume': 0} \n",
      "\n",
      "{'timestamp': 1666818000, 'date': '2022-10-26 21:00:00', 'jour_nuit': 'nuit', 'lieu': 'Saint-Étienne', 'sunrise': 1666505333, 'sunset': 1666543465, 'coord_lon': 4.3873, 'coord_lat': 45.4401, 'meteo_id': 804, 'meteo_desc': 'couvert', 'meteo_group': 'Clouds', 'meteo_icon': '04n', 'temperature': 15.4, 'temp_ressentie': 15.1, 'temp_max': 15.4, 'temp_min': 15.4, 'pression': 962, 'pression_mer': 1023, 'humidite': 78, 'nuages': 97, 'vent_kph': 8.5, 'vent_dir': 184, 'vent_rafale': 9.6, 'visibilite': 10000, 'pluie_probalite': 0, 'pluie_volume': 0, 'neige_volume': 0} \n",
      "\n",
      "{'timestamp': 1666828800, 'date': '2022-10-27 00:00:00', 'jour_nuit': 'nuit', 'lieu': 'Saint-Étienne', 'sunrise': 1666505333, 'sunset': 1666543465, 'coord_lon': 4.3873, 'coord_lat': 45.4401, 'meteo_id': 804, 'meteo_desc': 'couvert', 'meteo_group': 'Clouds', 'meteo_icon': '04n', 'temperature': 15.1, 'temp_ressentie': 14.6, 'temp_max': 15.1, 'temp_min': 15.1, 'pression': 962, 'pression_mer': 1023, 'humidite': 74, 'nuages': 97, 'vent_kph': 8.2, 'vent_dir': 192, 'vent_rafale': 8.5, 'visibilite': 10000, 'pluie_probalite': 0, 'pluie_volume': 0, 'neige_volume': 0} \n",
      "\n",
      "{'timestamp': 1666839600, 'date': '2022-10-27 03:00:00', 'jour_nuit': 'nuit', 'lieu': 'Saint-Étienne', 'sunrise': 1666505333, 'sunset': 1666543465, 'coord_lon': 4.3873, 'coord_lat': 45.4401, 'meteo_id': 803, 'meteo_desc': 'nuageux', 'meteo_group': 'Clouds', 'meteo_icon': '04n', 'temperature': 13.7, 'temp_ressentie': 13.1, 'temp_max': 13.7, 'temp_min': 13.7, 'pression': 962, 'pression_mer': 1023, 'humidite': 75, 'nuages': 58, 'vent_kph': 8.3, 'vent_dir': 193, 'vent_rafale': 8.5, 'visibilite': 10000, 'pluie_probalite': 0, 'pluie_volume': 0, 'neige_volume': 0} \n",
      "\n",
      "{'timestamp': 1666850400, 'date': '2022-10-27 06:00:00', 'jour_nuit': 'nuit', 'lieu': 'Saint-Étienne', 'sunrise': 1666505333, 'sunset': 1666543465, 'coord_lon': 4.3873, 'coord_lat': 45.4401, 'meteo_id': 802, 'meteo_desc': 'partiellement nuageux', 'meteo_group': 'Clouds', 'meteo_icon': '03n', 'temperature': 13.2, 'temp_ressentie': 12.6, 'temp_max': 13.2, 'temp_min': 13.2, 'pression': 962, 'pression_mer': 1024, 'humidite': 77, 'nuages': 42, 'vent_kph': 8.2, 'vent_dir': 186, 'vent_rafale': 8.2, 'visibilite': 10000, 'pluie_probalite': 0, 'pluie_volume': 0, 'neige_volume': 0} \n",
      "\n",
      "{'timestamp': 1666861200, 'date': '2022-10-27 09:00:00', 'jour_nuit': 'jour', 'lieu': 'Saint-Étienne', 'sunrise': 1666505333, 'sunset': 1666543465, 'coord_lon': 4.3873, 'coord_lat': 45.4401, 'meteo_id': 803, 'meteo_desc': 'nuageux', 'meteo_group': 'Clouds', 'meteo_icon': '04d', 'temperature': 19.8, 'temp_ressentie': 19.2, 'temp_max': 19.8, 'temp_min': 19.8, 'pression': 964, 'pression_mer': 1024, 'humidite': 53, 'nuages': 61, 'vent_kph': 8.1, 'vent_dir': 176, 'vent_rafale': 14.0, 'visibilite': 10000, 'pluie_probalite': 0, 'pluie_volume': 0, 'neige_volume': 0} \n",
      "\n",
      "{'timestamp': 1666872000, 'date': '2022-10-27 12:00:00', 'jour_nuit': 'jour', 'lieu': 'Saint-Étienne', 'sunrise': 1666505333, 'sunset': 1666543465, 'coord_lon': 4.3873, 'coord_lat': 45.4401, 'meteo_id': 803, 'meteo_desc': 'nuageux', 'meteo_group': 'Clouds', 'meteo_icon': '04d', 'temperature': 24.0, 'temp_ressentie': 23.4, 'temp_max': 24.0, 'temp_min': 24.0, 'pression': 964, 'pression_mer': 1023, 'humidite': 34, 'nuages': 57, 'vent_kph': 12.6, 'vent_dir': 182, 'vent_rafale': 23.4, 'visibilite': 10000, 'pluie_probalite': 0, 'pluie_volume': 0, 'neige_volume': 0} \n",
      "\n",
      "{'timestamp': 1666882800, 'date': '2022-10-27 15:00:00', 'jour_nuit': 'jour', 'lieu': 'Saint-Étienne', 'sunrise': 1666505333, 'sunset': 1666543465, 'coord_lon': 4.3873, 'coord_lat': 45.4401, 'meteo_id': 801, 'meteo_desc': 'peu nuageux', 'meteo_group': 'Clouds', 'meteo_icon': '02d', 'temperature': 22.3, 'temp_ressentie': 21.7, 'temp_max': 22.3, 'temp_min': 22.3, 'pression': 963, 'pression_mer': 1023, 'humidite': 43, 'nuages': 22, 'vent_kph': 10.0, 'vent_dir': 176, 'vent_rafale': 18.5, 'visibilite': 10000, 'pluie_probalite': 0, 'pluie_volume': 0, 'neige_volume': 0} \n",
      "\n",
      "{'timestamp': 1666893600, 'date': '2022-10-27 18:00:00', 'jour_nuit': 'nuit', 'lieu': 'Saint-Étienne', 'sunrise': 1666505333, 'sunset': 1666543465, 'coord_lon': 4.3873, 'coord_lat': 45.4401, 'meteo_id': 802, 'meteo_desc': 'partiellement nuageux', 'meteo_group': 'Clouds', 'meteo_icon': '03n', 'temperature': 15.3, 'temp_ressentie': 14.6, 'temp_max': 15.3, 'temp_min': 15.3, 'pression': 964, 'pression_mer': 1025, 'humidite': 67, 'nuages': 46, 'vent_kph': 9.7, 'vent_dir': 191, 'vent_rafale': 10.2, 'visibilite': 10000, 'pluie_probalite': 0, 'pluie_volume': 0, 'neige_volume': 0} \n",
      "\n",
      "{'timestamp': 1666904400, 'date': '2022-10-27 21:00:00', 'jour_nuit': 'nuit', 'lieu': 'Saint-Étienne', 'sunrise': 1666505333, 'sunset': 1666543465, 'coord_lon': 4.3873, 'coord_lat': 45.4401, 'meteo_id': 804, 'meteo_desc': 'couvert', 'meteo_group': 'Clouds', 'meteo_icon': '04n', 'temperature': 14.9, 'temp_ressentie': 14.1, 'temp_max': 14.9, 'temp_min': 14.9, 'pression': 964, 'pression_mer': 1025, 'humidite': 63, 'nuages': 100, 'vent_kph': 9.4, 'vent_dir': 194, 'vent_rafale': 11.8, 'visibilite': 10000, 'pluie_probalite': 0, 'pluie_volume': 0, 'neige_volume': 0} \n",
      "\n",
      "{'timestamp': 1666915200, 'date': '2022-10-28 00:00:00', 'jour_nuit': 'nuit', 'lieu': 'Saint-Étienne', 'sunrise': 1666505333, 'sunset': 1666543465, 'coord_lon': 4.3873, 'coord_lat': 45.4401, 'meteo_id': 804, 'meteo_desc': 'couvert', 'meteo_group': 'Clouds', 'meteo_icon': '04n', 'temperature': 14.2, 'temp_ressentie': 13.2, 'temp_max': 14.2, 'temp_min': 14.2, 'pression': 964, 'pression_mer': 1025, 'humidite': 56, 'nuages': 100, 'vent_kph': 9.4, 'vent_dir': 195, 'vent_rafale': 11.5, 'visibilite': 10000, 'pluie_probalite': 0, 'pluie_volume': 0, 'neige_volume': 0} \n",
      "\n",
      "{'timestamp': 1666926000, 'date': '2022-10-28 03:00:00', 'jour_nuit': 'nuit', 'lieu': 'Saint-Étienne', 'sunrise': 1666505333, 'sunset': 1666543465, 'coord_lon': 4.3873, 'coord_lat': 45.4401, 'meteo_id': 804, 'meteo_desc': 'couvert', 'meteo_group': 'Clouds', 'meteo_icon': '04n', 'temperature': 13.0, 'temp_ressentie': 11.8, 'temp_max': 13.0, 'temp_min': 13.0, 'pression': 963, 'pression_mer': 1025, 'humidite': 54, 'nuages': 100, 'vent_kph': 9.1, 'vent_dir': 191, 'vent_rafale': 9.8, 'visibilite': 10000, 'pluie_probalite': 0, 'pluie_volume': 0, 'neige_volume': 0} \n",
      "\n",
      "{'timestamp': 1666936800, 'date': '2022-10-28 06:00:00', 'jour_nuit': 'nuit', 'lieu': 'Saint-Étienne', 'sunrise': 1666505333, 'sunset': 1666543465, 'coord_lon': 4.3873, 'coord_lat': 45.4401, 'meteo_id': 804, 'meteo_desc': 'couvert', 'meteo_group': 'Clouds', 'meteo_icon': '04n', 'temperature': 13.0, 'temp_ressentie': 11.8, 'temp_max': 13.0, 'temp_min': 13.0, 'pression': 963, 'pression_mer': 1025, 'humidite': 53, 'nuages': 100, 'vent_kph': 9.0, 'vent_dir': 193, 'vent_rafale': 10.2, 'visibilite': 10000, 'pluie_probalite': 0, 'pluie_volume': 0, 'neige_volume': 0} \n",
      "\n",
      "{'timestamp': 1666947600, 'date': '2022-10-28 09:00:00', 'jour_nuit': 'jour', 'lieu': 'Saint-Étienne', 'sunrise': 1666505333, 'sunset': 1666543465, 'coord_lon': 4.3873, 'coord_lat': 45.4401, 'meteo_id': 803, 'meteo_desc': 'nuageux', 'meteo_group': 'Clouds', 'meteo_icon': '04d', 'temperature': 19.2, 'temp_ressentie': 18.4, 'temp_max': 19.2, 'temp_min': 19.2, 'pression': 964, 'pression_mer': 1024, 'humidite': 44, 'nuages': 78, 'vent_kph': 7.5, 'vent_dir': 177, 'vent_rafale': 14.0, 'visibilite': 10000, 'pluie_probalite': 0, 'pluie_volume': 0, 'neige_volume': 0} \n",
      "\n",
      "{'timestamp': 1666958400, 'date': '2022-10-28 12:00:00', 'jour_nuit': 'jour', 'lieu': 'Saint-Étienne', 'sunrise': 1666505333, 'sunset': 1666543465, 'coord_lon': 4.3873, 'coord_lat': 45.4401, 'meteo_id': 803, 'meteo_desc': 'nuageux', 'meteo_group': 'Clouds', 'meteo_icon': '04d', 'temperature': 24.3, 'temp_ressentie': 23.5, 'temp_max': 24.3, 'temp_min': 24.3, 'pression': 964, 'pression_mer': 1023, 'humidite': 29, 'nuages': 59, 'vent_kph': 12.6, 'vent_dir': 176, 'vent_rafale': 21.3, 'visibilite': 10000, 'pluie_probalite': 0, 'pluie_volume': 0, 'neige_volume': 0} \n",
      "\n",
      "{'timestamp': 1666969200, 'date': '2022-10-28 15:00:00', 'jour_nuit': 'jour', 'lieu': 'Saint-Étienne', 'sunrise': 1666505333, 'sunset': 1666543465, 'coord_lon': 4.3873, 'coord_lat': 45.4401, 'meteo_id': 803, 'meteo_desc': 'nuageux', 'meteo_group': 'Clouds', 'meteo_icon': '04d', 'temperature': 21.7, 'temp_ressentie': 21.0, 'temp_max': 21.7, 'temp_min': 21.7, 'pression': 963, 'pression_mer': 1022, 'humidite': 43, 'nuages': 79, 'vent_kph': 8.9, 'vent_dir': 164, 'vent_rafale': 15.2, 'visibilite': 10000, 'pluie_probalite': 0, 'pluie_volume': 0, 'neige_volume': 0} \n",
      "\n"
     ]
    }
   ],
   "source": [
    "#for key in api_data:\n",
    "#    print(key, api_data[key])\n",
    "#    print()\n",
    "\n",
    "meteo_prev = []\n",
    "\n",
    "lieu = api_data['city']['name']\n",
    "sunrise = api_data[\"city\"][\"sunrise\"]\n",
    "sunset = api_data[\"city\"][\"sunset\"]\n",
    "coord_lon = api_data[\"city\"][\"coord\"][\"lon\"]\n",
    "coord_lat = api_data[\"city\"][\"coord\"][\"lat\"]\n",
    "\n",
    "for index, prev in enumerate( api_data['list'] ):\n",
    "#    print(index, prev, type(prev), \"\\n\")\n",
    "\n",
    "    prevision = {}\n",
    "    prevision['timestamp'] = prev['dt']\n",
    "    prevision['date'] = prev['dt_txt']\n",
    "    if prev['sys']['pod'] == \"n\":\n",
    "        prevision['jour_nuit'] = \"nuit\"\n",
    "    elif prev['sys']['pod'] == \"d\":\n",
    "        prevision['jour_nuit'] = \"jour\"\n",
    "    else:\n",
    "        prevision['jour_nuit'] = \"\"\n",
    "\n",
    "    prevision['lieu'] = lieu\n",
    "    prevision['sunrise'] = sunrise\n",
    "    prevision['sunset'] = sunset\n",
    "    prevision['coord_lon'] = coord_lon\n",
    "    prevision['coord_lat'] = coord_lat\n",
    "        \n",
    "    prevision['meteo_id'] = prev['weather'][0]['id']\n",
    "    prevision['meteo_desc'] = prev['weather'][0]['description']\n",
    "    prevision['meteo_group'] = prev['weather'][0]['main']\n",
    "    prevision['meteo_icon'] = prev['weather'][0]['icon']\n",
    "    \n",
    "    prevision['temperature'] = round( prev['main']['temp'], 1 )\n",
    "    prevision['temp_ressentie'] = round( prev['main']['feels_like'], 1 )\n",
    "    prevision['temp_max'] = round( prev['main']['temp_max'], 1 )\n",
    "    prevision['temp_min'] = round( prev['main']['temp_min'], 1 )\n",
    "    \n",
    "    prevision['pression'] = prev['main']['grnd_level']\n",
    "    prevision['pression_mer'] = prev['main']['sea_level']\n",
    "    prevision['humidite'] = prev['main']['humidity']\n",
    "    prevision['nuages'] = prev['clouds']['all']\n",
    "    prevision['vent_kph'] = round( prev[\"wind\"][\"speed\"] * 3.6, 1 )\n",
    "    prevision['vent_dir'] = prev[\"wind\"][\"deg\"]\n",
    "    prevision['vent_rafale'] = round( prev[\"wind\"][\"gust\"] * 3.6, 1 )\n",
    "    prevision['visibilite'] = prev[\"visibility\"]\n",
    "    prevision['pluie_probalite'] = int( prev[\"pop\"] * 100 )\n",
    "    if \"rain\" in prev:\n",
    "        prevision['pluie_volume'] = round( prev[\"rain\"][\"3h\"] )\n",
    "    else:\n",
    "        prevision['pluie_volume'] = 0\n",
    "    if \"snow\" in prev:\n",
    "        prevision['neige_volume'] = prev[\"snow\"][\"3h\"]\n",
    "    else:\n",
    "        prevision['neige_volume'] = 0\n",
    "    \n",
    "    meteo_prev.append(prevision)\n",
    "    print(prevision, \"\\n\")\n",
    "    "
   ]
  },
  {
   "cell_type": "code",
   "execution_count": null,
   "id": "d8bcbc39",
   "metadata": {},
   "outputs": [],
   "source": []
  }
 ],
 "metadata": {
  "kernelspec": {
   "display_name": "Python 3",
   "language": "python",
   "name": "python3"
  },
  "language_info": {
   "codemirror_mode": {
    "name": "ipython",
    "version": 3
   },
   "file_extension": ".py",
   "mimetype": "text/x-python",
   "name": "python",
   "nbconvert_exporter": "python",
   "pygments_lexer": "ipython3",
   "version": "3.8.8"
  }
 },
 "nbformat": 4,
 "nbformat_minor": 5
}
