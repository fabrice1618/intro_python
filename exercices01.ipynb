{
 "cells": [
  {
   "cell_type": "markdown",
   "metadata": {},
   "source": [
    "# Exercices python 01"
   ]
  },
  {
   "cell_type": "markdown",
   "metadata": {},
   "source": [
    "## Valeur absolue\n",
    "\n",
    "écrire le programme qui détermine la valeur absolue y d’un nombre x"
   ]
  },
  {
   "cell_type": "code",
   "execution_count": null,
   "metadata": {},
   "outputs": [],
   "source": []
  },
  {
   "cell_type": "markdown",
   "metadata": {},
   "source": [
    "## Swap\n",
    "Permuter les valeurs de 2 variables x et y"
   ]
  },
  {
   "cell_type": "code",
   "execution_count": null,
   "metadata": {},
   "outputs": [],
   "source": []
  },
  {
   "cell_type": "markdown",
   "metadata": {},
   "source": [
    "## Permutation circulaire\n",
    "\n",
    "Permutation circulaire de 3 variables x -> y -> z -> x"
   ]
  },
  {
   "cell_type": "code",
   "execution_count": null,
   "metadata": {},
   "outputs": [],
   "source": []
  },
  {
   "cell_type": "markdown",
   "metadata": {},
   "source": [
    "## Belle marquise\n",
    "Ecrire un programme utilisant des variables de type chaîne de caractères, et affichant quatre variantes possibles de la célèbre « belle marquise, vos beaux yeux me font mourir d’amour ». On ne se soucie pas de la ponctuation, ni des majuscules.\n"
   ]
  },
  {
   "cell_type": "code",
   "execution_count": null,
   "metadata": {},
   "outputs": [],
   "source": []
  },
  {
   "cell_type": "markdown",
   "metadata": {},
   "source": [
    "## Poussin\n",
    "Ecrire un programme qui demande l’âge d’un enfant à l’utilisateur. Ensuite, il l’informe de sa catégorie : \n",
    "- \"Poussin\" de 6 à 7 ans\n",
    "- \"Pupille\" de 8 à 9 ans\n",
    "- \"Minime\" de 10 à 11 ans\n",
    "- \"Cadet\" après 12 ans\n",
    "\n"
   ]
  },
  {
   "cell_type": "code",
   "execution_count": null,
   "metadata": {},
   "outputs": [],
   "source": []
  },
  {
   "cell_type": "markdown",
   "metadata": {},
   "source": [
    "## Eau\n",
    "A pression ambiante, l’eau est sous forme de glace si la température est inférieure à 0°C, sous forme de liquide si la température est comprise entre 0°C et 100°C et sous forme de vapeur au-delà de 100°C.\n",
    "Ecrire un programme qui détermine l’état de l’eau en fonction de la température et indiquer: état solide, état liquide ou état gazeux."
   ]
  },
  {
   "cell_type": "code",
   "execution_count": null,
   "metadata": {},
   "outputs": [],
   "source": []
  },
  {
   "cell_type": "markdown",
   "metadata": {},
   "source": [
    "## Calcul TVA\n",
    "Ecrire  un  programme  qui  lit  le  prix  HT  d’un  article,  le  nombre  d’articles  et  le  taux  de  TVA,  et  qui  fournit  le  prix  total  TTC  correspondant.  Faire  en  sorte  que  des  libellés apparaissent clairement.\n"
   ]
  },
  {
   "cell_type": "code",
   "execution_count": null,
   "metadata": {},
   "outputs": [],
   "source": []
  },
  {
   "cell_type": "markdown",
   "metadata": {},
   "source": [
    "## Code cesar\n",
    "Un des plus anciens systèmes de cryptographie (aisément déchiffrable) consiste à décaler les lettres d’un message pour le rendre illisible. Ainsi, les A deviennent des B, les B des C, etc. Ecrivez un programme qui demande une phrase à l’utilisateur et qui la code selon ce principe. Comme dans le cas précédent, le codage doit s’effectuer au niveau de la variable stockant la phrase, et pas seulement à l’écran"
   ]
  },
  {
   "cell_type": "code",
   "execution_count": null,
   "metadata": {},
   "outputs": [],
   "source": []
  },
  {
   "cell_type": "markdown",
   "metadata": {},
   "source": [
    "## Compteur de mots\n",
    "Ecrivez un programme qui demande une phrase à l’utilisateur et qui affiche à l’écran le nombre de mots de cette phrase.  On suppose que les mots ne sont séparés que par des espaces."
   ]
  },
  {
   "cell_type": "code",
   "execution_count": null,
   "metadata": {},
   "outputs": [],
   "source": []
  },
  {
   "cell_type": "markdown",
   "metadata": {},
   "source": [
    "## Distributeur de pièces\n",
    "\n",
    "Un distributeur dispose d'un stock illimité de pièces de 1, 2, 5 et 10 francs.\n",
    "Ecrire le programme permettant de distribuer la somme saisie par l'utilisateur avec le minimum de pièces."
   ]
  },
  {
   "cell_type": "code",
   "execution_count": null,
   "metadata": {},
   "outputs": [],
   "source": []
  },
  {
   "cell_type": "markdown",
   "metadata": {},
   "source": [
    "## Mot de passe\n",
    "écrire un programme qui demande un mot de passe à l'utilisateur. Le mot de passe doit contenir:\n",
    "- exactement 1 symbole parmi: -, +, *, # et @\n",
    "- au moins 1 lettre majuscule (A à Z)\n",
    "- au moins 5 lettres minuscules (a à z)\n",
    "- un chiffre (0 à 9) minimum et au plus 3 \n",
    "- au minimum 8 caractères\n",
    "- tous les autres caractères sont considérés comme invalides\n",
    "\n",
    "Si le mot de passe corresponds aux critères ci-dessus afficher \"Mot de passe accepté\" sinon \"Mot de passe incorrect\""
   ]
  },
  {
   "cell_type": "code",
   "execution_count": null,
   "metadata": {},
   "outputs": [],
   "source": []
  },
  {
   "cell_type": "markdown",
   "metadata": {},
   "source": [
    "## Conversion Fahrenheit / Celsius\n",
    "Si la température en degrés fahrenheit se nomme $tf$ et la température degrés celsius se nomme $tc$, la relation générale qui lie $tc$ à $tf$ est $tc = 5 / 9 * (tf - 32)$\n",
    "\n",
    "Pour réaliser la conversion, nous allons créer 2 fonctions:\n",
    "- fahrenheit_en_celsius( fahrenheit ) -> celsius\n",
    "- celsius_en_fahrenheit( celcius ) -> fahrenheit"
   ]
  },
  {
   "cell_type": "code",
   "execution_count": null,
   "metadata": {},
   "outputs": [],
   "source": []
  },
  {
   "cell_type": "markdown",
   "metadata": {},
   "source": [
    "## La suite de fibonacci\n",
    "La suite de Fibonacci est une suite d'entiers dans laquelle chaque terme est la somme des deux termes qui le précèdent.\n",
    "Elle commence par les termes 0 et 1.\n",
    "\n",
    "Les premiers nombres de la suite sont : 0, 1, 1, 2, 3, 5, 8, 13, 21, 34, 55, 89, 144, 233, 377, 610, 987….\n",
    "\n",
    "Définition mathématique : F0 = 0 , F1 = 1 , et Fn = Fn - 1 + Fn - 2 , pour n > 1.\n",
    "\n",
    "Plus d'informations dans la page wikipedia : [https://fr.wikipedia.org/wiki/Suite_de_Fibonacci](https://fr.wikipedia.org/wiki/Suite_de_Fibonacci)\n",
    "\n",
    "Calculer la suite de fibonacci pour tous les termes plus petits que 1000.\n",
    "\n",
    "Vous devrez obtenir le résultat ci-dessous :\n",
    "- 0\n",
    "- 1\n",
    "- 1\n",
    "- 2\n",
    "- 3\n",
    "- 5\n",
    "- 8\n",
    "- 13\n",
    "- 21\n",
    "- 34\n",
    "- 55\n",
    "- 89\n",
    "- 144\n",
    "- 233\n",
    "- 377\n",
    "- 610\n",
    "- 987\n"
   ]
  },
  {
   "cell_type": "code",
   "execution_count": null,
   "metadata": {},
   "outputs": [],
   "source": []
  },
  {
   "cell_type": "markdown",
   "metadata": {},
   "source": [
    "# Exemples de corrections"
   ]
  },
  {
   "cell_type": "code",
   "execution_count": 32,
   "metadata": {},
   "outputs": [
    {
     "name": "stdout",
     "output_type": "stream",
     "text": [
      "Entrez un nombre entier positif ou négatif:-12\n",
      "Valeur absolue : 12\n"
     ]
    }
   ],
   "source": [
    "# valeur absolue\n",
    "\n",
    "x = int( input(\"Entrez un nombre entier positif ou négatif: \") )\n",
    "\n",
    "if x < 0:\n",
    "    y = -x\n",
    "else:\n",
    "    y = x\n",
    "\n",
    "print( 'Valeur absolue :', y)"
   ]
  },
  {
   "cell_type": "code",
   "execution_count": 30,
   "metadata": {},
   "outputs": [
    {
     "name": "stdout",
     "output_type": "stream",
     "text": [
      "Valeurs initiales: x=10 y=20\n",
      "Après échange: x=20 y=10\n"
     ]
    }
   ],
   "source": [
    "#swap\n",
    "\n",
    "x=10\n",
    "y=20\n",
    "print( \"Valeurs initiales: x={} y={}\".format(x,y) )\n",
    "\n",
    "temp = y\n",
    "y = x\n",
    "x = temp\n",
    "\n",
    "print( \"Après échange: x={} y={}\".format(x,y) )"
   ]
  },
  {
   "cell_type": "code",
   "execution_count": 28,
   "metadata": {},
   "outputs": [
    {
     "name": "stdout",
     "output_type": "stream",
     "text": [
      "Valeurs initiales: x=10 y=20 z=30\n",
      "Après permutation: x=30 y=10 z=20\n"
     ]
    }
   ],
   "source": [
    "# permutation circulaire\n",
    "\n",
    "x = 10\n",
    "y = 20\n",
    "z = 30\n",
    "print( \"Valeurs initiales: x={} y={} z={}\".format(x,y,z) )\n",
    "\n",
    "temp = z\n",
    "z = y\n",
    "y = x\n",
    "x = temp\n",
    "\n",
    "print( \"Après permutation: x={} y={} z={}\".format(x,y,z) )"
   ]
  },
  {
   "cell_type": "code",
   "execution_count": 3,
   "metadata": {},
   "outputs": [
    {
     "name": "stdout",
     "output_type": "stream",
     "text": [
      "belle marquise vos beaux yeux me font mourir d’amour\n",
      "d’amour me font mourir vos beaux yeux belle marquise\n",
      "vos beaux yeux d’amour me font mourir belle marquise\n",
      "me font mourir vos beaux yeux belle marquise d’amour\n"
     ]
    }
   ],
   "source": [
    "# Belle marquise\n",
    "\n",
    "partie1 = \"belle marquise\"\n",
    "partie2 = \"vos beaux yeux\"\n",
    "partie3 = \"me font mourir\"\n",
    "partie4 = \"d’amour\"\n",
    "\n",
    "print( partie1, partie2, partie3, partie4 )\n",
    "print( partie4, partie3, partie2, partie1 )\n",
    "print( partie2, partie4, partie3, partie1 )\n",
    "print( partie3, partie2, partie1, partie4 )"
   ]
  },
  {
   "cell_type": "code",
   "execution_count": 7,
   "metadata": {},
   "outputs": [
    {
     "name": "stdout",
     "output_type": "stream",
     "text": [
      "Age de l'enfant :15\n",
      "Catégorie :  Cadet\n"
     ]
    }
   ],
   "source": [
    "# Poussin\n",
    "\n",
    "age = int( input(\"Age de l'enfant :\") )\n",
    "\n",
    "if age >= 6 and age <= 7:\n",
    "    categorie = \"Poussin\"\n",
    "if age >= 8 and age <= 9:\n",
    "    categorie = \"Pupille\"\n",
    "if age >= 10 and age <= 11:\n",
    "    categorie = \"Minime\"\n",
    "if age >= 12:\n",
    "    categorie = \"Cadet\"\n",
    "\n",
    "print( \"Catégorie : \", categorie )    "
   ]
  },
  {
   "cell_type": "code",
   "execution_count": 33,
   "metadata": {},
   "outputs": [
    {
     "name": "stdout",
     "output_type": "stream",
     "text": [
      "état liquide\n",
      "état liquide\n",
      "état liquide\n"
     ]
    }
   ],
   "source": [
    "# Eau\n",
    "\n",
    "temperature = 70\n",
    "\n",
    "# premiere version\n",
    "if temperature < 0 :\n",
    "    print(\"état solide\")\n",
    "elif temperature >= 100:\n",
    "    print(\"état gazeux\")\n",
    "else :\n",
    "    print(\"état liquide\")\n",
    "\n",
    "#deuxieme version\n",
    "if temperature < 0 :\n",
    "    print(\"état solide\")\n",
    "else :\n",
    "    if temperature >= 100 :\n",
    "        print(\"état gazeux\")\n",
    "    else :\n",
    "        print(\"état liquide\")\n",
    "\n",
    "# troisieme version\n",
    "if temperature < 0 :\n",
    "    print(\"état solide\")\n",
    "if temperature >= 100 :\n",
    "    print(\"état gazeux\")\n",
    "if temperature >= 0 and temperature < 100 :\n",
    "    print(\"état liquide\")\n",
    "    "
   ]
  },
  {
   "cell_type": "code",
   "execution_count": 2,
   "metadata": {},
   "outputs": [
    {
     "name": "stdout",
     "output_type": "stream",
     "text": [
      "Prix HT :1\n",
      "Nombre d'articles :1\n",
      "Taux TVA :1\n",
      "Total TTC :  1.01\n"
     ]
    }
   ],
   "source": [
    "# Calcul TVA\n",
    "\n",
    "prix_ht = int( input(\"Prix HT :\") )\n",
    "nb_articles = int( input(\"Nombre d'articles :\") )\n",
    "taux_tva = int( input(\"Taux TVA :\") )\n",
    "\n",
    "total_ttc = prix_ht * nb_articles * ( 1 + taux_tva / 100 )\n",
    "print( \"Total TTC : \", round( total_ttc, 2 ) )\n"
   ]
  },
  {
   "cell_type": "code",
   "execution_count": 1,
   "metadata": {},
   "outputs": [
    {
     "name": "stdout",
     "output_type": "stream",
     "text": [
      "Votre phrase :AZERTY\n",
      "Code cesar : BAFSUZ\n"
     ]
    }
   ],
   "source": [
    "# Code cesar\n",
    "\n",
    "phrase = input( \"Votre phrase :\" )\n",
    "code_cesar = \"\"\n",
    "\n",
    "for car in phrase:\n",
    "    if car == 'Z':\n",
    "        code_cesar += 'A'\n",
    "    else:\n",
    "        code_cesar += chr( ord(car) + 1 )\n",
    "\n",
    "print( \"Code cesar :\", code_cesar )"
   ]
  },
  {
   "cell_type": "code",
   "execution_count": 20,
   "metadata": {},
   "outputs": [
    {
     "name": "stdout",
     "output_type": "stream",
     "text": [
      "Votre phrase :         \n",
      "Nombre de mots : 0\n"
     ]
    }
   ],
   "source": [
    "# Compteur de mots\n",
    "\n",
    "phrase = input( \"Votre phrase :\" )\n",
    "\n",
    "nb_mots = 0\n",
    "debut_mot = False\n",
    "\n",
    "for car in phrase:\n",
    "    if debut_mot:\n",
    "        if car == ' ':\n",
    "            nb_mots += 1\n",
    "            debut_mot = False\n",
    "    else:\n",
    "        if car != ' ':\n",
    "            debut_mot = True\n",
    "\n",
    "if debut_mot:\n",
    "    nb_mots += 1\n",
    "    \n",
    "print( \"Nombre de mots :\", nb_mots )\n"
   ]
  },
  {
   "cell_type": "code",
   "execution_count": 37,
   "metadata": {},
   "outputs": [
    {
     "name": "stdout",
     "output_type": "stream",
     "text": [
      "Entrez la somme: 27\n",
      "2 pièce(s) de 10 francs\n",
      "1 pièce(s) de 5 francs\n",
      "1 pièce(s) de 2 francs\n"
     ]
    }
   ],
   "source": [
    "# Distributeur de pièces\n",
    "\n",
    "somme = int( input(\"Entrez la somme: \") )\n",
    "\n",
    "nb_piece1 = 0\n",
    "nb_piece2 = 0\n",
    "nb_piece5 = 0\n",
    "nb_piece10 = 0\n",
    "reste = somme\n",
    "\n",
    "while reste > 0:\n",
    "    if reste >= 10:\n",
    "        nb_piece10 += 1\n",
    "        reste -= 10\n",
    "    elif reste >= 5:\n",
    "        nb_piece5 += 1\n",
    "        reste -= 5\n",
    "    elif reste >= 2:\n",
    "        nb_piece2 += 1\n",
    "        reste -= 2\n",
    "    else:\n",
    "        nb_piece1 += 1\n",
    "        reste -= 1\n",
    "       \n",
    "if nb_piece10 != 0:\n",
    "    print( nb_piece10, \"pièce(s) de 10 francs\" )\n",
    "if nb_piece5 != 0:\n",
    "    print( nb_piece5, \"pièce(s) de 5 francs\" )\n",
    "if nb_piece2 != 0:\n",
    "    print( nb_piece2, \"pièce(s) de 2 francs\" )\n",
    "if nb_piece1 != 0:\n",
    "    print( nb_piece1, \"pièce(s) de 1 franc\" )\n"
   ]
  },
  {
   "cell_type": "code",
   "execution_count": 13,
   "metadata": {},
   "outputs": [
    {
     "name": "stdout",
     "output_type": "stream",
     "text": [
      "Mot de passe : Ytitotu123#\n",
      "Mot de passe accepté\n"
     ]
    }
   ],
   "source": [
    "# Mot de passe\n",
    "\n",
    "mot_passe = input(\"Mot de passe : \")\n",
    "\n",
    "nb_invalide = 0\n",
    "nb_symbole = 0\n",
    "nb_majuscule = 0\n",
    "nb_minuscule = 0\n",
    "nb_chiffre = 0\n",
    "nb_longueur = 0\n",
    "\n",
    "for car in mot_passe:\n",
    "#    print(car)\n",
    "    nb_longueur += 1\n",
    "    caractere_invalide = True\n",
    "    \n",
    "    if car=='-' or car=='+' or car=='*' or car=='#' or car=='@':\n",
    "        nb_symbole += 1\n",
    "        caractere_invalide = False\n",
    "    if car>='A' and car<='Z':\n",
    "        nb_majuscule += 1\n",
    "        caractere_invalide = False\n",
    "    if car>='a' and car<='z':\n",
    "        nb_minuscule += 1\n",
    "        caractere_invalide = False\n",
    "    if car>='0' and car<='9':\n",
    "        nb_chiffre += 1\n",
    "        caractere_invalide = False\n",
    "    if caractere_invalide:\n",
    "        nb_invalide += 1\n",
    "        \n",
    "if  nb_invalide == 0 and \\\n",
    "    nb_symbole == 1 and \\\n",
    "    nb_majuscule >= 1 and \\\n",
    "    nb_minuscule >= 5 and \\\n",
    "    nb_chiffre >= 1 and nb_chiffre <= 3 and \\\n",
    "    nb_longueur >= 8:\n",
    "    print(\"Mot de passe accepté\")\n",
    "else:\n",
    "    print(\"Mot de passe incorrect\")"
   ]
  },
  {
   "cell_type": "code",
   "execution_count": 25,
   "metadata": {},
   "outputs": [
    {
     "name": "stdout",
     "output_type": "stream",
     "text": [
      "Entrez une température en degrés fahrenheit : 54\n",
      "température en degrés celsius 12.22\n",
      "Entrez une température en degrés celsius : 100\n",
      "température en degrés fahrenheit 212.0\n"
     ]
    }
   ],
   "source": [
    "# Conversion Fahrenheit / Celsius\n",
    "\n",
    "def fahrenheit_en_celsius( fahrenheit ):\n",
    "    resultat = 5 / 9 * ( fahrenheit - 32 )\n",
    "    resultat = round( resultat, 2 )\n",
    "    return( resultat )\n",
    "\n",
    "def celsius_en_fahrenheit( celsius ):\n",
    "    resultat = celsius * 9 / 5 + 32\n",
    "    resultat = round( resultat, 2 )\n",
    "    return( resultat )\n",
    "\n",
    "temp_fahrenheit = float( input( \"Entrez une température en degrés fahrenheit : \" ) )\n",
    "val_convertie = fahrenheit_en_celsius( temp_fahrenheit )\n",
    "print( \"température en degrés celsius\", val_convertie )\n",
    "\n",
    "temp_celsius = float( input(\"Entrez une température en degrés celsius : \") )\n",
    "val_convertie = celsius_en_fahrenheit( temp_celsius )\n",
    "print( \"température en degrés fahrenheit\", val_convertie )"
   ]
  },
  {
   "cell_type": "code",
   "execution_count": 39,
   "metadata": {},
   "outputs": [
    {
     "name": "stdout",
     "output_type": "stream",
     "text": [
      "0\n",
      "1\n",
      "1\n",
      "2\n",
      "3\n",
      "5\n",
      "8\n",
      "13\n",
      "21\n",
      "34\n",
      "55\n",
      "89\n",
      "144\n",
      "233\n",
      "377\n",
      "610\n",
      "987\n"
     ]
    }
   ],
   "source": [
    "# La suite de Fibonacci\n",
    "# Calcul des termes de la suite de fibonacci plus petits que 1000\n",
    "# Fonctionnement du programme:\n",
    "# A chaque itération on calcule: suivant = fibo1 + fibo2\n",
    "# Puis on fait une permutation circulaire: fibo1 <- fibo2 <- suivant\n",
    "\n",
    "# Configuration\n",
    "fibo_max = 1000    # valeur maximum de la suite de fibonacci\n",
    "\n",
    "# initialisation - premiers termes de la suite de fibonacci\n",
    "fibo1 = 0\n",
    "fibo2 = 1\n",
    "\n",
    "# recherche des termes de la suite de fibonacci jusqu'a fibo_max\n",
    "while ( fibo1 < fibo_max ):    \n",
    "    print( fibo1 )\n",
    "    suivant = fibo1 + fibo2\n",
    "    fibo1 = fibo2\n",
    "    fibo2 = suivant"
   ]
  },
  {
   "cell_type": "code",
   "execution_count": null,
   "metadata": {},
   "outputs": [],
   "source": []
  }
 ],
 "metadata": {
  "kernelspec": {
   "display_name": "Python 3",
   "language": "python",
   "name": "python3"
  },
  "language_info": {
   "codemirror_mode": {
    "name": "ipython",
    "version": 3
   },
   "file_extension": ".py",
   "mimetype": "text/x-python",
   "name": "python",
   "nbconvert_exporter": "python",
   "pygments_lexer": "ipython3",
   "version": "3.8.8"
  }
 },
 "nbformat": 4,
 "nbformat_minor": 4
}
