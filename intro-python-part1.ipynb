{
 "cells": [
  {
   "cell_type": "markdown",
   "metadata": {},
   "source": [
    "# Introduction au langage Python (partie 1)\n"
   ]
  },
  {
   "cell_type": "markdown",
   "metadata": {},
   "source": [
    "## Structure du langage python\n",
    "\n",
    "### Les noms de variable\n",
    "\n",
    "- commencent toujours par une lettre\n",
    "- peuvent contenir a-z, A-Z, 0-9 et quelques caractères spéciaux tels que _\n",
    "- Par convention les noms de variables sont en minuscule.\n",
    "- les mots clés du langage ne sont pas autorisés\n",
    "\n"
   ]
  },
  {
   "cell_type": "code",
   "execution_count": 5,
   "metadata": {},
   "outputs": [
    {
     "name": "stdout",
     "output_type": "stream",
     "text": [
      "10\n",
      "9.81\n"
     ]
    }
   ],
   "source": [
    "GRAVITE = 9.81\n",
    "ma_variable = 10\n",
    "print( ma_variable )\n",
    "print(GRAVITE)"
   ]
  },
  {
   "cell_type": "code",
   "execution_count": 6,
   "metadata": {},
   "outputs": [
    {
     "ename": "NameError",
     "evalue": "name 'ma_variable' is not defined",
     "output_type": "error",
     "traceback": [
      "\u001b[0;31m---------------------------------------------------------------------------\u001b[0m",
      "\u001b[0;31mNameError\u001b[0m                                 Traceback (most recent call last)",
      "Cell \u001b[0;32mIn[6], line 2\u001b[0m\n\u001b[1;32m      1\u001b[0m \u001b[38;5;28;01mdel\u001b[39;00m ma_variable \u001b[38;5;66;03m# supprime ma_variable\u001b[39;00m\n\u001b[0;32m----> 2\u001b[0m \u001b[38;5;28mprint\u001b[39m(\u001b[43mma_variable\u001b[49m) \u001b[38;5;66;03m# erreur car ma_variable n'existe plus\u001b[39;00m\n",
      "\u001b[0;31mNameError\u001b[0m: name 'ma_variable' is not defined"
     ]
    }
   ],
   "source": [
    "del ma_variable # supprime ma_variable\n",
    "print(ma_variable) # erreur car ma_variable n'existe plus"
   ]
  },
  {
   "cell_type": "markdown",
   "metadata": {},
   "source": [
    "### Mots clés réservés du langage\n",
    "\n",
    "```python\n",
    "False await else import pass None break except in raise True class finally is return and continue for lambda try\n",
    "as def from nonlocal while assert del global not with async elif if or yield\n",
    "```\n"
   ]
  },
  {
   "cell_type": "code",
   "execution_count": 1,
   "metadata": {},
   "outputs": [
    {
     "name": "stdout",
     "output_type": "stream",
     "text": [
      "['False', 'None', 'True', 'and', 'as', 'assert', 'async', 'await', 'break', 'class', 'continue', 'def', 'del', 'elif', 'else', 'except', 'finally', 'for', 'from', 'global', 'if', 'import', 'in', 'is', 'lambda', 'nonlocal', 'not', 'or', 'pass', 'raise', 'return', 'try', 'while', 'with', 'yield']\n"
     ]
    }
   ],
   "source": [
    "import keyword\n",
    "\n",
    "print(keyword.kwlist)"
   ]
  },
  {
   "cell_type": "markdown",
   "metadata": {},
   "source": [
    "### Les commentaires"
   ]
  },
  {
   "cell_type": "code",
   "execution_count": 4,
   "metadata": {},
   "outputs": [],
   "source": [
    "'''\n",
    "Parametres par defaut de l'imprimante 3D\n",
    "configuration specifique dans config.json\n",
    "'''\n",
    "\n",
    "# Decalage de la table\n",
    "offset_x = 12 # decalage x standard\n",
    "offset_y = 8 # decalage y standard"
   ]
  },
  {
   "cell_type": "markdown",
   "metadata": {},
   "source": [
    "### Indentation\n",
    "\n",
    "Un bloc de code est indenté du même nombre d'espaces (ou tabulation). En Python l'indentation est obligatoire car elle influence l'exécution du code.\n"
   ]
  },
  {
   "cell_type": "code",
   "execution_count": null,
   "metadata": {},
   "outputs": [
    {
     "name": "stdout",
     "output_type": "stream",
     "text": [
      "Vrai\n"
     ]
    }
   ],
   "source": [
    "if True:\n",
    "   print(\"Vrai\")\n",
    "else:\n",
    "   print(\"Faux\")"
   ]
  },
  {
   "cell_type": "markdown",
   "metadata": {},
   "source": [
    "### Instructions multi-ligne\n",
    "\n",
    "Une instruction peut se continuer sur plusieurs lignes en utilisant le '\\'\n"
   ]
  },
  {
   "cell_type": "code",
   "execution_count": 8,
   "metadata": {},
   "outputs": [
    {
     "name": "stdout",
     "output_type": "stream",
     "text": [
      "44\n"
     ]
    }
   ],
   "source": [
    "calcul = 1 * 2 + \\\n",
    "3 * 4 + \\\n",
    "5 * 6\n",
    "print( calcul )"
   ]
  },
  {
   "cell_type": "markdown",
   "metadata": {},
   "source": [
    "Les blocs [], {}, et () peuvent continuer sur plusieurs lignes:"
   ]
  },
  {
   "cell_type": "code",
   "execution_count": 9,
   "metadata": {},
   "outputs": [
    {
     "name": "stdout",
     "output_type": "stream",
     "text": [
      "['lundi', 'mardi', 'mercredi', 'jeudi', 'vendredi']\n"
     ]
    }
   ],
   "source": [
    "jours = [\n",
    "'lundi',\n",
    "'mardi',\n",
    "'mercredi',\n",
    "'jeudi',\n",
    "'vendredi'\n",
    "]\n",
    "print(jours)"
   ]
  },
  {
   "cell_type": "markdown",
   "metadata": {},
   "source": [
    "### Plusieurs instructions par ligne"
   ]
  },
  {
   "cell_type": "code",
   "execution_count": 10,
   "metadata": {},
   "outputs": [
    {
     "name": "stdout",
     "output_type": "stream",
     "text": [
      "1 1\n"
     ]
    }
   ],
   "source": [
    "a = b = 1; print(a, b) # A éviter"
   ]
  },
  {
   "cell_type": "markdown",
   "metadata": {},
   "source": [
    "## Les types simples (scalaires)\n",
    "\n",
    "### Les types numériques\n",
    "\n",
    "#### Les entiers (int)\n"
   ]
  },
  {
   "cell_type": "code",
   "execution_count": 11,
   "metadata": {},
   "outputs": [
    {
     "name": "stdout",
     "output_type": "stream",
     "text": [
      "4\n",
      "<class 'int'>\n"
     ]
    }
   ],
   "source": [
    "# nombre entier\n",
    "a = 4\n",
    "print(a)\n",
    "print( type(a) )"
   ]
  },
  {
   "cell_type": "code",
   "execution_count": 6,
   "metadata": {},
   "outputs": [
    {
     "name": "stdout",
     "output_type": "stream",
     "text": [
      "8\n",
      "12\n",
      "511\n",
      "51966\n"
     ]
    }
   ],
   "source": [
    "a = 8 # decimal\n",
    "b = 0b1100 # binaire\n",
    "c = 0o777 # octal\n",
    "d = 0xCAFE # hexadecimal\n",
    "print(a)\n",
    "print(b)\n",
    "print(c)\n",
    "print(d)"
   ]
  },
  {
   "cell_type": "markdown",
   "metadata": {},
   "source": [
    "#### Les nombres à virgule flottante (float)"
   ]
  },
  {
   "cell_type": "code",
   "execution_count": 13,
   "metadata": {},
   "outputs": [
    {
     "name": "stdout",
     "output_type": "stream",
     "text": [
      "<class 'float'>\n"
     ]
    }
   ],
   "source": [
    "c = 2.1 # nombre à virgule flottante\n",
    "print(type(c))"
   ]
  },
  {
   "cell_type": "code",
   "execution_count": 14,
   "metadata": {},
   "outputs": [
    {
     "name": "stdout",
     "output_type": "stream",
     "text": [
      "300000000.0  m/s\n"
     ]
    }
   ],
   "source": [
    "vitesse_lumiere = 3e8\n",
    "print(vitesse_lumiere,\" m/s\")"
   ]
  },
  {
   "cell_type": "markdown",
   "metadata": {},
   "source": [
    "#### Attention: Les nombres flottants sont des approximations"
   ]
  },
  {
   "cell_type": "code",
   "execution_count": 78,
   "metadata": {},
   "outputs": [
    {
     "name": "stdout",
     "output_type": "stream",
     "text": [
      "la variable c est égale à 0.30000000000000004\n"
     ]
    }
   ],
   "source": [
    "a = 0.1\n",
    "b = 0.2\n",
    "c = a + b\n",
    "\n",
    "if c == 0.3:\n",
    "    print(\"la variable c est égale à 0.3\")\n",
    "else:\n",
    "    print(\"la variable c est égale à\", c)"
   ]
  },
  {
   "cell_type": "markdown",
   "metadata": {},
   "source": [
    "#### Les nombres complexes (complex)\n"
   ]
  },
  {
   "cell_type": "code",
   "execution_count": 15,
   "metadata": {},
   "outputs": [
    {
     "name": "stdout",
     "output_type": "stream",
     "text": [
      "1.5\n",
      "1.0\n",
      "(1.5+1j)\n",
      "(1.5+2j)\n",
      "<class 'complex'>\n"
     ]
    }
   ],
   "source": [
    "a = 1.5 + 1j # nombre complexe\n",
    "print( a. real )\n",
    "print( a. imag )\n",
    "print(a)\n",
    "print(a + 1j)\n",
    "print(type(a))"
   ]
  },
  {
   "cell_type": "markdown",
   "metadata": {},
   "source": [
    "#### Les fractions"
   ]
  },
  {
   "cell_type": "code",
   "execution_count": 10,
   "metadata": {},
   "outputs": [
    {
     "name": "stdout",
     "output_type": "stream",
     "text": [
      "7/6\n",
      "True\n"
     ]
    }
   ],
   "source": [
    "import fractions\n",
    "a = fractions.Fraction(2, 3)\n",
    "b = fractions.Fraction(1, 2)\n",
    "print(a + b)\n",
    "print( isinstance(a, fractions.Fraction))"
   ]
  },
  {
   "cell_type": "markdown",
   "metadata": {},
   "source": [
    "#### Conversion de type\n"
   ]
  },
  {
   "cell_type": "code",
   "execution_count": 17,
   "metadata": {},
   "outputs": [
    {
     "name": "stdout",
     "output_type": "stream",
     "text": [
      "1.5 <class 'float'>\n",
      "1 <class 'int'>\n",
      "(1+0j) <class 'complex'>\n"
     ]
    }
   ],
   "source": [
    "x = 1.5\n",
    "print(x, type(x))\n",
    "x = int(x)\n",
    "print(x, type(x))\n",
    "z = complex(x)\n",
    "print(z, type(z))"
   ]
  },
  {
   "cell_type": "markdown",
   "metadata": {},
   "source": [
    "### Chaînes de caractères (string)\n"
   ]
  },
  {
   "cell_type": "code",
   "execution_count": 19,
   "metadata": {},
   "outputs": [
    {
     "name": "stdout",
     "output_type": "stream",
     "text": [
      "Hello world!\n",
      "<class 'str'>\n"
     ]
    }
   ],
   "source": [
    "s = 'Hello world!' # ou avec \" \"\n",
    "s = \"Hello world!\"\n",
    "print(s)\n",
    "print(type(s))"
   ]
  },
  {
   "cell_type": "code",
   "execution_count": 19,
   "metadata": {},
   "outputs": [
    {
     "name": "stdout",
     "output_type": "stream",
     "text": [
      "aujourd'hui\n",
      "il a dit \"Bonjour\"\n",
      "il a dit \"aujourd'hui\"\n"
     ]
    }
   ],
   "source": [
    "chaine1 = \"aujourd'hui\"\n",
    "print(chaine1)\n",
    "chaine2 = 'il a dit \"Bonjour\"'\n",
    "print(chaine2)\n",
    "chaine3 = 'il a dit \"aujourd\\'hui\"'\n",
    "print(chaine3)"
   ]
  },
  {
   "cell_type": "markdown",
   "metadata": {},
   "source": [
    "#### Extraire une partie d'un texte\n",
    "\n",
    "On peut extraire une sous-chaine avec la syntaxe [start:stop:step] qui extrait les caractères entre start et stop(exclu)\n",
    "\n",
    "Attention: les indices commencent à 0!\n",
    "\n",
    "On peut omettre start ou stop. Dans ce cas les valeurs par défaut sont respectivement 0 et la fin de la chaine.\n",
    "\n",
    "Il est aussi possible de définir le step (pas davancement) avec la syntaxe [start:stop:step] (la valeur par défaut de step est 1)\n",
    "\n",
    "Cette technique est appelée slicing. Pour en savoir plus: <https://docs.python.org/3/library/functions.html?highlight=slice#slice>\n"
   ]
  },
  {
   "cell_type": "code",
   "execution_count": 1,
   "metadata": {},
   "outputs": [
    {
     "data": {
      "text/plain": [
       "'H'"
      ]
     },
     "execution_count": 1,
     "metadata": {},
     "output_type": "execute_result"
    }
   ],
   "source": [
    "s = \"Hello world!\"\n",
    "s[0] # premier élément"
   ]
  },
  {
   "cell_type": "code",
   "execution_count": 3,
   "metadata": {},
   "outputs": [
    {
     "data": {
      "text/plain": [
       "'!'"
      ]
     },
     "execution_count": 3,
     "metadata": {},
     "output_type": "execute_result"
    }
   ],
   "source": [
    "s[-1] # dernier élément"
   ]
  },
  {
   "cell_type": "code",
   "execution_count": 21,
   "metadata": {},
   "outputs": [
    {
     "data": {
      "text/plain": [
       "'ello'"
      ]
     },
     "execution_count": 21,
     "metadata": {},
     "output_type": "execute_result"
    }
   ],
   "source": [
    "s = \"Hello world!\"\n",
    "s[1:5]"
   ]
  },
  {
   "cell_type": "code",
   "execution_count": 22,
   "metadata": {},
   "outputs": [
    {
     "name": "stdout",
     "output_type": "stream",
     "text": [
      "ello\n"
     ]
    }
   ],
   "source": [
    "start, stop = 1, 5\n",
    "print( s[ start:stop] )"
   ]
  },
  {
   "cell_type": "code",
   "execution_count": 23,
   "metadata": {},
   "outputs": [
    {
     "data": {
      "text/plain": [
       "'Hello'"
      ]
     },
     "execution_count": 23,
     "metadata": {},
     "output_type": "execute_result"
    }
   ],
   "source": [
    "s[:5] # 5 premières valeurs"
   ]
  },
  {
   "cell_type": "code",
   "execution_count": 26,
   "metadata": {},
   "outputs": [
    {
     "data": {
      "text/plain": [
       "'worl'"
      ]
     },
     "execution_count": 26,
     "metadata": {},
     "output_type": "execute_result"
    }
   ],
   "source": [
    "s[6:-2] # de l'entrée d'indice 6 à la fin"
   ]
  },
  {
   "cell_type": "code",
   "execution_count": 27,
   "metadata": {},
   "outputs": [
    {
     "data": {
      "text/plain": [
       "'el ol!'"
      ]
     },
     "execution_count": 27,
     "metadata": {},
     "output_type": "execute_result"
    }
   ],
   "source": [
    "s[1::2]"
   ]
  },
  {
   "cell_type": "code",
   "execution_count": 27,
   "metadata": {},
   "outputs": [
    {
     "data": {
      "text/plain": [
       "'Hlowrd'"
      ]
     },
     "execution_count": 27,
     "metadata": {},
     "output_type": "execute_result"
    }
   ],
   "source": [
    "s[0::2]"
   ]
  },
  {
   "cell_type": "code",
   "execution_count": 29,
   "metadata": {},
   "outputs": [
    {
     "name": "stdout",
     "output_type": "stream",
     "text": [
      "ABCDEFGHIJKLMNOPQRSTUVWXYZ\n"
     ]
    }
   ],
   "source": [
    "import string\n",
    "print( string.ascii_uppercase)"
   ]
  },
  {
   "cell_type": "markdown",
   "metadata": {},
   "source": [
    "Exemple : A partir des lettres de l'alphabet, générer par une opération de slicing la chaîne de caractères \"cfilorux\"\n"
   ]
  },
  {
   "cell_type": "code",
   "execution_count": 28,
   "metadata": {},
   "outputs": [
    {
     "name": "stdout",
     "output_type": "stream",
     "text": [
      "cfilorux\n"
     ]
    }
   ],
   "source": [
    "import string\n",
    "alphabet = string.ascii_lowercase\n",
    "result = alphabet[2::3]\n",
    "print(result)"
   ]
  },
  {
   "cell_type": "markdown",
   "metadata": {},
   "source": [
    "#### Mise en forme de chaînes de caractères: la fonction print()"
   ]
  },
  {
   "cell_type": "code",
   "execution_count": 29,
   "metadata": {},
   "outputs": [
    {
     "name": "stdout",
     "output_type": "stream",
     "text": [
      "str1 str2 str3\n",
      "str1 1.0 False (-0-1j)\n"
     ]
    }
   ],
   "source": [
    "print(\"str1\", \"str2\", \"str3\") # print ajoute des espaces entre les chaînes\n",
    "print(\"str1\", 1.0, False, - 1j) # print convertit toutes les variables en chaînes"
   ]
  },
  {
   "cell_type": "markdown",
   "metadata": {},
   "source": [
    "#### Mise en forme de chaînes de caractères: dans le style C\n",
    "\n",
    "Voir documentation de la fonction printf en C"
   ]
  },
  {
   "cell_type": "code",
   "execution_count": 3,
   "metadata": {},
   "outputs": [
    {
     "name": "stdout",
     "output_type": "stream",
     "text": [
      "val = 1.000000e+00 \n",
      "val = 1.000000000200000 \n",
      "val =  10 \n",
      "val = 1.0000000002 \n",
      "val = 1.0000000002\n"
     ]
    }
   ],
   "source": [
    "a = 1.0000000002\n",
    "print(\"val = %e \" % a)\n",
    "print(\"val = %1.15f \" % a)\n",
    "print(\"val = % 3d \" % 10)\n",
    "print(\"val = %s \" % a)\n",
    "print(\"val = \" + str(a))"
   ]
  },
  {
   "cell_type": "code",
   "execution_count": 5,
   "metadata": {},
   "outputs": [
    {
     "name": "stdout",
     "output_type": "stream",
     "text": [
      "val1 = 3.14 , val2 = 1 \n",
      "Le nombre pi est égal à 3.141592653589793 \n",
      "Le nombre e est égal à 2.718281828459045 \n",
      "Le nombre 12 s'écrit 0c en hexadecimal\n"
     ]
    }
   ],
   "source": [
    "import math\n",
    "\n",
    "# Plus avancé\n",
    "s = \"val1 = %.2f , val2 = %d \" % (3.1415, 1.5)\n",
    "print(s)\n",
    "\n",
    "s = \"Le nombre %s est égal à %s \"\n",
    "print((s % (\"pi\", math.pi)))\n",
    "print((s % (\"e\", math.exp(1.))))\n",
    "\n",
    "b=12\n",
    "print(\"Le nombre %d s'écrit %02x en hexadecimal\" % (b, b) )"
   ]
  },
  {
   "cell_type": "markdown",
   "metadata": {},
   "source": [
    "#### Mise en forme de chaînes de caractères avec la méthode format"
   ]
  },
  {
   "cell_type": "code",
   "execution_count": 7,
   "metadata": {},
   "outputs": [
    {
     "name": "stdout",
     "output_type": "stream",
     "text": [
      "le nomre d'or est 1.618\n"
     ]
    }
   ],
   "source": [
    "phi = 1.618\n",
    "print( \"le nomre d'or est {}\".format(phi) )"
   ]
  },
  {
   "cell_type": "code",
   "execution_count": 8,
   "metadata": {},
   "outputs": [
    {
     "name": "stdout",
     "output_type": "stream",
     "text": [
      "Entrez votre prenom: fabrice\n",
      "Entrez votre age10\n",
      "fabrice a l'age de 10 ans\n",
      "fabrice a l'age de 10 ans\n"
     ]
    }
   ],
   "source": [
    "prenom = input(\"Entrez votre prenom: \")\n",
    "age = int( input(\"Entrez votre age\") )\n",
    "\n",
    "print( \"{} a l'age de {} ans\".format(prenom, age) )\n",
    "print( prenom, \"a l'age de\", age, \"ans\")"
   ]
  },
  {
   "cell_type": "markdown",
   "metadata": {},
   "source": [
    "#### Mise en forme de chaînes de caractères avec les f-strings, formatted string literals"
   ]
  },
  {
   "cell_type": "code",
   "execution_count": 37,
   "metadata": {},
   "outputs": [
    {
     "name": "stdout",
     "output_type": "stream",
     "text": [
      "le nomre d'or est 1.618\n"
     ]
    }
   ],
   "source": [
    "phi = 1.618\n",
    "print( f\"le nomre d'or est {phi}\")"
   ]
  },
  {
   "cell_type": "code",
   "execution_count": 8,
   "metadata": {},
   "outputs": [
    {
     "name": "stdout",
     "output_type": "stream",
     "text": [
      "Entrez votre prenom: Fabrice\n",
      "Entrez votre age10\n",
      "Fabrice a l'age de 10 ans\n",
      "Fabrice a l'age de 10 ans\n"
     ]
    }
   ],
   "source": [
    "prenom = input(\"Entrez votre prenom: \")\n",
    "age = int( input(\"Entrez votre age\") )\n",
    "\n",
    "print( f\"{prenom} a l'age de {age} ans\" )\n",
    "print( prenom, \"a l'age de\", age, \"ans\")"
   ]
  },
  {
   "cell_type": "code",
   "execution_count": 36,
   "metadata": {},
   "outputs": [
    {
     "name": "stdout",
     "output_type": "stream",
     "text": [
      "Hello, ERIC. Ton age est 74 ans.\n"
     ]
    }
   ],
   "source": [
    "nom = \"Eric\"\n",
    "age = 74\n",
    "print( f\"Hello, {nom.upper()}. Ton age est {age} ans.\" )"
   ]
  },
  {
   "cell_type": "code",
   "execution_count": 6,
   "metadata": {},
   "outputs": [
    {
     "name": "stdout",
     "output_type": "stream",
     "text": [
      "Joyeux LEON\n",
      "Joyeux noel\n"
     ]
    }
   ],
   "source": [
    "import string\n",
    "\n",
    "# Palindrome\n",
    "fete = \"leon\"\n",
    "print(f\"Joyeux {fete.upper()}\" )\n",
    "\n",
    "print(f\"Joyeux {fete[::-1]}\")\n"
   ]
  },
  {
   "cell_type": "code",
   "execution_count": 43,
   "metadata": {},
   "outputs": [
    {
     "name": "stdout",
     "output_type": "stream",
     "text": [
      "Phrase chiffrée : dohd mdfwd hvw\n",
      "Phrase déchiffrée : alea jacta est\n"
     ]
    }
   ],
   "source": [
    "# Le chiffre cesar\n",
    "\n",
    "import string\n",
    "\n",
    "# Chiffrer une chaine de caracteres\n",
    "def cesar( chaine ):\n",
    "    alphabet = string.ascii_lowercase\n",
    "    \n",
    "    chaine_chiffree = \"\"    \n",
    "    for caractere in chaine.lower():\n",
    "        caractere_ordre = ord(caractere) - ord('a')\n",
    "        if caractere_ordre >= 0 and caractere_ordre <= 25:\n",
    "            chaine_chiffree += alphabet[ (caractere_ordre + 3) % 26 ] # Si c'est un caractere [a,z], le chiffrer\n",
    "        else:\n",
    "            chaine_chiffree += caractere # Sinon ne pas le modifier\n",
    "        \n",
    "    return( chaine_chiffree )\n",
    "\n",
    "# Dechiffrer une chaine de caracteres\n",
    "def cesar_decode( chaine ):\n",
    "    alphabet = string.ascii_lowercase\n",
    "    \n",
    "    chaine_dechiffree = \"\"    \n",
    "    for caractere in chaine.lower():\n",
    "        caractere_ordre = ord(caractere) - ord('a')\n",
    "        if caractere_ordre >= 0 and caractere_ordre <= 25:\n",
    "            chaine_dechiffree += alphabet[ (caractere_ordre - 3) % 26 ]  # Si c'est un caractere [a,z], le dechiffrer\n",
    "        else:\n",
    "            chaine_dechiffree += caractere # Sinon ne pas le modifier\n",
    "        \n",
    "    return( chaine_dechiffree )\n",
    "\n",
    "rubicon = \"Alea jacta est\"\n",
    "\n",
    "print( f\"Phrase chiffrée : {cesar(rubicon)}\" )\n",
    "print( f\"Phrase déchiffrée : {cesar_decode( cesar(rubicon) )}\" )\n"
   ]
  },
  {
   "cell_type": "markdown",
   "metadata": {},
   "source": [
    "## Les opérateurs\n",
    "\n",
    "### Les opérateurs arithmétiques\n"
   ]
  },
  {
   "cell_type": "code",
   "execution_count": 50,
   "metadata": {},
   "outputs": [
    {
     "name": "stdout",
     "output_type": "stream",
     "text": [
      "nombres entiers 3 -1 2 0.5\n",
      "nombres flottants 3.0 -1.0 2.0 0.5\n",
      "Division entiere 3.0\n",
      "exposant 1024\n",
      "modulo 2\n"
     ]
    }
   ],
   "source": [
    "# Les quatres opérations + - * /\n",
    "# Sur des nombres entiers\n",
    "print(\"nombres entiers\", 1 + 2, 1 - 2, 1 * 2, 1 / 2)\n",
    "\n",
    "# Sur des nombres flottants\n",
    "print(\"nombres flottants\", 1.0 + 2.0, 1.0 - 2.0, 1.0 * 2.0, 1.0 / 2.0)\n",
    "\n",
    "# Division entière\n",
    "print(\"Division entiere\", 7.4 // 2)\n",
    "\n",
    "# exposant. attention pas ^\n",
    "print(\"exposant\", 2 ** 10)\n",
    "\n",
    "# reste de la division (modulo)\n",
    "print(\"modulo\", 5 % 3)"
   ]
  },
  {
   "cell_type": "code",
   "execution_count": 18,
   "metadata": {},
   "outputs": [
    {
     "name": "stdout",
     "output_type": "stream",
     "text": [
      "Entrez un nombre: 6\n",
      "modulo 0\n",
      "Le nombre 6 est pair\n"
     ]
    }
   ],
   "source": [
    "nombre = int( input(\"Entrez un nombre: \") )\n",
    "print(\"modulo\", nombre % 2)\n",
    "if nombre % 2 == 0:\n",
    "    print(f\"Le nombre {nombre} est pair\")\n",
    "else:\n",
    "    print(f\"Le nombre {nombre} est impair\")"
   ]
  },
  {
   "cell_type": "markdown",
   "metadata": {},
   "source": [
    "#### Attention aux conversions de types"
   ]
  },
  {
   "cell_type": "code",
   "execution_count": 19,
   "metadata": {},
   "outputs": [
    {
     "name": "stdout",
     "output_type": "stream",
     "text": [
      "a = 5 de type <class 'int'>\n",
      "b = 3 de type <class 'int'>\n",
      "f = 1.6666666666666667 de type <class 'float'>\n",
      "a = 8 de type <class 'int'>\n",
      "b = 4 de type <class 'int'>\n",
      "f = 2.0 de type <class 'float'>\n"
     ]
    }
   ],
   "source": [
    "# Attention la division change le type\n",
    "a = 5\n",
    "b = 3\n",
    "f = a / b\n",
    "print(\"a =\", a, \"de type\", type(a))\n",
    "print(\"b =\", b, \"de type\", type(b))\n",
    "\n",
    "print(\"f =\", f, \"de type\", type(f))\n",
    "\n",
    "# Attention la division change le type\n",
    "a = 8\n",
    "b = 4\n",
    "f = a / b\n",
    "print(\"a =\", a, \"de type\", type(a))\n",
    "print(\"b =\", b, \"de type\", type(b))\n",
    "\n",
    "print(\"f =\", f, \"de type\", type(f))"
   ]
  },
  {
   "cell_type": "code",
   "execution_count": 63,
   "metadata": {},
   "outputs": [
    {
     "name": "stdout",
     "output_type": "stream",
     "text": [
      "valeur calculee 18.336\n",
      "valeur arrondie 18.34\n"
     ]
    }
   ],
   "source": [
    "import math\n",
    "\n",
    "# exemple calcul TTC\n",
    "ht = 15.28\n",
    "tva = 20\n",
    "ttc = ht * (1 + tva / 100 )\n",
    "print(\"valeur calculee\", ttc)\n",
    "\n",
    "# Arrondir au centime supérieur\n",
    "ttc = (math.floor(ttc * 100) + 1) / 100\n",
    "\n",
    "print(\"valeur arrondie\", ttc)"
   ]
  },
  {
   "cell_type": "code",
   "execution_count": 20,
   "metadata": {},
   "outputs": [
    {
     "name": "stdout",
     "output_type": "stream",
     "text": [
      "1.62\n"
     ]
    }
   ],
   "source": [
    "phi = 1.618\n",
    "print( round(1.618, 2))"
   ]
  },
  {
   "cell_type": "markdown",
   "metadata": {},
   "source": [
    "### Les opérateurs sur les chaines de caractère\n"
   ]
  },
  {
   "cell_type": "code",
   "execution_count": 64,
   "metadata": {},
   "outputs": [
    {
     "name": "stdout",
     "output_type": "stream",
     "text": [
      "Concaténation abcdefghi\n",
      "réplication AhAhAh\n"
     ]
    }
   ],
   "source": [
    "s = \"abc\" + \"def\" + \"ghi\"\n",
    "print( \"Concaténation\", s )\n",
    "\n",
    "s = \"Ah\" * 3\n",
    "print( \"réplication\", s )"
   ]
  },
  {
   "cell_type": "markdown",
   "metadata": {},
   "source": [
    "### Opérateurs logiques\n",
    "\n",
    "Opérations booléennes en anglais and, not, or.\n"
   ]
  },
  {
   "cell_type": "code",
   "execution_count": 42,
   "metadata": {},
   "outputs": [
    {
     "data": {
      "text/plain": [
       "False"
      ]
     },
     "execution_count": 42,
     "metadata": {},
     "output_type": "execute_result"
    }
   ],
   "source": [
    "# réponse de normand\n",
    "True and False"
   ]
  },
  {
   "cell_type": "code",
   "execution_count": 43,
   "metadata": {},
   "outputs": [
    {
     "data": {
      "text/plain": [
       "True"
      ]
     },
     "execution_count": 43,
     "metadata": {},
     "output_type": "execute_result"
    }
   ],
   "source": [
    "# C'est pas faux\n",
    "not False"
   ]
  },
  {
   "cell_type": "code",
   "execution_count": 21,
   "metadata": {},
   "outputs": [
    {
     "name": "stdout",
     "output_type": "stream",
     "text": [
      "True\n"
     ]
    }
   ],
   "source": [
    "# Hamlet\n",
    "to_be = False\n",
    "print( to_be or not to_be )"
   ]
  },
  {
   "cell_type": "code",
   "execution_count": 65,
   "metadata": {},
   "outputs": [
    {
     "name": "stdout",
     "output_type": "stream",
     "text": [
      "Conversion booléen en entier:\n",
      "True =  1\n",
      "False =  0\n"
     ]
    }
   ],
   "source": [
    "print(\"Conversion booléen en entier:\")\n",
    "print(\"True = \", int(True))\n",
    "print(\"False = \", int(False))"
   ]
  },
  {
   "cell_type": "code",
   "execution_count": 66,
   "metadata": {},
   "outputs": [
    {
     "name": "stdout",
     "output_type": "stream",
     "text": [
      "1 == True\n",
      "0 == False\n"
     ]
    }
   ],
   "source": [
    "# Meme sans conversion, ils sont égaux\n",
    "if 1 == True:\n",
    "    print(\"1 == True\")\n",
    "if 0 == False:\n",
    "    print(\"0 == False\")\n",
    "    "
   ]
  },
  {
   "cell_type": "markdown",
   "metadata": {},
   "source": [
    "### Opérateurs de comparaison\n",
    "\n",
    "Comparaisons >, <, >= (plus grand ou égal), <= (inférieur ou égal), == equalité, is identique.\n"
   ]
  },
  {
   "cell_type": "code",
   "execution_count": 67,
   "metadata": {},
   "outputs": [
    {
     "data": {
      "text/plain": [
       "True"
      ]
     },
     "execution_count": 67,
     "metadata": {},
     "output_type": "execute_result"
    }
   ],
   "source": [
    "# le résultat d'une comparaison est un booleen\n",
    "3 < 4"
   ]
  },
  {
   "cell_type": "code",
   "execution_count": 72,
   "metadata": {},
   "outputs": [
    {
     "data": {
      "text/plain": [
       "True"
      ]
     },
     "execution_count": 72,
     "metadata": {},
     "output_type": "execute_result"
    }
   ],
   "source": [
    "1 < 3 < 5"
   ]
  },
  {
   "cell_type": "code",
   "execution_count": 73,
   "metadata": {},
   "outputs": [
    {
     "data": {
      "text/plain": [
       "False"
      ]
     },
     "execution_count": 73,
     "metadata": {},
     "output_type": "execute_result"
    }
   ],
   "source": [
    "3 < 2 < 8"
   ]
  },
  {
   "cell_type": "code",
   "execution_count": 74,
   "metadata": {},
   "outputs": [
    {
     "name": "stdout",
     "output_type": "stream",
     "text": [
      "False <class 'bool'>\n"
     ]
    }
   ],
   "source": [
    "test = (3 > 4)\n",
    "print(test, type(test))"
   ]
  },
  {
   "cell_type": "code",
   "execution_count": 56,
   "metadata": {},
   "outputs": [
    {
     "data": {
      "text/plain": [
       "(True, False)"
      ]
     },
     "execution_count": 56,
     "metadata": {},
     "output_type": "execute_result"
    }
   ],
   "source": [
    "2 > 1, 2 < 1"
   ]
  },
  {
   "cell_type": "code",
   "execution_count": 57,
   "metadata": {},
   "outputs": [
    {
     "data": {
      "text/plain": [
       "(False, True)"
      ]
     },
     "execution_count": 57,
     "metadata": {},
     "output_type": "execute_result"
    }
   ],
   "source": [
    "2 > 2, 2 <= 2"
   ]
  },
  {
   "cell_type": "code",
   "execution_count": 58,
   "metadata": {},
   "outputs": [
    {
     "data": {
      "text/plain": [
       "True"
      ]
     },
     "execution_count": 58,
     "metadata": {},
     "output_type": "execute_result"
    }
   ],
   "source": [
    "2 != 3"
   ]
  },
  {
   "cell_type": "code",
   "execution_count": 59,
   "metadata": {},
   "outputs": [
    {
     "data": {
      "text/plain": [
       "True"
      ]
     },
     "execution_count": 59,
     "metadata": {},
     "output_type": "execute_result"
    }
   ],
   "source": [
    "not 2 == 3"
   ]
  },
  {
   "cell_type": "markdown",
   "metadata": {},
   "source": [
    "#### Attention aux comparaisons de chaines"
   ]
  },
  {
   "cell_type": "code",
   "execution_count": 77,
   "metadata": {},
   "outputs": [
    {
     "name": "stdout",
     "output_type": "stream",
     "text": [
      "20 est plus grand que 100\n"
     ]
    }
   ],
   "source": [
    "s1 = \"20\"\n",
    "s2 = \"100\"\n",
    "if s1 > s2 :\n",
    "    print(s1, \"est plus grand que\", s2)\n",
    "else:\n",
    "    print(s2, \"est plus grand que\", s1)"
   ]
  },
  {
   "cell_type": "markdown",
   "metadata": {},
   "source": [
    "### Précédence des opérateurs\n",
    "\n",
    "The following table summarizes the operator precedence in Python, from lowest precedence (least binding) to highest precedence (most binding). Operators in the same box have the same precedence. Unless the syntax is explicitly given, operators are binary. Operators in the same box group left to right (except for exponentiation, which groups from right to left).\n",
    "\n",
    "Note that comparisons, membership tests, and identity tests, all have the same precedence and have a left-to-right chaining feature as described in the [Comparisons](https://docs.python.org/3.8/reference/expressions.html#comparisons) section.\n"
   ]
  },
  {
   "cell_type": "markdown",
   "metadata": {},
   "source": [
    "\n",
    "**Operator** | **Description**\n",
    "---------|----------\n",
    " := | Assignment expression\n",
    " lambda | Lambda expression\n",
    " if  else | Conditional expression\n",
    " or | Boolean OR\n",
    " and | Boolean AND\n",
    " not x | Boolean NOT\n",
    " in, not in, is, is not, <, <=, >, >=, !=, == | Comparisons, including membership tests and identity tests\n",
    " \\| | Bitwise OR\n",
    " ^ | Bitwise XOR\n",
    " & | Bitwise AND\n",
    " <<, >> | Shifts\n",
    " +, - | Addition and subtraction\n",
    " *, @, /, //, % | Multiplication, matrix multiplication, division, floor, division, remainder\n",
    " +x, -x, ~x | Positive, negative, bitwise NOT\n",
    " ** | Exponentiation\n",
    " await x | Await expression\n",
    " x[index], x[index:index], x(arguments...), x.attribute | Subscription, slicing, call, attribute reference\n",
    " (expressions...),[expressions...], {key: value...}, {expressions...} | Binding or parenthesized expression, list display, dictionary display, set display\n"
   ]
  },
  {
   "cell_type": "markdown",
   "metadata": {},
   "source": [
    "## La bibliothèque standard et ses modules\n",
    "\n",
    "Les fonctions Python sont organisées par modules.\n",
    "\n",
    "Bibliothèque standard Python ( Python Standard Library ) : collection de modules donnant accès à des fonctionnalités de bases : appels au système d'exploitation, gestion des fichiers, gestion des chaînes de caractères, interface réseau, etc.\n",
    "\n",
    "### Utilisation des modules\n",
    "\n",
    "Un module doit être importé avant de pouvoir être utilisé, ou bien en important uniquement les fonctions dont on a besoin."
   ]
  },
  {
   "cell_type": "code",
   "execution_count": 67,
   "metadata": {},
   "outputs": [
    {
     "name": "stdout",
     "output_type": "stream",
     "text": [
      "1.0\n"
     ]
    }
   ],
   "source": [
    "import math\n",
    "x = math.cos(2 * math.pi)\n",
    "print(x)"
   ]
  },
  {
   "cell_type": "code",
   "execution_count": 68,
   "metadata": {},
   "outputs": [
    {
     "name": "stdout",
     "output_type": "stream",
     "text": [
      "0.5403023058681397\n"
     ]
    }
   ],
   "source": [
    "import math as m\n",
    "print(m.cos(1.))"
   ]
  },
  {
   "cell_type": "code",
   "execution_count": 75,
   "metadata": {},
   "outputs": [
    {
     "name": "stdout",
     "output_type": "stream",
     "text": [
      "1.0\n"
     ]
    }
   ],
   "source": [
    "from math import cos, pi\n",
    "x = cos(2 * pi)\n",
    "print( x)"
   ]
  },
  {
   "cell_type": "markdown",
   "metadata": {},
   "source": [
    "### Connaitre le contenu d'un module et consulter l'aide\n",
    "\n",
    "Une fois un module importé on peut lister les symboles disponibles avec la fonction dir:\n"
   ]
  },
  {
   "cell_type": "code",
   "execution_count": 76,
   "metadata": {},
   "outputs": [
    {
     "name": "stdout",
     "output_type": "stream",
     "text": [
      "['__doc__', '__loader__', '__name__', '__package__', '__spec__', 'acos', 'acosh', 'asin', 'asinh', 'atan', 'atan2', 'atanh', 'ceil', 'comb', 'copysign', 'cos', 'cosh', 'degrees', 'dist', 'e', 'erf', 'erfc', 'exp', 'expm1', 'fabs', 'factorial', 'floor', 'fmod', 'frexp', 'fsum', 'gamma', 'gcd', 'hypot', 'inf', 'isclose', 'isfinite', 'isinf', 'isnan', 'isqrt', 'ldexp', 'lgamma', 'log', 'log10', 'log1p', 'log2', 'modf', 'nan', 'perm', 'pi', 'pow', 'prod', 'radians', 'remainder', 'sin', 'sinh', 'sqrt', 'tan', 'tanh', 'tau', 'trunc']\n"
     ]
    }
   ],
   "source": [
    "import math\n",
    "print( dir(math) )"
   ]
  },
  {
   "cell_type": "code",
   "execution_count": 64,
   "metadata": {},
   "outputs": [
    {
     "name": "stdout",
     "output_type": "stream",
     "text": [
      "Help on built-in function ceil in module math:\n",
      "\n",
      "ceil(x, /)\n",
      "    Return the ceiling of x as an Integral.\n",
      "    \n",
      "    This is the smallest integer >= x.\n",
      "\n"
     ]
    }
   ],
   "source": [
    "help(math.ceil)"
   ]
  },
  {
   "cell_type": "code",
   "execution_count": 65,
   "metadata": {},
   "outputs": [
    {
     "name": "stdout",
     "output_type": "stream",
     "text": [
      "Help on built-in module math:\n",
      "\n",
      "NAME\n",
      "    math\n",
      "\n",
      "DESCRIPTION\n",
      "    This module provides access to the mathematical functions\n",
      "    defined by the C standard.\n",
      "\n",
      "FUNCTIONS\n",
      "    acos(x, /)\n",
      "        Return the arc cosine (measured in radians) of x.\n",
      "    \n",
      "    acosh(x, /)\n",
      "        Return the inverse hyperbolic cosine of x.\n",
      "    \n",
      "    asin(x, /)\n",
      "        Return the arc sine (measured in radians) of x.\n",
      "    \n",
      "    asinh(x, /)\n",
      "        Return the inverse hyperbolic sine of x.\n",
      "    \n",
      "    atan(x, /)\n",
      "        Return the arc tangent (measured in radians) of x.\n",
      "    \n",
      "    atan2(y, x, /)\n",
      "        Return the arc tangent (measured in radians) of y/x.\n",
      "        \n",
      "        Unlike atan(y/x), the signs of both x and y are considered.\n",
      "    \n",
      "    atanh(x, /)\n",
      "        Return the inverse hyperbolic tangent of x.\n",
      "    \n",
      "    ceil(x, /)\n",
      "        Return the ceiling of x as an Integral.\n",
      "        \n",
      "        This is the smallest integer >= x.\n",
      "    \n",
      "    comb(n, k, /)\n",
      "        Number of ways to choose k items from n items without repetition and without order.\n",
      "        \n",
      "        Evaluates to n! / (k! * (n - k)!) when k <= n and evaluates\n",
      "        to zero when k > n.\n",
      "        \n",
      "        Also called the binomial coefficient because it is equivalent\n",
      "        to the coefficient of k-th term in polynomial expansion of the\n",
      "        expression (1 + x)**n.\n",
      "        \n",
      "        Raises TypeError if either of the arguments are not integers.\n",
      "        Raises ValueError if either of the arguments are negative.\n",
      "    \n",
      "    copysign(x, y, /)\n",
      "        Return a float with the magnitude (absolute value) of x but the sign of y.\n",
      "        \n",
      "        On platforms that support signed zeros, copysign(1.0, -0.0)\n",
      "        returns -1.0.\n",
      "    \n",
      "    cos(x, /)\n",
      "        Return the cosine of x (measured in radians).\n",
      "    \n",
      "    cosh(x, /)\n",
      "        Return the hyperbolic cosine of x.\n",
      "    \n",
      "    degrees(x, /)\n",
      "        Convert angle x from radians to degrees.\n",
      "    \n",
      "    dist(p, q, /)\n",
      "        Return the Euclidean distance between two points p and q.\n",
      "        \n",
      "        The points should be specified as sequences (or iterables) of\n",
      "        coordinates.  Both inputs must have the same dimension.\n",
      "        \n",
      "        Roughly equivalent to:\n",
      "            sqrt(sum((px - qx) ** 2.0 for px, qx in zip(p, q)))\n",
      "    \n",
      "    erf(x, /)\n",
      "        Error function at x.\n",
      "    \n",
      "    erfc(x, /)\n",
      "        Complementary error function at x.\n",
      "    \n",
      "    exp(x, /)\n",
      "        Return e raised to the power of x.\n",
      "    \n",
      "    expm1(x, /)\n",
      "        Return exp(x)-1.\n",
      "        \n",
      "        This function avoids the loss of precision involved in the direct evaluation of exp(x)-1 for small x.\n",
      "    \n",
      "    fabs(x, /)\n",
      "        Return the absolute value of the float x.\n",
      "    \n",
      "    factorial(x, /)\n",
      "        Find x!.\n",
      "        \n",
      "        Raise a ValueError if x is negative or non-integral.\n",
      "    \n",
      "    floor(x, /)\n",
      "        Return the floor of x as an Integral.\n",
      "        \n",
      "        This is the largest integer <= x.\n",
      "    \n",
      "    fmod(x, y, /)\n",
      "        Return fmod(x, y), according to platform C.\n",
      "        \n",
      "        x % y may differ.\n",
      "    \n",
      "    frexp(x, /)\n",
      "        Return the mantissa and exponent of x, as pair (m, e).\n",
      "        \n",
      "        m is a float and e is an int, such that x = m * 2.**e.\n",
      "        If x is 0, m and e are both 0.  Else 0.5 <= abs(m) < 1.0.\n",
      "    \n",
      "    fsum(seq, /)\n",
      "        Return an accurate floating point sum of values in the iterable seq.\n",
      "        \n",
      "        Assumes IEEE-754 floating point arithmetic.\n",
      "    \n",
      "    gamma(x, /)\n",
      "        Gamma function at x.\n",
      "    \n",
      "    gcd(x, y, /)\n",
      "        greatest common divisor of x and y\n",
      "    \n",
      "    hypot(...)\n",
      "        hypot(*coordinates) -> value\n",
      "        \n",
      "        Multidimensional Euclidean distance from the origin to a point.\n",
      "        \n",
      "        Roughly equivalent to:\n",
      "            sqrt(sum(x**2 for x in coordinates))\n",
      "        \n",
      "        For a two dimensional point (x, y), gives the hypotenuse\n",
      "        using the Pythagorean theorem:  sqrt(x*x + y*y).\n",
      "        \n",
      "        For example, the hypotenuse of a 3/4/5 right triangle is:\n",
      "        \n",
      "            >>> hypot(3.0, 4.0)\n",
      "            5.0\n",
      "    \n",
      "    isclose(a, b, *, rel_tol=1e-09, abs_tol=0.0)\n",
      "        Determine whether two floating point numbers are close in value.\n",
      "        \n",
      "          rel_tol\n",
      "            maximum difference for being considered \"close\", relative to the\n",
      "            magnitude of the input values\n",
      "          abs_tol\n",
      "            maximum difference for being considered \"close\", regardless of the\n",
      "            magnitude of the input values\n",
      "        \n",
      "        Return True if a is close in value to b, and False otherwise.\n",
      "        \n",
      "        For the values to be considered close, the difference between them\n",
      "        must be smaller than at least one of the tolerances.\n",
      "        \n",
      "        -inf, inf and NaN behave similarly to the IEEE 754 Standard.  That\n",
      "        is, NaN is not close to anything, even itself.  inf and -inf are\n",
      "        only close to themselves.\n",
      "    \n",
      "    isfinite(x, /)\n",
      "        Return True if x is neither an infinity nor a NaN, and False otherwise.\n",
      "    \n",
      "    isinf(x, /)\n",
      "        Return True if x is a positive or negative infinity, and False otherwise.\n",
      "    \n",
      "    isnan(x, /)\n",
      "        Return True if x is a NaN (not a number), and False otherwise.\n",
      "    \n",
      "    isqrt(n, /)\n",
      "        Return the integer part of the square root of the input.\n",
      "    \n",
      "    ldexp(x, i, /)\n",
      "        Return x * (2**i).\n",
      "        \n",
      "        This is essentially the inverse of frexp().\n",
      "    \n",
      "    lgamma(x, /)\n",
      "        Natural logarithm of absolute value of Gamma function at x.\n",
      "    \n",
      "    log(...)\n",
      "        log(x, [base=math.e])\n",
      "        Return the logarithm of x to the given base.\n",
      "        \n",
      "        If the base not specified, returns the natural logarithm (base e) of x.\n",
      "    \n",
      "    log10(x, /)\n",
      "        Return the base 10 logarithm of x.\n",
      "    \n",
      "    log1p(x, /)\n",
      "        Return the natural logarithm of 1+x (base e).\n",
      "        \n",
      "        The result is computed in a way which is accurate for x near zero.\n",
      "    \n",
      "    log2(x, /)\n",
      "        Return the base 2 logarithm of x.\n",
      "    \n",
      "    modf(x, /)\n",
      "        Return the fractional and integer parts of x.\n",
      "        \n",
      "        Both results carry the sign of x and are floats.\n",
      "    \n",
      "    perm(n, k=None, /)\n",
      "        Number of ways to choose k items from n items without repetition and with order.\n",
      "        \n",
      "        Evaluates to n! / (n - k)! when k <= n and evaluates\n",
      "        to zero when k > n.\n",
      "        \n",
      "        If k is not specified or is None, then k defaults to n\n",
      "        and the function returns n!.\n",
      "        \n",
      "        Raises TypeError if either of the arguments are not integers.\n",
      "        Raises ValueError if either of the arguments are negative.\n",
      "    \n",
      "    pow(x, y, /)\n",
      "        Return x**y (x to the power of y).\n",
      "    \n",
      "    prod(iterable, /, *, start=1)\n",
      "        Calculate the product of all the elements in the input iterable.\n",
      "        \n",
      "        The default start value for the product is 1.\n",
      "        \n",
      "        When the iterable is empty, return the start value.  This function is\n",
      "        intended specifically for use with numeric values and may reject\n",
      "        non-numeric types.\n",
      "    \n",
      "    radians(x, /)\n",
      "        Convert angle x from degrees to radians.\n",
      "    \n",
      "    remainder(x, y, /)\n",
      "        Difference between x and the closest integer multiple of y.\n",
      "        \n",
      "        Return x - n*y where n*y is the closest integer multiple of y.\n",
      "        In the case where x is exactly halfway between two multiples of\n",
      "        y, the nearest even value of n is used. The result is always exact.\n",
      "    \n",
      "    sin(x, /)\n",
      "        Return the sine of x (measured in radians).\n",
      "    \n",
      "    sinh(x, /)\n",
      "        Return the hyperbolic sine of x.\n",
      "    \n",
      "    sqrt(x, /)\n",
      "        Return the square root of x.\n",
      "    \n",
      "    tan(x, /)\n",
      "        Return the tangent of x (measured in radians).\n",
      "    \n",
      "    tanh(x, /)\n",
      "        Return the hyperbolic tangent of x.\n",
      "    \n",
      "    trunc(x, /)\n",
      "        Truncates the Real x to the nearest Integral toward 0.\n",
      "        \n",
      "        Uses the __trunc__ magic method.\n",
      "\n",
      "DATA\n",
      "    e = 2.718281828459045\n",
      "    inf = inf\n",
      "    nan = nan\n",
      "    pi = 3.141592653589793\n",
      "    tau = 6.283185307179586\n",
      "\n",
      "FILE\n",
      "    (built-in)\n",
      "\n",
      "\n"
     ]
    }
   ],
   "source": [
    "help(math)"
   ]
  },
  {
   "cell_type": "markdown",
   "metadata": {},
   "source": [
    "### exemple d'utilisation du module math\n"
   ]
  },
  {
   "cell_type": "code",
   "execution_count": 23,
   "metadata": {},
   "outputs": [
    {
     "name": "stdout",
     "output_type": "stream",
     "text": [
      "1.618033988749895\n",
      "2.618033988749895\n"
     ]
    }
   ],
   "source": [
    "import math\n",
    "\n",
    "# Calcul de la valeur exacte du nombre d'or (phi)\n",
    "phi = ( 1 + math.sqrt(5) ) / 2\n",
    "print(phi)\n",
    "print(math.pow(phi,2)) # nombre d'or au carré\n"
   ]
  },
  {
   "cell_type": "markdown",
   "metadata": {},
   "source": [
    "### Quelques modules utiles\n",
    "\n",
    "- string  Common string operations\n",
    "- datetime  Basic date and time types\n",
    "- array  Efficient arrays of numeric values\n",
    "- pprint  Data pretty printer\n",
    "- math  Mathematical functions\n",
    "- fractions  Rational numbers\n",
    "- random  Generate pseudo-random numbers\n",
    "- statistics  Mathematical statistics functions\n",
    "- pathlib  Object-oriented filesystem paths\n",
    "- os.path  Common pathname manipulations\n",
    "- fileinput  Iterate over lines from multiple input streams\n",
    "- stat  Interpreting stat() results\n",
    "- filecmp  File and Directory Comparisons\n",
    "- tempfile  Generate temporary files and directories\n",
    "- glob  Unix style pathname pattern expansion\n",
    "- fnmatch  Unix filename pattern matching\n",
    "- shutil  High-level file operations\n",
    "- sqlite3  DB-API 2.0 interface for SQLite databases\n",
    "- zlib  Compression compatible with **gzip**\n",
    "- gzip  Support for **gzip** files\n",
    "- bz2  Support for **bzip2** compression\n",
    "- zipfile  Work with ZIP archives\n",
    "- tarfile  Read and write tar archive files\n",
    "- csv  CSV File Reading and Writing\n",
    "- configparser  Configuration file parser\n",
    "- os  Miscellaneous operating system interfaces\n",
    "- io  Core tools for working with streams\n",
    "- time  Time access and conversions\n",
    "- getopt  C-style parser for command line options\n",
    "- syslog  Unix syslog library routines\n",
    "- socket  Low-level networking interface\n",
    "- json  JSON encoder and decoder\n",
    "- html.parser  Simple HTML and XHTML parser\n",
    "- webbrowser  Convenient Web-browser controller\n",
    "- http  HTTP modules\n",
    "- tkinter  Python interface to Tcl/Tk\n"
   ]
  },
  {
   "cell_type": "code",
   "execution_count": null,
   "metadata": {},
   "outputs": [],
   "source": []
  }
 ],
 "metadata": {
  "kernelspec": {
   "display_name": "Python 3",
   "language": "python",
   "name": "python3"
  },
  "language_info": {
   "codemirror_mode": {
    "name": "ipython",
    "version": 3
   },
   "file_extension": ".py",
   "mimetype": "text/x-python",
   "name": "python",
   "nbconvert_exporter": "python",
   "pygments_lexer": "ipython3",
   "version": "3.8.10"
  }
 },
 "nbformat": 4,
 "nbformat_minor": 4
}
