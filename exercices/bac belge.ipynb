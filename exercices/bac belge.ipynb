{
 "cells": [
  {
   "cell_type": "markdown",
   "id": "ee8d1b5f",
   "metadata": {},
   "source": [
    "# Bac belge\n",
    "\n",
    "tire un nombre au hasard et demande un prénom, une ville et un légume"
   ]
  },
  {
   "cell_type": "code",
   "execution_count": 18,
   "id": "46e00cca",
   "metadata": {},
   "outputs": [
    {
     "name": "stdout",
     "output_type": "stream",
     "text": [
      "Lettre: I\n",
      "Entrez un prénom: Ingrid\n",
      "Entrez un pays: Italie\n",
      "Entrez un légume:igname\n",
      "Lettre: M\n",
      "Entrez un prénom: Marc\n",
      "Entrez un pays: Maroc\n",
      "Entrez un légume:mangue\n",
      "Lettre: E\n",
      "Entrez un prénom: \n",
      "Entrez un pays: \n",
      "Entrez un légume:\n",
      "Lettre: H\n",
      "Entrez un prénom: \n",
      "Entrez un pays: \n",
      "Entrez un légume:\n",
      "Lettre: R\n",
      "Entrez un prénom: \n",
      "Entrez un pays: \n",
      "Entrez un légume:\n",
      "Lettre: F\n",
      "Entrez un prénom: \n",
      "Entrez un pays: \n",
      "Entrez un légume:\n",
      "Lettre: D\n",
      "Entrez un prénom: \n",
      "Entrez un pays: \n",
      "Entrez un légume:\n",
      "[['Ingrid', 'Italie', 'igname'], ['Marc', 'Maroc', 'mangue'], ['', '', ''], ['', '', ''], ['', '', ''], ['', '', ''], ['', '', '']]\n"
     ]
    }
   ],
   "source": [
    "import random\n",
    "\n",
    "#liste_prop = list()\n",
    "liste_prop = []\n",
    "\n",
    "for i in range(1, 8):\n",
    "    hasard = random.randint(0, 25)\n",
    "\n",
    "    print( \"Lettre:\", chr( ord('A') + hasard ) )\n",
    "    prenom = input(\"Entrez un prénom: \")\n",
    "    pays = input(\"Entrez un pays: \")\n",
    "    legume = input(\"Entrez un légume:\")\n",
    "    \n",
    "    liste_valeur = [prenom, pays, legume]\n",
    "    liste_prop.append( liste_valeur )\n",
    "\n",
    "print(liste_prop)"
   ]
  },
  {
   "cell_type": "code",
   "execution_count": null,
   "id": "660ad4a8",
   "metadata": {},
   "outputs": [],
   "source": []
  },
  {
   "cell_type": "code",
   "execution_count": null,
   "id": "67dff1a6",
   "metadata": {},
   "outputs": [],
   "source": []
  }
 ],
 "metadata": {
  "kernelspec": {
   "display_name": "Python 3",
   "language": "python",
   "name": "python3"
  },
  "language_info": {
   "codemirror_mode": {
    "name": "ipython",
    "version": 3
   },
   "file_extension": ".py",
   "mimetype": "text/x-python",
   "name": "python",
   "nbconvert_exporter": "python",
   "pygments_lexer": "ipython3",
   "version": "3.8.8"
  }
 },
 "nbformat": 4,
 "nbformat_minor": 5
}
