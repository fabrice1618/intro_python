{
 "cells": [
  {
   "cell_type": "markdown",
   "id": "fae9303f",
   "metadata": {},
   "source": [
    "# Introduction au langage Python (partie 3) - Les conteneurs\n",
    "\n",
    "## Sommaire\n",
    "\n",
    "- A - Listes\n",
    "- B - Tuples\n",
    "- C - Dictionnaires\n",
    "\n",
    "## A - Listes\n",
    "\n",
    "L'utilisation des listes est très similaires aux chaînes de caractères sauf que les éléments peuvent être de n’importe quel type.\n",
    "\n",
    "### La syntaxe pour créer des listes est [...]:\n"
   ]
  },
  {
   "cell_type": "markdown",
   "id": "ad590042",
   "metadata": {},
   "source": [
    "### Création de liste: syntaxe 1"
   ]
  },
  {
   "cell_type": "code",
   "execution_count": 3,
   "id": "76da31c1",
   "metadata": {},
   "outputs": [
    {
     "name": "stdout",
     "output_type": "stream",
     "text": [
      "<class 'list'>\n",
      "[]\n"
     ]
    }
   ],
   "source": [
    "l1 = list()\n",
    "print(type(l1))\n",
    "print(l1)"
   ]
  },
  {
   "cell_type": "markdown",
   "id": "22750c2d",
   "metadata": {},
   "source": [
    "### Création de liste: syntaxe 2"
   ]
  },
  {
   "cell_type": "code",
   "execution_count": 2,
   "id": "e9d23e4c",
   "metadata": {},
   "outputs": [
    {
     "name": "stdout",
     "output_type": "stream",
     "text": [
      "<class 'list'>\n",
      "[]\n"
     ]
    }
   ],
   "source": [
    "l2 = []\n",
    "print(type(l2))\n",
    "print(l2)"
   ]
  },
  {
   "cell_type": "markdown",
   "id": "723f68f9",
   "metadata": {},
   "source": [
    "### Création de liste avec initialisation d'éléments"
   ]
  },
  {
   "cell_type": "code",
   "execution_count": 1,
   "id": "97e7132e",
   "metadata": {},
   "outputs": [
    {
     "name": "stdout",
     "output_type": "stream",
     "text": [
      "<class 'list'>\n",
      "[1, 2, 3, 4]\n"
     ]
    }
   ],
   "source": [
    "l3 = [1, 2, 3, 4]\n",
    "print(type(l3))\n",
    "print(l3)"
   ]
  },
  {
   "cell_type": "markdown",
   "id": "46ecbaf9",
   "metadata": {},
   "source": [
    "### Exemples de slicing:"
   ]
  },
  {
   "cell_type": "code",
   "execution_count": 2,
   "id": "28e7a782",
   "metadata": {},
   "outputs": [
    {
     "name": "stdout",
     "output_type": "stream",
     "text": [
      "[2, 3]\n",
      "[1, 3]\n"
     ]
    }
   ],
   "source": [
    "print(l[1:3])\n",
    "print(l [::2])"
   ]
  },
  {
   "cell_type": "markdown",
   "id": "4bbcce69",
   "metadata": {},
   "source": [
    "#### Attention: On commence à indexer à 0!"
   ]
  },
  {
   "cell_type": "code",
   "execution_count": 3,
   "id": "acc1775f",
   "metadata": {},
   "outputs": [
    {
     "name": "stdout",
     "output_type": "stream",
     "text": [
      "1\n",
      "[4, 3, 2]\n"
     ]
    }
   ],
   "source": [
    "print( l[0] )\n",
    "print( l[-1:0:-1] )"
   ]
  },
  {
   "cell_type": "markdown",
   "id": "4548d8a2",
   "metadata": {},
   "source": [
    "### On peut mélanger les types:"
   ]
  },
  {
   "cell_type": "code",
   "execution_count": 4,
   "id": "158679ad",
   "metadata": {},
   "outputs": [
    {
     "name": "stdout",
     "output_type": "stream",
     "text": [
      "[1, 'a', 1.0, (1-1j)]\n"
     ]
    }
   ],
   "source": [
    "l = [1, 'a', 1.0, 1-1j]\n",
    "print(l)"
   ]
  },
  {
   "cell_type": "markdown",
   "id": "b42c9900",
   "metadata": {},
   "source": [
    "### On peut faire des listes de listes (par exemple pour décrire un arbre ou des tableaux à 2 dimensions...)"
   ]
  },
  {
   "cell_type": "code",
   "execution_count": 5,
   "id": "e9de568d",
   "metadata": {},
   "outputs": [
    {
     "name": "stdout",
     "output_type": "stream",
     "text": [
      "[1, [2, [3, [4, [5]]]]]\n"
     ]
    }
   ],
   "source": [
    "list_of_list = [1, [2, [3, [4, [5]]]]]\n",
    "print(list_of_list)"
   ]
  },
  {
   "cell_type": "markdown",
   "id": "e3d007bc",
   "metadata": {},
   "source": [
    "### La fonction range pour générer une liste d’entiers:"
   ]
  },
  {
   "cell_type": "code",
   "execution_count": 4,
   "id": "c276a00e",
   "metadata": {},
   "outputs": [
    {
     "name": "stdout",
     "output_type": "stream",
     "text": [
      "[10, 12, 14, 16, 18, 20, 22, 24, 26, 28]\n"
     ]
    }
   ],
   "source": [
    "start, stop, step = 10, 30, 2\n",
    "print( list(range(start, stop, step )) )"
   ]
  },
  {
   "cell_type": "markdown",
   "id": "88d5631d",
   "metadata": {},
   "source": [
    "### Intération de n-1 à 0"
   ]
  },
  {
   "cell_type": "code",
   "execution_count": 7,
   "id": "18320cc7",
   "metadata": {},
   "outputs": [
    {
     "name": "stdout",
     "output_type": "stream",
     "text": [
      "[9, 8, 7, 6, 5, 4, 3, 2, 1, 0]\n"
     ]
    }
   ],
   "source": [
    "n = 10\n",
    "print(list(range(n-1, -1, -1)))"
   ]
  },
  {
   "cell_type": "markdown",
   "id": "37c82a66",
   "metadata": {},
   "source": [
    "### convertir une chaine de caractère en liste"
   ]
  },
  {
   "cell_type": "code",
   "execution_count": 8,
   "id": "5ca94019",
   "metadata": {},
   "outputs": [
    {
     "name": "stdout",
     "output_type": "stream",
     "text": [
      "['z', 'a', 'b', 'c', 'd', 'a']\n"
     ]
    }
   ],
   "source": [
    "s = \"zabcda\"\n",
    "l2 = list(s)\n",
    "print(l2)"
   ]
  },
  {
   "cell_type": "markdown",
   "id": "1926e329",
   "metadata": {},
   "source": [
    "## tri"
   ]
  },
  {
   "cell_type": "code",
   "execution_count": 9,
   "id": "9941b5a0",
   "metadata": {},
   "outputs": [
    {
     "name": "stdout",
     "output_type": "stream",
     "text": [
      "['a', 'a', 'b', 'c', 'd', 'z']\n",
      "['z', 'a', 'b', 'c', 'd', 'a']\n",
      "['z', 'd', 'c', 'b', 'a', 'a']\n"
     ]
    }
   ],
   "source": [
    "l3 = list(l2)\n",
    "l2.sort()\n",
    "print(l2)\n",
    "print(l3)\n",
    "print(l2[::-1 ])"
   ]
  },
  {
   "cell_type": "markdown",
   "id": "865a31f2",
   "metadata": {},
   "source": [
    "#### Attention l2.sort() ne renvoie rien c’est-à-dire None"
   ]
  },
  {
   "cell_type": "code",
   "execution_count": 3,
   "id": "79cade72",
   "metadata": {},
   "outputs": [
    {
     "name": "stdout",
     "output_type": "stream",
     "text": [
      "['z', 'a', 'b', 'c', 'd', 'a']\n",
      "None\n",
      "['a', 'a', 'b', 'c', 'd', 'z']\n"
     ]
    }
   ],
   "source": [
    "s = \"zabcda\"\n",
    "l2 = list(s)\n",
    "print(l2)\n",
    "\n",
    "# l2.sort() ne retourne rien, mais modifie la liste originale\n",
    "out = l2.sort()\n",
    "print(out)\n",
    "\n",
    "\n",
    "print(l2)"
   ]
  },
  {
   "cell_type": "markdown",
   "id": "417bc7b1",
   "metadata": {},
   "source": [
    "### Ajout, insertion, modifier, et enlever des éléments d’une liste:\n",
    "\n",
    "#### création d'une liste vide"
   ]
  },
  {
   "cell_type": "code",
   "execution_count": 6,
   "id": "e1feb775",
   "metadata": {
    "scrolled": true
   },
   "outputs": [
    {
     "name": "stdout",
     "output_type": "stream",
     "text": [
      "La fonction append() ne retourne rien: None\n",
      "['A', 'd', 'd']\n",
      "première occurence le la lettre d: 1\n"
     ]
    }
   ],
   "source": [
    "l = []\n",
    "# ajout d'éléments avec `append`\n",
    "\n",
    "# La methode append() ne retourne rien, mais elle modifie la liste\n",
    "print(\"La fonction append() ne retourne rien:\", l.append(\"A\"))\n",
    "l. append(\"d\")\n",
    "l. append(\"d\")\n",
    "print(l)\n",
    "\n",
    "# Recherche de la position d'un element\n",
    "print( \"première occurence le la lettre d:\", l.index('d') )"
   ]
  },
  {
   "cell_type": "markdown",
   "id": "b91d1a30",
   "metadata": {},
   "source": [
    "### Concaténation de listes avec l'opérateur +"
   ]
  },
  {
   "cell_type": "code",
   "execution_count": 7,
   "id": "6a2ae48c",
   "metadata": {},
   "outputs": [
    {
     "name": "stdout",
     "output_type": "stream",
     "text": [
      "concaténation de listes: [1, 2, 3, 4, 5, 6]\n",
      "ajout d'un élément à une liste: [1, 2, 3, [4, 5, 6]]\n"
     ]
    }
   ],
   "source": [
    "lll = [1, 2, 3]\n",
    "mmm = [4, 5, 6]\n",
    "print(\"concaténation de listes:\", lll + mmm) # ajout de 2 listes\n",
    "\n",
    "lll.append(mmm) # ajout d'un element liste a la fin d'une liste\n",
    "print(\"ajout d'un élément à une liste:\", lll)\n"
   ]
  },
  {
   "cell_type": "markdown",
   "id": "a76163e5",
   "metadata": {},
   "source": [
    "### Réplication de listes avec l'opérateur *"
   ]
  },
  {
   "cell_type": "code",
   "execution_count": 9,
   "id": "2bde657f",
   "metadata": {},
   "outputs": [
    {
     "name": "stdout",
     "output_type": "stream",
     "text": [
      "[1, 2, 3, 1, 2, 3, 1, 2, 3]\n"
     ]
    }
   ],
   "source": [
    "lll = [1, 2, 3]\n",
    "\n",
    "print(lll * 3)"
   ]
  },
  {
   "cell_type": "markdown",
   "id": "0ac4e951",
   "metadata": {},
   "source": [
    "### On peut modifier une liste par assignation:"
   ]
  },
  {
   "cell_type": "code",
   "execution_count": 10,
   "id": "d694d9db",
   "metadata": {},
   "outputs": [
    {
     "name": "stdout",
     "output_type": "stream",
     "text": [
      "['A', 'l', 'l']\n",
      "['A', 'p', 'p']\n",
      "['A', 'L', 'L']\n"
     ]
    }
   ],
   "source": [
    "l = list(\"All\")\n",
    "print(l)\n",
    "\n",
    "# remplacer directement des éléments\n",
    "l[1] = \"p\"\n",
    "l[2] = \"p\"\n",
    "print(l)\n",
    "\n",
    "# Affectation d'un troncon de la liste\n",
    "l[1:3] = [\"L\", \"L\"]\n",
    "print(l)"
   ]
  },
  {
   "cell_type": "markdown",
   "id": "6fea722f",
   "metadata": {},
   "source": [
    "### Insertion à un index donné avec insert"
   ]
  },
  {
   "cell_type": "code",
   "execution_count": 16,
   "id": "131666f9",
   "metadata": {},
   "outputs": [
    {
     "name": "stdout",
     "output_type": "stream",
     "text": [
      "['i', 'n', 's', 'e', 'r', 't', ' ', 'A', 'l', 'l']\n"
     ]
    }
   ],
   "source": [
    "l = list(\"All\")\n",
    "\n",
    "l.insert(0, \"i\")\n",
    "l.insert(1, \"n\")\n",
    "l.insert(2, \"s\")\n",
    "l.insert(3, \"e\")\n",
    "l.insert(4, \"r\")\n",
    "l.insert(5, \"t\")\n",
    "l.insert(6, \" \")\n",
    "print(l)"
   ]
  },
  {
   "cell_type": "markdown",
   "id": "512a05c7",
   "metadata": {},
   "source": [
    "#### Suppression d’un élément avec ‘remove’"
   ]
  },
  {
   "cell_type": "code",
   "execution_count": 11,
   "id": "72a281cc",
   "metadata": {},
   "outputs": [
    {
     "name": "stdout",
     "output_type": "stream",
     "text": [
      "['P', 't', 'h', 'o', 'n']\n",
      "[1, 2, 3, 2]\n",
      "[1, 3, 2]\n",
      "True\n",
      "2\n"
     ]
    }
   ],
   "source": [
    "# Suppression d'un élément par sa valeur\n",
    "l = list(\"Python\")\n",
    "l.remove(\"y\")\n",
    "print(l)\n",
    "\n",
    "# Suppression d'un élément par sa valeur\n",
    "ll = [1, 2, 3, 2]\n",
    "print(ll)\n",
    "ll.remove(2)\n",
    "print(ll)\n",
    "\n",
    "# présence d'un élément dans une liste\n",
    "print(2 in ll)\n",
    "\n",
    "# position d'un élément dans la liste\n",
    "print(ll.index(2))"
   ]
  },
  {
   "cell_type": "markdown",
   "id": "cf570cfc",
   "metadata": {},
   "source": [
    "#### Suppression d’un élément à une position donnée avec del:"
   ]
  },
  {
   "cell_type": "code",
   "execution_count": 24,
   "id": "440aa264",
   "metadata": {},
   "outputs": [
    {
     "name": "stdout",
     "output_type": "stream",
     "text": [
      "['P', 'y', 't', 'h', 'o', 'n']\n",
      "['P', 't', 'h', 'n']\n"
     ]
    }
   ],
   "source": [
    "# suppression d'un element par sa position\n",
    "l = list(\"Python\")\n",
    "print(l)\n",
    "del l[4]\n",
    "del l[1]\n",
    "print(l)"
   ]
  },
  {
   "cell_type": "markdown",
   "id": "8f4dfd40",
   "metadata": {},
   "source": [
    "#### Itérations sur une liste"
   ]
  },
  {
   "cell_type": "code",
   "execution_count": 40,
   "id": "301fddae",
   "metadata": {},
   "outputs": [
    {
     "name": "stdout",
     "output_type": "stream",
     "text": [
      "1\n",
      "2\n",
      "3\n",
      "riri\n",
      "fifi\n",
      "loulou\n"
     ]
    }
   ],
   "source": [
    "for x in [1, 2, 3]:\n",
    "    print(x)\n",
    "    \n",
    "for personnage in ['riri', 'fifi', 'loulou']:\n",
    "    print(personnage)"
   ]
  },
  {
   "cell_type": "markdown",
   "id": "de371d72",
   "metadata": {},
   "source": [
    "#### création de liste avec for (list comprehension)\n",
    "\n",
    "https://www.w3schools.com/python/python_lists_comprehension.asp"
   ]
  },
  {
   "cell_type": "code",
   "execution_count": 33,
   "id": "0af6eddd",
   "metadata": {
    "scrolled": true
   },
   "outputs": [
    {
     "name": "stdout",
     "output_type": "stream",
     "text": [
      "[0, 1, 4, 9, 16]\n"
     ]
    }
   ],
   "source": [
    "liste1 = [x ** 2 for x in range(0,5)]\n",
    "print(liste1)"
   ]
  },
  {
   "cell_type": "code",
   "execution_count": 43,
   "id": "97d86c0b",
   "metadata": {},
   "outputs": [
    {
     "name": "stdout",
     "output_type": "stream",
     "text": [
      "[0, 1, 4, 9, 16]\n"
     ]
    }
   ],
   "source": [
    "# est la version courte de :\n",
    "liste2 = list()\n",
    "for x in range(0, 5):\n",
    "    liste2.append(x ** 2)\n",
    "print(liste2)"
   ]
  },
  {
   "cell_type": "markdown",
   "id": "9b7acbe0",
   "metadata": {},
   "source": [
    "#### help(list) pour en savoir plus."
   ]
  },
  {
   "cell_type": "code",
   "execution_count": 25,
   "id": "0c0dd43f",
   "metadata": {},
   "outputs": [
    {
     "name": "stdout",
     "output_type": "stream",
     "text": [
      "Help on class list in module builtins:\n",
      "\n",
      "class list(object)\n",
      " |  list(iterable=(), /)\n",
      " |  \n",
      " |  Built-in mutable sequence.\n",
      " |  \n",
      " |  If no argument is given, the constructor creates a new empty list.\n",
      " |  The argument must be an iterable if specified.\n",
      " |  \n",
      " |  Methods defined here:\n",
      " |  \n",
      " |  __add__(self, value, /)\n",
      " |      Return self+value.\n",
      " |  \n",
      " |  __contains__(self, key, /)\n",
      " |      Return key in self.\n",
      " |  \n",
      " |  __delitem__(self, key, /)\n",
      " |      Delete self[key].\n",
      " |  \n",
      " |  __eq__(self, value, /)\n",
      " |      Return self==value.\n",
      " |  \n",
      " |  __ge__(self, value, /)\n",
      " |      Return self>=value.\n",
      " |  \n",
      " |  __getattribute__(self, name, /)\n",
      " |      Return getattr(self, name).\n",
      " |  \n",
      " |  __getitem__(...)\n",
      " |      x.__getitem__(y) <==> x[y]\n",
      " |  \n",
      " |  __gt__(self, value, /)\n",
      " |      Return self>value.\n",
      " |  \n",
      " |  __iadd__(self, value, /)\n",
      " |      Implement self+=value.\n",
      " |  \n",
      " |  __imul__(self, value, /)\n",
      " |      Implement self*=value.\n",
      " |  \n",
      " |  __init__(self, /, *args, **kwargs)\n",
      " |      Initialize self.  See help(type(self)) for accurate signature.\n",
      " |  \n",
      " |  __iter__(self, /)\n",
      " |      Implement iter(self).\n",
      " |  \n",
      " |  __le__(self, value, /)\n",
      " |      Return self<=value.\n",
      " |  \n",
      " |  __len__(self, /)\n",
      " |      Return len(self).\n",
      " |  \n",
      " |  __lt__(self, value, /)\n",
      " |      Return self<value.\n",
      " |  \n",
      " |  __mul__(self, value, /)\n",
      " |      Return self*value.\n",
      " |  \n",
      " |  __ne__(self, value, /)\n",
      " |      Return self!=value.\n",
      " |  \n",
      " |  __repr__(self, /)\n",
      " |      Return repr(self).\n",
      " |  \n",
      " |  __reversed__(self, /)\n",
      " |      Return a reverse iterator over the list.\n",
      " |  \n",
      " |  __rmul__(self, value, /)\n",
      " |      Return value*self.\n",
      " |  \n",
      " |  __setitem__(self, key, value, /)\n",
      " |      Set self[key] to value.\n",
      " |  \n",
      " |  __sizeof__(self, /)\n",
      " |      Return the size of the list in memory, in bytes.\n",
      " |  \n",
      " |  append(self, object, /)\n",
      " |      Append object to the end of the list.\n",
      " |  \n",
      " |  clear(self, /)\n",
      " |      Remove all items from list.\n",
      " |  \n",
      " |  copy(self, /)\n",
      " |      Return a shallow copy of the list.\n",
      " |  \n",
      " |  count(self, value, /)\n",
      " |      Return number of occurrences of value.\n",
      " |  \n",
      " |  extend(self, iterable, /)\n",
      " |      Extend list by appending elements from the iterable.\n",
      " |  \n",
      " |  index(self, value, start=0, stop=9223372036854775807, /)\n",
      " |      Return first index of value.\n",
      " |      \n",
      " |      Raises ValueError if the value is not present.\n",
      " |  \n",
      " |  insert(self, index, object, /)\n",
      " |      Insert object before index.\n",
      " |  \n",
      " |  pop(self, index=-1, /)\n",
      " |      Remove and return item at index (default last).\n",
      " |      \n",
      " |      Raises IndexError if list is empty or index is out of range.\n",
      " |  \n",
      " |  remove(self, value, /)\n",
      " |      Remove first occurrence of value.\n",
      " |      \n",
      " |      Raises ValueError if the value is not present.\n",
      " |  \n",
      " |  reverse(self, /)\n",
      " |      Reverse *IN PLACE*.\n",
      " |  \n",
      " |  sort(self, /, *, key=None, reverse=False)\n",
      " |      Sort the list in ascending order and return None.\n",
      " |      \n",
      " |      The sort is in-place (i.e. the list itself is modified) and stable (i.e. the\n",
      " |      order of two equal elements is maintained).\n",
      " |      \n",
      " |      If a key function is given, apply it once to each list item and sort them,\n",
      " |      ascending or descending, according to their function values.\n",
      " |      \n",
      " |      The reverse flag can be set to sort in descending order.\n",
      " |  \n",
      " |  ----------------------------------------------------------------------\n",
      " |  Static methods defined here:\n",
      " |  \n",
      " |  __new__(*args, **kwargs) from builtins.type\n",
      " |      Create and return a new object.  See help(type) for accurate signature.\n",
      " |  \n",
      " |  ----------------------------------------------------------------------\n",
      " |  Data and other attributes defined here:\n",
      " |  \n",
      " |  __hash__ = None\n",
      "\n"
     ]
    }
   ],
   "source": [
    "help(list)"
   ]
  },
  {
   "cell_type": "markdown",
   "id": "2f569044",
   "metadata": {},
   "source": [
    "## B - Tuples\n",
    "\n",
    "Les tuples (n-uplets) ressemblent aux listes mais ils sont immuables : ils ne peuvent pas être modifiés une fois créés. On les crée avec la syntaxe (..., ..., ...) ou simplement ..., ...:"
   ]
  },
  {
   "cell_type": "code",
   "execution_count": 25,
   "id": "b8b1e976",
   "metadata": {},
   "outputs": [
    {
     "name": "stdout",
     "output_type": "stream",
     "text": [
      "(10, 20) <class 'tuple'>\n",
      "10 20\n"
     ]
    }
   ],
   "source": [
    "# un tuple est immutable\n",
    "point = (10, 20)\n",
    "print (point, type(point))\n",
    "print(point[0],point[1])"
   ]
  },
  {
   "cell_type": "code",
   "execution_count": 26,
   "id": "02bda680",
   "metadata": {},
   "outputs": [
    {
     "name": "stdout",
     "output_type": "stream",
     "text": [
      "[10, 5] <class 'list'>\n"
     ]
    }
   ],
   "source": [
    "# une liste est mutable\n",
    "p2 = list(point)\n",
    "p2[1] = 5\n",
    "print (p2, type(p2))"
   ]
  },
  {
   "cell_type": "markdown",
   "id": "c787ce42",
   "metadata": {},
   "source": [
    "#### Un tuple peut être dépilé par assignation à une liste de variables séparées par des virgules :"
   ]
  },
  {
   "cell_type": "code",
   "execution_count": 27,
   "id": "847c9afc",
   "metadata": {},
   "outputs": [
    {
     "name": "stdout",
     "output_type": "stream",
     "text": [
      "x = 10\n",
      "y = 20\n"
     ]
    }
   ],
   "source": [
    "x, y = point\n",
    "print (\"x =\", x)\n",
    "print (\"y =\", y)"
   ]
  },
  {
   "cell_type": "markdown",
   "id": "2a89d017",
   "metadata": {},
   "source": [
    "#### On ne peut pas modifier la valeur d'un tuple :"
   ]
  },
  {
   "cell_type": "code",
   "execution_count": 28,
   "id": "a5388a36",
   "metadata": {},
   "outputs": [
    {
     "ename": "TypeError",
     "evalue": "'tuple' object does not support item assignment",
     "output_type": "error",
     "traceback": [
      "\u001b[1;31m---------------------------------------------------------------------------\u001b[0m",
      "\u001b[1;31mTypeError\u001b[0m                                 Traceback (most recent call last)",
      "\u001b[1;32m<ipython-input-28-9734b1daa940>\u001b[0m in \u001b[0;36m<module>\u001b[1;34m\u001b[0m\n\u001b[1;32m----> 1\u001b[1;33m \u001b[0mpoint\u001b[0m\u001b[1;33m[\u001b[0m\u001b[1;36m0\u001b[0m\u001b[1;33m]\u001b[0m \u001b[1;33m=\u001b[0m \u001b[1;36m20\u001b[0m\u001b[1;33m\u001b[0m\u001b[1;33m\u001b[0m\u001b[0m\n\u001b[0m",
      "\u001b[1;31mTypeError\u001b[0m: 'tuple' object does not support item assignment"
     ]
    }
   ],
   "source": [
    "point[0] = 20"
   ]
  },
  {
   "cell_type": "markdown",
   "id": "186ca751",
   "metadata": {},
   "source": [
    "## C - Dictionnaires\n",
    "\n",
    "Ils servent à stocker des données de la forme clé-valeur.\n",
    "\n",
    "La syntaxe pour les dictionnaires est {key1 : value1, key2 : value2,...}:"
   ]
  },
  {
   "cell_type": "code",
   "execution_count": 30,
   "id": "292580dc",
   "metadata": {},
   "outputs": [
    {
     "name": "stdout",
     "output_type": "stream",
     "text": [
      "<class 'dict'>\n",
      "{'longueur': 0.5, 'largeur': 0.4, 'epaisseur': 0.2}\n",
      "longueur = 0.5\n",
      "largeur = 0.4\n",
      "epaisseur = 0.2\n",
      "Volume = 0.040\n"
     ]
    }
   ],
   "source": [
    "dimensions1 = {\n",
    "\"longueur\" : 0.5,\n",
    "\"largeur\" : 0.4,\n",
    "\"epaisseur\" : 0.2\n",
    "}\n",
    "print( type(dimensions1) )\n",
    "print( dimensions1 )\n",
    "print (\"longueur =\", dimensions1[\"longueur\"])\n",
    "print (\"largeur =\", dimensions1[\"largeur\"])\n",
    "print (\"epaisseur =\", dimensions1[\"epaisseur\"])\n",
    "volume = dimensions1[\"longueur\"] * dimensions1[\"largeur\"] * dimensions1[\"epaisseur\"]\n",
    "print( \"Volume = %5.3f\" % volume )"
   ]
  },
  {
   "cell_type": "code",
   "execution_count": 31,
   "id": "d4943fb8",
   "metadata": {},
   "outputs": [
    {
     "name": "stdout",
     "output_type": "stream",
     "text": [
      "{'longueur': 0.7, 'largeur': 0.5, 'epaisseur': 0.3, 'masse_volumique': 7860}\n",
      "masse = 825.3 kg\n"
     ]
    }
   ],
   "source": [
    "# Autre syntaxe\n",
    "dimensions2 = dict(longueur=0.7, largeur=0.5, epaisseur=0.3)\n",
    "dimensions2[\"masse_volumique\"] = 7860 # masse volumique du fer\n",
    "print( dimensions2 )\n",
    "masse = \\\n",
    "dimensions2[\"longueur\"] * \\\n",
    "dimensions2[\"largeur\"] * \\\n",
    "dimensions2[\"epaisseur\"] * \\\n",
    "dimensions2[\"masse_volumique\"]\n",
    "print( \"masse = {} kg\".format(masse) )"
   ]
  },
  {
   "cell_type": "code",
   "execution_count": 32,
   "id": "4e564e49",
   "metadata": {},
   "outputs": [
    {
     "name": "stdout",
     "output_type": "stream",
     "text": [
      "True\n",
      "False\n",
      "{'longueur': 0.7, 'largeur': 0.5, 'epaisseur': 0.3}\n"
     ]
    }
   ],
   "source": [
    "# teste si la clé “masse_volumique” existe dans dimensions2\n",
    "print(\"masse_volumique\" in dimensions2)\n",
    "del dimensions2[\"masse_volumique\"]\n",
    "print(\"masse_volumique\" in dimensions2)\n",
    "print(dimensions2)"
   ]
  },
  {
   "cell_type": "code",
   "execution_count": 1,
   "id": "1c648ecf",
   "metadata": {},
   "outputs": [
    {
     "name": "stdout",
     "output_type": "stream",
     "text": [
      "{'pierre': 15, 'paul': 8, 'jacques': 12}\n",
      "moyenne = 11.67\n"
     ]
    }
   ],
   "source": [
    "notes = {\"pierre\": 15, \"paul\":8, \"jacques\":12}\n",
    "print (notes)\n",
    "total = notes['pierre'] + notes['paul'] + notes['jacques']\n",
    "moyenne = total / len(notes)\n",
    "print(\"moyenne = %5.2f\" % moyenne)"
   ]
  },
  {
   "cell_type": "code",
   "execution_count": 35,
   "id": "f2d4e339",
   "metadata": {},
   "outputs": [
    {
     "name": "stdout",
     "output_type": "stream",
     "text": [
      "langue : ze\n",
      "erreur, langue inconnue\n"
     ]
    }
   ],
   "source": [
    "traduction = {\n",
    "\"fr\": \"Bonjour\",\n",
    "\"gb\": \"Hello\",\n",
    "\"it\": \"Ciao\",\n",
    "}\n",
    "langue = input( \"langue : \")\n",
    "if langue in traduction:\n",
    "    print( traduction[langue] )\n",
    "else :\n",
    "    print( \"erreur, langue inconnue\")"
   ]
  },
  {
   "cell_type": "markdown",
   "id": "b216eab5",
   "metadata": {},
   "source": [
    "#### Itérations sur un dictionnaire"
   ]
  },
  {
   "cell_type": "code",
   "execution_count": 49,
   "id": "55395fa7",
   "metadata": {},
   "outputs": [
    {
     "name": "stdout",
     "output_type": "stream",
     "text": [
      "Méthode 1\n",
      "solide  =  l'eau est en état solide\n",
      "liquide  =  l'eau est en état liquide\n",
      "gazeux  =  l'eau est en état gazeux\n",
      "Méthode 2\n",
      "solide  =  l'eau est en état solide\n",
      "liquide  =  l'eau est en état liquide\n",
      "gazeux  =  l'eau est en état gazeux\n"
     ]
    }
   ],
   "source": [
    "message = {\n",
    "\"solide\": \"l'eau est en état solide\",\n",
    "\"liquide\": \"l'eau est en état liquide\",\n",
    "\"gazeux\": \"l'eau est en état gazeux\",\n",
    "}\n",
    "\n",
    "print(\"Méthode 1\")\n",
    "for key in message:\n",
    "    print ( key, \" = \", message[key] )\n",
    "\n",
    "print(\"Méthode 2\")\n",
    "for key, value in message.items():\n",
    "    print (key, \" = \", value)"
   ]
  },
  {
   "cell_type": "markdown",
   "id": "78f3a922",
   "metadata": {},
   "source": [
    "#### Exercice : compter le nombre d’occurences de chaque charactère dans la chaîne de caractères\n",
    "\n",
    "“HelLo WorLd!!” On renverra un dictionaire qui à la lettre associe son nombre d’occurences."
   ]
  },
  {
   "cell_type": "code",
   "execution_count": 2,
   "id": "5b1b123b",
   "metadata": {},
   "outputs": [
    {
     "name": "stdout",
     "output_type": "stream",
     "text": [
      "{'H': 1, 'e': 1, 'l': 1, 'L': 2, 'o': 2, ' ': 1, 'W': 1, 'r': 1, 'd': 1, '!': 2}\n"
     ]
    }
   ],
   "source": [
    "s = \"HelLo WorLd!!\"\n",
    "\n",
    "occurence = {}\n",
    "\n",
    "for lettre in s:\n",
    "    if lettre in occurence:\n",
    "        occurence[lettre] += 1\n",
    "    else:\n",
    "        occurence[lettre] = 1\n",
    "        \n",
    "print(occurence)"
   ]
  },
  {
   "cell_type": "markdown",
   "id": "9ab29bb9",
   "metadata": {},
   "source": [
    "#### Ecrire un programme de codage et de décodage"
   ]
  },
  {
   "cell_type": "code",
   "execution_count": 1,
   "id": "2f201a61",
   "metadata": {},
   "outputs": [
    {
     "name": "stdout",
     "output_type": "stream",
     "text": [
      "Codage de \"Hello world!\" => \"Hamme wermd!\" \n",
      "Décodage de \"Hamme wermd!\" => \"HHHemlmleeo   wwweeorrrmlddd!!!\" \n"
     ]
    }
   ],
   "source": [
    "# Programme de codage et de decodage\n",
    "\n",
    "def codage( phrase ):\n",
    "    codage = \"\"\n",
    "\n",
    "    for lettre in phrase:\n",
    "        if lettre in code:\n",
    "            codage += code[lettre]\n",
    "        else:\n",
    "            codage += lettre\n",
    "    return(codage)\n",
    "\n",
    "def decodage( phrase ):\n",
    "    decodage = \"\"\n",
    "\n",
    "    for lettre in phrase:\n",
    "        trouve = False\n",
    "        for key in code:\n",
    "            if trouve == False and lettre == code[key]:\n",
    "                decodage += key\n",
    "                trouve = True\n",
    "            if not trouve:\n",
    "                decodage += lettre\n",
    "\n",
    "    return(decodage)\n",
    "\n",
    "code = {'e':'a', 'l':'m', 'o':'e'}\n",
    "s = 'Hello world!'\n",
    "\n",
    "s1 = codage(s)\n",
    "print( \"Codage de \\\"{}\\\" => \\\"{}\\\" \".format(s, s1) )\n",
    "\n",
    "s2 = decodage(s1)\n",
    "print( \"Décodage de \\\"{}\\\" => \\\"{}\\\" \".format(s1, s2) )\n",
    "\n",
    "#Exemple execution:\n",
    "#Codage de \"Hello world!\" => \"Hamme wermd!\"\n",
    "#Décodage de \"Hamme wermd!\" => \"Hello world!\""
   ]
  },
  {
   "cell_type": "code",
   "execution_count": null,
   "id": "b9693571",
   "metadata": {},
   "outputs": [],
   "source": []
  }
 ],
 "metadata": {
  "kernelspec": {
   "display_name": "Python 3",
   "language": "python",
   "name": "python3"
  },
  "language_info": {
   "codemirror_mode": {
    "name": "ipython",
    "version": 3
   },
   "file_extension": ".py",
   "mimetype": "text/x-python",
   "name": "python",
   "nbconvert_exporter": "python",
   "pygments_lexer": "ipython3",
   "version": "3.8.8"
  }
 },
 "nbformat": 4,
 "nbformat_minor": 5
}
