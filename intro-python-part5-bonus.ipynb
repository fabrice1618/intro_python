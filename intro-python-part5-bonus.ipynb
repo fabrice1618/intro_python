{
 "cells": [
  {
   "cell_type": "markdown",
   "id": "fae9303f",
   "metadata": {},
   "source": [
    "# Introduction au langage Python (partie 4) - Bonus\n",
    "\n",
    "## Sommaire\n",
    "\n",
    "- A - Classes\n",
    "- B - Exceptions"
   ]
  },
  {
   "cell_type": "markdown",
   "id": "96d6521b",
   "metadata": {},
   "source": [
    "\n",
    "## A - Classes\n",
    "\n",
    "Les classes sont les éléments centraux de la programmation orientée objet.\n",
    "\n",
    "Une classe est une structure qui sert à représenter un objet et l'ensemble des opérations qui peuvent êtres effectuées sur ce dernier.\n",
    "\n",
    "Dans Python une classe contient des attributs (variables) et des méthodes (fonctions). Elle est définie de manière analogue aux fonctions mais en utilisant le mot clé **class**. La définition d’une classe contient généralement un certain nombre de méthodes de classe (des fonctions dans la classe).\n",
    "\n",
    "Le premier argument d'un méthode doit être self: argument obligatoire. Cet objet self est une auto-référence.\n",
    "\n",
    "Remarque, l'appel d'une méthode de classe peut modifier l'état d'une instance particulière. Cela n'affecte ni les autres instances, ni les variables globales.\n",
    "\n",
    "Certains noms de méthodes ont un sens particulier :\n",
    "\n",
    "- \\__init\\__: nom de la méthode invoquée à la création de l'objet\n",
    "\n",
    "- \\__str\\__ : méthode invoquée lorsque une représentation de la classe sous forme de chaîne de caractères est demandée, par exemple quand la classe est passée à print\n",
    "\n",
    "#### Exemple de classe :"
   ]
  },
  {
   "cell_type": "code",
   "execution_count": 60,
   "id": "b67b409d",
   "metadata": {},
   "outputs": [
    {
     "name": "stdout",
     "output_type": "stream",
     "text": [
      "<class '__main__.Point'>\n",
      "0\n",
      "0\n",
      "Point: [ 0.000000 , 0.000000 ]\n",
      "Point: [ 1.000000 , 1.000000 ]\n"
     ]
    }
   ],
   "source": [
    "class Point (object):\n",
    "    \"\"\"\n",
    "    Classe pour représenter un point dans le plan.\n",
    "    \"\"\"\n",
    "    def __init__(self, x, y):\n",
    "        \"\"\"\n",
    "        Creation d'un nouveau point en position x, y.\n",
    "        \"\"\"\n",
    "        self.x = x\n",
    "        self.y = y\n",
    "        \n",
    "    def translation(self, dx, dy):\n",
    "        \"\"\"\n",
    "        Translation du point de dx et dy.\n",
    "        \"\"\"\n",
    "        self.x += dx\n",
    "        self.y += dy\n",
    "        \n",
    "    def __str__(self):\n",
    "        return \"Point: [ %f , %f ]\" % (self.x, self.y)\n",
    "\n",
    "p1 = Point(x=0, y=0) # appel à __init__\n",
    "print( type(p1) )\n",
    "print( p1.x )\n",
    "print( p1.y )\n",
    "print( \"%s\" % p1 ) # appel à la méthode __str__\n",
    "p1.translation( dx=1, dy=1 )\n",
    "print( p1 )"
   ]
  },
  {
   "cell_type": "markdown",
   "id": "d250d706",
   "metadata": {},
   "source": [
    "#### Pour invoquer une méthode de la classe sur une instance p de celle-ci:"
   ]
  },
  {
   "cell_type": "code",
   "execution_count": 62,
   "id": "6501dbb7",
   "metadata": {},
   "outputs": [
    {
     "name": "stdout",
     "output_type": "stream",
     "text": [
      "Point: [ 1.250000 , 2.500000 ]\n",
      "Point: [ 1.000000 , 1.000000 ]\n"
     ]
    }
   ],
   "source": [
    "p2 = Point(1, 1)\n",
    "p1.translation(0.25, 1.5)\n",
    "print (p1)\n",
    "print (p2)"
   ]
  },
  {
   "cell_type": "markdown",
   "id": "7bb8c5a8",
   "metadata": {},
   "source": [
    "## B - Exceptions\n",
    "\n",
    "Dans Python les erreurs sont gérées à travers des \"Exceptions\". Une erreur provoque une Exception qui interrompt l'exécution normale du programme. L'exécution peut éventuellement reprendre à l'intérieur d'un bloc de code try – except.\n",
    "\n",
    "#### Une utilisation typique: arrêter l'exécution d'une fonction en cas d'erreur"
   ]
  },
  {
   "cell_type": "code",
   "execution_count": 63,
   "id": "6715e89e",
   "metadata": {},
   "outputs": [
    {
     "name": "stdout",
     "output_type": "stream",
     "text": [
      "Votre age est  5\n"
     ]
    },
    {
     "ename": "Exception",
     "evalue": "Erreur: l'age ne peut être négatif",
     "output_type": "error",
     "traceback": [
      "\u001b[1;31m---------------------------------------------------------------------------\u001b[0m",
      "\u001b[1;31mException\u001b[0m                                 Traceback (most recent call last)",
      "\u001b[1;32m<ipython-input-63-43e2b0d7bd68>\u001b[0m in \u001b[0;36m<module>\u001b[1;34m\u001b[0m\n\u001b[0;32m      6\u001b[0m \u001b[1;33m\u001b[0m\u001b[0m\n\u001b[0;32m      7\u001b[0m \u001b[0maffiche_age\u001b[0m\u001b[1;33m(\u001b[0m\u001b[1;36m5\u001b[0m\u001b[1;33m)\u001b[0m\u001b[1;33m\u001b[0m\u001b[1;33m\u001b[0m\u001b[0m\n\u001b[1;32m----> 8\u001b[1;33m \u001b[0maffiche_age\u001b[0m\u001b[1;33m(\u001b[0m\u001b[1;33m-\u001b[0m\u001b[1;36m5\u001b[0m\u001b[1;33m)\u001b[0m\u001b[1;33m\u001b[0m\u001b[1;33m\u001b[0m\u001b[0m\n\u001b[0m",
      "\u001b[1;32m<ipython-input-63-43e2b0d7bd68>\u001b[0m in \u001b[0;36maffiche_age\u001b[1;34m(age)\u001b[0m\n\u001b[0;32m      1\u001b[0m \u001b[1;32mdef\u001b[0m \u001b[0maffiche_age\u001b[0m\u001b[1;33m(\u001b[0m\u001b[0mage\u001b[0m\u001b[1;33m)\u001b[0m\u001b[1;33m:\u001b[0m\u001b[1;33m\u001b[0m\u001b[1;33m\u001b[0m\u001b[0m\n\u001b[0;32m      2\u001b[0m     \u001b[1;32mif\u001b[0m \u001b[0mage\u001b[0m \u001b[1;33m<\u001b[0m \u001b[1;36m0\u001b[0m\u001b[1;33m:\u001b[0m\u001b[1;33m\u001b[0m\u001b[1;33m\u001b[0m\u001b[0m\n\u001b[1;32m----> 3\u001b[1;33m         \u001b[1;32mraise\u001b[0m \u001b[0mException\u001b[0m\u001b[1;33m(\u001b[0m\u001b[1;34m\"Erreur: l'age ne peut être négatif\"\u001b[0m\u001b[1;33m)\u001b[0m\u001b[1;33m\u001b[0m\u001b[1;33m\u001b[0m\u001b[0m\n\u001b[0m\u001b[0;32m      4\u001b[0m     \u001b[1;31m# et on continue\u001b[0m\u001b[1;33m\u001b[0m\u001b[1;33m\u001b[0m\u001b[1;33m\u001b[0m\u001b[0m\n\u001b[0;32m      5\u001b[0m     \u001b[0mprint\u001b[0m\u001b[1;33m(\u001b[0m \u001b[1;34m\"Votre age est \"\u001b[0m\u001b[1;33m,\u001b[0m \u001b[0mage\u001b[0m \u001b[1;33m)\u001b[0m\u001b[1;33m\u001b[0m\u001b[1;33m\u001b[0m\u001b[0m\n",
      "\u001b[1;31mException\u001b[0m: Erreur: l'age ne peut être négatif"
     ]
    }
   ],
   "source": [
    "def affiche_age(age):\n",
    "    if age < 0:\n",
    "        raise Exception(\"Erreur: l'age ne peut être négatif\")\n",
    "    # et on continue\n",
    "    print( \"Votre age est \", age )\n",
    "\n",
    "affiche_age(5)\n",
    "affiche_age(-5)"
   ]
  },
  {
   "cell_type": "code",
   "execution_count": 65,
   "id": "d8835b59",
   "metadata": {},
   "outputs": [
    {
     "name": "stdout",
     "output_type": "stream",
     "text": [
      "Saisir votre age : 5\n",
      "Votre age est  5\n",
      "Saisir votre age : -3\n"
     ]
    },
    {
     "ename": "Exception",
     "evalue": "Erreur: l'age ne peut être négatif",
     "output_type": "error",
     "traceback": [
      "\u001b[1;31m---------------------------------------------------------------------------\u001b[0m",
      "\u001b[1;31mException\u001b[0m                                 Traceback (most recent call last)",
      "\u001b[1;32m<ipython-input-65-85542c91ceb5>\u001b[0m in \u001b[0;36m<module>\u001b[1;34m\u001b[0m\n\u001b[0;32m      3\u001b[0m     \u001b[0msaisie_utilisateur\u001b[0m \u001b[1;33m=\u001b[0m \u001b[0minput\u001b[0m\u001b[1;33m(\u001b[0m\u001b[1;34m\"Saisir votre age : \"\u001b[0m\u001b[1;33m)\u001b[0m\u001b[1;33m\u001b[0m\u001b[1;33m\u001b[0m\u001b[0m\n\u001b[0;32m      4\u001b[0m     \u001b[0mage\u001b[0m \u001b[1;33m=\u001b[0m \u001b[0mint\u001b[0m\u001b[1;33m(\u001b[0m\u001b[0msaisie_utilisateur\u001b[0m\u001b[1;33m)\u001b[0m\u001b[1;33m\u001b[0m\u001b[1;33m\u001b[0m\u001b[0m\n\u001b[1;32m----> 5\u001b[1;33m     \u001b[0maffiche_age\u001b[0m\u001b[1;33m(\u001b[0m\u001b[0mage\u001b[0m\u001b[1;33m)\u001b[0m\u001b[1;33m\u001b[0m\u001b[1;33m\u001b[0m\u001b[0m\n\u001b[0m",
      "\u001b[1;32m<ipython-input-63-43e2b0d7bd68>\u001b[0m in \u001b[0;36maffiche_age\u001b[1;34m(age)\u001b[0m\n\u001b[0;32m      1\u001b[0m \u001b[1;32mdef\u001b[0m \u001b[0maffiche_age\u001b[0m\u001b[1;33m(\u001b[0m\u001b[0mage\u001b[0m\u001b[1;33m)\u001b[0m\u001b[1;33m:\u001b[0m\u001b[1;33m\u001b[0m\u001b[1;33m\u001b[0m\u001b[0m\n\u001b[0;32m      2\u001b[0m     \u001b[1;32mif\u001b[0m \u001b[0mage\u001b[0m \u001b[1;33m<\u001b[0m \u001b[1;36m0\u001b[0m\u001b[1;33m:\u001b[0m\u001b[1;33m\u001b[0m\u001b[1;33m\u001b[0m\u001b[0m\n\u001b[1;32m----> 3\u001b[1;33m         \u001b[1;32mraise\u001b[0m \u001b[0mException\u001b[0m\u001b[1;33m(\u001b[0m\u001b[1;34m\"Erreur: l'age ne peut être négatif\"\u001b[0m\u001b[1;33m)\u001b[0m\u001b[1;33m\u001b[0m\u001b[1;33m\u001b[0m\u001b[0m\n\u001b[0m\u001b[0;32m      4\u001b[0m     \u001b[1;31m# et on continue\u001b[0m\u001b[1;33m\u001b[0m\u001b[1;33m\u001b[0m\u001b[1;33m\u001b[0m\u001b[0m\n\u001b[0;32m      5\u001b[0m     \u001b[0mprint\u001b[0m\u001b[1;33m(\u001b[0m \u001b[1;34m\"Votre age est \"\u001b[0m\u001b[1;33m,\u001b[0m \u001b[0mage\u001b[0m \u001b[1;33m)\u001b[0m\u001b[1;33m\u001b[0m\u001b[1;33m\u001b[0m\u001b[0m\n",
      "\u001b[1;31mException\u001b[0m: Erreur: l'age ne peut être négatif"
     ]
    }
   ],
   "source": [
    "age = 999\n",
    "while ( age != 0 ):\n",
    "    saisie_utilisateur = input(\"Saisir votre age : \")\n",
    "    age = int(saisie_utilisateur)\n",
    "    affiche_age(age)"
   ]
  },
  {
   "cell_type": "markdown",
   "id": "f4408911",
   "metadata": {},
   "source": [
    "#### On utilise try et expect pour maîtriser les erreurs:"
   ]
  },
  {
   "cell_type": "code",
   "execution_count": 66,
   "id": "3fa8ae59",
   "metadata": {},
   "outputs": [
    {
     "name": "stdout",
     "output_type": "stream",
     "text": [
      "Saisir votre age : -2\n",
      "Erreur: age incorrect.\n",
      "Saisir votre age : 0\n",
      "Votre age est  0\n"
     ]
    }
   ],
   "source": [
    "age = 999\n",
    "while ( age != 0 ):\n",
    "    saisie_utilisateur = input(\"Saisir votre age : \")\n",
    "    age = int(saisie_utilisateur)\n",
    "    try:\n",
    "        affiche_age(age)\n",
    "    except:\n",
    "        print(\"Erreur: age incorrect.\")"
   ]
  },
  {
   "cell_type": "markdown",
   "id": "26de0454",
   "metadata": {},
   "source": [
    "#### Pour obtenir de l’information sur l’erreur: accéder à l’instance de la classe Exception concernée:"
   ]
  },
  {
   "cell_type": "code",
   "execution_count": 67,
   "id": "f7f2fec8",
   "metadata": {},
   "outputs": [
    {
     "name": "stdout",
     "output_type": "stream",
     "text": [
      "Une exception à été générée: Erreur: l'age ne peut être négatif\n"
     ]
    }
   ],
   "source": [
    "try:\n",
    "    affiche_age(-3)\n",
    "except Exception as e:\n",
    "    print (\"Une exception à été générée:\", e)\n"
   ]
  },
  {
   "cell_type": "code",
   "execution_count": null,
   "id": "b9693571",
   "metadata": {},
   "outputs": [],
   "source": []
  }
 ],
 "metadata": {
  "kernelspec": {
   "display_name": "Python 3",
   "language": "python",
   "name": "python3"
  },
  "language_info": {
   "codemirror_mode": {
    "name": "ipython",
    "version": 3
   },
   "file_extension": ".py",
   "mimetype": "text/x-python",
   "name": "python",
   "nbconvert_exporter": "python",
   "pygments_lexer": "ipython3",
   "version": "3.8.8"
  }
 },
 "nbformat": 4,
 "nbformat_minor": 5
}
