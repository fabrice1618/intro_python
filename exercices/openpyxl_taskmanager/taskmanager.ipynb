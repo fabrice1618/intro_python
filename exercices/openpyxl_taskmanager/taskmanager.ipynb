{
 "cells": [
  {
   "cell_type": "markdown",
   "metadata": {},
   "source": [
    "# Création de taskmanager\n",
    "\n",
    "Gestionnaire de tâches par livrables. Les données sont stockées dans un fichier excel\n",
    "\n",
    "**Structure des données:**\n",
    "\n",
    "__Livrables:__\n",
    "- id: identifiant livrable\n",
    "- titre\n",
    "- description\n",
    "\n",
    "__Taches:__\n",
    "- id: identifiant taches\n",
    "- titre\n",
    "- description\n",
    "- id_livrable: identifiant du livrable associé\n",
    "- date début\n",
    "- date fin\n",
    "- priorité: de 1 à 5\n",
    "- commentaires\n",
    "- statut: ouvert, terminé, en_cours, bloqué\n",
    "        "
   ]
  },
  {
   "cell_type": "markdown",
   "metadata": {},
   "source": [
    "## 1 - Présentation de openpyxl\n",
    "\n",
    "\n",
    "openpyxl est une bibliothèque Python puissante et largement utilisée pour lire, écrire et modifier des fichiers Excel aux formats .xlsx et .xlsm. Elle permet de :\n",
    "\n",
    "- Créer des fichiers Excel avec des feuilles multiples.\n",
    "- Lire et modifier des cellules (valeurs, styles, formules, etc.).\n",
    "- Gérer des fonctionnalités avancées comme les graphiques, les tableaux croisés dynamiques et les commentaires.\n",
    "- Manipuler des styles (police, bordures, alignement) et appliquer des formats conditionnels.\n",
    "- Travailler avec des fichiers Excel sans avoir besoin de Microsoft Excel.\n",
    "\n",
    "C'est un outil idéal pour automatiser les tâches Excel directement depuis un script Python.\n",
    "\n",
    "### Points forts de openpyxl\n",
    "\n",
    "- Manipulation complète : Lecture, écriture et modification de fichiers Excel, y compris les styles et formules.\n",
    "- Fiabilité : Support actif et mise à jour régulière pour les formats modernes d’Excel.\n",
    "- Polyvalence : Peut être utilisé pour des automatisations simples ou des manipulations complexes.\n",
    "\n",
    "### Quand choisir openpyxl ?\n",
    "\n",
    "- Lorsque vous devez modifier un fichier Excel existant.\n",
    "- Si vous avez besoin de gérer des caractéristiques avancées comme les graphiques et les tableaux croisés.\n",
    "- Pour créer et styliser des feuilles Excel depuis zéro.\n",
    "\n",
    "### Alternatives principales\n",
    "\n",
    "- pandas :\n",
    "    - Excellent pour l'analyse de données et la conversion entre Excel et d'autres formats.\n",
    "    - Limité à la lecture/écriture simple ; pas de modification ou de stylisation.\n",
    "    - Idéal pour des utilisateurs ayant besoin d'un traitement rapide des données.\n",
    "\n",
    "- xlsxwriter :\n",
    "  - Parfait pour créer des fichiers Excel complexes avec des graphiques, formules et formats avancés.\n",
    "  - Ne prend pas en charge la modification de fichiers existants.\n",
    "\n",
    "- pyxlsb :\n",
    "  - Spécialisé dans les fichiers .xlsb (Excel binaire), avec des performances optimales pour les gros fichiers.\n",
    "  - Limité à la lecture uniquement.\n",
    "\n",
    "- xlrd (déprécié pour .xlsx) :\n",
    "  - Principalement utilisé pour les anciens fichiers Excel au format .xls.\n",
    "\n",
    "En conclusion, openpyxl est la bibliothèque de référence si vous avez besoin de manipuler des fichiers Excel modernes de manière complète et flexible.\n"
   ]
  },
  {
   "cell_type": "markdown",
   "metadata": {},
   "source": [
    "## 2 - Configuration de l'application taskmanager\n",
    "\n",
    "Chargement des modules et configuration"
   ]
  },
  {
   "cell_type": "code",
   "execution_count": 1,
   "metadata": {},
   "outputs": [],
   "source": [
    "from openpyxl import load_workbook, Workbook\n",
    "\n",
    "# Configuration\n",
    "XLSX_FILE = \"taskmanager.xlsx\"\n"
   ]
  },
  {
   "cell_type": "markdown",
   "metadata": {},
   "source": [
    "## 3 - Hello excel\n",
    "\n",
    "Création d'un classeur hello.xlsx dans le dossier courant"
   ]
  },
  {
   "cell_type": "code",
   "execution_count": 2,
   "metadata": {},
   "outputs": [
    {
     "name": "stdout",
     "output_type": "stream",
     "text": [
      "Le texte a été écrit dans hello.xlsx, cellule A1.\n"
     ]
    }
   ],
   "source": [
    "file_name = \"hello.xlsx\"\n",
    "\n",
    "# Créer un nouveau classeur (workbook)\n",
    "classeur = Workbook()\n",
    "\n",
    "# Sélectionner la feuille active (par défaut, la première feuille)\n",
    "feuille = classeur.active\n",
    "\n",
    "# Écrire dans la cellule A1\n",
    "feuille[\"A1\"] = \"Hello Excel!\"\n",
    "\n",
    "# Sauvegarder le fichier Excel\n",
    "classeur.save(file_name)\n",
    "print(f\"Le texte a été écrit dans {file_name}, cellule A1.\")\n"
   ]
  },
  {
   "cell_type": "markdown",
   "metadata": {},
   "source": [
    "## 4 - Fonctions de lecture et de sauvegarde du classeur\n",
    "\n",
    "Nous définissons nos fonctions pour lire et écrire un classeur excel. La fonction de lecture permet de lire les données dans le fichier xlsx et de retourner à python des données utilisables."
   ]
  },
  {
   "cell_type": "code",
   "execution_count": 6,
   "metadata": {},
   "outputs": [],
   "source": [
    "# Fonction pour ouvrir le fichier Excel\n",
    "def lire_classeur(file_name):\n",
    "    \"\"\"\n",
    "    Ouvre un fichier Excel existant ou en crée un nouveau s'il n'existe pas.\n",
    "    \n",
    "    Args:\n",
    "        file_name (str): Nom du fichier Excel à ouvrir.\n",
    "    \n",
    "    Returns:\n",
    "        Workbook: Objet Workbook du fichier ouvert.\n",
    "    \"\"\"\n",
    "    try:\n",
    "        # Charger le fichier existant\n",
    "        wb = load_workbook(file_name)\n",
    "    except FileNotFoundError:\n",
    "        # Créer un nouveau fichier s'il n'existe pas\n",
    "        wb = Workbook()\n",
    "        print(f\"Fichier '{file_name}' non trouvé. Un nouveau fichier a été créé.\")\n",
    "    return wb\n",
    "\n",
    "# Fonction pour fermer et sauvegarder le fichier Excel\n",
    "def enregistrer_classeur(wb, file_name):\n",
    "    \"\"\"\n",
    "    Ferme et sauvegarde un fichier Excel.\n",
    "    \n",
    "    Args:\n",
    "        wb (Workbook): Objet Workbook à sauvegarder.\n",
    "        file_name (str): Nom du fichier Excel où sauvegarder les données.\n",
    "    \"\"\"\n",
    "    # Sauvegarder les modifications\n",
    "    wb.save(file_name)\n"
   ]
  },
  {
   "cell_type": "markdown",
   "metadata": {},
   "source": [
    "Test des fonctions en créant notre classeur taskmanager.xlsx"
   ]
  },
  {
   "cell_type": "code",
   "execution_count": 10,
   "metadata": {},
   "outputs": [
    {
     "name": "stdout",
     "output_type": "stream",
     "text": [
      "Fichier 'taskmanager.xlsx' non trouvé. Un nouveau fichier a été créé.\n",
      "Le texte a été écrit dans taskmanager.xlsx, cellule A1.\n"
     ]
    }
   ],
   "source": [
    "classeur = lire_classeur(XLSX_FILE)\n",
    "\n",
    "# Sélectionner la feuille active (par défaut, la première feuille)\n",
    "feuille = classeur.active\n",
    "\n",
    "# Écrire dans la cellule A1\n",
    "feuille[\"A1\"] = \"Hello Taskmanager!\"\n",
    "\n",
    "# Sauvegarder le fichier Excel\n",
    "enregistrer_classeur(classeur, XLSX_FILE)\n",
    "\n",
    "print(f\"Le texte a été écrit dans {XLSX_FILE}, cellule A1.\")\n"
   ]
  },
  {
   "cell_type": "markdown",
   "metadata": {},
   "source": [
    "## 5 - Configuration classeur taskmanager.xlsx\n",
    "\n",
    "Ajout de 2 feuilles dans notre classeur et ajout des entêtes"
   ]
  },
  {
   "cell_type": "code",
   "execution_count": 12,
   "metadata": {},
   "outputs": [
    {
     "name": "stdout",
     "output_type": "stream",
     "text": [
      "Le classeur est vierge\n",
      "Les en-têtes sont ajoutées.\n",
      "Le classeur taskmanager.xlsx est enregistré.\n"
     ]
    }
   ],
   "source": [
    "classeur = lire_classeur(XLSX_FILE)\n",
    "\n",
    "# Sélectionner la feuille active\n",
    "feuille = classeur.active\n",
    "\n",
    "if len(classeur.sheetnames) == 1 and feuille.title == \"Sheet\":\n",
    "    print(\"Le classeur est vierge\")\n",
    "    feuille.title = \"Accueil\"\n",
    "\n",
    "    # Écrire dans la cellule A1\n",
    "    feuille[\"A1\"] = \"Hello Taskmanager!\"\n",
    "\n",
    "    # Ajouter deux nouvelles feuilles : \"livrables\" et \"taches\"\n",
    "    classeur.create_sheet(title=\"livrables\")\n",
    "    classeur.create_sheet(title=\"taches\")\n",
    "\n",
    "    # Ajouter les en-têtes à la feuille \"livrables\"\n",
    "    feuille_livrables = classeur[\"livrables\"]\n",
    "    feuille_livrables.append([\n",
    "        \"id\", \n",
    "        \"titre\", \n",
    "        \"description\"\n",
    "        ])\n",
    "\n",
    "    # Ajouter les en-têtes à la feuille \"taches\"\n",
    "    feuille_taches = classeur[\"taches\"]\n",
    "    feuille_taches.append([\n",
    "        \"id\", \n",
    "        \"titre\", \n",
    "        \"description\", \n",
    "        \"id_livrable\", \n",
    "        \"date début\", \n",
    "        \"date fin\", \n",
    "        \"priorité\", \n",
    "        \"commentaires\", \n",
    "        \"statut\"\n",
    "        ])\n",
    "    print(\"Les en-têtes sont ajoutées.\")\n",
    "\n",
    "    # Sauvegarder le fichier Excel\n",
    "    enregistrer_classeur(classeur, XLSX_FILE)\n",
    "    print(f\"Le classeur {XLSX_FILE} est enregistré.\")\n",
    "else:\n",
    "    print(\"Le classeur n'est pas vierge. Il n'a pas été modifié\")\n"
   ]
  },
  {
   "cell_type": "markdown",
   "metadata": {},
   "source": [
    "## 6 - Chargement et enregistrement des données\n",
    "\n",
    "Fonctions pour charger et sauvegarder les données livrables et taches dans les feuilles excel"
   ]
  },
  {
   "cell_type": "code",
   "execution_count": 13,
   "metadata": {},
   "outputs": [],
   "source": [
    "# Fonction pour charger les livrables\n",
    "def charger_livrables(wb):\n",
    "    if not \"livrables\" in wb.sheetnames:\n",
    "        raise RuntimeError(\"Erreur: feuille 'livrables' inexistante\")\n",
    "\n",
    "    feuille_livrables = wb[\"livrables\"]\n",
    "    livrables = []\n",
    "    for row in feuille_livrables.iter_rows(min_row=2, values_only=True):\n",
    "        livrables.append({\n",
    "            \"id\": row[0],\n",
    "            \"titre\": row[1],\n",
    "            \"description\": row[2],\n",
    "            })\n",
    "\n",
    "    return livrables\n",
    "\n",
    "# Fonction pour charger les tâches\n",
    "def charger_taches(wb):\n",
    "    if not \"taches\" in wb.sheetnames:\n",
    "        raise RuntimeError(\"Erreur: feuille 'taches' inexistante\")\n",
    "\n",
    "    feuille_taches = wb[\"taches\"]\n",
    "    taches = []\n",
    "    for row in feuille_taches.iter_rows(min_row=2, values_only=True):\n",
    "        taches.append({\n",
    "            \"id\": row[0],\n",
    "            \"titre\": row[1],\n",
    "            \"description\": row[2],\n",
    "            \"id_livrable\": row[3],\n",
    "            \"date_debut\": row[4],\n",
    "            \"date_fin\": row[5],\n",
    "            \"priorite\": row[6],\n",
    "            \"commentaires\": row[7],\n",
    "            \"statut\": row[8],\n",
    "            })\n",
    "\n",
    "    return taches\n",
    "\n",
    "# Fonction pour sauvegarder les livrables\n",
    "def sauvegarder_livrables(wb, livrables):\n",
    "    if not \"livrables\" in wb.sheetnames:\n",
    "        raise RuntimeError(\"Erreur: feuille 'livrables' inexistante\")\n",
    "\n",
    "    feuille_livrables = wb[\"livrables\"]\n",
    "    # Supprimer les anciennes données\n",
    "    feuille_livrables.delete_rows(2, feuille_livrables.max_row)  \n",
    "\n",
    "    for livrable in livrables:\n",
    "        feuille_livrables.append([\n",
    "            livrable[\"id\"], \n",
    "            livrable[\"titre\"], \n",
    "            livrable[\"description\"\n",
    "            ]])\n",
    "\n",
    "# Fonction pour sauvegarder les tâches\n",
    "def sauvegarder_taches(wb, taches):\n",
    "    if not \"taches\" in wb.sheetnames:\n",
    "        raise RuntimeError(\"Erreur: feuille 'taches' inexistante\")\n",
    "    \n",
    "    feuille_taches = wb[\"taches\"]\n",
    "    # Supprimer les anciennes données\n",
    "    feuille_taches.delete_rows(2, feuille_taches.max_row)  \n",
    "\n",
    "    # Ajouter les en-têtes pour tâches\n",
    "    for tache in taches:\n",
    "        feuille_taches.append([\n",
    "            tache[\"id\"], \n",
    "            tache[\"titre\"], \n",
    "            tache[\"description\"], \n",
    "            tache[\"id_livrable\"],\n",
    "            tache[\"date_debut\"], \n",
    "            tache[\"date_fin\"], \n",
    "            tache[\"priorite\"],\n",
    "            tache[\"commentaires\"], \n",
    "            tache[\"statut\"]\n",
    "        ])\n"
   ]
  },
  {
   "cell_type": "markdown",
   "metadata": {},
   "source": [
    "Exemple ajout de données dans le fichier excel en utilisant nos fonctions"
   ]
  },
  {
   "cell_type": "code",
   "execution_count": 16,
   "metadata": {},
   "outputs": [
    {
     "name": "stdout",
     "output_type": "stream",
     "text": [
      "[{'id': 1, 'titre': 'exemple', 'description': 'exemple de livrable'}, {'id': 1, 'titre': 'exemple', 'description': 'exemple de livrable'}, {'id': 1, 'titre': 'exemple', 'description': 'exemple de livrable'}]\n",
      "[{'id': 1, 'titre': 'exemple tache', 'description': 'Description de exemple tache', 'id_livrable': 1, 'date_debut': '01-01-2024', 'date_fin': '14/02/2024', 'priorite': 1, 'commentaires': 'commentaire', 'statut': 'ouvert'}, {'id': 1, 'titre': 'exemple tache', 'description': 'Description de exemple tache', 'id_livrable': 1, 'date_debut': '01-01-2024', 'date_fin': '14/02/2024', 'priorite': 1, 'commentaires': 'commentaire', 'statut': 'ouvert'}, {'id': 1, 'titre': 'exemple tache', 'description': 'Description de exemple tache', 'id_livrable': 1, 'date_debut': '01-01-2024', 'date_fin': '14/02/2024', 'priorite': 1, 'commentaires': 'commentaire', 'statut': 'ouvert'}]\n",
      "Le classeur taskmanager.xlsx est enregistré.\n"
     ]
    }
   ],
   "source": [
    "classeur = lire_classeur(XLSX_FILE)\n",
    "\n",
    "# Charger les données\n",
    "livrables = charger_livrables(classeur)\n",
    "taches = charger_taches(classeur)\n",
    "\n",
    "# Ajouter des données dans le fichier\n",
    "livrable = { \n",
    "    \"id\": 1,\n",
    "    \"titre\": \"exemple\",\n",
    "    \"description\": \"exemple de livrable\",\n",
    "    }\n",
    "\n",
    "tache = {\n",
    "    \"id\": 1,\n",
    "    \"titre\": \"exemple tache\",\n",
    "    \"description\": \"Description de exemple tache\",\n",
    "    \"id_livrable\": 1,\n",
    "    \"date_debut\": \"01-01-2024\",\n",
    "    \"date_fin\": \"14/02/2024\",\n",
    "    \"priorite\": 1,\n",
    "    \"commentaires\": \"commentaire\",\n",
    "    \"statut\": \"ouvert\",\n",
    "    }\n",
    "\n",
    "livrables.append(livrable)\n",
    "taches.append(tache)\n",
    "\n",
    "print(livrables)\n",
    "print(taches)\n",
    "\n",
    "# Transférer les données dans excel\n",
    "sauvegarder_livrables(classeur, livrables)\n",
    "sauvegarder_taches(classeur, taches)\n",
    "\n",
    "# Sauvegarder le fichier Excel\n",
    "enregistrer_classeur(classeur, XLSX_FILE)\n",
    "print(f\"Le classeur {XLSX_FILE} est enregistré.\")\n"
   ]
  },
  {
   "cell_type": "markdown",
   "metadata": {},
   "source": [
    "## 7 - Lister les données\n",
    "\n",
    "Fonctions permettant de lister les données"
   ]
  },
  {
   "cell_type": "code",
   "execution_count": null,
   "metadata": {},
   "outputs": [],
   "source": [
    "def repr_livrable(livrable):\n",
    "    \"\"\" Fonction permettant de représenter un livrable\n",
    "    \"\"\"\n",
    "    print(f\"Livrable(id: {livrable['id']}, titre: {livrable['titre']}, description: {livrable['description']})\")\n",
    "\n",
    "def repr_tache(tache):\n",
    "    \"\"\" Fonction permettant de représenter une tâche\n",
    "    \"\"\"\n",
    "    print( f\"Tache(id:{tache['id']}, titre:{tache['titre']}, description:{tache['description']}, id_livrable:{tache['id_livrable']}, date_debut:{tache['date_debut']}, date_fin:{tache['date_fin']}, priorite:{tache['priorite']}, commentaires:{tache['commentaires']}, statut:{tache['statut']})\" )\n",
    "\n",
    "def lister_livrables_option(livrables):\n",
    "    \"\"\" Fonction permettant de représenter les livrables avec id et titre seulement\n",
    "    \"\"\"\n",
    "    for livrable in livrables:\n",
    "        print(f\"{livrable['id']} - {livrable['titre']}\")\n",
    "\n",
    "def lister_livrables(livrables):\n",
    "    for livrable in livrables:\n",
    "        repr_livrable(livrable)\n",
    "\n",
    "def lister_taches(taches):\n",
    "    # Ajouter les en-têtes pour tâches\n",
    "    for tache in taches:\n",
    "        repr_tache(tache)\n"
   ]
  },
  {
   "cell_type": "code",
   "execution_count": 28,
   "metadata": {},
   "outputs": [
    {
     "name": "stdout",
     "output_type": "stream",
     "text": [
      "Livrable(id: 1, titre: exemple, description: exemple de livrable)\n",
      "Livrable(id: 1, titre: exemple, description: exemple de livrable)\n",
      "Livrable(id: 1, titre: exemple, description: exemple de livrable)\n",
      "Tache(id:1, titre:exemple tache, description:Description de exemple tache, id_livrable:1, date_debut:01-01-2024, date_fin:14/02/2024, priorite:1, commentaires:commentaire, statut:ouvert)\n",
      "Tache(id:1, titre:exemple tache, description:Description de exemple tache, id_livrable:1, date_debut:01-01-2024, date_fin:14/02/2024, priorite:1, commentaires:commentaire, statut:ouvert)\n",
      "Tache(id:1, titre:exemple tache, description:Description de exemple tache, id_livrable:1, date_debut:01-01-2024, date_fin:14/02/2024, priorite:1, commentaires:commentaire, statut:ouvert)\n",
      "1 - exemple\n",
      "1 - exemple\n",
      "1 - exemple\n"
     ]
    }
   ],
   "source": [
    "lister_livrables(livrables)\n",
    "lister_taches(taches)\n",
    "lister_livrables_option(livrables)"
   ]
  },
  {
   "cell_type": "markdown",
   "metadata": {},
   "source": [
    "## 8 - Saisie des données\n",
    "\n",
    "écran de saisie de livrable et de taches"
   ]
  },
  {
   "cell_type": "code",
   "execution_count": 36,
   "metadata": {},
   "outputs": [],
   "source": [
    "def saisie_livrable():\n",
    "    input_id = int(input(\"id : \"))\n",
    "    input_titre = input(\"titre : \")\n",
    "    input_description = input(\"description : \")\n",
    "\n",
    "    return {\n",
    "        \"id\": input_id,\n",
    "        \"title\": input_titre,\n",
    "        \"description\": input_description\n",
    "    }\n",
    "\n",
    "def saisie_tache():\n",
    "    input_id = int(input(\"id : \"))\n",
    "    input_titre = input(\"titre : \")\n",
    "    input_description = input(\"description : \")\n",
    "    input_id_livrable = int(input(\"id livrable : \"))\n",
    "    input_date_debut = input(\"date_debut : \")\n",
    "    input_date_fin = input(\"date_fin : \")\n",
    "    input_priorite = int(input(\"priorite : \"))\n",
    "    input_commentaires = input(\"commentaires : \")\n",
    "    input_statut = input(\"statut : \")\n",
    "\n",
    "    return {\n",
    "        \"id\": input_id, \n",
    "        \"title\": input_titre, \n",
    "        \"description\": input_description, \n",
    "        \"id_livrable\": input_id_livrable, \n",
    "        \"date_debut\": input_date_debut, \n",
    "        \"date_fin\": input_date_fin, \n",
    "        \"priorite\": input_priorite, \n",
    "        \"commentaires\": input_commentaires, \n",
    "        \"statut\": input_statut\n",
    "        }\n"
   ]
  },
  {
   "cell_type": "code",
   "execution_count": 37,
   "metadata": {},
   "outputs": [
    {
     "name": "stdout",
     "output_type": "stream",
     "text": [
      "{'id': 1, 'title': 'ttt', 'description': '36'}\n",
      "{'id': 1, 'title': 'tttttt', 'description': 'yyyyy', 'id_livrable': 1, 'date_debut': '', 'date_fin': '', 'priorite': 2, 'commentaires': '', 'statut': ''}\n"
     ]
    }
   ],
   "source": [
    "liv = saisie_livrable()\n",
    "print(liv)\n",
    "\n",
    "tac = saisie_tache()\n",
    "print(tac)"
   ]
  },
  {
   "cell_type": "markdown",
   "metadata": {},
   "source": [
    "## 9 - Valider les informations\n",
    "\n",
    "- Définir les règles pour valider les informations individuelement (dates, statut)\n",
    "- Définir les regles permettant de valider un livrable, une tache et les lien entre eux\n",
    "- écrire le code correspondant"
   ]
  },
  {
   "cell_type": "code",
   "execution_count": null,
   "metadata": {},
   "outputs": [],
   "source": []
  },
  {
   "cell_type": "markdown",
   "metadata": {},
   "source": [
    "## 10 - Modification des données"
   ]
  },
  {
   "cell_type": "code",
   "execution_count": null,
   "metadata": {},
   "outputs": [],
   "source": []
  },
  {
   "cell_type": "markdown",
   "metadata": {},
   "source": [
    "## 11 - Effacement de données"
   ]
  },
  {
   "cell_type": "code",
   "execution_count": null,
   "metadata": {},
   "outputs": [],
   "source": []
  },
  {
   "cell_type": "markdown",
   "metadata": {},
   "source": [
    "## 12 - Affichage des tâches à réaliser\n",
    "\n",
    "Grouper les tâches par livrables et trier les tâches par date de début"
   ]
  },
  {
   "cell_type": "code",
   "execution_count": null,
   "metadata": {},
   "outputs": [],
   "source": []
  }
 ],
 "metadata": {
  "kernelspec": {
   "display_name": "Python 3",
   "language": "python",
   "name": "python3"
  },
  "language_info": {
   "codemirror_mode": {
    "name": "ipython",
    "version": 3
   },
   "file_extension": ".py",
   "mimetype": "text/x-python",
   "name": "python",
   "nbconvert_exporter": "python",
   "pygments_lexer": "ipython3",
   "version": "3.8.10"
  }
 },
 "nbformat": 4,
 "nbformat_minor": 2
}
