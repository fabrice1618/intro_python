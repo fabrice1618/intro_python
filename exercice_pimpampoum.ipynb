{
 "cells": [
  {
   "cell_type": "markdown",
   "metadata": {},
   "source": [
    "## Exercice pim pam poum\n",
    "\n",
    "Cette exercice est donné lors de certains entretiens d'embauche pour une durée de 20 minutes. Comme cet exercice est facile, on s'attends à ce que vous donniez une solution originale.\n",
    "\n",
    "Ecrire un programme qui pour tous les nombres entre 1 et 20:\n",
    "    - si le nombre est divisible par 2 afficher 'pim'\n",
    "    - si le nombre est divisible par 3 afficher 'pam'\n",
    "    - si le nombre est divisible par 5 afficher 'poum'\n",
    "    - si le nombre n'est divisible par aucun des 3, ne rien afficher\n",
    "\n",
    "Vous devriez obtenir la sortie suivante:\n",
    "- 1\n",
    "- 2 pim\n",
    "- 3 pam\n",
    "- 4 pim\n",
    "- 5 poum\n",
    "- 6 pim pam\n",
    "- 7\n",
    "- 8 pim\n",
    "- 9 pam\n",
    "- 10 pim poum\n",
    "- 11\n",
    "- 12 pim pam\n",
    "- 13\n",
    "- 14 pim\n",
    "- 15 pam poum\n",
    "- 16 pim\n",
    "- 17\n",
    "- 18 pim pam\n",
    "- 19\n",
    "- 20 pim poum\n"
   ]
  },
  {
   "cell_type": "code",
   "execution_count": null,
   "metadata": {},
   "outputs": [],
   "source": []
  }
 ],
 "metadata": {
  "kernelspec": {
   "display_name": "Python 3",
   "language": "python",
   "name": "python3"
  },
  "language_info": {
   "codemirror_mode": {
    "name": "ipython",
    "version": 3
   },
   "file_extension": ".py",
   "mimetype": "text/x-python",
   "name": "python",
   "nbconvert_exporter": "python",
   "pygments_lexer": "ipython3",
   "version": "3.8.8"
  }
 },
 "nbformat": 4,
 "nbformat_minor": 4
}
