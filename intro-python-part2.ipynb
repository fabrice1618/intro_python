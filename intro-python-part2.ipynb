{
 "cells": [
  {
   "cell_type": "markdown",
   "id": "fae9303f",
   "metadata": {},
   "source": [
    "# Introduction au langage Python (partie 2) - Structures de contrôle\n",
    "\n",
    "## Sommaire\n",
    "\n",
    "- A - Conditionnelle: if\n",
    "- B - Itératif : while\n",
    "- C - Itératif : for\n",
    "- D - Les fonctions"
   ]
  },
  {
   "cell_type": "markdown",
   "id": "2dbad2c5",
   "metadata": {},
   "source": [
    "## A - Conditionnelle: if\n",
    "\n",
    "### if : si / elif : sinon si, contraction de “else if” / else : sinon"
   ]
  },
  {
   "cell_type": "code",
   "execution_count": 36,
   "id": "75d470d5",
   "metadata": {},
   "outputs": [
    {
     "name": "stdout",
     "output_type": "stream",
     "text": [
      "b est strictement inférieur à a\n"
     ]
    }
   ],
   "source": [
    "a = 3\n",
    "b = 2\n",
    "if a < b:\n",
    "    print(\"a est strictement inférieur à b\")\n",
    "elif a > b:\n",
    "    print(\"b est strictement inférieur à a\")\n",
    "else :\n",
    "    print(\"b est égal à a\")"
   ]
  },
  {
   "cell_type": "code",
   "execution_count": 37,
   "id": "61693944",
   "metadata": {},
   "outputs": [
    {
     "name": "stdout",
     "output_type": "stream",
     "text": [
      "à 25 °C, l'eau est en état liquide\n"
     ]
    }
   ],
   "source": [
    "temperature = 25\n",
    "\n",
    "eau_etat_solide = ( temperature < 0 )\n",
    "eau_etat_gazeux = ( temperature >= 100 )\n",
    "\n",
    "if eau_etat_solide is True:\n",
    "    print( \"à {} °C, l'eau est en état solide\".format( temperature ) )\n",
    "elif not eau_etat_gazeux:\n",
    "    print( \"à {} °C, l'eau est en état liquide\".format( temperature ) )\n",
    "else :\n",
    "    print( \"à {} °C, l'eau est en état gazeux\".format( temperature ) )"
   ]
  },
  {
   "cell_type": "markdown",
   "id": "6a7ed0e2",
   "metadata": {},
   "source": [
    "#### A partir de la version 3.10 de Python, il existe une instruction match"
   ]
  },
  {
   "cell_type": "markdown",
   "id": "70014555",
   "metadata": {},
   "source": [
    "## B - Itératif : while"
   ]
  },
  {
   "cell_type": "code",
   "execution_count": 32,
   "id": "16d2f9d3",
   "metadata": {},
   "outputs": [
    {
     "name": "stdout",
     "output_type": "stream",
     "text": [
      "Entrez le mot de passe: titi\n",
      "Erreur tentative echouée\n",
      "Entrez le mot de passe: abandon\n"
     ]
    }
   ],
   "source": [
    "sesame = \"secret\"\n",
    "\n",
    "tentative = input(\"Entrez le mot de passe: \")\n",
    "while tentative != sesame and tentative != \"abandon\":\n",
    "    print(\"Erreur tentative echouée\")\n",
    "    tentative = input(\"Entrez le mot de passe: \")\n"
   ]
  },
  {
   "cell_type": "code",
   "execution_count": 43,
   "id": "29f78f4d",
   "metadata": {},
   "outputs": [
    {
     "name": "stdout",
     "output_type": "stream",
     "text": [
      "Recherchez le nombre tiré au hasard\n",
      "Votre tentative: 8\n",
      "Plus petit\n",
      "Votre tentative: 2\n",
      "Plus grand\n",
      "Votre tentative: 3\n",
      "Plus grand\n",
      "Votre tentative: 5\n",
      "Plus petit\n",
      "Votre tentative: 4\n",
      "Vous avez gagné\n"
     ]
    }
   ],
   "source": [
    "# Plus ou moins\n",
    "import random\n",
    "\n",
    "print(\"Recherchez le nombre tiré au hasard\")\n",
    "nombre_recherche = random.randint(1, 9)\n",
    "trouve = False\n",
    "\n",
    "tentative = input(\"Votre tentative: \")\n",
    "while not trouve and tentative != \"fin\":\n",
    "    tentative_int = int(tentative)\n",
    "    if tentative_int >= 1 and tentative_int <= 9:\n",
    "        if tentative_int == nombre_recherche:\n",
    "            trouve = True\n",
    "        elif tentative_int > nombre_recherche:\n",
    "            print(\"Plus petit\")\n",
    "        else:\n",
    "            print(\"Plus grand\")\n",
    "    else:\n",
    "        print(\"Erreur tentative incorrecte\")\n",
    "    \n",
    "    if not trouve:\n",
    "        tentative = input(\"Votre tentative: \")\n",
    "\n",
    "if trouve:\n",
    "    print(\"Vous avez gagné\")"
   ]
  },
  {
   "cell_type": "markdown",
   "id": "745e6210",
   "metadata": {},
   "source": [
    "## C - Itératif : for"
   ]
  },
  {
   "cell_type": "markdown",
   "id": "e97daa8b",
   "metadata": {},
   "source": [
    "#### itérations sur une séquence"
   ]
  },
  {
   "cell_type": "code",
   "execution_count": 44,
   "id": "2b941655",
   "metadata": {},
   "outputs": [
    {
     "name": "stdout",
     "output_type": "stream",
     "text": [
      "0\n",
      "1\n",
      "2\n",
      "3\n"
     ]
    }
   ],
   "source": [
    "# début 0 par défaut, 4 est exclu\n",
    "for x in range(4):\n",
    "    print(x)"
   ]
  },
  {
   "cell_type": "code",
   "execution_count": 26,
   "id": "67faab51",
   "metadata": {},
   "outputs": [
    {
     "name": "stdout",
     "output_type": "stream",
     "text": [
      "-3\n",
      "-2\n",
      "-1\n",
      "0\n",
      "1\n",
      "2\n"
     ]
    }
   ],
   "source": [
    "# de -3 à 3 exclu\n",
    "for x in range(-3, 3):\n",
    "    print(x)"
   ]
  },
  {
   "cell_type": "code",
   "execution_count": 27,
   "id": "c56ae985",
   "metadata": {},
   "outputs": [
    {
     "name": "stdout",
     "output_type": "stream",
     "text": [
      "0\n",
      "2\n",
      "4\n",
      "6\n",
      "8\n"
     ]
    }
   ],
   "source": [
    "# de 0 à 8 par pas de 2\n",
    "for x in range(0, 10, 2):\n",
    "    print(x)"
   ]
  },
  {
   "cell_type": "markdown",
   "id": "b459852f",
   "metadata": {},
   "source": [
    "#### Comparaison d'une boucle while et d'une boucle for"
   ]
  },
  {
   "cell_type": "code",
   "execution_count": 28,
   "id": "bd324133",
   "metadata": {},
   "outputs": [
    {
     "name": "stdout",
     "output_type": "stream",
     "text": [
      "0\n",
      "1\n",
      "2\n",
      "3\n",
      "4\n",
      "Terminé\n"
     ]
    }
   ],
   "source": [
    "# Exemple avec boucle while\n",
    "\n",
    "i = 0\n",
    "while i < 5:\n",
    "    print(i)\n",
    "    i = i + 1\n",
    "    \n",
    "print(\"Terminé\")"
   ]
  },
  {
   "cell_type": "code",
   "execution_count": 30,
   "id": "57afb021",
   "metadata": {},
   "outputs": [
    {
     "name": "stdout",
     "output_type": "stream",
     "text": [
      "0\n",
      "1\n",
      "2\n",
      "3\n",
      "4\n",
      "Terminé\n"
     ]
    }
   ],
   "source": [
    "# Exemple avec une boucle for\n",
    "\n",
    "for i in range(5):\n",
    "    print(i)\n",
    "    \n",
    "print(\"Terminé\")"
   ]
  },
  {
   "cell_type": "markdown",
   "id": "464c27be",
   "metadata": {},
   "source": [
    "#### Parfois il est utile d’accéder à la valeur et à l’index de l’élément. Il faut alors utiliser enumerate:"
   ]
  },
  {
   "cell_type": "code",
   "execution_count": 47,
   "id": "08d0ad14",
   "metadata": {},
   "outputs": [
    {
     "name": "stdout",
     "output_type": "stream",
     "text": [
      "0 -3\n",
      "1 -2\n",
      "2 -1\n",
      "3 0\n",
      "4 1\n",
      "5 2\n"
     ]
    }
   ],
   "source": [
    "# Pour acceder à l'index et à la valeur en même temps\n",
    "for index, valeur in enumerate(range(-3, 3)):\n",
    "    print(index, valeur)"
   ]
  },
  {
   "cell_type": "markdown",
   "id": "8138b20b",
   "metadata": {},
   "source": [
    "#### itérations sur une chaine de caractères"
   ]
  },
  {
   "cell_type": "code",
   "execution_count": 48,
   "id": "6c37b02a",
   "metadata": {},
   "outputs": [
    {
     "name": "stdout",
     "output_type": "stream",
     "text": [
      "P\n",
      "y\n",
      "t\n",
      "h\n",
      "o\n",
      "n\n"
     ]
    }
   ],
   "source": [
    "for lettre in \"Python\":\n",
    "    print(lettre)"
   ]
  },
  {
   "cell_type": "markdown",
   "id": "8b4dc8b7",
   "metadata": {},
   "source": [
    "## D - Les fonctions\n",
    "\n",
    "Une fonction en Python est définie avec le mot clé **def**, suivi par le nom de la fonction, la signature entre parenthèses (), et un :\n",
    "\n",
    "### Exemples:"
   ]
  },
  {
   "cell_type": "code",
   "execution_count": 53,
   "id": "f24c8856",
   "metadata": {},
   "outputs": [
    {
     "name": "stdout",
     "output_type": "stream",
     "text": [
      "programme principal\n",
      "Dans la fonction test\n",
      "retour au programme principal\n"
     ]
    }
   ],
   "source": [
    "# définition de la fonction\n",
    "def test():\n",
    "    print(\"Dans la fonction test\")\n",
    "\n",
    "print(\"programme principal\")\n",
    "test() # Appel effectif\n",
    "print(\"retour au programme principal\")"
   ]
  },
  {
   "cell_type": "markdown",
   "id": "e79fff72",
   "metadata": {},
   "source": [
    "#### Documenter une fonction (docstring):"
   ]
  },
  {
   "cell_type": "code",
   "execution_count": 54,
   "id": "25021481",
   "metadata": {},
   "outputs": [
    {
     "name": "stdout",
     "output_type": "stream",
     "text": [
      "Help on function func1 in module __main__:\n",
      "\n",
      "func1(s)\n",
      "    Affichage d'une chaine et de sa longueur\n",
      "\n",
      "longueur est de longueur 8\n"
     ]
    }
   ],
   "source": [
    "def func1(s):\n",
    "    \"\"\"\n",
    "    Affichage d'une chaine et de sa longueur\n",
    "    \"\"\"\n",
    "    print(s, \"est de longueur\", len(s))\n",
    "    return\n",
    "\n",
    "help(func1)\n",
    "func1(\"longueur\")"
   ]
  },
  {
   "cell_type": "markdown",
   "id": "7e41ed54",
   "metadata": {},
   "source": [
    "#### Retourner une valeur avec return:"
   ]
  },
  {
   "cell_type": "code",
   "execution_count": 55,
   "id": "897072a3",
   "metadata": {},
   "outputs": [
    {
     "name": "stdout",
     "output_type": "stream",
     "text": [
      "16\n"
     ]
    }
   ],
   "source": [
    "def square(x):\n",
    "    \"\"\"\n",
    "    Returne le carré de x.\n",
    "    \"\"\"\n",
    "    return(x ** 2)\n",
    "\n",
    "print(square(4))"
   ]
  },
  {
   "cell_type": "markdown",
   "id": "5a53e352",
   "metadata": {},
   "source": [
    "#### Retourner plusieurs valeurs:"
   ]
  },
  {
   "cell_type": "code",
   "execution_count": 56,
   "id": "78ff7c3d",
   "metadata": {},
   "outputs": [
    {
     "name": "stdout",
     "output_type": "stream",
     "text": [
      "(9, 27, 81)\n",
      "<class 'tuple'>\n",
      "x2 = 9 x3 = 27 x4 = 81\n",
      "9\n",
      "27\n",
      "81\n"
     ]
    }
   ],
   "source": [
    "def powers(x):\n",
    "    \"\"\"\n",
    "    Retourne les premières puissances de x.\n",
    "    \"\"\"\n",
    "    return( x ** 2, x ** 3, x ** 4 )\n",
    "\n",
    "print( powers(3) )\n",
    "print( type(powers(3)) )\n",
    "\n",
    "x2, x3, x4 = powers(3)\n",
    "print(\"x2 =\",x2, \"x3 =\",x3, \"x4 =\",x4)\n",
    "\n",
    "resultats = powers(3)\n",
    "for valeur in resultats:\n",
    "    print(valeur)"
   ]
  },
  {
   "cell_type": "markdown",
   "id": "f8286334",
   "metadata": {},
   "source": [
    "#### Arguments par défault\n",
    "\n",
    "#### Il est possible de fournir des valeurs par défault aux paramètres:"
   ]
  },
  {
   "cell_type": "code",
   "execution_count": 57,
   "id": "2ed910c1",
   "metadata": {},
   "outputs": [
    {
     "name": "stdout",
     "output_type": "stream",
     "text": [
      "Help on function puissance in module __main__:\n",
      "\n",
      "puissance(x, p=2, debug=False)\n",
      "    Calcule le resultat de x à la puissance p\n",
      "    parametres:\n",
      "        x opérande\n",
      "        p exposant (valeur par défaut 2)\n",
      "        debug affichage des paramétres (valeur par défaut False)\n",
      "\n",
      "27\n",
      "9\n",
      "debug: fonction puissance avec x = 5 et l'exposant p = 2\n",
      "25\n"
     ]
    }
   ],
   "source": [
    "def puissance(x, p=2, debug=False):\n",
    "    \"\"\"\n",
    "    Calcule le resultat de x à la puissance p\n",
    "    parametres:\n",
    "        x opérande\n",
    "        p exposant (valeur par défaut 2)\n",
    "        debug affichage des paramétres (valeur par défaut False)\n",
    "    \"\"\"\n",
    "    if debug:\n",
    "        print (\"debug: fonction puissance avec x =\", x, \"et l'exposant p =\", p)\n",
    "\n",
    "    return( x ** p )\n",
    "\n",
    "help(puissance)\n",
    "print( puissance(3,3) )\n",
    "print( puissance(3) )\n",
    "print( puissance(x=5, debug=True))"
   ]
  },
  {
   "cell_type": "code",
   "execution_count": null,
   "id": "b9693571",
   "metadata": {},
   "outputs": [],
   "source": []
  }
 ],
 "metadata": {
  "kernelspec": {
   "display_name": "Python 3",
   "language": "python",
   "name": "python3"
  },
  "language_info": {
   "codemirror_mode": {
    "name": "ipython",
    "version": 3
   },
   "file_extension": ".py",
   "mimetype": "text/x-python",
   "name": "python",
   "nbconvert_exporter": "python",
   "pygments_lexer": "ipython3",
   "version": "3.8.8"
  }
 },
 "nbformat": 4,
 "nbformat_minor": 5
}
