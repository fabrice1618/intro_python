{
 "cells": [
  {
   "cell_type": "markdown",
   "id": "fae9303f",
   "metadata": {},
   "source": [
    "# Introduction au langage Python (partie 2)\n",
    "\n",
    "## Conteneurs: listes, tuples et dictionnaires\n",
    "\n",
    "### Listes\n",
    "\n",
    "L'utilisation des listes est très similaires aux chaînes de caractères sauf que les éléments peuvent être de n’importe quel type.\n",
    "\n",
    "#### La syntaxe pour créer des listes est [...]:\n"
   ]
  },
  {
   "cell_type": "code",
   "execution_count": 1,
   "id": "caafabf8",
   "metadata": {},
   "outputs": [
    {
     "name": "stdout",
     "output_type": "stream",
     "text": [
      "<class 'list'>\n",
      "[1, 2, 3, 4]\n"
     ]
    }
   ],
   "source": [
    "l = [1, 2, 3, 4]\n",
    "print(type(l))\n",
    "print(l)"
   ]
  },
  {
   "cell_type": "markdown",
   "id": "46ecbaf9",
   "metadata": {},
   "source": [
    "#### Exemples de slicing:"
   ]
  },
  {
   "cell_type": "code",
   "execution_count": 2,
   "id": "28e7a782",
   "metadata": {},
   "outputs": [
    {
     "name": "stdout",
     "output_type": "stream",
     "text": [
      "[2, 3]\n",
      "[1, 3]\n"
     ]
    }
   ],
   "source": [
    "print(l[1:3])\n",
    "print(l [::2])"
   ]
  },
  {
   "cell_type": "markdown",
   "id": "4bbcce69",
   "metadata": {},
   "source": [
    "#### Attention: On commence à indexer à 0!"
   ]
  },
  {
   "cell_type": "code",
   "execution_count": 3,
   "id": "acc1775f",
   "metadata": {},
   "outputs": [
    {
     "name": "stdout",
     "output_type": "stream",
     "text": [
      "1\n",
      "[4, 3, 2]\n"
     ]
    }
   ],
   "source": [
    "print( l[0] )\n",
    "print( l[-1:0:-1] )"
   ]
  },
  {
   "cell_type": "markdown",
   "id": "4548d8a2",
   "metadata": {},
   "source": [
    "#### On peut mélanger les types:"
   ]
  },
  {
   "cell_type": "code",
   "execution_count": 4,
   "id": "158679ad",
   "metadata": {},
   "outputs": [
    {
     "name": "stdout",
     "output_type": "stream",
     "text": [
      "[1, 'a', 1.0, (1-1j)]\n"
     ]
    }
   ],
   "source": [
    "l = [1, 'a', 1.0, 1-1j]\n",
    "print(l)"
   ]
  },
  {
   "cell_type": "markdown",
   "id": "b42c9900",
   "metadata": {},
   "source": [
    "#### On peut faire des listes de listes (par exemple pour décrire un arbre...)"
   ]
  },
  {
   "cell_type": "code",
   "execution_count": 5,
   "id": "e9de568d",
   "metadata": {},
   "outputs": [
    {
     "name": "stdout",
     "output_type": "stream",
     "text": [
      "[1, [2, [3, [4, [5]]]]]\n"
     ]
    }
   ],
   "source": [
    "list_of_list = [1, [2, [3, [4, [5]]]]]\n",
    "print(list_of_list)"
   ]
  },
  {
   "cell_type": "markdown",
   "id": "e3d007bc",
   "metadata": {},
   "source": [
    "#### La fonction range pour générer une liste d’entiers:"
   ]
  },
  {
   "cell_type": "code",
   "execution_count": 6,
   "id": "c276a00e",
   "metadata": {},
   "outputs": [
    {
     "name": "stdout",
     "output_type": "stream",
     "text": [
      "[10, 12, 14, 16, 18, 20, 22, 24, 26, 28]\n"
     ]
    }
   ],
   "source": [
    "start, stop, step = 10, 30, 2\n",
    "print(list(range(start, stop, step )))"
   ]
  },
  {
   "cell_type": "markdown",
   "id": "88d5631d",
   "metadata": {},
   "source": [
    "#### Intération de n-1 à 0"
   ]
  },
  {
   "cell_type": "code",
   "execution_count": 7,
   "id": "18320cc7",
   "metadata": {},
   "outputs": [
    {
     "name": "stdout",
     "output_type": "stream",
     "text": [
      "[9, 8, 7, 6, 5, 4, 3, 2, 1, 0]\n"
     ]
    }
   ],
   "source": [
    "n = 10\n",
    "print(list(range(n-1, -1, -1)))"
   ]
  },
  {
   "cell_type": "markdown",
   "id": "37c82a66",
   "metadata": {},
   "source": [
    "#### convertir une chaine de caractère en liste"
   ]
  },
  {
   "cell_type": "code",
   "execution_count": 8,
   "id": "5ca94019",
   "metadata": {},
   "outputs": [
    {
     "name": "stdout",
     "output_type": "stream",
     "text": [
      "['z', 'a', 'b', 'c', 'd', 'a']\n"
     ]
    }
   ],
   "source": [
    "s = \"zabcda\"\n",
    "l2 = list(s)\n",
    "print(l2)"
   ]
  },
  {
   "cell_type": "markdown",
   "id": "1926e329",
   "metadata": {},
   "source": [
    "## tri"
   ]
  },
  {
   "cell_type": "code",
   "execution_count": 9,
   "id": "9941b5a0",
   "metadata": {},
   "outputs": [
    {
     "name": "stdout",
     "output_type": "stream",
     "text": [
      "['a', 'a', 'b', 'c', 'd', 'z']\n",
      "['z', 'a', 'b', 'c', 'd', 'a']\n",
      "['z', 'd', 'c', 'b', 'a', 'a']\n"
     ]
    }
   ],
   "source": [
    "l3 = list(l2)\n",
    "l2.sort()\n",
    "print(l2)\n",
    "print(l3)\n",
    "print(l2[::-1 ])"
   ]
  },
  {
   "cell_type": "markdown",
   "id": "865a31f2",
   "metadata": {},
   "source": [
    "#### Attention l2.sort() ne renvoie rien c’est-à-dire None"
   ]
  },
  {
   "cell_type": "code",
   "execution_count": 3,
   "id": "79cade72",
   "metadata": {},
   "outputs": [
    {
     "name": "stdout",
     "output_type": "stream",
     "text": [
      "['z', 'a', 'b', 'c', 'd', 'a']\n",
      "None\n",
      "['a', 'a', 'b', 'c', 'd', 'z']\n"
     ]
    }
   ],
   "source": [
    "s = \"zabcda\"\n",
    "l2 = list(s)\n",
    "print(l2)\n",
    "\n",
    "# l2.sort() ne retourne rien, mais modifie la liste originale\n",
    "out = l2.sort()\n",
    "print(out)\n",
    "\n",
    "\n",
    "print(l2)"
   ]
  },
  {
   "cell_type": "markdown",
   "id": "417bc7b1",
   "metadata": {},
   "source": [
    "#### Ajout, insertion, modifier, et enlever des éléments d’une liste:\n",
    "\n",
    "#### création d'une liste vide"
   ]
  },
  {
   "cell_type": "code",
   "execution_count": 7,
   "id": "e1feb775",
   "metadata": {},
   "outputs": [
    {
     "name": "stdout",
     "output_type": "stream",
     "text": [
      "None\n",
      "['A', 'd', 'd']\n",
      "1\n"
     ]
    }
   ],
   "source": [
    "l = [] # ou l = list()\n",
    "# ajout d'éléments avec `append`\n",
    "\n",
    "# La methode append() ne retourne rien, elle modifie la liste\n",
    "m = l.append(\"A\")\n",
    "print(m)\n",
    "l. append(\"d\")\n",
    "l. append(\"d\")\n",
    "print(l)\n",
    "\n",
    "# Recherche de la position d'un element\n",
    "print( l.index('d') )"
   ]
  },
  {
   "cell_type": "markdown",
   "id": "b91d1a30",
   "metadata": {},
   "source": [
    "#### Concatenation de listes avec +"
   ]
  },
  {
   "cell_type": "code",
   "execution_count": 9,
   "id": "6a2ae48c",
   "metadata": {},
   "outputs": [
    {
     "name": "stdout",
     "output_type": "stream",
     "text": [
      "[1, 2, 3, 4, 5, 6]\n",
      "[1, 2, 3, [4, 5, 6]]\n",
      "[1, 2, 3, [4, 5, 6], 1, 2, 3, [4, 5, 6]]\n"
     ]
    }
   ],
   "source": [
    "lll = [1, 2, 3]\n",
    "mmm = [4, 5, 6]\n",
    "print(lll + mmm) # ajout de 2 listes\n",
    "\n",
    "lll.append(mmm) # ajout d'un element liste a la fin d'une liste\n",
    "print(lll)\n",
    "\n",
    "print(lll * 2)"
   ]
  },
  {
   "cell_type": "markdown",
   "id": "0ac4e951",
   "metadata": {},
   "source": [
    "#### On peut modifier une liste par assignation:"
   ]
  },
  {
   "cell_type": "code",
   "execution_count": 12,
   "id": "d694d9db",
   "metadata": {},
   "outputs": [
    {
     "name": "stdout",
     "output_type": "stream",
     "text": [
      "['A', 'L', 'L']\n",
      "['A', 'p', 'p']\n",
      "['A', 'L', 'L']\n"
     ]
    }
   ],
   "source": [
    "# remplacer directement des éléments\n",
    "print(l)\n",
    "l[1] = \"p\"\n",
    "l[2] = \"p\"\n",
    "print(l)\n",
    "\n",
    "# Affectation d'un troncon de la liste\n",
    "l[1:3] = [\"L\", \"L\"]\n",
    "print(l)"
   ]
  },
  {
   "cell_type": "markdown",
   "id": "6fea722f",
   "metadata": {},
   "source": [
    "#### Insertion à un index donné avec insert"
   ]
  },
  {
   "cell_type": "code",
   "execution_count": 16,
   "id": "131666f9",
   "metadata": {},
   "outputs": [
    {
     "name": "stdout",
     "output_type": "stream",
     "text": [
      "['i', 'n', 's', 'e', 'r', 't', ' ', 'A', 'l', 'l']\n"
     ]
    }
   ],
   "source": [
    "l = list(\"All\")\n",
    "\n",
    "l.insert(0, \"i\")\n",
    "l.insert(1, \"n\")\n",
    "l.insert(2, \"s\")\n",
    "l.insert(3, \"e\")\n",
    "l.insert(4, \"r\")\n",
    "l.insert(5, \"t\")\n",
    "l.insert(6, \" \")\n",
    "print(l)"
   ]
  },
  {
   "cell_type": "markdown",
   "id": "512a05c7",
   "metadata": {},
   "source": [
    "#### Suppression d’un élément avec ‘remove’"
   ]
  },
  {
   "cell_type": "code",
   "execution_count": 21,
   "id": "72a281cc",
   "metadata": {},
   "outputs": [
    {
     "name": "stdout",
     "output_type": "stream",
     "text": [
      "['P', 't', 'h', 'o', 'n']\n",
      "[1, 2, 3, 2]\n",
      "[1, 3, 2]\n",
      "True\n",
      "2\n"
     ]
    }
   ],
   "source": [
    "# Suppression d'un élément par sa valeur\n",
    "l = list(\"Python\")\n",
    "l.remove(\"y\")\n",
    "print(l)\n",
    "\n",
    "# Suppression d'un élément par sa valeur\n",
    "ll = [1, 2, 3, 2]\n",
    "print(ll)\n",
    "ll.remove(2)\n",
    "print(ll)\n",
    "\n",
    "# présence d'un élément dans une liste\n",
    "print(2 in ll)\n",
    "\n",
    "# position d'un élément dans la liste\n",
    "print(ll.index(2))"
   ]
  },
  {
   "cell_type": "markdown",
   "id": "cf570cfc",
   "metadata": {},
   "source": [
    "#### Suppression d’un élément à une position donnée avec del:"
   ]
  },
  {
   "cell_type": "code",
   "execution_count": 24,
   "id": "440aa264",
   "metadata": {},
   "outputs": [
    {
     "name": "stdout",
     "output_type": "stream",
     "text": [
      "['P', 'y', 't', 'h', 'o', 'n']\n",
      "['P', 't', 'h', 'n']\n"
     ]
    }
   ],
   "source": [
    "# suppression d'un element par sa position\n",
    "l = list(\"Python\")\n",
    "print(l)\n",
    "del l[4]\n",
    "del l[1]\n",
    "print(l)"
   ]
  },
  {
   "cell_type": "markdown",
   "id": "9b7acbe0",
   "metadata": {},
   "source": [
    "#### help(list) pour en savoir plus."
   ]
  },
  {
   "cell_type": "code",
   "execution_count": 25,
   "id": "0c0dd43f",
   "metadata": {},
   "outputs": [
    {
     "name": "stdout",
     "output_type": "stream",
     "text": [
      "Help on class list in module builtins:\n",
      "\n",
      "class list(object)\n",
      " |  list(iterable=(), /)\n",
      " |  \n",
      " |  Built-in mutable sequence.\n",
      " |  \n",
      " |  If no argument is given, the constructor creates a new empty list.\n",
      " |  The argument must be an iterable if specified.\n",
      " |  \n",
      " |  Methods defined here:\n",
      " |  \n",
      " |  __add__(self, value, /)\n",
      " |      Return self+value.\n",
      " |  \n",
      " |  __contains__(self, key, /)\n",
      " |      Return key in self.\n",
      " |  \n",
      " |  __delitem__(self, key, /)\n",
      " |      Delete self[key].\n",
      " |  \n",
      " |  __eq__(self, value, /)\n",
      " |      Return self==value.\n",
      " |  \n",
      " |  __ge__(self, value, /)\n",
      " |      Return self>=value.\n",
      " |  \n",
      " |  __getattribute__(self, name, /)\n",
      " |      Return getattr(self, name).\n",
      " |  \n",
      " |  __getitem__(...)\n",
      " |      x.__getitem__(y) <==> x[y]\n",
      " |  \n",
      " |  __gt__(self, value, /)\n",
      " |      Return self>value.\n",
      " |  \n",
      " |  __iadd__(self, value, /)\n",
      " |      Implement self+=value.\n",
      " |  \n",
      " |  __imul__(self, value, /)\n",
      " |      Implement self*=value.\n",
      " |  \n",
      " |  __init__(self, /, *args, **kwargs)\n",
      " |      Initialize self.  See help(type(self)) for accurate signature.\n",
      " |  \n",
      " |  __iter__(self, /)\n",
      " |      Implement iter(self).\n",
      " |  \n",
      " |  __le__(self, value, /)\n",
      " |      Return self<=value.\n",
      " |  \n",
      " |  __len__(self, /)\n",
      " |      Return len(self).\n",
      " |  \n",
      " |  __lt__(self, value, /)\n",
      " |      Return self<value.\n",
      " |  \n",
      " |  __mul__(self, value, /)\n",
      " |      Return self*value.\n",
      " |  \n",
      " |  __ne__(self, value, /)\n",
      " |      Return self!=value.\n",
      " |  \n",
      " |  __repr__(self, /)\n",
      " |      Return repr(self).\n",
      " |  \n",
      " |  __reversed__(self, /)\n",
      " |      Return a reverse iterator over the list.\n",
      " |  \n",
      " |  __rmul__(self, value, /)\n",
      " |      Return value*self.\n",
      " |  \n",
      " |  __setitem__(self, key, value, /)\n",
      " |      Set self[key] to value.\n",
      " |  \n",
      " |  __sizeof__(self, /)\n",
      " |      Return the size of the list in memory, in bytes.\n",
      " |  \n",
      " |  append(self, object, /)\n",
      " |      Append object to the end of the list.\n",
      " |  \n",
      " |  clear(self, /)\n",
      " |      Remove all items from list.\n",
      " |  \n",
      " |  copy(self, /)\n",
      " |      Return a shallow copy of the list.\n",
      " |  \n",
      " |  count(self, value, /)\n",
      " |      Return number of occurrences of value.\n",
      " |  \n",
      " |  extend(self, iterable, /)\n",
      " |      Extend list by appending elements from the iterable.\n",
      " |  \n",
      " |  index(self, value, start=0, stop=9223372036854775807, /)\n",
      " |      Return first index of value.\n",
      " |      \n",
      " |      Raises ValueError if the value is not present.\n",
      " |  \n",
      " |  insert(self, index, object, /)\n",
      " |      Insert object before index.\n",
      " |  \n",
      " |  pop(self, index=-1, /)\n",
      " |      Remove and return item at index (default last).\n",
      " |      \n",
      " |      Raises IndexError if list is empty or index is out of range.\n",
      " |  \n",
      " |  remove(self, value, /)\n",
      " |      Remove first occurrence of value.\n",
      " |      \n",
      " |      Raises ValueError if the value is not present.\n",
      " |  \n",
      " |  reverse(self, /)\n",
      " |      Reverse *IN PLACE*.\n",
      " |  \n",
      " |  sort(self, /, *, key=None, reverse=False)\n",
      " |      Sort the list in ascending order and return None.\n",
      " |      \n",
      " |      The sort is in-place (i.e. the list itself is modified) and stable (i.e. the\n",
      " |      order of two equal elements is maintained).\n",
      " |      \n",
      " |      If a key function is given, apply it once to each list item and sort them,\n",
      " |      ascending or descending, according to their function values.\n",
      " |      \n",
      " |      The reverse flag can be set to sort in descending order.\n",
      " |  \n",
      " |  ----------------------------------------------------------------------\n",
      " |  Static methods defined here:\n",
      " |  \n",
      " |  __new__(*args, **kwargs) from builtins.type\n",
      " |      Create and return a new object.  See help(type) for accurate signature.\n",
      " |  \n",
      " |  ----------------------------------------------------------------------\n",
      " |  Data and other attributes defined here:\n",
      " |  \n",
      " |  __hash__ = None\n",
      "\n"
     ]
    }
   ],
   "source": [
    "help(list)"
   ]
  },
  {
   "cell_type": "markdown",
   "id": "2f569044",
   "metadata": {},
   "source": [
    "### Tuples\n",
    "\n",
    "Les tuples (n-uplets) ressemblent aux listes mais ils sont immuables : ils ne peuvent pas être modifiés une fois créés. On les crée avec la syntaxe (..., ..., ...) ou simplement ..., ...:"
   ]
  },
  {
   "cell_type": "code",
   "execution_count": 25,
   "id": "b8b1e976",
   "metadata": {},
   "outputs": [
    {
     "name": "stdout",
     "output_type": "stream",
     "text": [
      "(10, 20) <class 'tuple'>\n",
      "10 20\n"
     ]
    }
   ],
   "source": [
    "# un tuple est immutable\n",
    "point = (10, 20)\n",
    "print (point, type(point))\n",
    "print(point[0],point[1])"
   ]
  },
  {
   "cell_type": "code",
   "execution_count": 26,
   "id": "02bda680",
   "metadata": {},
   "outputs": [
    {
     "name": "stdout",
     "output_type": "stream",
     "text": [
      "[10, 5] <class 'list'>\n"
     ]
    }
   ],
   "source": [
    "# une liste est mutable\n",
    "p2 = list(point)\n",
    "p2[1] = 5\n",
    "print (p2, type(p2))"
   ]
  },
  {
   "cell_type": "markdown",
   "id": "c787ce42",
   "metadata": {},
   "source": [
    "#### Un tuple peut être dépilé par assignation à une liste de variables séparées par des virgules :"
   ]
  },
  {
   "cell_type": "code",
   "execution_count": 27,
   "id": "847c9afc",
   "metadata": {},
   "outputs": [
    {
     "name": "stdout",
     "output_type": "stream",
     "text": [
      "x = 10\n",
      "y = 20\n"
     ]
    }
   ],
   "source": [
    "x, y = point\n",
    "print (\"x =\", x)\n",
    "print (\"y =\", y)"
   ]
  },
  {
   "cell_type": "markdown",
   "id": "2a89d017",
   "metadata": {},
   "source": [
    "#### On ne peut pas faire :"
   ]
  },
  {
   "cell_type": "code",
   "execution_count": 28,
   "id": "a5388a36",
   "metadata": {},
   "outputs": [
    {
     "ename": "TypeError",
     "evalue": "'tuple' object does not support item assignment",
     "output_type": "error",
     "traceback": [
      "\u001b[1;31m---------------------------------------------------------------------------\u001b[0m",
      "\u001b[1;31mTypeError\u001b[0m                                 Traceback (most recent call last)",
      "\u001b[1;32m<ipython-input-28-9734b1daa940>\u001b[0m in \u001b[0;36m<module>\u001b[1;34m\u001b[0m\n\u001b[1;32m----> 1\u001b[1;33m \u001b[0mpoint\u001b[0m\u001b[1;33m[\u001b[0m\u001b[1;36m0\u001b[0m\u001b[1;33m]\u001b[0m \u001b[1;33m=\u001b[0m \u001b[1;36m20\u001b[0m\u001b[1;33m\u001b[0m\u001b[1;33m\u001b[0m\u001b[0m\n\u001b[0m",
      "\u001b[1;31mTypeError\u001b[0m: 'tuple' object does not support item assignment"
     ]
    }
   ],
   "source": [
    "point[0] = 20"
   ]
  },
  {
   "cell_type": "markdown",
   "id": "186ca751",
   "metadata": {},
   "source": [
    "### Dictionnaires\n",
    "\n",
    "#### Ils servent à stocker des données de la forme clé-valeur.\n",
    "\n",
    "#### La syntaxe pour les dictionnaires est {key1 : value1, ...}:"
   ]
  },
  {
   "cell_type": "code",
   "execution_count": 30,
   "id": "292580dc",
   "metadata": {},
   "outputs": [
    {
     "name": "stdout",
     "output_type": "stream",
     "text": [
      "<class 'dict'>\n",
      "{'longueur': 0.5, 'largeur': 0.4, 'epaisseur': 0.2}\n",
      "longueur = 0.5\n",
      "largeur = 0.4\n",
      "epaisseur = 0.2\n",
      "Volume = 0.040\n"
     ]
    }
   ],
   "source": [
    "dimensions1 = {\n",
    "\"longueur\" : 0.5,\n",
    "\"largeur\" : 0.4,\n",
    "\"epaisseur\" : 0.2\n",
    "}\n",
    "print( type(dimensions1) )\n",
    "print( dimensions1 )\n",
    "print (\"longueur =\", dimensions1[\"longueur\"])\n",
    "print (\"largeur =\", dimensions1[\"largeur\"])\n",
    "print (\"epaisseur =\", dimensions1[\"epaisseur\"])\n",
    "volume = dimensions1[\"longueur\"] * dimensions1[\"largeur\"] * dimensions1[\"epaisseur\"]\n",
    "print( \"Volume = %5.3f\" % volume )"
   ]
  },
  {
   "cell_type": "code",
   "execution_count": 31,
   "id": "d4943fb8",
   "metadata": {},
   "outputs": [
    {
     "name": "stdout",
     "output_type": "stream",
     "text": [
      "{'longueur': 0.7, 'largeur': 0.5, 'epaisseur': 0.3, 'masse_volumique': 7860}\n",
      "masse = 825.3 kg\n"
     ]
    }
   ],
   "source": [
    "# Autre syntaxe\n",
    "dimensions2 = dict(longueur=0.7, largeur=0.5, epaisseur=0.3)\n",
    "dimensions2[\"masse_volumique\"] = 7860 # masse volumique du fer\n",
    "print( dimensions2 )\n",
    "masse = \\\n",
    "dimensions2[\"longueur\"] * \\\n",
    "dimensions2[\"largeur\"] * \\\n",
    "dimensions2[\"epaisseur\"] * \\\n",
    "dimensions2[\"masse_volumique\"]\n",
    "print( \"masse = {} kg\".format(masse) )"
   ]
  },
  {
   "cell_type": "code",
   "execution_count": 32,
   "id": "4e564e49",
   "metadata": {},
   "outputs": [
    {
     "name": "stdout",
     "output_type": "stream",
     "text": [
      "True\n",
      "False\n",
      "{'longueur': 0.7, 'largeur': 0.5, 'epaisseur': 0.3}\n"
     ]
    }
   ],
   "source": [
    "# teste si la clé “masse_volumique” existe dans dimensions2\n",
    "print(\"masse_volumique\" in dimensions2)\n",
    "del dimensions2[\"masse_volumique\"]\n",
    "print(\"masse_volumique\" in dimensions2)\n",
    "print(dimensions2)"
   ]
  },
  {
   "cell_type": "code",
   "execution_count": 33,
   "id": "1c648ecf",
   "metadata": {},
   "outputs": [
    {
     "name": "stdout",
     "output_type": "stream",
     "text": [
      "{'pierre': 15, 'paul': 8, 'jacques': 12}\n",
      "moyenne = 11.67\n"
     ]
    }
   ],
   "source": [
    "notes = {\"pierre\": 15, \"paul\":8, \"jacques\":12}\n",
    "print (notes)\n",
    "total = notes['pierre'] + notes['paul'] + notes['jacques']\n",
    "moyenne = total / len(notes)\n",
    "print(\"moyenne = %5.2f\" % moyenne)\n",
    "{'pierre': 15, 'paul': 8, 'jacques': 12}\n",
    "moyenne = 11.67"
   ]
  },
  {
   "cell_type": "code",
   "execution_count": 35,
   "id": "f2d4e339",
   "metadata": {},
   "outputs": [
    {
     "name": "stdout",
     "output_type": "stream",
     "text": [
      "langue : ze\n",
      "erreur, langue inconnue\n"
     ]
    }
   ],
   "source": [
    "traduction = {\n",
    "\"fr\": \"Bonjour\",\n",
    "\"gb\": \"Hello\",\n",
    "\"it\": \"Ciao\",\n",
    "}\n",
    "langue = input( \"langue : \")\n",
    "if langue in traduction:\n",
    "    print( traduction[langue] )\n",
    "else :\n",
    "    print( \"erreur, langue inconnue\")"
   ]
  },
  {
   "cell_type": "markdown",
   "id": "2dbad2c5",
   "metadata": {},
   "source": [
    "## Structures de contrôle: conditions et boucles\n",
    "\n",
    "### Branchements: if, elif, else\n",
    "\n",
    "#### if : si / elif : sinon si, contraction de “else if” / else : sinon"
   ]
  },
  {
   "cell_type": "code",
   "execution_count": 36,
   "id": "75d470d5",
   "metadata": {},
   "outputs": [
    {
     "name": "stdout",
     "output_type": "stream",
     "text": [
      "b est strictement inférieur à a\n"
     ]
    }
   ],
   "source": [
    "a = 3\n",
    "b = 2\n",
    "if a < b:\n",
    "    print(\"a est strictement inférieur à b\")\n",
    "elif a > b:\n",
    "    print(\"b est strictement inférieur à a\")\n",
    "else :\n",
    "    print(\"b est égal à a\")"
   ]
  },
  {
   "cell_type": "code",
   "execution_count": 37,
   "id": "61693944",
   "metadata": {},
   "outputs": [
    {
     "name": "stdout",
     "output_type": "stream",
     "text": [
      "à 25 °C, l'eau est en état liquide\n"
     ]
    }
   ],
   "source": [
    "temperature = 25\n",
    "\n",
    "eau_etat_solide = ( temperature < 0 )\n",
    "eau_etat_gazeux = ( temperature >= 100 )\n",
    "\n",
    "if eau_etat_solide is True:\n",
    "    print( \"à {} °C, l'eau est en état solide\".format( temperature ) )\n",
    "elif not eau_etat_gazeux:\n",
    "    print( \"à {} °C, l'eau est en état liquide\".format( temperature ) )\n",
    "else :\n",
    "    print( \"à {} °C, l'eau est en état gazeux\".format( temperature ) )"
   ]
  },
  {
   "cell_type": "markdown",
   "id": "6a7ed0e2",
   "metadata": {},
   "source": [
    "#### A partir de la version 3.10 de Python, il existe une instruction match"
   ]
  },
  {
   "cell_type": "markdown",
   "id": "70014555",
   "metadata": {},
   "source": [
    "### Boucles while"
   ]
  },
  {
   "cell_type": "code",
   "execution_count": 32,
   "id": "16d2f9d3",
   "metadata": {},
   "outputs": [
    {
     "name": "stdout",
     "output_type": "stream",
     "text": [
      "Entrez le mot de passe: titi\n",
      "Erreur tentative echouée\n",
      "Entrez le mot de passe: abandon\n"
     ]
    }
   ],
   "source": [
    "sesame = \"secret\"\n",
    "\n",
    "tentative = input(\"Entrez le mot de passe: \")\n",
    "while tentative != sesame and tentative != \"abandon\":\n",
    "    print(\"Erreur tentative echouée\")\n",
    "    tentative = input(\"Entrez le mot de passe: \")\n"
   ]
  },
  {
   "cell_type": "code",
   "execution_count": 43,
   "id": "29f78f4d",
   "metadata": {},
   "outputs": [
    {
     "name": "stdout",
     "output_type": "stream",
     "text": [
      "Recherchez le nombre tiré au hasard\n",
      "Votre tentative: 8\n",
      "Plus petit\n",
      "Votre tentative: 2\n",
      "Plus grand\n",
      "Votre tentative: 3\n",
      "Plus grand\n",
      "Votre tentative: 5\n",
      "Plus petit\n",
      "Votre tentative: 4\n",
      "Vous avez gagné\n"
     ]
    }
   ],
   "source": [
    "# Plus ou moins\n",
    "import random\n",
    "\n",
    "print(\"Recherchez le nombre tiré au hasard\")\n",
    "nombre_recherche = random.randint(1, 9)\n",
    "trouve = False\n",
    "\n",
    "tentative = input(\"Votre tentative: \")\n",
    "while not trouve and tentative != \"fin\":\n",
    "    tentative_int = int(tentative)\n",
    "    if tentative_int >= 1 and tentative_int <= 9:\n",
    "        if tentative_int == nombre_recherche:\n",
    "            trouve = True\n",
    "        elif tentative_int > nombre_recherche:\n",
    "            print(\"Plus petit\")\n",
    "        else:\n",
    "            print(\"Plus grand\")\n",
    "    else:\n",
    "        print(\"Erreur tentative incorrecte\")\n",
    "    \n",
    "    if not trouve:\n",
    "        tentative = input(\"Votre tentative: \")\n",
    "\n",
    "if trouve:\n",
    "    print(\"Vous avez gagné\")"
   ]
  },
  {
   "cell_type": "markdown",
   "id": "745e6210",
   "metadata": {},
   "source": [
    "### Boucles for\n",
    "\n",
    "#### Itérations sur une liste"
   ]
  },
  {
   "cell_type": "code",
   "execution_count": 40,
   "id": "c96ba88c",
   "metadata": {},
   "outputs": [
    {
     "name": "stdout",
     "output_type": "stream",
     "text": [
      "1\n",
      "2\n",
      "3\n",
      "riri\n",
      "fifi\n",
      "loulou\n"
     ]
    }
   ],
   "source": [
    "for x in [1, 2, 3]:\n",
    "    print(x)\n",
    "    \n",
    "for personnage in ['riri', 'fifi', 'loulou']:\n",
    "    print(personnage)"
   ]
  },
  {
   "cell_type": "markdown",
   "id": "723d86da",
   "metadata": {},
   "source": [
    "#### création de liste avec for (list comprehension)\n",
    "\n",
    "https://www.w3schools.com/python/python_lists_comprehension.asp"
   ]
  },
  {
   "cell_type": "code",
   "execution_count": 33,
   "id": "4d60294c",
   "metadata": {},
   "outputs": [
    {
     "name": "stdout",
     "output_type": "stream",
     "text": [
      "[0, 1, 4, 9, 16]\n"
     ]
    }
   ],
   "source": [
    "liste1 = [x ** 2 for x in range(0,5)]\n",
    "print(liste1)"
   ]
  },
  {
   "cell_type": "code",
   "execution_count": 43,
   "id": "ecacf396",
   "metadata": {},
   "outputs": [
    {
     "name": "stdout",
     "output_type": "stream",
     "text": [
      "[0, 1, 4, 9, 16]\n"
     ]
    }
   ],
   "source": [
    "# est la version courte de :\n",
    "liste2 = list()\n",
    "for x in range(0, 5):\n",
    "    liste2.append(x ** 2)\n",
    "print(liste2)"
   ]
  },
  {
   "cell_type": "markdown",
   "id": "e97daa8b",
   "metadata": {},
   "source": [
    "#### itérations sur une séquence"
   ]
  },
  {
   "cell_type": "code",
   "execution_count": 44,
   "id": "2b941655",
   "metadata": {},
   "outputs": [
    {
     "name": "stdout",
     "output_type": "stream",
     "text": [
      "0\n",
      "1\n",
      "2\n",
      "3\n"
     ]
    }
   ],
   "source": [
    "# début 0 par défaut, 4 est exclu\n",
    "for x in range(4):\n",
    "    print(x)"
   ]
  },
  {
   "cell_type": "code",
   "execution_count": 26,
   "id": "67faab51",
   "metadata": {},
   "outputs": [
    {
     "name": "stdout",
     "output_type": "stream",
     "text": [
      "-3\n",
      "-2\n",
      "-1\n",
      "0\n",
      "1\n",
      "2\n"
     ]
    }
   ],
   "source": [
    "# de -3 à 3 exclu\n",
    "for x in range(-3, 3):\n",
    "    print(x)"
   ]
  },
  {
   "cell_type": "code",
   "execution_count": 27,
   "id": "c56ae985",
   "metadata": {},
   "outputs": [
    {
     "name": "stdout",
     "output_type": "stream",
     "text": [
      "0\n",
      "2\n",
      "4\n",
      "6\n",
      "8\n"
     ]
    }
   ],
   "source": [
    "# de 0 à 8 par pas de 2\n",
    "for x in range(0, 10, 2):\n",
    "    print(x)"
   ]
  },
  {
   "cell_type": "markdown",
   "id": "b459852f",
   "metadata": {},
   "source": [
    "#### Comparaison d'une boucle while et d'une boucle for"
   ]
  },
  {
   "cell_type": "code",
   "execution_count": 28,
   "id": "bd324133",
   "metadata": {},
   "outputs": [
    {
     "name": "stdout",
     "output_type": "stream",
     "text": [
      "0\n",
      "1\n",
      "2\n",
      "3\n",
      "4\n",
      "Terminé\n"
     ]
    }
   ],
   "source": [
    "# Exemple avec boucle while\n",
    "\n",
    "i = 0\n",
    "while i < 5:\n",
    "    print(i)\n",
    "    i = i + 1\n",
    "    \n",
    "print(\"Terminé\")"
   ]
  },
  {
   "cell_type": "code",
   "execution_count": 30,
   "id": "57afb021",
   "metadata": {},
   "outputs": [
    {
     "name": "stdout",
     "output_type": "stream",
     "text": [
      "0\n",
      "1\n",
      "2\n",
      "3\n",
      "4\n",
      "Terminé\n"
     ]
    }
   ],
   "source": [
    "# Exemple avec une boucle for\n",
    "\n",
    "for i in range(5):\n",
    "    print(i)\n",
    "    \n",
    "print(\"Terminé\")"
   ]
  },
  {
   "cell_type": "markdown",
   "id": "464c27be",
   "metadata": {},
   "source": [
    "#### Parfois il est utile d’accéder à la valeur et à l’index de l’élément. Il faut alors utiliser enumerate:"
   ]
  },
  {
   "cell_type": "code",
   "execution_count": 47,
   "id": "08d0ad14",
   "metadata": {},
   "outputs": [
    {
     "name": "stdout",
     "output_type": "stream",
     "text": [
      "0 -3\n",
      "1 -2\n",
      "2 -1\n",
      "3 0\n",
      "4 1\n",
      "5 2\n"
     ]
    }
   ],
   "source": [
    "# Pour acceder à l'index et à la valeur en même temps\n",
    "for index, valeur in enumerate(range(-3, 3)):\n",
    "    print(index, valeur)"
   ]
  },
  {
   "cell_type": "markdown",
   "id": "8138b20b",
   "metadata": {},
   "source": [
    "#### itérations sur une chaine de caractères"
   ]
  },
  {
   "cell_type": "code",
   "execution_count": 48,
   "id": "6c37b02a",
   "metadata": {},
   "outputs": [
    {
     "name": "stdout",
     "output_type": "stream",
     "text": [
      "P\n",
      "y\n",
      "t\n",
      "h\n",
      "o\n",
      "n\n"
     ]
    }
   ],
   "source": [
    "for lettre in \"Python\":\n",
    "    print(lettre)"
   ]
  },
  {
   "cell_type": "markdown",
   "id": "44efb5cf",
   "metadata": {},
   "source": [
    "#### Itérations sur un dictionnaire"
   ]
  },
  {
   "cell_type": "code",
   "execution_count": 49,
   "id": "5761c62b",
   "metadata": {},
   "outputs": [
    {
     "name": "stdout",
     "output_type": "stream",
     "text": [
      "Méthode 1\n",
      "solide  =  l'eau est en état solide\n",
      "liquide  =  l'eau est en état liquide\n",
      "gazeux  =  l'eau est en état gazeux\n",
      "Méthode 2\n",
      "solide  =  l'eau est en état solide\n",
      "liquide  =  l'eau est en état liquide\n",
      "gazeux  =  l'eau est en état gazeux\n"
     ]
    }
   ],
   "source": [
    "message = {\n",
    "\"solide\": \"l'eau est en état solide\",\n",
    "\"liquide\": \"l'eau est en état liquide\",\n",
    "\"gazeux\": \"l'eau est en état gazeux\",\n",
    "}\n",
    "\n",
    "print(\"Méthode 1\")\n",
    "for key in message:\n",
    "    print ( key, \" = \", message[key] )\n",
    "\n",
    "print(\"Méthode 2\")\n",
    "for key, value in message.items():\n",
    "    print (key, \" = \", value)"
   ]
  },
  {
   "cell_type": "markdown",
   "id": "9c85ec02",
   "metadata": {},
   "source": [
    "#### Exercice : compter le nombre d’occurences de chaque charactère dans la chaîne de caractères\n",
    "\n",
    "“HelLo WorLd!!” On renverra un dictionaire qui à la lettre associe son nombre d’occurences."
   ]
  },
  {
   "cell_type": "code",
   "execution_count": null,
   "id": "3cacc6c8",
   "metadata": {},
   "outputs": [],
   "source": [
    "s = \"HelLo WorLd!!\"\n",
    "\n",
    "# Votre code :"
   ]
  },
  {
   "cell_type": "markdown",
   "id": "a07ce95f",
   "metadata": {},
   "source": [
    "#### Ecrire un programme de codage et de décodage"
   ]
  },
  {
   "cell_type": "code",
   "execution_count": 51,
   "id": "806cbd0e",
   "metadata": {},
   "outputs": [
    {
     "name": "stdout",
     "output_type": "stream",
     "text": [
      "Codage de \"Hello world!\" => \"Hamme wermd!\" \n",
      "Décodage de \"Hamme wermd!\" => \"HHHemlmleeo   wwweeorrrmlddd!!!\" \n"
     ]
    }
   ],
   "source": [
    "\n",
    "def codage( phrase ):\n",
    "    codage = \"\"\n",
    "\n",
    "    for lettre in phrase:\n",
    "        if lettre in code:\n",
    "            codage += code[lettre]\n",
    "        else:\n",
    "            codage += lettre\n",
    "    return(codage)\n",
    "\n",
    "def decodage( phrase ):\n",
    "    decodage = \"\"\n",
    "\n",
    "    for lettre in phrase:\n",
    "        trouve = False\n",
    "        for key in code:\n",
    "            if trouve == False and lettre == code[key]:\n",
    "                decodage += key\n",
    "                trouve = True\n",
    "            if not trouve:\n",
    "                decodage += lettre\n",
    "\n",
    "    return(decodage)\n",
    "\n",
    "code = {'e':'a', 'l':'m', 'o':'e'}\n",
    "s = 'Hello world!'\n",
    "\n",
    "s1 = codage(s)\n",
    "print( \"Codage de \\\"{}\\\" => \\\"{}\\\" \".format(s, s1) )\n",
    "\n",
    "s2 = decodage(s1)\n",
    "print( \"Décodage de \\\"{}\\\" => \\\"{}\\\" \".format(s1, s2) )\n",
    "\n",
    "#Exemple execution:\n",
    "#Codage de \"Hello world!\" => \"Hamme wermd!\"\n",
    "#Décodage de \"Hamme wermd!\" => \"Hello world!\""
   ]
  },
  {
   "cell_type": "markdown",
   "id": "8b4dc8b7",
   "metadata": {},
   "source": [
    "## Les fonctions\n",
    "\n",
    "#### Une fonction en Python est définie avec le mot clé def, suivi par le nom de la fonction, la signature entre parenthèses (), et un :\n",
    "\n",
    "#### Exemples:"
   ]
  },
  {
   "cell_type": "code",
   "execution_count": 53,
   "id": "f24c8856",
   "metadata": {},
   "outputs": [
    {
     "name": "stdout",
     "output_type": "stream",
     "text": [
      "programme principal\n",
      "Dans la fonction test\n",
      "retour au programme principal\n"
     ]
    }
   ],
   "source": [
    "# définition de la fonction\n",
    "def test():\n",
    "    print(\"Dans la fonction test\")\n",
    "\n",
    "print(\"programme principal\")\n",
    "test() # Appel effectif\n",
    "print(\"retour au programme principal\")"
   ]
  },
  {
   "cell_type": "markdown",
   "id": "e79fff72",
   "metadata": {},
   "source": [
    "#### Documenter une fonction (docstring):"
   ]
  },
  {
   "cell_type": "code",
   "execution_count": 54,
   "id": "25021481",
   "metadata": {},
   "outputs": [
    {
     "name": "stdout",
     "output_type": "stream",
     "text": [
      "Help on function func1 in module __main__:\n",
      "\n",
      "func1(s)\n",
      "    Affichage d'une chaine et de sa longueur\n",
      "\n",
      "longueur est de longueur 8\n"
     ]
    }
   ],
   "source": [
    "def func1(s):\n",
    "    \"\"\"\n",
    "    Affichage d'une chaine et de sa longueur\n",
    "    \"\"\"\n",
    "    print(s, \"est de longueur\", len(s))\n",
    "    return\n",
    "\n",
    "help(func1)\n",
    "func1(\"longueur\")"
   ]
  },
  {
   "cell_type": "markdown",
   "id": "7e41ed54",
   "metadata": {},
   "source": [
    "#### Retourner une valeur avec return:"
   ]
  },
  {
   "cell_type": "code",
   "execution_count": 55,
   "id": "897072a3",
   "metadata": {},
   "outputs": [
    {
     "name": "stdout",
     "output_type": "stream",
     "text": [
      "16\n"
     ]
    }
   ],
   "source": [
    "def square(x):\n",
    "    \"\"\"\n",
    "    Returne le carré de x.\n",
    "    \"\"\"\n",
    "    return(x ** 2)\n",
    "\n",
    "print(square(4))"
   ]
  },
  {
   "cell_type": "markdown",
   "id": "5a53e352",
   "metadata": {},
   "source": [
    "#### Retourner plusieurs valeurs:"
   ]
  },
  {
   "cell_type": "code",
   "execution_count": 56,
   "id": "78ff7c3d",
   "metadata": {},
   "outputs": [
    {
     "name": "stdout",
     "output_type": "stream",
     "text": [
      "(9, 27, 81)\n",
      "<class 'tuple'>\n",
      "x2 = 9 x3 = 27 x4 = 81\n",
      "9\n",
      "27\n",
      "81\n"
     ]
    }
   ],
   "source": [
    "def powers(x):\n",
    "    \"\"\"\n",
    "    Retourne les premières puissances de x.\n",
    "    \"\"\"\n",
    "    return( x ** 2, x ** 3, x ** 4 )\n",
    "\n",
    "print( powers(3) )\n",
    "print( type(powers(3)) )\n",
    "\n",
    "x2, x3, x4 = powers(3)\n",
    "print(\"x2 =\",x2, \"x3 =\",x3, \"x4 =\",x4)\n",
    "\n",
    "resultats = powers(3)\n",
    "for valeur in resultats:\n",
    "    print(valeur)"
   ]
  },
  {
   "cell_type": "markdown",
   "id": "f8286334",
   "metadata": {},
   "source": [
    "#### Arguments par défault\n",
    "\n",
    "#### Il est possible de fournir des valeurs par défault aux paramètres:"
   ]
  },
  {
   "cell_type": "code",
   "execution_count": 57,
   "id": "2ed910c1",
   "metadata": {},
   "outputs": [
    {
     "name": "stdout",
     "output_type": "stream",
     "text": [
      "Help on function puissance in module __main__:\n",
      "\n",
      "puissance(x, p=2, debug=False)\n",
      "    Calcule le resultat de x à la puissance p\n",
      "    parametres:\n",
      "        x opérande\n",
      "        p exposant (valeur par défaut 2)\n",
      "        debug affichage des paramétres (valeur par défaut False)\n",
      "\n",
      "27\n",
      "9\n",
      "debug: fonction puissance avec x = 5 et l'exposant p = 2\n",
      "25\n"
     ]
    }
   ],
   "source": [
    "def puissance(x, p=2, debug=False):\n",
    "    \"\"\"\n",
    "    Calcule le resultat de x à la puissance p\n",
    "    parametres:\n",
    "        x opérande\n",
    "        p exposant (valeur par défaut 2)\n",
    "        debug affichage des paramétres (valeur par défaut False)\n",
    "    \"\"\"\n",
    "    if debug:\n",
    "        print (\"debug: fonction puissance avec x =\", x, \"et l'exposant p =\", p)\n",
    "\n",
    "    return( x ** p )\n",
    "\n",
    "help(puissance)\n",
    "print( puissance(3,3) )\n",
    "print( puissance(3) )\n",
    "print( puissance(x=5, debug=True))"
   ]
  },
  {
   "cell_type": "markdown",
   "id": "96d6521b",
   "metadata": {},
   "source": [
    "\n",
    "### Classes\n",
    "\n",
    "#### Les classes sont les éléments centraux de la programmation orientée objet\n",
    "\n",
    "#### Classe: structure qui sert à représenter un objet et l'ensemble des opérations qui peuvent êtres effectuées sur ce dernier.\n",
    "\n",
    "#### Dans Python une classe contient des attributs (variables) et des méthodes (fonctions). Elle est définie de manière analogue aux fonctions mais en utilisant le mot clé class. La définition d’une classe contient généralement un certain nombre de méthodes de classe (des fonctions dans la classe).\n",
    "\n",
    "\n",
    "#### Le premier argument d'un méthode doit être self: argument obligatoire. Cet objet self est une auto-référence.\n",
    "\n",
    "#### Certains noms de méthodes ont un sens particulier, par exemple :\n",
    "\n",
    "#### \\__init\\__: nom de la méthode invoquée à la création de l'objet\n",
    "\n",
    "#### \\__str\\__ : méthode invoquée lorsque une représentation de la classe sous forme de chaîne de caractères est demandée, par exemple quand la classe est passée à print\n",
    "\n",
    "#### Exemple\n"
   ]
  },
  {
   "cell_type": "code",
   "execution_count": 60,
   "id": "b67b409d",
   "metadata": {},
   "outputs": [
    {
     "name": "stdout",
     "output_type": "stream",
     "text": [
      "<class '__main__.Point'>\n",
      "0\n",
      "0\n",
      "Point: [ 0.000000 , 0.000000 ]\n",
      "Point: [ 1.000000 , 1.000000 ]\n"
     ]
    }
   ],
   "source": [
    "class Point (object):\n",
    "    \"\"\"\n",
    "    Classe pour représenter un point dans le plan.\n",
    "    \"\"\"\n",
    "    def __init__(self, x, y):\n",
    "        \"\"\"\n",
    "        Creation d'un nouveau point en position x, y.\n",
    "        \"\"\"\n",
    "        self.x = x\n",
    "        self.y = y\n",
    "        \n",
    "    def translation(self, dx, dy):\n",
    "        \"\"\"\n",
    "        Translation du point de dx et dy.\n",
    "        \"\"\"\n",
    "        self.x += dx\n",
    "        self.y += dy\n",
    "        \n",
    "    def __str__(self):\n",
    "        return \"Point: [ %f , %f ]\" % (self.x, self.y)\n",
    "\n",
    "p1 = Point(x=0, y=0) # appel à __init__\n",
    "print( type(p1) )\n",
    "print( p1.x )\n",
    "print( p1.y )\n",
    "print( \"%s\" % p1 ) # appel à la méthode __str__\n",
    "p1.translation( dx=1, dy=1 )\n",
    "print( p1 )"
   ]
  },
  {
   "cell_type": "markdown",
   "id": "d250d706",
   "metadata": {},
   "source": [
    "#### Pour invoquer une méthode de la classe sur une instance p de celle-ci:"
   ]
  },
  {
   "cell_type": "code",
   "execution_count": 62,
   "id": "6501dbb7",
   "metadata": {},
   "outputs": [
    {
     "name": "stdout",
     "output_type": "stream",
     "text": [
      "Point: [ 1.250000 , 2.500000 ]\n",
      "Point: [ 1.000000 , 1.000000 ]\n"
     ]
    }
   ],
   "source": [
    "p2 = Point(1, 1)\n",
    "p1.translation(0.25, 1.5)\n",
    "print (p1)\n",
    "print (p2)"
   ]
  },
  {
   "cell_type": "markdown",
   "id": "7a542ac7",
   "metadata": {},
   "source": [
    "#### Remarques\n",
    "\n",
    "#### L'appel d'une méthode de classe peut modifier l'état d'une instance particulière. Cela n'affecte ni les autres instances ni les variables globales."
   ]
  },
  {
   "cell_type": "markdown",
   "id": "7bb8c5a8",
   "metadata": {},
   "source": [
    "### Exceptions\n",
    "\n",
    "#### Dans Python les erreurs sont gérées à travers des \"Exceptions\". Une erreur provoque une Exception qui interrompt l'exécution normale du programme. L'exécution peut éventuellement reprendre à l'intérieur d'un bloc de code try – except.\n",
    "\n",
    "#### Une utilisation typique: arrêter l'exécution d'une fonction en cas d'erreur"
   ]
  },
  {
   "cell_type": "code",
   "execution_count": 63,
   "id": "6715e89e",
   "metadata": {},
   "outputs": [
    {
     "name": "stdout",
     "output_type": "stream",
     "text": [
      "Votre age est  5\n"
     ]
    },
    {
     "ename": "Exception",
     "evalue": "Erreur: l'age ne peut être négatif",
     "output_type": "error",
     "traceback": [
      "\u001b[1;31m---------------------------------------------------------------------------\u001b[0m",
      "\u001b[1;31mException\u001b[0m                                 Traceback (most recent call last)",
      "\u001b[1;32m<ipython-input-63-43e2b0d7bd68>\u001b[0m in \u001b[0;36m<module>\u001b[1;34m\u001b[0m\n\u001b[0;32m      6\u001b[0m \u001b[1;33m\u001b[0m\u001b[0m\n\u001b[0;32m      7\u001b[0m \u001b[0maffiche_age\u001b[0m\u001b[1;33m(\u001b[0m\u001b[1;36m5\u001b[0m\u001b[1;33m)\u001b[0m\u001b[1;33m\u001b[0m\u001b[1;33m\u001b[0m\u001b[0m\n\u001b[1;32m----> 8\u001b[1;33m \u001b[0maffiche_age\u001b[0m\u001b[1;33m(\u001b[0m\u001b[1;33m-\u001b[0m\u001b[1;36m5\u001b[0m\u001b[1;33m)\u001b[0m\u001b[1;33m\u001b[0m\u001b[1;33m\u001b[0m\u001b[0m\n\u001b[0m",
      "\u001b[1;32m<ipython-input-63-43e2b0d7bd68>\u001b[0m in \u001b[0;36maffiche_age\u001b[1;34m(age)\u001b[0m\n\u001b[0;32m      1\u001b[0m \u001b[1;32mdef\u001b[0m \u001b[0maffiche_age\u001b[0m\u001b[1;33m(\u001b[0m\u001b[0mage\u001b[0m\u001b[1;33m)\u001b[0m\u001b[1;33m:\u001b[0m\u001b[1;33m\u001b[0m\u001b[1;33m\u001b[0m\u001b[0m\n\u001b[0;32m      2\u001b[0m     \u001b[1;32mif\u001b[0m \u001b[0mage\u001b[0m \u001b[1;33m<\u001b[0m \u001b[1;36m0\u001b[0m\u001b[1;33m:\u001b[0m\u001b[1;33m\u001b[0m\u001b[1;33m\u001b[0m\u001b[0m\n\u001b[1;32m----> 3\u001b[1;33m         \u001b[1;32mraise\u001b[0m \u001b[0mException\u001b[0m\u001b[1;33m(\u001b[0m\u001b[1;34m\"Erreur: l'age ne peut être négatif\"\u001b[0m\u001b[1;33m)\u001b[0m\u001b[1;33m\u001b[0m\u001b[1;33m\u001b[0m\u001b[0m\n\u001b[0m\u001b[0;32m      4\u001b[0m     \u001b[1;31m# et on continue\u001b[0m\u001b[1;33m\u001b[0m\u001b[1;33m\u001b[0m\u001b[1;33m\u001b[0m\u001b[0m\n\u001b[0;32m      5\u001b[0m     \u001b[0mprint\u001b[0m\u001b[1;33m(\u001b[0m \u001b[1;34m\"Votre age est \"\u001b[0m\u001b[1;33m,\u001b[0m \u001b[0mage\u001b[0m \u001b[1;33m)\u001b[0m\u001b[1;33m\u001b[0m\u001b[1;33m\u001b[0m\u001b[0m\n",
      "\u001b[1;31mException\u001b[0m: Erreur: l'age ne peut être négatif"
     ]
    }
   ],
   "source": [
    "def affiche_age(age):\n",
    "    if age < 0:\n",
    "        raise Exception(\"Erreur: l'age ne peut être négatif\")\n",
    "    # et on continue\n",
    "    print( \"Votre age est \", age )\n",
    "\n",
    "affiche_age(5)\n",
    "affiche_age(-5)"
   ]
  },
  {
   "cell_type": "code",
   "execution_count": 65,
   "id": "d8835b59",
   "metadata": {},
   "outputs": [
    {
     "name": "stdout",
     "output_type": "stream",
     "text": [
      "Saisir votre age : 5\n",
      "Votre age est  5\n",
      "Saisir votre age : -3\n"
     ]
    },
    {
     "ename": "Exception",
     "evalue": "Erreur: l'age ne peut être négatif",
     "output_type": "error",
     "traceback": [
      "\u001b[1;31m---------------------------------------------------------------------------\u001b[0m",
      "\u001b[1;31mException\u001b[0m                                 Traceback (most recent call last)",
      "\u001b[1;32m<ipython-input-65-85542c91ceb5>\u001b[0m in \u001b[0;36m<module>\u001b[1;34m\u001b[0m\n\u001b[0;32m      3\u001b[0m     \u001b[0msaisie_utilisateur\u001b[0m \u001b[1;33m=\u001b[0m \u001b[0minput\u001b[0m\u001b[1;33m(\u001b[0m\u001b[1;34m\"Saisir votre age : \"\u001b[0m\u001b[1;33m)\u001b[0m\u001b[1;33m\u001b[0m\u001b[1;33m\u001b[0m\u001b[0m\n\u001b[0;32m      4\u001b[0m     \u001b[0mage\u001b[0m \u001b[1;33m=\u001b[0m \u001b[0mint\u001b[0m\u001b[1;33m(\u001b[0m\u001b[0msaisie_utilisateur\u001b[0m\u001b[1;33m)\u001b[0m\u001b[1;33m\u001b[0m\u001b[1;33m\u001b[0m\u001b[0m\n\u001b[1;32m----> 5\u001b[1;33m     \u001b[0maffiche_age\u001b[0m\u001b[1;33m(\u001b[0m\u001b[0mage\u001b[0m\u001b[1;33m)\u001b[0m\u001b[1;33m\u001b[0m\u001b[1;33m\u001b[0m\u001b[0m\n\u001b[0m",
      "\u001b[1;32m<ipython-input-63-43e2b0d7bd68>\u001b[0m in \u001b[0;36maffiche_age\u001b[1;34m(age)\u001b[0m\n\u001b[0;32m      1\u001b[0m \u001b[1;32mdef\u001b[0m \u001b[0maffiche_age\u001b[0m\u001b[1;33m(\u001b[0m\u001b[0mage\u001b[0m\u001b[1;33m)\u001b[0m\u001b[1;33m:\u001b[0m\u001b[1;33m\u001b[0m\u001b[1;33m\u001b[0m\u001b[0m\n\u001b[0;32m      2\u001b[0m     \u001b[1;32mif\u001b[0m \u001b[0mage\u001b[0m \u001b[1;33m<\u001b[0m \u001b[1;36m0\u001b[0m\u001b[1;33m:\u001b[0m\u001b[1;33m\u001b[0m\u001b[1;33m\u001b[0m\u001b[0m\n\u001b[1;32m----> 3\u001b[1;33m         \u001b[1;32mraise\u001b[0m \u001b[0mException\u001b[0m\u001b[1;33m(\u001b[0m\u001b[1;34m\"Erreur: l'age ne peut être négatif\"\u001b[0m\u001b[1;33m)\u001b[0m\u001b[1;33m\u001b[0m\u001b[1;33m\u001b[0m\u001b[0m\n\u001b[0m\u001b[0;32m      4\u001b[0m     \u001b[1;31m# et on continue\u001b[0m\u001b[1;33m\u001b[0m\u001b[1;33m\u001b[0m\u001b[1;33m\u001b[0m\u001b[0m\n\u001b[0;32m      5\u001b[0m     \u001b[0mprint\u001b[0m\u001b[1;33m(\u001b[0m \u001b[1;34m\"Votre age est \"\u001b[0m\u001b[1;33m,\u001b[0m \u001b[0mage\u001b[0m \u001b[1;33m)\u001b[0m\u001b[1;33m\u001b[0m\u001b[1;33m\u001b[0m\u001b[0m\n",
      "\u001b[1;31mException\u001b[0m: Erreur: l'age ne peut être négatif"
     ]
    }
   ],
   "source": [
    "age = 999\n",
    "while ( age != 0 ):\n",
    "    saisie_utilisateur = input(\"Saisir votre age : \")\n",
    "    age = int(saisie_utilisateur)\n",
    "    affiche_age(age)"
   ]
  },
  {
   "cell_type": "markdown",
   "id": "f4408911",
   "metadata": {},
   "source": [
    "#### On utilise try et expect pour maîtriser les erreurs:"
   ]
  },
  {
   "cell_type": "code",
   "execution_count": 66,
   "id": "3fa8ae59",
   "metadata": {},
   "outputs": [
    {
     "name": "stdout",
     "output_type": "stream",
     "text": [
      "Saisir votre age : -2\n",
      "Erreur: age incorrect.\n",
      "Saisir votre age : 0\n",
      "Votre age est  0\n"
     ]
    }
   ],
   "source": [
    "age = 999\n",
    "while ( age != 0 ):\n",
    "    saisie_utilisateur = input(\"Saisir votre age : \")\n",
    "    age = int(saisie_utilisateur)\n",
    "    try:\n",
    "        affiche_age(age)\n",
    "    except:\n",
    "        print(\"Erreur: age incorrect.\")"
   ]
  },
  {
   "cell_type": "markdown",
   "id": "26de0454",
   "metadata": {},
   "source": [
    "#### Pour obtenir de l’information sur l’erreur: accéder à l’instance de la classe Exception concernée:"
   ]
  },
  {
   "cell_type": "code",
   "execution_count": 67,
   "id": "f7f2fec8",
   "metadata": {},
   "outputs": [
    {
     "name": "stdout",
     "output_type": "stream",
     "text": [
      "Une exception à été générée: Erreur: l'age ne peut être négatif\n"
     ]
    }
   ],
   "source": [
    "try:\n",
    "    affiche_age(-3)\n",
    "except Exception as e:\n",
    "    print (\"Une exception à été générée:\", e)\n"
   ]
  },
  {
   "cell_type": "code",
   "execution_count": null,
   "id": "b9693571",
   "metadata": {},
   "outputs": [],
   "source": []
  }
 ],
 "metadata": {
  "kernelspec": {
   "display_name": "Python 3",
   "language": "python",
   "name": "python3"
  },
  "language_info": {
   "codemirror_mode": {
    "name": "ipython",
    "version": 3
   },
   "file_extension": ".py",
   "mimetype": "text/x-python",
   "name": "python",
   "nbconvert_exporter": "python",
   "pygments_lexer": "ipython3",
   "version": "3.8.8"
  }
 },
 "nbformat": 4,
 "nbformat_minor": 5
}
