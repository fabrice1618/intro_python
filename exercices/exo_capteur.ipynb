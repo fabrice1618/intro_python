{
 "cells": [
  {
   "cell_type": "code",
   "execution_count": 16,
   "id": "aaeacd4c",
   "metadata": {},
   "outputs": [],
   "source": [
    "capteur = [ 45, 52, 60, 40, 65, 55, 50, 48 ]\n",
    "\n"
   ]
  },
  {
   "cell_type": "code",
   "execution_count": null,
   "id": "49cfd180",
   "metadata": {},
   "outputs": [],
   "source": [
    "# En utilisant les fonctions standard\n",
    "moyenne = sum(capteur) / len( capteur )\n",
    "print( \"moyenne =\", moyenne )"
   ]
  },
  {
   "cell_type": "code",
   "execution_count": 18,
   "id": "5e91e56e",
   "metadata": {},
   "outputs": [],
   "source": [
    "# sans utiliser de fonctions\n",
    "def moyenne():\n",
    "    nb_val = 0\n",
    "    total = 0\n",
    "    for val in capteur:\n",
    "        nb_val += 1\n",
    "        total += val\n",
    "\n",
    "    moyenne = total / nb_val\n",
    "    #print( \"moyenne =\", moyenne )\n",
    "    return(moyenne)"
   ]
  },
  {
   "cell_type": "code",
   "execution_count": 19,
   "id": "c60c4190",
   "metadata": {},
   "outputs": [],
   "source": [
    "# Recherche min et max\n",
    "def supprime_min_max():\n",
    "    for i in [1, 2]:\n",
    "        minival = capteur[0]\n",
    "        maxival = capteur[0]\n",
    "\n",
    "        for val in capteur:\n",
    "            if val < minival:\n",
    "                minival = val\n",
    "            if val > maxival:\n",
    "                maxival = val\n",
    "\n",
    "        print(\"valeur mini\", minival)\n",
    "        print(\"valeur maxi\", maxival)\n",
    "        capteur.remove(minival)\n",
    "        capteur.remove(maxival)\n"
   ]
  },
  {
   "cell_type": "code",
   "execution_count": 20,
   "id": "c6252e75",
   "metadata": {},
   "outputs": [
    {
     "name": "stdout",
     "output_type": "stream",
     "text": [
      "valeur mini 40\n",
      "valeur maxi 65\n",
      "valeur mini 45\n",
      "valeur maxi 60\n",
      "moyenne= 51.25\n"
     ]
    }
   ],
   "source": [
    "capteur = [ 45, 52, 60, 40, 65, 55, 50, 48 ]\n",
    "supprime_min_max()\n",
    "moyenne = moyenne()\n",
    "print(\"moyenne=\", moyenne)"
   ]
  },
  {
   "cell_type": "code",
   "execution_count": 21,
   "id": "06b9802f",
   "metadata": {},
   "outputs": [
    {
     "name": "stdout",
     "output_type": "stream",
     "text": [
      "Moyenne= 51.25\n"
     ]
    }
   ],
   "source": [
    "capteur = [ 45, 52, 60, 40, 65, 55, 50, 48 ]\n",
    "capteur.sort()\n",
    "total = 0\n",
    "nb_val = 0\n",
    "for val in capteur[2:-2]:\n",
    "    total += val\n",
    "    nb_val += 1\n",
    "print(\"Moyenne=\", total / nb_val)\n",
    "    \n",
    "    "
   ]
  },
  {
   "cell_type": "code",
   "execution_count": null,
   "id": "ba34ab27",
   "metadata": {},
   "outputs": [],
   "source": []
  }
 ],
 "metadata": {
  "kernelspec": {
   "display_name": "Python 3",
   "language": "python",
   "name": "python3"
  },
  "language_info": {
   "codemirror_mode": {
    "name": "ipython",
    "version": 3
   },
   "file_extension": ".py",
   "mimetype": "text/x-python",
   "name": "python",
   "nbconvert_exporter": "python",
   "pygments_lexer": "ipython3",
   "version": "3.8.8"
  }
 },
 "nbformat": 4,
 "nbformat_minor": 5
}
