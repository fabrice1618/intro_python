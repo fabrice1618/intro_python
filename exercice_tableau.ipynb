{
 "cells": [
  {
   "cell_type": "markdown",
   "id": "595b5f63",
   "metadata": {},
   "source": [
    "# Exercice tableau \n",
    "Soit les notes dans les différentes matière ci-dessous:\n",
    "\n",
    "écrire le programme permettant de calculer la moyenne, la note minimum et la note maximum pour chacunes des matières et d'afficher le résultat dans la forme ci-dessous."
   ]
  },
  {
   "cell_type": "markdown",
   "id": "bf9d7d65",
   "metadata": {},
   "source": [
    "\n",
    "```\n",
    "Matière\t\tminimum\tMoyenne\tmaximum\n",
    "grec     \t  3\t       8.67\t   18\n",
    "latin    \t  0\t       7.0\t    13\n",
    "histoire \t  6\t       10.4\t   18\n",
    "géométrie\t  0\t       10.0\t   17\n",
    "```"
   ]
  },
  {
   "cell_type": "code",
   "execution_count": 2,
   "id": "81dc7728",
   "metadata": {},
   "outputs": [],
   "source": [
    "notes = [\n",
    "    [\"Albert\", \"grec\", 4],\n",
    "    [\"Bernard\", \"grec\", 18],\n",
    "    [\"Charles\", \"grec\", 4],\n",
    "    [\"Denise\", \"grec\", 18],\n",
    "    [\"Edgar\", \"grec\", 3],\n",
    "    [\"Frédégonde\", \"grec\", 5],\n",
    "    [\"Albert\", \"latin\", 13],\n",
    "    [\"Bernard\", \"latin\", 0],\n",
    "    [\"Charles\", \"latin\", 9],\n",
    "    [\"Denise\", \"latin\", 11],\n",
    "    [\"Edgar\", \"latin\", 3],\n",
    "    [\"Frédégonde\", \"latin\", 6],\n",
    "    [\"Albert\", \"histoire\", 'Absent'],\n",
    "    [\"Bernard\", \"histoire\", 6],\n",
    "    [\"Charles\", \"histoire\", 18],\n",
    "    [\"Denise\", \"histoire\", 7],\n",
    "    [\"Edgar\", \"histoire\", 13],\n",
    "    [\"Frédégonde\", \"histoire\", 8],\n",
    "    [\"Albert\", \"géométrie\", 11],\n",
    "    [\"Bernard\", \"géométrie\", 16],\n",
    "    [\"Charles\", \"géométrie\", 17],\n",
    "    [\"Denise\", \"géométrie\", 0],\n",
    "    [\"Edgar\", \"géométrie\", 3],\n",
    "    [\"Frédégonde\", \"géométrie\", 13]\n",
    "]"
   ]
  },
  {
   "cell_type": "code",
   "execution_count": 1,
   "id": "198f420a",
   "metadata": {},
   "outputs": [],
   "source": [
    "# Votre code ici"
   ]
  },
  {
   "cell_type": "code",
   "execution_count": null,
   "id": "7f22778c",
   "metadata": {},
   "outputs": [],
   "source": []
  }
 ],
 "metadata": {
  "kernelspec": {
   "display_name": "Python 3",
   "language": "python",
   "name": "python3"
  },
  "language_info": {
   "codemirror_mode": {
    "name": "ipython",
    "version": 3
   },
   "file_extension": ".py",
   "mimetype": "text/x-python",
   "name": "python",
   "nbconvert_exporter": "python",
   "pygments_lexer": "ipython3",
   "version": "3.8.8"
  }
 },
 "nbformat": 4,
 "nbformat_minor": 5
}
