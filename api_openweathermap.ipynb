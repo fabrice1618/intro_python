{
 "cells": [
  {
   "cell_type": "markdown",
   "id": "e566e8d1",
   "metadata": {},
   "source": [
    "# API OpenWeatherMap\n",
    "\n"
   ]
  },
  {
   "cell_type": "markdown",
   "id": "6f5b796c",
   "metadata": {},
   "source": [
    "## Configuration de l'application:\n",
    "\n",
    "- api_key\n",
    "\n",
    "Définition des fonctions pour la gestion de la configuration"
   ]
  },
  {
   "cell_type": "code",
   "execution_count": 5,
   "id": "e18a693d",
   "metadata": {},
   "outputs": [],
   "source": [
    "# Configuration de base\n",
    "\n",
    "import json\n",
    "import os\n",
    "import requests\n",
    "\n",
    "# verifie l'existence du fichier config.json\n",
    "def exist_config_file():\n",
    "    existe = False\n",
    "\n",
    "    files = os.listdir('.')\n",
    "    if 'config.json' in files:\n",
    "        existe = True\n",
    "\n",
    "    return( existe )\n",
    "\n",
    "# Lecture de la configuration dans config.json\n",
    "def read_config_file():\n",
    "    if exist_config_file():\n",
    "        with open('./config.json') as fichier:\n",
    "            print(\"Chargement configuration\")\n",
    "            config = json.load(fichier)\n",
    "\n",
    "    return( config )\n",
    "\n",
    "# Ecriture de la config config.json\n",
    "def write_config_file( config ):\n",
    "    with open('./config.json', 'w') as fichier:\n",
    "        json.dump(config, fichier)\n",
    "\n",
    "    return\n",
    "\n",
    "def get_config( param ):\n",
    "    val = \"\"\n",
    "    if param in config:\n",
    "        val = config[param]\n",
    "\n",
    "    return( val )\n",
    "\n",
    "def set_config( param, val ):\n",
    "    config[param] = val\n",
    "\n",
    "    return( True )\n",
    "\n",
    "def del_config( param ):\n",
    "    del config[param]\n",
    "    \n",
    "    return( True )"
   ]
  },
  {
   "cell_type": "markdown",
   "id": "d8371c1d",
   "metadata": {},
   "source": [
    "### Chargement de la configuration sinon création d\"une configuration de base"
   ]
  },
  {
   "cell_type": "code",
   "execution_count": 34,
   "id": "d3f95919",
   "metadata": {},
   "outputs": [
    {
     "name": "stdout",
     "output_type": "stream",
     "text": [
      "Chargement configuration\n",
      "{'api_key': 'a796841ff7a6a3e25e468f5f06628209', 'lat': 45.4401467, 'lon': 4.3873058}\n"
     ]
    }
   ],
   "source": [
    "# Chargement de la configuration ou création d\"une configuration de base\n",
    "\n",
    "# Variable de configuration globale\n",
    "config = {}\n",
    "\n",
    "if exist_config_file():\n",
    "    \n",
    "    config = read_config_file()\n",
    "    print(config)\n",
    "    \n",
    "else:\n",
    "    print(\"Erreur pas de fichier de configuration config.json\")\n",
    "    \n",
    "    api_key = input(\"Entrez votre clé d'API openWeather Map: \")\n",
    "    set_config( \"api_key\", api_key )\n",
    "    \n",
    "    write_config_file( config )\n",
    "    "
   ]
  },
  {
   "cell_type": "markdown",
   "id": "c2a563f4",
   "metadata": {},
   "source": [
    "### Geocoding API\n",
    "\n",
    "Documentation : https://openweathermap.org/api/geocoding-api\n",
    "\n",
    "Faire une requete pour rechercher une ville:"
   ]
  },
  {
   "cell_type": "code",
   "execution_count": 32,
   "id": "7b59789d",
   "metadata": {},
   "outputs": [
    {
     "name": "stdout",
     "output_type": "stream",
     "text": [
      "Saisir une ville : saint etienne\n",
      "Code pays (ISO 3166) : \n",
      "0 ['Saint-Étienne', 'Saint-Étienne', 45.4401467, 4.3873058, 'FR', 'Auvergne-Rhône-Alpes']\n",
      "1 ['Saint-Étienne-la-Cigogne', 'Saint-Étienne-la-Cigogne', 46.1148482, -0.5034125, 'FR', 'Nouvelle-Aquitaine']\n",
      "2 ['Saint-Étienne', 'Saint-Étienne', 45.409604200000004, 4.484915566669622, 'FR', 'Auvergne-Rhône-Alpes']\n",
      "3 ['Saint Etienne', '', -29.1458205, -51.1529959, 'BR', 'Rio Grande do Sul']\n",
      "4 ['Saint-Etienne', '', 44.6995545, 4.8478246, 'FR', 'Auvergne-Rhône-Alpes']\n"
     ]
    }
   ],
   "source": [
    "ville = input(\"Saisir une ville : \")\n",
    "pays = input(\"Code pays (ISO 3166) : \")\n",
    "\n",
    "url_api = \"http://api.openweathermap.org/geo/1.0/direct?limit=20&appid=\" + get_config(\"api_key\")\n",
    "url_api += \"&q=\" + ville\n",
    "if len(pays) > 0:\n",
    "    url_api += \",\" + pays\n",
    "\n",
    "# Executer la requete\n",
    "req = requests.get( url_api )\n",
    "api_data = req.json()\n",
    "\n",
    "# print(api_data)\n",
    "\n",
    "geo_match = []\n",
    "\n",
    "for index_geo, geo_loc in enumerate(api_data):\n",
    "    local_name = \"\"\n",
    "    if \"local_names\" in geo_loc:\n",
    "            for key in geo_loc[\"local_names\"]:\n",
    "                if local_name == \"\" and key == \"fr\":\n",
    "                    local_name = geo_loc[\"local_names\"][key]\n",
    "    geo_match.append( [geo_loc[\"name\"], local_name, geo_loc[\"lat\"], geo_loc[\"lon\"], geo_loc[\"country\"], geo_loc[\"state\"] ] )\n",
    "\n",
    "# Affichage des localisations trouvées\n",
    "for index_geo, geo_loc in enumerate(geo_match):\n",
    "    print(index_geo, geo_loc)\n",
    "    "
   ]
  },
  {
   "cell_type": "markdown",
   "id": "bad01d05",
   "metadata": {},
   "source": [
    "#### enregistrement de la configuration d'une localisation trouvé"
   ]
  },
  {
   "cell_type": "code",
   "execution_count": 35,
   "id": "d8b27896",
   "metadata": {},
   "outputs": [
    {
     "name": "stdout",
     "output_type": "stream",
     "text": [
      "Numéro de localisation à paramétrer : 0\n"
     ]
    }
   ],
   "source": [
    "index_geo = int( input(\"Numéro de localisation à paramétrer : \") )\n",
    "\n",
    "set_config( \"lat\", geo_match[index_geo][2] )\n",
    "set_config( \"lon\", geo_match[index_geo][3] )\n",
    "    \n",
    "write_config_file( config )"
   ]
  },
  {
   "cell_type": "markdown",
   "id": "dee9232b",
   "metadata": {},
   "source": [
    "### Appel API météo actuelle"
   ]
  },
  {
   "cell_type": "code",
   "execution_count": 58,
   "id": "a5ea1c00",
   "metadata": {},
   "outputs": [
    {
     "name": "stdout",
     "output_type": "stream",
     "text": [
      "{'meteo': 'légère pluie', 'icon': '10n', 'lieu': 'Saint-Étienne', 'coord_lon': 4.3873, 'coord_lat': 45.4401, 'vent_kph': 18.503999999999998, 'vent_dir': 190, 'temp_ressentie': 16.47, 'temperature': 16.94, 'humidite': 68, 'pression': 1012, 'sunrise': 1666332370, 'sunset': 1666370863}\n"
     ]
    }
   ],
   "source": [
    "# Endpoint current weather data\n",
    "# Documentation : https://openweathermap.org/current\n",
    "\n",
    "url_api = \"http://api.openweathermap.org/data/2.5/weather?units=metric&lang=fr&appid=\" + get_config(\"api_key\")\n",
    "url_api += \"&lat=\" + str( get_config(\"lat\") )\n",
    "url_api += \"&lon=\" + str( get_config(\"lon\") )\n",
    "\n",
    "# Executer la requete\n",
    "req = requests.get( url_api )\n",
    "api_data = req.json()\n",
    "\n",
    "#print(api_data)\n",
    "\n",
    "meteo = {}\n",
    "meteo['meteo'] = api_data[\"weather\"][0][\"description\"]\n",
    "meteo['icon'] = api_data[\"weather\"][0][\"icon\"]\n",
    "meteo['lieu'] = api_data[\"name\"]\n",
    "meteo['coord_lon'] = api_data[\"coord\"][\"lon\"]\n",
    "meteo['coord_lat'] = api_data[\"coord\"][\"lat\"]\n",
    "meteo['vent_kph'] = api_data[\"wind\"][\"speed\"] * 3.6\n",
    "meteo['vent_dir'] = api_data[\"wind\"][\"deg\"]\n",
    "meteo['temp_ressentie'] = api_data[\"main\"][\"feels_like\"]\n",
    "meteo['temperature'] = api_data[\"main\"][\"temp\"]\n",
    "meteo['humidite'] = api_data[\"main\"][\"humidity\"]\n",
    "meteo['pression'] = api_data[\"main\"][\"pressure\"]\n",
    "meteo['sunrise'] = api_data[\"sys\"][\"sunrise\"]\n",
    "meteo['sunset'] = api_data[\"sys\"][\"sunset\"]\n",
    "\n",
    "print(meteo)"
   ]
  },
  {
   "cell_type": "markdown",
   "id": "bd1b9687",
   "metadata": {},
   "source": [
    "### Appel API prévisions météo"
   ]
  },
  {
   "cell_type": "code",
   "execution_count": 61,
   "id": "c9c6fdf6",
   "metadata": {},
   "outputs": [
    {
     "name": "stdout",
     "output_type": "stream",
     "text": [
      "{'cod': '200', 'message': 0, 'cnt': 40, 'list': [{'dt': 1666321200, 'main': {'temp': 16.94, 'feels_like': 16.47, 'temp_min': 15.1, 'temp_max': 16.94, 'pressure': 1012, 'sea_level': 1012, 'grnd_level': 951, 'humidity': 68, 'temp_kf': 1.84}, 'weather': [{'id': 501, 'main': 'Rain', 'description': 'pluie modérée', 'icon': '10n'}], 'clouds': {'all': 100}, 'wind': {'speed': 4.22, 'deg': 179, 'gust': 12.64}, 'visibility': 3947, 'pop': 0.99, 'rain': {'3h': 10.17}, 'sys': {'pod': 'n'}, 'dt_txt': '2022-10-21 03:00:00'}, {'dt': 1666332000, 'main': {'temp': 15.86, 'feels_like': 15.49, 'temp_min': 13.71, 'temp_max': 15.86, 'pressure': 1012, 'sea_level': 1012, 'grnd_level': 952, 'humidity': 76, 'temp_kf': 2.15}, 'weather': [{'id': 502, 'main': 'Rain', 'description': 'forte pluie', 'icon': '10n'}], 'clouds': {'all': 100}, 'wind': {'speed': 2.17, 'deg': 175, 'gust': 3.03}, 'visibility': 10000, 'pop': 0.99, 'rain': {'3h': 16.97}, 'sys': {'pod': 'n'}, 'dt_txt': '2022-10-21 06:00:00'}, {'dt': 1666342800, 'main': {'temp': 17.02, 'feels_like': 16.81, 'temp_min': 17.02, 'temp_max': 17.06, 'pressure': 1013, 'sea_level': 1013, 'grnd_level': 954, 'humidity': 78, 'temp_kf': -0.04}, 'weather': [{'id': 500, 'main': 'Rain', 'description': 'légère pluie', 'icon': '10d'}], 'clouds': {'all': 99}, 'wind': {'speed': 1.44, 'deg': 153, 'gust': 3.12}, 'visibility': 10000, 'pop': 0.8, 'rain': {'3h': 0.98}, 'sys': {'pod': 'd'}, 'dt_txt': '2022-10-21 09:00:00'}, {'dt': 1666353600, 'main': {'temp': 18.97, 'feels_like': 18.93, 'temp_min': 18.97, 'temp_max': 18.97, 'pressure': 1013, 'sea_level': 1013, 'grnd_level': 954, 'humidity': 77, 'temp_kf': 0}, 'weather': [{'id': 500, 'main': 'Rain', 'description': 'légère pluie', 'icon': '10d'}], 'clouds': {'all': 99}, 'wind': {'speed': 3.43, 'deg': 174, 'gust': 7.05}, 'visibility': 10000, 'pop': 1, 'rain': {'3h': 2.62}, 'sys': {'pod': 'd'}, 'dt_txt': '2022-10-21 12:00:00'}, {'dt': 1666364400, 'main': {'temp': 17.99, 'feels_like': 17.91, 'temp_min': 17.99, 'temp_max': 17.99, 'pressure': 1011, 'sea_level': 1011, 'grnd_level': 952, 'humidity': 79, 'temp_kf': 0}, 'weather': [{'id': 500, 'main': 'Rain', 'description': 'légère pluie', 'icon': '10d'}], 'clouds': {'all': 100}, 'wind': {'speed': 2.59, 'deg': 175, 'gust': 5.33}, 'visibility': 10000, 'pop': 1, 'rain': {'3h': 2.87}, 'sys': {'pod': 'd'}, 'dt_txt': '2022-10-21 15:00:00'}, {'dt': 1666375200, 'main': {'temp': 15.64, 'feels_like': 15.61, 'temp_min': 15.64, 'temp_max': 15.64, 'pressure': 1013, 'sea_level': 1013, 'grnd_level': 952, 'humidity': 90, 'temp_kf': 0}, 'weather': [{'id': 501, 'main': 'Rain', 'description': 'pluie modérée', 'icon': '10n'}], 'clouds': {'all': 100}, 'wind': {'speed': 2.86, 'deg': 178, 'gust': 6.16}, 'visibility': 10000, 'pop': 1, 'rain': {'3h': 3.57}, 'sys': {'pod': 'n'}, 'dt_txt': '2022-10-21 18:00:00'}, {'dt': 1666386000, 'main': {'temp': 15.27, 'feels_like': 15.1, 'temp_min': 15.27, 'temp_max': 15.27, 'pressure': 1015, 'sea_level': 1015, 'grnd_level': 954, 'humidity': 86, 'temp_kf': 0}, 'weather': [{'id': 500, 'main': 'Rain', 'description': 'légère pluie', 'icon': '10n'}], 'clouds': {'all': 100}, 'wind': {'speed': 3.07, 'deg': 224, 'gust': 6.81}, 'visibility': 10000, 'pop': 0.98, 'rain': {'3h': 2.04}, 'sys': {'pod': 'n'}, 'dt_txt': '2022-10-21 21:00:00'}, {'dt': 1666396800, 'main': {'temp': 14.07, 'feels_like': 13.7, 'temp_min': 14.07, 'temp_max': 14.07, 'pressure': 1015, 'sea_level': 1015, 'grnd_level': 955, 'humidity': 83, 'temp_kf': 0}, 'weather': [{'id': 804, 'main': 'Clouds', 'description': 'couvert', 'icon': '04n'}], 'clouds': {'all': 100}, 'wind': {'speed': 1.84, 'deg': 192, 'gust': 1.94}, 'visibility': 10000, 'pop': 0.89, 'sys': {'pod': 'n'}, 'dt_txt': '2022-10-22 00:00:00'}, {'dt': 1666407600, 'main': {'temp': 13.57, 'feels_like': 13.15, 'temp_min': 13.57, 'temp_max': 13.57, 'pressure': 1015, 'sea_level': 1015, 'grnd_level': 955, 'humidity': 83, 'temp_kf': 0}, 'weather': [{'id': 804, 'main': 'Clouds', 'description': 'couvert', 'icon': '04n'}], 'clouds': {'all': 100}, 'wind': {'speed': 0.79, 'deg': 168, 'gust': 0.94}, 'visibility': 10000, 'pop': 0.29, 'sys': {'pod': 'n'}, 'dt_txt': '2022-10-22 03:00:00'}, {'dt': 1666418400, 'main': {'temp': 12.37, 'feels_like': 12.06, 'temp_min': 12.37, 'temp_max': 12.37, 'pressure': 1017, 'sea_level': 1017, 'grnd_level': 956, 'humidity': 92, 'temp_kf': 0}, 'weather': [{'id': 804, 'main': 'Clouds', 'description': 'couvert', 'icon': '04n'}], 'clouds': {'all': 100}, 'wind': {'speed': 1.21, 'deg': 131, 'gust': 1.3}, 'visibility': 10000, 'pop': 0.21, 'sys': {'pod': 'n'}, 'dt_txt': '2022-10-22 06:00:00'}, {'dt': 1666429200, 'main': {'temp': 16.33, 'feels_like': 16.03, 'temp_min': 16.33, 'temp_max': 16.33, 'pressure': 1018, 'sea_level': 1018, 'grnd_level': 958, 'humidity': 77, 'temp_kf': 0}, 'weather': [{'id': 802, 'main': 'Clouds', 'description': 'partiellement nuageux', 'icon': '03d'}], 'clouds': {'all': 33}, 'wind': {'speed': 1.1, 'deg': 137, 'gust': 1.71}, 'visibility': 10000, 'pop': 0.01, 'sys': {'pod': 'd'}, 'dt_txt': '2022-10-22 09:00:00'}, {'dt': 1666440000, 'main': {'temp': 20.21, 'feels_like': 19.7, 'temp_min': 20.21, 'temp_max': 20.21, 'pressure': 1017, 'sea_level': 1017, 'grnd_level': 958, 'humidity': 54, 'temp_kf': 0}, 'weather': [{'id': 500, 'main': 'Rain', 'description': 'légère pluie', 'icon': '10d'}], 'clouds': {'all': 16}, 'wind': {'speed': 1.52, 'deg': 113, 'gust': 2.29}, 'visibility': 10000, 'pop': 0.21, 'rain': {'3h': 0.11}, 'sys': {'pod': 'd'}, 'dt_txt': '2022-10-22 12:00:00'}, {'dt': 1666450800, 'main': {'temp': 19.99, 'feels_like': 19.56, 'temp_min': 19.99, 'temp_max': 19.99, 'pressure': 1016, 'sea_level': 1016, 'grnd_level': 957, 'humidity': 58, 'temp_kf': 0}, 'weather': [{'id': 800, 'main': 'Clear', 'description': 'ciel dégagé', 'icon': '01d'}], 'clouds': {'all': 5}, 'wind': {'speed': 1.82, 'deg': 101, 'gust': 2.66}, 'visibility': 10000, 'pop': 0, 'sys': {'pod': 'd'}, 'dt_txt': '2022-10-22 15:00:00'}, {'dt': 1666461600, 'main': {'temp': 14.02, 'feels_like': 13.59, 'temp_min': 14.02, 'temp_max': 14.02, 'pressure': 1018, 'sea_level': 1018, 'grnd_level': 957, 'humidity': 81, 'temp_kf': 0}, 'weather': [{'id': 801, 'main': 'Clouds', 'description': 'peu nuageux', 'icon': '02n'}], 'clouds': {'all': 11}, 'wind': {'speed': 2.05, 'deg': 164, 'gust': 2.13}, 'visibility': 10000, 'pop': 0, 'sys': {'pod': 'n'}, 'dt_txt': '2022-10-22 18:00:00'}, {'dt': 1666472400, 'main': {'temp': 12.58, 'feels_like': 11.9, 'temp_min': 12.58, 'temp_max': 12.58, 'pressure': 1018, 'sea_level': 1018, 'grnd_level': 957, 'humidity': 77, 'temp_kf': 0}, 'weather': [{'id': 802, 'main': 'Clouds', 'description': 'partiellement nuageux', 'icon': '03n'}], 'clouds': {'all': 50}, 'wind': {'speed': 2.04, 'deg': 166, 'gust': 2.49}, 'visibility': 10000, 'pop': 0, 'sys': {'pod': 'n'}, 'dt_txt': '2022-10-22 21:00:00'}, {'dt': 1666483200, 'main': {'temp': 13, 'feels_like': 12.47, 'temp_min': 13, 'temp_max': 13, 'pressure': 1016, 'sea_level': 1016, 'grnd_level': 955, 'humidity': 81, 'temp_kf': 0}, 'weather': [{'id': 802, 'main': 'Clouds', 'description': 'partiellement nuageux', 'icon': '03n'}], 'clouds': {'all': 44}, 'wind': {'speed': 2.1, 'deg': 169, 'gust': 3.42}, 'visibility': 10000, 'pop': 0, 'sys': {'pod': 'n'}, 'dt_txt': '2022-10-23 00:00:00'}, {'dt': 1666494000, 'main': {'temp': 13.29, 'feels_like': 12.95, 'temp_min': 13.29, 'temp_max': 13.29, 'pressure': 1016, 'sea_level': 1016, 'grnd_level': 955, 'humidity': 87, 'temp_kf': 0}, 'weather': [{'id': 803, 'main': 'Clouds', 'description': 'nuageux', 'icon': '04n'}], 'clouds': {'all': 66}, 'wind': {'speed': 2.59, 'deg': 168, 'gust': 3.57}, 'visibility': 10000, 'pop': 0, 'sys': {'pod': 'n'}, 'dt_txt': '2022-10-23 03:00:00'}, {'dt': 1666504800, 'main': {'temp': 14.71, 'feels_like': 14.3, 'temp_min': 14.71, 'temp_max': 14.71, 'pressure': 1015, 'sea_level': 1015, 'grnd_level': 954, 'humidity': 79, 'temp_kf': 0}, 'weather': [{'id': 803, 'main': 'Clouds', 'description': 'nuageux', 'icon': '04n'}], 'clouds': {'all': 83}, 'wind': {'speed': 4.06, 'deg': 174, 'gust': 10.27}, 'visibility': 10000, 'pop': 0, 'sys': {'pod': 'n'}, 'dt_txt': '2022-10-23 06:00:00'}, {'dt': 1666515600, 'main': {'temp': 19.99, 'feels_like': 19.77, 'temp_min': 19.99, 'temp_max': 19.99, 'pressure': 1014, 'sea_level': 1014, 'grnd_level': 955, 'humidity': 66, 'temp_kf': 0}, 'weather': [{'id': 804, 'main': 'Clouds', 'description': 'couvert', 'icon': '04d'}], 'clouds': {'all': 93}, 'wind': {'speed': 7.22, 'deg': 170, 'gust': 16.46}, 'visibility': 10000, 'pop': 0.02, 'sys': {'pod': 'd'}, 'dt_txt': '2022-10-23 09:00:00'}, {'dt': 1666526400, 'main': {'temp': 21.97, 'feels_like': 21.74, 'temp_min': 21.97, 'temp_max': 21.97, 'pressure': 1014, 'sea_level': 1014, 'grnd_level': 955, 'humidity': 58, 'temp_kf': 0}, 'weather': [{'id': 803, 'main': 'Clouds', 'description': 'nuageux', 'icon': '04d'}], 'clouds': {'all': 81}, 'wind': {'speed': 7.03, 'deg': 176, 'gust': 16.22}, 'visibility': 10000, 'pop': 0.01, 'sys': {'pod': 'd'}, 'dt_txt': '2022-10-23 12:00:00'}, {'dt': 1666537200, 'main': {'temp': 19.52, 'feels_like': 19.41, 'temp_min': 19.52, 'temp_max': 19.52, 'pressure': 1015, 'sea_level': 1015, 'grnd_level': 955, 'humidity': 72, 'temp_kf': 0}, 'weather': [{'id': 500, 'main': 'Rain', 'description': 'légère pluie', 'icon': '10d'}], 'clouds': {'all': 82}, 'wind': {'speed': 5.31, 'deg': 207, 'gust': 12}, 'visibility': 10000, 'pop': 0.32, 'rain': {'3h': 0.52}, 'sys': {'pod': 'd'}, 'dt_txt': '2022-10-23 15:00:00'}, {'dt': 1666548000, 'main': {'temp': 15.85, 'feels_like': 15.61, 'temp_min': 15.85, 'temp_max': 15.85, 'pressure': 1015, 'sea_level': 1015, 'grnd_level': 954, 'humidity': 81, 'temp_kf': 0}, 'weather': [{'id': 501, 'main': 'Rain', 'description': 'pluie modérée', 'icon': '10n'}], 'clouds': {'all': 91}, 'wind': {'speed': 6.38, 'deg': 196, 'gust': 16.86}, 'visibility': 9723, 'pop': 0.83, 'rain': {'3h': 8.84}, 'sys': {'pod': 'n'}, 'dt_txt': '2022-10-23 18:00:00'}, {'dt': 1666558800, 'main': {'temp': 14.89, 'feels_like': 14.86, 'temp_min': 14.89, 'temp_max': 14.89, 'pressure': 1015, 'sea_level': 1015, 'grnd_level': 954, 'humidity': 93, 'temp_kf': 0}, 'weather': [{'id': 501, 'main': 'Rain', 'description': 'pluie modérée', 'icon': '10n'}], 'clouds': {'all': 91}, 'wind': {'speed': 2.96, 'deg': 176, 'gust': 5.6}, 'visibility': 10000, 'pop': 0.75, 'rain': {'3h': 4.58}, 'sys': {'pod': 'n'}, 'dt_txt': '2022-10-23 21:00:00'}, {'dt': 1666569600, 'main': {'temp': 15.36, 'feels_like': 15.33, 'temp_min': 15.36, 'temp_max': 15.36, 'pressure': 1014, 'sea_level': 1014, 'grnd_level': 954, 'humidity': 91, 'temp_kf': 0}, 'weather': [{'id': 501, 'main': 'Rain', 'description': 'pluie modérée', 'icon': '10n'}], 'clouds': {'all': 95}, 'wind': {'speed': 2.79, 'deg': 176, 'gust': 5.15}, 'visibility': 10000, 'pop': 0.9, 'rain': {'3h': 3.43}, 'sys': {'pod': 'n'}, 'dt_txt': '2022-10-24 00:00:00'}, {'dt': 1666580400, 'main': {'temp': 14.55, 'feels_like': 14.46, 'temp_min': 14.55, 'temp_max': 14.55, 'pressure': 1014, 'sea_level': 1014, 'grnd_level': 953, 'humidity': 92, 'temp_kf': 0}, 'weather': [{'id': 500, 'main': 'Rain', 'description': 'légère pluie', 'icon': '10n'}], 'clouds': {'all': 91}, 'wind': {'speed': 2.32, 'deg': 166, 'gust': 3.77}, 'visibility': 10000, 'pop': 0.9, 'rain': {'3h': 1.27}, 'sys': {'pod': 'n'}, 'dt_txt': '2022-10-24 03:00:00'}, {'dt': 1666591200, 'main': {'temp': 14.53, 'feels_like': 14.44, 'temp_min': 14.53, 'temp_max': 14.53, 'pressure': 1013, 'sea_level': 1013, 'grnd_level': 953, 'humidity': 92, 'temp_kf': 0}, 'weather': [{'id': 500, 'main': 'Rain', 'description': 'légère pluie', 'icon': '10n'}], 'clouds': {'all': 95}, 'wind': {'speed': 2.36, 'deg': 176, 'gust': 4.58}, 'visibility': 10000, 'pop': 0.88, 'rain': {'3h': 1.17}, 'sys': {'pod': 'n'}, 'dt_txt': '2022-10-24 06:00:00'}, {'dt': 1666602000, 'main': {'temp': 16.09, 'feels_like': 16.03, 'temp_min': 16.09, 'temp_max': 16.09, 'pressure': 1015, 'sea_level': 1015, 'grnd_level': 955, 'humidity': 87, 'temp_kf': 0}, 'weather': [{'id': 501, 'main': 'Rain', 'description': 'pluie modérée', 'icon': '10d'}], 'clouds': {'all': 100}, 'wind': {'speed': 1.68, 'deg': 232, 'gust': 3.98}, 'visibility': 10000, 'pop': 0.91, 'rain': {'3h': 4.49}, 'sys': {'pod': 'd'}, 'dt_txt': '2022-10-24 09:00:00'}, {'dt': 1666612800, 'main': {'temp': 17.68, 'feels_like': 17.46, 'temp_min': 17.68, 'temp_max': 17.68, 'pressure': 1015, 'sea_level': 1015, 'grnd_level': 955, 'humidity': 75, 'temp_kf': 0}, 'weather': [{'id': 501, 'main': 'Rain', 'description': 'pluie modérée', 'icon': '10d'}], 'clouds': {'all': 100}, 'wind': {'speed': 2.09, 'deg': 226, 'gust': 4.84}, 'visibility': 10000, 'pop': 0.85, 'rain': {'3h': 3.52}, 'sys': {'pod': 'd'}, 'dt_txt': '2022-10-24 12:00:00'}, {'dt': 1666623600, 'main': {'temp': 18.45, 'feels_like': 18.26, 'temp_min': 18.45, 'temp_max': 18.45, 'pressure': 1015, 'sea_level': 1015, 'grnd_level': 955, 'humidity': 73, 'temp_kf': 0}, 'weather': [{'id': 500, 'main': 'Rain', 'description': 'légère pluie', 'icon': '10d'}], 'clouds': {'all': 100}, 'wind': {'speed': 1.28, 'deg': 247, 'gust': 2.79}, 'visibility': 10000, 'pop': 0.51, 'rain': {'3h': 0.56}, 'sys': {'pod': 'd'}, 'dt_txt': '2022-10-24 15:00:00'}, {'dt': 1666634400, 'main': {'temp': 14.05, 'feels_like': 13.6, 'temp_min': 14.05, 'temp_max': 14.05, 'pressure': 1017, 'sea_level': 1017, 'grnd_level': 956, 'humidity': 80, 'temp_kf': 0}, 'weather': [{'id': 804, 'main': 'Clouds', 'description': 'couvert', 'icon': '04n'}], 'clouds': {'all': 100}, 'wind': {'speed': 1.73, 'deg': 225, 'gust': 1.97}, 'visibility': 10000, 'pop': 0.39, 'sys': {'pod': 'n'}, 'dt_txt': '2022-10-24 18:00:00'}, {'dt': 1666645200, 'main': {'temp': 11.98, 'feels_like': 11.4, 'temp_min': 11.98, 'temp_max': 11.98, 'pressure': 1019, 'sea_level': 1019, 'grnd_level': 958, 'humidity': 83, 'temp_kf': 0}, 'weather': [{'id': 802, 'main': 'Clouds', 'description': 'partiellement nuageux', 'icon': '03n'}], 'clouds': {'all': 40}, 'wind': {'speed': 1.93, 'deg': 200, 'gust': 1.96}, 'visibility': 10000, 'pop': 0.17, 'sys': {'pod': 'n'}, 'dt_txt': '2022-10-24 21:00:00'}, {'dt': 1666656000, 'main': {'temp': 11.3, 'feels_like': 10.65, 'temp_min': 11.3, 'temp_max': 11.3, 'pressure': 1020, 'sea_level': 1020, 'grnd_level': 958, 'humidity': 83, 'temp_kf': 0}, 'weather': [{'id': 801, 'main': 'Clouds', 'description': 'peu nuageux', 'icon': '02n'}], 'clouds': {'all': 24}, 'wind': {'speed': 2.13, 'deg': 216, 'gust': 2.2}, 'visibility': 10000, 'pop': 0.16, 'sys': {'pod': 'n'}, 'dt_txt': '2022-10-25 00:00:00'}, {'dt': 1666666800, 'main': {'temp': 10.77, 'feels_like': 10.07, 'temp_min': 10.77, 'temp_max': 10.77, 'pressure': 1019, 'sea_level': 1019, 'grnd_level': 958, 'humidity': 83, 'temp_kf': 0}, 'weather': [{'id': 802, 'main': 'Clouds', 'description': 'partiellement nuageux', 'icon': '03n'}], 'clouds': {'all': 45}, 'wind': {'speed': 2.16, 'deg': 205, 'gust': 2.25}, 'visibility': 10000, 'pop': 0, 'sys': {'pod': 'n'}, 'dt_txt': '2022-10-25 03:00:00'}, {'dt': 1666677600, 'main': {'temp': 11.05, 'feels_like': 10.27, 'temp_min': 11.05, 'temp_max': 11.05, 'pressure': 1019, 'sea_level': 1019, 'grnd_level': 957, 'humidity': 79, 'temp_kf': 0}, 'weather': [{'id': 802, 'main': 'Clouds', 'description': 'partiellement nuageux', 'icon': '03n'}], 'clouds': {'all': 50}, 'wind': {'speed': 2.11, 'deg': 198, 'gust': 2.12}, 'visibility': 10000, 'pop': 0, 'sys': {'pod': 'n'}, 'dt_txt': '2022-10-25 06:00:00'}, {'dt': 1666688400, 'main': {'temp': 16.34, 'feels_like': 15.67, 'temp_min': 16.34, 'temp_max': 16.34, 'pressure': 1019, 'sea_level': 1019, 'grnd_level': 958, 'humidity': 63, 'temp_kf': 0}, 'weather': [{'id': 804, 'main': 'Clouds', 'description': 'couvert', 'icon': '04d'}], 'clouds': {'all': 94}, 'wind': {'speed': 0.78, 'deg': 227, 'gust': 1.36}, 'visibility': 10000, 'pop': 0, 'sys': {'pod': 'd'}, 'dt_txt': '2022-10-25 09:00:00'}, {'dt': 1666699200, 'main': {'temp': 19.45, 'feels_like': 18.81, 'temp_min': 19.45, 'temp_max': 19.45, 'pressure': 1017, 'sea_level': 1017, 'grnd_level': 958, 'humidity': 52, 'temp_kf': 0}, 'weather': [{'id': 804, 'main': 'Clouds', 'description': 'couvert', 'icon': '04d'}], 'clouds': {'all': 93}, 'wind': {'speed': 1.54, 'deg': 101, 'gust': 2.49}, 'visibility': 10000, 'pop': 0, 'sys': {'pod': 'd'}, 'dt_txt': '2022-10-25 12:00:00'}, {'dt': 1666710000, 'main': {'temp': 17.79, 'feels_like': 17.4, 'temp_min': 17.79, 'temp_max': 17.79, 'pressure': 1016, 'sea_level': 1016, 'grnd_level': 956, 'humidity': 68, 'temp_kf': 0}, 'weather': [{'id': 804, 'main': 'Clouds', 'description': 'couvert', 'icon': '04d'}], 'clouds': {'all': 100}, 'wind': {'speed': 1.84, 'deg': 94, 'gust': 3.33}, 'visibility': 10000, 'pop': 0, 'sys': {'pod': 'd'}, 'dt_txt': '2022-10-25 15:00:00'}, {'dt': 1666720800, 'main': {'temp': 13.99, 'feels_like': 13.53, 'temp_min': 13.99, 'temp_max': 13.99, 'pressure': 1017, 'sea_level': 1017, 'grnd_level': 957, 'humidity': 80, 'temp_kf': 0}, 'weather': [{'id': 804, 'main': 'Clouds', 'description': 'couvert', 'icon': '04n'}], 'clouds': {'all': 100}, 'wind': {'speed': 1.62, 'deg': 146, 'gust': 1.87}, 'visibility': 10000, 'pop': 0, 'sys': {'pod': 'n'}, 'dt_txt': '2022-10-25 18:00:00'}, {'dt': 1666731600, 'main': {'temp': 12.66, 'feels_like': 12.23, 'temp_min': 12.66, 'temp_max': 12.66, 'pressure': 1018, 'sea_level': 1018, 'grnd_level': 957, 'humidity': 86, 'temp_kf': 0}, 'weather': [{'id': 804, 'main': 'Clouds', 'description': 'couvert', 'icon': '04n'}], 'clouds': {'all': 95}, 'wind': {'speed': 1.99, 'deg': 196, 'gust': 1.89}, 'visibility': 10000, 'pop': 0.02, 'sys': {'pod': 'n'}, 'dt_txt': '2022-10-25 21:00:00'}, {'dt': 1666742400, 'main': {'temp': 12.2, 'feels_like': 11.7, 'temp_min': 12.2, 'temp_max': 12.2, 'pressure': 1019, 'sea_level': 1019, 'grnd_level': 957, 'humidity': 85, 'temp_kf': 0}, 'weather': [{'id': 804, 'main': 'Clouds', 'description': 'couvert', 'icon': '04n'}], 'clouds': {'all': 88}, 'wind': {'speed': 2.34, 'deg': 202, 'gust': 2.42}, 'visibility': 10000, 'pop': 0.02, 'sys': {'pod': 'n'}, 'dt_txt': '2022-10-26 00:00:00'}], 'city': {'id': 2980291, 'name': 'Saint-Étienne', 'coord': {'lat': 45.4401, 'lon': 4.3873}, 'country': 'FR', 'population': 176280, 'timezone': 7200, 'sunrise': 1666332370, 'sunset': 1666370863}}\n"
     ]
    }
   ],
   "source": [
    "# Endpoint 5 day / 3 hour forecast data\n",
    "# Documentation : https://openweathermap.org/forecast5\n",
    "\n",
    "url_api = \"http://api.openweathermap.org/data/2.5/forecast?units=metric&lang=fr&appid=\" + get_config(\"api_key\")\n",
    "url_api += \"&lat=\" + str( get_config(\"lat\") )\n",
    "url_api += \"&lon=\" + str( get_config(\"lon\") )\n",
    "\n",
    "# Executer la requete\n",
    "req = requests.get( url_api )\n",
    "api_data = req.json()\n",
    "\n",
    "print(api_data)\n",
    "\n"
   ]
  },
  {
   "cell_type": "code",
   "execution_count": 76,
   "id": "dc1322ef",
   "metadata": {},
   "outputs": [
    {
     "name": "stdout",
     "output_type": "stream",
     "text": [
      "{'timestamp': 1666321200, 'date': '2022-10-21 03:00:00', 'jour_nuit': 'nuit', 'temperature': 16.9, 'temp_ressentie': 16.5, 'temp_max': 16.9, 'temp_min': 15.1, 'pression': 951, 'pression_mer': 1012, 'humidite': 68, 'meteo': 'pluie modérée', 'meteo_code': 'Rain', 'meteo_icon': '10n', 'nuages': 100, 'vent_kph': 15.2, 'vent_dir': 179, 'vent_rafale': 45.5, 'visibilite': 3947, 'pluie_probalite': 99, 'pluie_volume': 10, 'neige_volume': 0} \n",
      "\n",
      "{'timestamp': 1666332000, 'date': '2022-10-21 06:00:00', 'jour_nuit': 'nuit', 'temperature': 15.9, 'temp_ressentie': 15.5, 'temp_max': 15.9, 'temp_min': 13.7, 'pression': 952, 'pression_mer': 1012, 'humidite': 76, 'meteo': 'forte pluie', 'meteo_code': 'Rain', 'meteo_icon': '10n', 'nuages': 100, 'vent_kph': 7.8, 'vent_dir': 175, 'vent_rafale': 10.9, 'visibilite': 10000, 'pluie_probalite': 99, 'pluie_volume': 17, 'neige_volume': 0} \n",
      "\n",
      "{'timestamp': 1666342800, 'date': '2022-10-21 09:00:00', 'jour_nuit': 'jour', 'temperature': 17.0, 'temp_ressentie': 16.8, 'temp_max': 17.1, 'temp_min': 17.0, 'pression': 954, 'pression_mer': 1013, 'humidite': 78, 'meteo': 'légère pluie', 'meteo_code': 'Rain', 'meteo_icon': '10d', 'nuages': 99, 'vent_kph': 5.2, 'vent_dir': 153, 'vent_rafale': 11.2, 'visibilite': 10000, 'pluie_probalite': 80, 'pluie_volume': 1, 'neige_volume': 0} \n",
      "\n",
      "{'timestamp': 1666353600, 'date': '2022-10-21 12:00:00', 'jour_nuit': 'jour', 'temperature': 19.0, 'temp_ressentie': 18.9, 'temp_max': 19.0, 'temp_min': 19.0, 'pression': 954, 'pression_mer': 1013, 'humidite': 77, 'meteo': 'légère pluie', 'meteo_code': 'Rain', 'meteo_icon': '10d', 'nuages': 99, 'vent_kph': 12.3, 'vent_dir': 174, 'vent_rafale': 25.4, 'visibilite': 10000, 'pluie_probalite': 100, 'pluie_volume': 3, 'neige_volume': 0} \n",
      "\n",
      "{'timestamp': 1666364400, 'date': '2022-10-21 15:00:00', 'jour_nuit': 'jour', 'temperature': 18.0, 'temp_ressentie': 17.9, 'temp_max': 18.0, 'temp_min': 18.0, 'pression': 952, 'pression_mer': 1011, 'humidite': 79, 'meteo': 'légère pluie', 'meteo_code': 'Rain', 'meteo_icon': '10d', 'nuages': 100, 'vent_kph': 9.3, 'vent_dir': 175, 'vent_rafale': 19.2, 'visibilite': 10000, 'pluie_probalite': 100, 'pluie_volume': 3, 'neige_volume': 0} \n",
      "\n",
      "{'timestamp': 1666375200, 'date': '2022-10-21 18:00:00', 'jour_nuit': 'nuit', 'temperature': 15.6, 'temp_ressentie': 15.6, 'temp_max': 15.6, 'temp_min': 15.6, 'pression': 952, 'pression_mer': 1013, 'humidite': 90, 'meteo': 'pluie modérée', 'meteo_code': 'Rain', 'meteo_icon': '10n', 'nuages': 100, 'vent_kph': 10.3, 'vent_dir': 178, 'vent_rafale': 22.2, 'visibilite': 10000, 'pluie_probalite': 100, 'pluie_volume': 4, 'neige_volume': 0} \n",
      "\n",
      "{'timestamp': 1666386000, 'date': '2022-10-21 21:00:00', 'jour_nuit': 'nuit', 'temperature': 15.3, 'temp_ressentie': 15.1, 'temp_max': 15.3, 'temp_min': 15.3, 'pression': 954, 'pression_mer': 1015, 'humidite': 86, 'meteo': 'légère pluie', 'meteo_code': 'Rain', 'meteo_icon': '10n', 'nuages': 100, 'vent_kph': 11.1, 'vent_dir': 224, 'vent_rafale': 24.5, 'visibilite': 10000, 'pluie_probalite': 98, 'pluie_volume': 2, 'neige_volume': 0} \n",
      "\n",
      "{'timestamp': 1666396800, 'date': '2022-10-22 00:00:00', 'jour_nuit': 'nuit', 'temperature': 14.1, 'temp_ressentie': 13.7, 'temp_max': 14.1, 'temp_min': 14.1, 'pression': 955, 'pression_mer': 1015, 'humidite': 83, 'meteo': 'couvert', 'meteo_code': 'Clouds', 'meteo_icon': '04n', 'nuages': 100, 'vent_kph': 6.6, 'vent_dir': 192, 'vent_rafale': 7.0, 'visibilite': 10000, 'pluie_probalite': 89, 'pluie_volume': 0, 'neige_volume': 0} \n",
      "\n",
      "{'timestamp': 1666407600, 'date': '2022-10-22 03:00:00', 'jour_nuit': 'nuit', 'temperature': 13.6, 'temp_ressentie': 13.2, 'temp_max': 13.6, 'temp_min': 13.6, 'pression': 955, 'pression_mer': 1015, 'humidite': 83, 'meteo': 'couvert', 'meteo_code': 'Clouds', 'meteo_icon': '04n', 'nuages': 100, 'vent_kph': 2.8, 'vent_dir': 168, 'vent_rafale': 3.4, 'visibilite': 10000, 'pluie_probalite': 28, 'pluie_volume': 0, 'neige_volume': 0} \n",
      "\n",
      "{'timestamp': 1666418400, 'date': '2022-10-22 06:00:00', 'jour_nuit': 'nuit', 'temperature': 12.4, 'temp_ressentie': 12.1, 'temp_max': 12.4, 'temp_min': 12.4, 'pression': 956, 'pression_mer': 1017, 'humidite': 92, 'meteo': 'couvert', 'meteo_code': 'Clouds', 'meteo_icon': '04n', 'nuages': 100, 'vent_kph': 4.4, 'vent_dir': 131, 'vent_rafale': 4.7, 'visibilite': 10000, 'pluie_probalite': 21, 'pluie_volume': 0, 'neige_volume': 0} \n",
      "\n",
      "{'timestamp': 1666429200, 'date': '2022-10-22 09:00:00', 'jour_nuit': 'jour', 'temperature': 16.3, 'temp_ressentie': 16.0, 'temp_max': 16.3, 'temp_min': 16.3, 'pression': 958, 'pression_mer': 1018, 'humidite': 77, 'meteo': 'partiellement nuageux', 'meteo_code': 'Clouds', 'meteo_icon': '03d', 'nuages': 33, 'vent_kph': 4.0, 'vent_dir': 137, 'vent_rafale': 6.2, 'visibilite': 10000, 'pluie_probalite': 1, 'pluie_volume': 0, 'neige_volume': 0} \n",
      "\n",
      "{'timestamp': 1666440000, 'date': '2022-10-22 12:00:00', 'jour_nuit': 'jour', 'temperature': 20.2, 'temp_ressentie': 19.7, 'temp_max': 20.2, 'temp_min': 20.2, 'pression': 958, 'pression_mer': 1017, 'humidite': 54, 'meteo': 'légère pluie', 'meteo_code': 'Rain', 'meteo_icon': '10d', 'nuages': 16, 'vent_kph': 5.5, 'vent_dir': 113, 'vent_rafale': 8.2, 'visibilite': 10000, 'pluie_probalite': 21, 'pluie_volume': 0, 'neige_volume': 0} \n",
      "\n",
      "{'timestamp': 1666450800, 'date': '2022-10-22 15:00:00', 'jour_nuit': 'jour', 'temperature': 20.0, 'temp_ressentie': 19.6, 'temp_max': 20.0, 'temp_min': 20.0, 'pression': 957, 'pression_mer': 1016, 'humidite': 58, 'meteo': 'ciel dégagé', 'meteo_code': 'Clear', 'meteo_icon': '01d', 'nuages': 5, 'vent_kph': 6.6, 'vent_dir': 101, 'vent_rafale': 9.6, 'visibilite': 10000, 'pluie_probalite': 0, 'pluie_volume': 0, 'neige_volume': 0} \n",
      "\n",
      "{'timestamp': 1666461600, 'date': '2022-10-22 18:00:00', 'jour_nuit': 'nuit', 'temperature': 14.0, 'temp_ressentie': 13.6, 'temp_max': 14.0, 'temp_min': 14.0, 'pression': 957, 'pression_mer': 1018, 'humidite': 81, 'meteo': 'peu nuageux', 'meteo_code': 'Clouds', 'meteo_icon': '02n', 'nuages': 11, 'vent_kph': 7.4, 'vent_dir': 164, 'vent_rafale': 7.7, 'visibilite': 10000, 'pluie_probalite': 0, 'pluie_volume': 0, 'neige_volume': 0} \n",
      "\n",
      "{'timestamp': 1666472400, 'date': '2022-10-22 21:00:00', 'jour_nuit': 'nuit', 'temperature': 12.6, 'temp_ressentie': 11.9, 'temp_max': 12.6, 'temp_min': 12.6, 'pression': 957, 'pression_mer': 1018, 'humidite': 77, 'meteo': 'partiellement nuageux', 'meteo_code': 'Clouds', 'meteo_icon': '03n', 'nuages': 50, 'vent_kph': 7.3, 'vent_dir': 166, 'vent_rafale': 9.0, 'visibilite': 10000, 'pluie_probalite': 0, 'pluie_volume': 0, 'neige_volume': 0} \n",
      "\n",
      "{'timestamp': 1666483200, 'date': '2022-10-23 00:00:00', 'jour_nuit': 'nuit', 'temperature': 13, 'temp_ressentie': 12.5, 'temp_max': 13, 'temp_min': 13, 'pression': 955, 'pression_mer': 1016, 'humidite': 81, 'meteo': 'partiellement nuageux', 'meteo_code': 'Clouds', 'meteo_icon': '03n', 'nuages': 44, 'vent_kph': 7.6, 'vent_dir': 169, 'vent_rafale': 12.3, 'visibilite': 10000, 'pluie_probalite': 0, 'pluie_volume': 0, 'neige_volume': 0} \n",
      "\n",
      "{'timestamp': 1666494000, 'date': '2022-10-23 03:00:00', 'jour_nuit': 'nuit', 'temperature': 13.3, 'temp_ressentie': 12.9, 'temp_max': 13.3, 'temp_min': 13.3, 'pression': 955, 'pression_mer': 1016, 'humidite': 87, 'meteo': 'nuageux', 'meteo_code': 'Clouds', 'meteo_icon': '04n', 'nuages': 66, 'vent_kph': 9.3, 'vent_dir': 168, 'vent_rafale': 12.9, 'visibilite': 10000, 'pluie_probalite': 0, 'pluie_volume': 0, 'neige_volume': 0} \n",
      "\n",
      "{'timestamp': 1666504800, 'date': '2022-10-23 06:00:00', 'jour_nuit': 'nuit', 'temperature': 14.7, 'temp_ressentie': 14.3, 'temp_max': 14.7, 'temp_min': 14.7, 'pression': 954, 'pression_mer': 1015, 'humidite': 79, 'meteo': 'nuageux', 'meteo_code': 'Clouds', 'meteo_icon': '04n', 'nuages': 83, 'vent_kph': 14.6, 'vent_dir': 174, 'vent_rafale': 37.0, 'visibilite': 10000, 'pluie_probalite': 0, 'pluie_volume': 0, 'neige_volume': 0} \n",
      "\n",
      "{'timestamp': 1666515600, 'date': '2022-10-23 09:00:00', 'jour_nuit': 'jour', 'temperature': 20.0, 'temp_ressentie': 19.8, 'temp_max': 20.0, 'temp_min': 20.0, 'pression': 955, 'pression_mer': 1014, 'humidite': 66, 'meteo': 'couvert', 'meteo_code': 'Clouds', 'meteo_icon': '04d', 'nuages': 93, 'vent_kph': 26.0, 'vent_dir': 170, 'vent_rafale': 59.3, 'visibilite': 10000, 'pluie_probalite': 2, 'pluie_volume': 0, 'neige_volume': 0} \n",
      "\n",
      "{'timestamp': 1666526400, 'date': '2022-10-23 12:00:00', 'jour_nuit': 'jour', 'temperature': 22.0, 'temp_ressentie': 21.7, 'temp_max': 22.0, 'temp_min': 22.0, 'pression': 955, 'pression_mer': 1014, 'humidite': 58, 'meteo': 'nuageux', 'meteo_code': 'Clouds', 'meteo_icon': '04d', 'nuages': 81, 'vent_kph': 25.3, 'vent_dir': 176, 'vent_rafale': 58.4, 'visibilite': 10000, 'pluie_probalite': 1, 'pluie_volume': 0, 'neige_volume': 0} \n",
      "\n",
      "{'timestamp': 1666537200, 'date': '2022-10-23 15:00:00', 'jour_nuit': 'jour', 'temperature': 19.5, 'temp_ressentie': 19.4, 'temp_max': 19.5, 'temp_min': 19.5, 'pression': 955, 'pression_mer': 1015, 'humidite': 72, 'meteo': 'légère pluie', 'meteo_code': 'Rain', 'meteo_icon': '10d', 'nuages': 82, 'vent_kph': 19.1, 'vent_dir': 207, 'vent_rafale': 43.2, 'visibilite': 10000, 'pluie_probalite': 32, 'pluie_volume': 1, 'neige_volume': 0} \n",
      "\n",
      "{'timestamp': 1666548000, 'date': '2022-10-23 18:00:00', 'jour_nuit': 'nuit', 'temperature': 15.8, 'temp_ressentie': 15.6, 'temp_max': 15.8, 'temp_min': 15.8, 'pression': 954, 'pression_mer': 1015, 'humidite': 81, 'meteo': 'pluie modérée', 'meteo_code': 'Rain', 'meteo_icon': '10n', 'nuages': 91, 'vent_kph': 23.0, 'vent_dir': 196, 'vent_rafale': 60.7, 'visibilite': 9723, 'pluie_probalite': 83, 'pluie_volume': 9, 'neige_volume': 0} \n",
      "\n",
      "{'timestamp': 1666558800, 'date': '2022-10-23 21:00:00', 'jour_nuit': 'nuit', 'temperature': 14.9, 'temp_ressentie': 14.9, 'temp_max': 14.9, 'temp_min': 14.9, 'pression': 954, 'pression_mer': 1015, 'humidite': 93, 'meteo': 'pluie modérée', 'meteo_code': 'Rain', 'meteo_icon': '10n', 'nuages': 91, 'vent_kph': 10.7, 'vent_dir': 176, 'vent_rafale': 20.2, 'visibilite': 10000, 'pluie_probalite': 75, 'pluie_volume': 5, 'neige_volume': 0} \n",
      "\n",
      "{'timestamp': 1666569600, 'date': '2022-10-24 00:00:00', 'jour_nuit': 'nuit', 'temperature': 15.4, 'temp_ressentie': 15.3, 'temp_max': 15.4, 'temp_min': 15.4, 'pression': 954, 'pression_mer': 1014, 'humidite': 91, 'meteo': 'pluie modérée', 'meteo_code': 'Rain', 'meteo_icon': '10n', 'nuages': 95, 'vent_kph': 10.0, 'vent_dir': 176, 'vent_rafale': 18.5, 'visibilite': 10000, 'pluie_probalite': 90, 'pluie_volume': 3, 'neige_volume': 0} \n",
      "\n",
      "{'timestamp': 1666580400, 'date': '2022-10-24 03:00:00', 'jour_nuit': 'nuit', 'temperature': 14.6, 'temp_ressentie': 14.5, 'temp_max': 14.6, 'temp_min': 14.6, 'pression': 953, 'pression_mer': 1014, 'humidite': 92, 'meteo': 'légère pluie', 'meteo_code': 'Rain', 'meteo_icon': '10n', 'nuages': 91, 'vent_kph': 8.4, 'vent_dir': 166, 'vent_rafale': 13.6, 'visibilite': 10000, 'pluie_probalite': 90, 'pluie_volume': 1, 'neige_volume': 0} \n",
      "\n",
      "{'timestamp': 1666591200, 'date': '2022-10-24 06:00:00', 'jour_nuit': 'nuit', 'temperature': 14.5, 'temp_ressentie': 14.4, 'temp_max': 14.5, 'temp_min': 14.5, 'pression': 953, 'pression_mer': 1013, 'humidite': 92, 'meteo': 'légère pluie', 'meteo_code': 'Rain', 'meteo_icon': '10n', 'nuages': 95, 'vent_kph': 8.5, 'vent_dir': 176, 'vent_rafale': 16.5, 'visibilite': 10000, 'pluie_probalite': 88, 'pluie_volume': 1, 'neige_volume': 0} \n",
      "\n",
      "{'timestamp': 1666602000, 'date': '2022-10-24 09:00:00', 'jour_nuit': 'jour', 'temperature': 16.1, 'temp_ressentie': 16.0, 'temp_max': 16.1, 'temp_min': 16.1, 'pression': 955, 'pression_mer': 1015, 'humidite': 87, 'meteo': 'pluie modérée', 'meteo_code': 'Rain', 'meteo_icon': '10d', 'nuages': 100, 'vent_kph': 6.0, 'vent_dir': 232, 'vent_rafale': 14.3, 'visibilite': 10000, 'pluie_probalite': 91, 'pluie_volume': 4, 'neige_volume': 0} \n",
      "\n",
      "{'timestamp': 1666612800, 'date': '2022-10-24 12:00:00', 'jour_nuit': 'jour', 'temperature': 17.7, 'temp_ressentie': 17.5, 'temp_max': 17.7, 'temp_min': 17.7, 'pression': 955, 'pression_mer': 1015, 'humidite': 75, 'meteo': 'pluie modérée', 'meteo_code': 'Rain', 'meteo_icon': '10d', 'nuages': 100, 'vent_kph': 7.5, 'vent_dir': 226, 'vent_rafale': 17.4, 'visibilite': 10000, 'pluie_probalite': 85, 'pluie_volume': 4, 'neige_volume': 0} \n",
      "\n",
      "{'timestamp': 1666623600, 'date': '2022-10-24 15:00:00', 'jour_nuit': 'jour', 'temperature': 18.4, 'temp_ressentie': 18.3, 'temp_max': 18.4, 'temp_min': 18.4, 'pression': 955, 'pression_mer': 1015, 'humidite': 73, 'meteo': 'légère pluie', 'meteo_code': 'Rain', 'meteo_icon': '10d', 'nuages': 100, 'vent_kph': 4.6, 'vent_dir': 247, 'vent_rafale': 10.0, 'visibilite': 10000, 'pluie_probalite': 51, 'pluie_volume': 1, 'neige_volume': 0} \n",
      "\n",
      "{'timestamp': 1666634400, 'date': '2022-10-24 18:00:00', 'jour_nuit': 'nuit', 'temperature': 14.1, 'temp_ressentie': 13.6, 'temp_max': 14.1, 'temp_min': 14.1, 'pression': 956, 'pression_mer': 1017, 'humidite': 80, 'meteo': 'couvert', 'meteo_code': 'Clouds', 'meteo_icon': '04n', 'nuages': 100, 'vent_kph': 6.2, 'vent_dir': 225, 'vent_rafale': 7.1, 'visibilite': 10000, 'pluie_probalite': 39, 'pluie_volume': 0, 'neige_volume': 0} \n",
      "\n",
      "{'timestamp': 1666645200, 'date': '2022-10-24 21:00:00', 'jour_nuit': 'nuit', 'temperature': 12.0, 'temp_ressentie': 11.4, 'temp_max': 12.0, 'temp_min': 12.0, 'pression': 958, 'pression_mer': 1019, 'humidite': 83, 'meteo': 'partiellement nuageux', 'meteo_code': 'Clouds', 'meteo_icon': '03n', 'nuages': 40, 'vent_kph': 6.9, 'vent_dir': 200, 'vent_rafale': 7.1, 'visibilite': 10000, 'pluie_probalite': 17, 'pluie_volume': 0, 'neige_volume': 0} \n",
      "\n",
      "{'timestamp': 1666656000, 'date': '2022-10-25 00:00:00', 'jour_nuit': 'nuit', 'temperature': 11.3, 'temp_ressentie': 10.7, 'temp_max': 11.3, 'temp_min': 11.3, 'pression': 958, 'pression_mer': 1020, 'humidite': 83, 'meteo': 'peu nuageux', 'meteo_code': 'Clouds', 'meteo_icon': '02n', 'nuages': 24, 'vent_kph': 7.7, 'vent_dir': 216, 'vent_rafale': 7.9, 'visibilite': 10000, 'pluie_probalite': 16, 'pluie_volume': 0, 'neige_volume': 0} \n",
      "\n",
      "{'timestamp': 1666666800, 'date': '2022-10-25 03:00:00', 'jour_nuit': 'nuit', 'temperature': 10.8, 'temp_ressentie': 10.1, 'temp_max': 10.8, 'temp_min': 10.8, 'pression': 958, 'pression_mer': 1019, 'humidite': 83, 'meteo': 'partiellement nuageux', 'meteo_code': 'Clouds', 'meteo_icon': '03n', 'nuages': 45, 'vent_kph': 7.8, 'vent_dir': 205, 'vent_rafale': 8.1, 'visibilite': 10000, 'pluie_probalite': 0, 'pluie_volume': 0, 'neige_volume': 0} \n",
      "\n",
      "{'timestamp': 1666677600, 'date': '2022-10-25 06:00:00', 'jour_nuit': 'nuit', 'temperature': 11.1, 'temp_ressentie': 10.3, 'temp_max': 11.1, 'temp_min': 11.1, 'pression': 957, 'pression_mer': 1019, 'humidite': 79, 'meteo': 'partiellement nuageux', 'meteo_code': 'Clouds', 'meteo_icon': '03n', 'nuages': 50, 'vent_kph': 7.6, 'vent_dir': 198, 'vent_rafale': 7.6, 'visibilite': 10000, 'pluie_probalite': 0, 'pluie_volume': 0, 'neige_volume': 0} \n",
      "\n",
      "{'timestamp': 1666688400, 'date': '2022-10-25 09:00:00', 'jour_nuit': 'jour', 'temperature': 16.3, 'temp_ressentie': 15.7, 'temp_max': 16.3, 'temp_min': 16.3, 'pression': 958, 'pression_mer': 1019, 'humidite': 63, 'meteo': 'couvert', 'meteo_code': 'Clouds', 'meteo_icon': '04d', 'nuages': 94, 'vent_kph': 2.8, 'vent_dir': 227, 'vent_rafale': 4.9, 'visibilite': 10000, 'pluie_probalite': 0, 'pluie_volume': 0, 'neige_volume': 0} \n",
      "\n",
      "{'timestamp': 1666699200, 'date': '2022-10-25 12:00:00', 'jour_nuit': 'jour', 'temperature': 19.4, 'temp_ressentie': 18.8, 'temp_max': 19.4, 'temp_min': 19.4, 'pression': 958, 'pression_mer': 1017, 'humidite': 52, 'meteo': 'couvert', 'meteo_code': 'Clouds', 'meteo_icon': '04d', 'nuages': 93, 'vent_kph': 5.5, 'vent_dir': 101, 'vent_rafale': 9.0, 'visibilite': 10000, 'pluie_probalite': 0, 'pluie_volume': 0, 'neige_volume': 0} \n",
      "\n",
      "{'timestamp': 1666710000, 'date': '2022-10-25 15:00:00', 'jour_nuit': 'jour', 'temperature': 17.8, 'temp_ressentie': 17.4, 'temp_max': 17.8, 'temp_min': 17.8, 'pression': 956, 'pression_mer': 1016, 'humidite': 68, 'meteo': 'couvert', 'meteo_code': 'Clouds', 'meteo_icon': '04d', 'nuages': 100, 'vent_kph': 6.6, 'vent_dir': 94, 'vent_rafale': 12.0, 'visibilite': 10000, 'pluie_probalite': 0, 'pluie_volume': 0, 'neige_volume': 0} \n",
      "\n",
      "{'timestamp': 1666720800, 'date': '2022-10-25 18:00:00', 'jour_nuit': 'nuit', 'temperature': 14.0, 'temp_ressentie': 13.5, 'temp_max': 14.0, 'temp_min': 14.0, 'pression': 957, 'pression_mer': 1017, 'humidite': 80, 'meteo': 'couvert', 'meteo_code': 'Clouds', 'meteo_icon': '04n', 'nuages': 100, 'vent_kph': 5.8, 'vent_dir': 146, 'vent_rafale': 6.7, 'visibilite': 10000, 'pluie_probalite': 0, 'pluie_volume': 0, 'neige_volume': 0} \n",
      "\n",
      "{'timestamp': 1666731600, 'date': '2022-10-25 21:00:00', 'jour_nuit': 'nuit', 'temperature': 12.7, 'temp_ressentie': 12.2, 'temp_max': 12.7, 'temp_min': 12.7, 'pression': 957, 'pression_mer': 1018, 'humidite': 86, 'meteo': 'couvert', 'meteo_code': 'Clouds', 'meteo_icon': '04n', 'nuages': 95, 'vent_kph': 7.2, 'vent_dir': 196, 'vent_rafale': 6.8, 'visibilite': 10000, 'pluie_probalite': 2, 'pluie_volume': 0, 'neige_volume': 0} \n",
      "\n",
      "{'timestamp': 1666742400, 'date': '2022-10-26 00:00:00', 'jour_nuit': 'nuit', 'temperature': 12.2, 'temp_ressentie': 11.7, 'temp_max': 12.2, 'temp_min': 12.2, 'pression': 957, 'pression_mer': 1019, 'humidite': 85, 'meteo': 'couvert', 'meteo_code': 'Clouds', 'meteo_icon': '04n', 'nuages': 88, 'vent_kph': 8.4, 'vent_dir': 202, 'vent_rafale': 8.7, 'visibilite': 10000, 'pluie_probalite': 2, 'pluie_volume': 0, 'neige_volume': 0} \n",
      "\n"
     ]
    }
   ],
   "source": [
    "#for key in api_data:\n",
    "#    print(key, api_data[key])\n",
    "#    print()\n",
    "\n",
    "#print(api_data['list'])\n",
    "\n",
    "meteo_prev = []\n",
    "\n",
    "for index, prev in enumerate( api_data['list'] ):\n",
    "#    print(index, prev, type(prev), \"\\n\")\n",
    "\n",
    "    prevision = {}\n",
    "    prevision['timestamp'] = prev['dt']\n",
    "    prevision['date'] = prev['dt_txt']\n",
    "    if prev['sys']['pod'] == \"n\":\n",
    "        prevision['jour_nuit'] = \"nuit\"\n",
    "    elif prev['sys']['pod'] == \"d\":\n",
    "        prevision['jour_nuit'] = \"jour\"\n",
    "    else:\n",
    "        prevision['jour_nuit'] = \"\"\n",
    "    prevision['temperature'] = round( prev['main']['temp'], 1 )\n",
    "    prevision['temp_ressentie'] = round( prev['main']['feels_like'], 1 )\n",
    "    prevision['temp_max'] = round( prev['main']['temp_max'], 1 )\n",
    "    prevision['temp_min'] = round( prev['main']['temp_min'], 1 )\n",
    "    prevision['pression'] = prev['main']['grnd_level']\n",
    "    prevision['pression_mer'] = prev['main']['sea_level']\n",
    "    prevision['humidite'] = prev['main']['humidity']\n",
    "    prevision['meteo'] = prev['weather'][0]['description']\n",
    "    prevision['meteo_code'] = prev['weather'][0]['main']\n",
    "    prevision['meteo_icon'] = prev['weather'][0]['icon']\n",
    "    prevision['nuages'] = prev['clouds']['all']\n",
    "    prevision['vent_kph'] = round( prev[\"wind\"][\"speed\"] * 3.6, 1 )\n",
    "    prevision['vent_dir'] = prev[\"wind\"][\"deg\"]\n",
    "    prevision['vent_rafale'] = round( prev[\"wind\"][\"gust\"] * 3.6, 1 )\n",
    "    prevision['visibilite'] = prev[\"visibility\"]\n",
    "    prevision['pluie_probalite'] = int( prev[\"pop\"] * 100 )\n",
    "    if \"rain\" in prev:\n",
    "        prevision['pluie_volume'] = round( prev[\"rain\"][\"3h\"] )\n",
    "    else:\n",
    "        prevision['pluie_volume'] = 0\n",
    "    if \"snow\" in prev:\n",
    "        prevision['neige_volume'] = prev[\"snow\"][\"3h\"]\n",
    "    else:\n",
    "        prevision['neige_volume'] = 0\n",
    "    \n",
    "    print(prevision, \"\\n\")\n",
    "    "
   ]
  },
  {
   "cell_type": "code",
   "execution_count": null,
   "id": "d8bcbc39",
   "metadata": {},
   "outputs": [],
   "source": []
  }
 ],
 "metadata": {
  "kernelspec": {
   "display_name": "Python 3",
   "language": "python",
   "name": "python3"
  },
  "language_info": {
   "codemirror_mode": {
    "name": "ipython",
    "version": 3
   },
   "file_extension": ".py",
   "mimetype": "text/x-python",
   "name": "python",
   "nbconvert_exporter": "python",
   "pygments_lexer": "ipython3",
   "version": "3.8.8"
  }
 },
 "nbformat": 4,
 "nbformat_minor": 5
}
