{
 "cells": [
  {
   "cell_type": "markdown",
   "id": "595b5f63",
   "metadata": {},
   "source": [
    "# Exercice tableau \n",
    "Soit les notes dans les différentes matière ci-dessous:\n",
    "\n",
    "écrire le programme permettant de calculer la moyenne, la note minimum et la note maximum pour chacunes des matières et d'afficher le résultat dans la forme ci-dessous."
   ]
  },
  {
   "cell_type": "markdown",
   "id": "bf9d7d65",
   "metadata": {},
   "source": [
    "\n",
    "```\n",
    "Matière\t\tminimum\tMoyenne\tmaximum\n",
    "grec     \t  3\t       8.67\t   18\n",
    "latin    \t  0\t       7.0\t    13\n",
    "histoire \t  6\t       10.4\t   18\n",
    "géométrie\t  0\t       10.0\t   17\n",
    "```"
   ]
  },
  {
   "cell_type": "code",
   "execution_count": 2,
   "id": "81dc7728",
   "metadata": {},
   "outputs": [],
   "source": [
    "notes = [\n",
    "    [\"Albert\", \"grec\", 4],\n",
    "    [\"Bernard\", \"grec\", 18],\n",
    "    [\"Charles\", \"grec\", 4],\n",
    "    [\"Denise\", \"grec\", 18],\n",
    "    [\"Edgar\", \"grec\", 3],\n",
    "    [\"Frédégonde\", \"grec\", 5],\n",
    "    [\"Albert\", \"latin\", 13],\n",
    "    [\"Bernard\", \"latin\", 0],\n",
    "    [\"Charles\", \"latin\", 9],\n",
    "    [\"Denise\", \"latin\", 11],\n",
    "    [\"Edgar\", \"latin\", 3],\n",
    "    [\"Frédégonde\", \"latin\", 6],\n",
    "    [\"Albert\", \"histoire\", 'Absent'],\n",
    "    [\"Bernard\", \"histoire\", 6],\n",
    "    [\"Charles\", \"histoire\", 18],\n",
    "    [\"Denise\", \"histoire\", 7],\n",
    "    [\"Edgar\", \"histoire\", 13],\n",
    "    [\"Frédégonde\", \"histoire\", 8],\n",
    "    [\"Albert\", \"géométrie\", 11],\n",
    "    [\"Bernard\", \"géométrie\", 16],\n",
    "    [\"Charles\", \"géométrie\", 17],\n",
    "    [\"Denise\", \"géométrie\", 0],\n",
    "    [\"Edgar\", \"géométrie\", 3],\n",
    "    [\"Frédégonde\", \"géométrie\", 13]\n",
    "]"
   ]
  },
  {
   "cell_type": "code",
   "execution_count": 8,
   "id": "198f420a",
   "metadata": {},
   "outputs": [
    {
     "name": "stdout",
     "output_type": "stream",
     "text": [
      "Matière\t\tminimum\tmoyenne\tmaximum\n",
      "grec      \t3\t8.7\t18\n",
      "latin     \t0\t7.0\t13\n",
      "histoire  \t6\t10.4\t18\n",
      "géométrie \t0\t10.0\t17\n"
     ]
    }
   ],
   "source": [
    "print( \"Matière\\t\\tminimum\\tmoyenne\\tmaximum\" )\n",
    "for matiere in [ \"grec\", \"latin\", \"histoire\", \"géométrie\"]:\n",
    "    total = 0\n",
    "    nombre_notes = 0\n",
    "    minimum = None\n",
    "    maximum = None\n",
    "    for note in notes:\n",
    "        if note[1] == matiere and note[2] != 'Absent':\n",
    "            total = total + note[2]\n",
    "            nombre_notes = nombre_notes + 1\n",
    "            if minimum is None or note[2] < minimum:\n",
    "                minimum = note[2]\n",
    "            if maximum is None or note[2] > maximum:\n",
    "                maximum = note[2]\n",
    "    matiere = matiere + ' ' * 10\n",
    "    print( \"{}\\t{}\\t{}\\t{}\".format( matiere[:10], minimum, round( total/nombre_notes, 1), maximum ) )"
   ]
  },
  {
   "cell_type": "code",
   "execution_count": null,
   "id": "7f22778c",
   "metadata": {},
   "outputs": [],
   "source": []
  }
 ],
 "metadata": {
  "kernelspec": {
   "display_name": "Python 3",
   "language": "python",
   "name": "python3"
  },
  "language_info": {
   "codemirror_mode": {
    "name": "ipython",
    "version": 3
   },
   "file_extension": ".py",
   "mimetype": "text/x-python",
   "name": "python",
   "nbconvert_exporter": "python",
   "pygments_lexer": "ipython3",
   "version": "3.8.8"
  }
 },
 "nbformat": 4,
 "nbformat_minor": 5
}
