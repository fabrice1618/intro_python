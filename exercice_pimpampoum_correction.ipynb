{
 "cells": [
  {
   "cell_type": "markdown",
   "metadata": {},
   "source": [
    "## Exercice pim pam poum\n",
    "\n",
    "Cette exercice est donné lors de certains entretiens d'embauche pour une durée de 20 minutes. Comme cet exercice est facile, on s'attends à ce que vous donniez une solution originale.\n",
    "\n",
    "Ecrire un programme qui pour tous les nombres entre 1 et 20:\n",
    "    - si le nombre est divisible par 2 afficher 'pim'\n",
    "    - si le nombre est divisible par 3 afficher 'pam'\n",
    "    - si le nombre est divisible par 5 afficher 'poum'\n",
    "    - si le nombre n'est divisible par aucun des 3, ne rien afficher\n",
    "\n",
    "Vous devriez obtenir la sortie suivante:\n",
    "- 1\n",
    "- 2 pim\n",
    "- 3 pam\n",
    "- 4 pim\n",
    "- 5 poum\n",
    "- 6 pim pam\n",
    "- 7\n",
    "- 8 pim\n",
    "- 9 pam\n",
    "- 10 pim poum\n",
    "- 11\n",
    "- 12 pim pam\n",
    "- 13\n",
    "- 14 pim\n",
    "- 15 pam poum\n",
    "- 16 pim\n",
    "- 17\n",
    "- 18 pim pam\n",
    "- 19\n",
    "- 20 pim poum\n"
   ]
  },
  {
   "cell_type": "code",
   "execution_count": 12,
   "metadata": {},
   "outputs": [
    {
     "name": "stdout",
     "output_type": "stream",
     "text": [
      "1 \n",
      "2 pim\n",
      "3 pam\n",
      "4 pim\n",
      "5 poum\n",
      "6 pim pam\n",
      "7 \n",
      "8 pim\n",
      "9 pam\n",
      "10 pim poum\n",
      "11 \n",
      "12 pim pam\n",
      "13 \n",
      "14 pim\n",
      "15 pam poum\n",
      "16 pim\n",
      "17 \n",
      "18 pim pam\n",
      "19 \n",
      "20 pim poum\n"
     ]
    }
   ],
   "source": [
    "for i in range( 1, 21 ):\n",
    "    message = \"\"\n",
    "    if i % 2 == 0:\n",
    "        message += \"pim \"\n",
    "    if i % 3 == 0:\n",
    "        message += \"pam \"\n",
    "    if i % 5 == 0:\n",
    "        message += \"poum\"\n",
    "        \n",
    "    print(i, message.rstrip() )\n"
   ]
  },
  {
   "cell_type": "code",
   "execution_count": 16,
   "metadata": {},
   "outputs": [
    {
     "name": "stdout",
     "output_type": "stream",
     "text": [
      "1 \n",
      "2 pim \n",
      "3 pam \n",
      "4 pim \n",
      "5 poum \n",
      "6 pim pam \n",
      "7 \n",
      "8 pim \n",
      "9 pam \n",
      "10 pim poum \n",
      "11 \n",
      "12 pim pam \n",
      "13 \n",
      "14 pim \n",
      "15 pam poum \n",
      "16 pim \n",
      "17 \n",
      "18 pim pam \n",
      "19 \n",
      "20 pim poum \n"
     ]
    }
   ],
   "source": [
    "def divisiblepar( nombre, diviseur, message ):\n",
    "    retour = \"\"\n",
    "    if nombre % diviseur == 0:\n",
    "        retour = message + ' '\n",
    "    return(retour)\n",
    "\n",
    "for i in range( 1, 21):\n",
    "    print( str(i) + \" \" + \\\n",
    "          divisiblepar(i, 2, \"pim\") + \\\n",
    "          divisiblepar(i, 3, \"pam\") + \\\n",
    "          divisiblepar(i, 5, \"poum\") )\n",
    "\n"
   ]
  },
  {
   "cell_type": "code",
   "execution_count": null,
   "metadata": {},
   "outputs": [],
   "source": []
  }
 ],
 "metadata": {
  "kernelspec": {
   "display_name": "Python 3",
   "language": "python",
   "name": "python3"
  },
  "language_info": {
   "codemirror_mode": {
    "name": "ipython",
    "version": 3
   },
   "file_extension": ".py",
   "mimetype": "text/x-python",
   "name": "python",
   "nbconvert_exporter": "python",
   "pygments_lexer": "ipython3",
   "version": "3.8.8"
  }
 },
 "nbformat": 4,
 "nbformat_minor": 4
}
