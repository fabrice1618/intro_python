{
 "cells": [
  {
   "cell_type": "markdown",
   "metadata": {},
   "source": [
    "# Fichiers CSV - Base de données SQL\n",
    "\n",
    "## 1 - Les fichiers CSV\n",
    "\n",
    "Le format de fichier CSV sert le plus souvent à représenter des tableaux de données. Ces formats sont souvent utilisés par les tableurs ( excel, libre office, google doc... ), par les bases de données et par de nombreux logiciels. Ce format de données étant très répandu, on le trouve très souvent en entrée ou en sortie d'une application.\n",
    "Il n'existe pas de standard pour les fichiers CSV, et la connaissance de plusieurs caratéristiques sont utiles pour pouvoir lire ces fichiers:\n",
    "- Le/les caractères de fin de ligne ( LF ou CR-LF )\n",
    "- Le caractères séparateur de champ ( , ; ou parfois | )\n",
    "- Le délimiteurs de chaines de caractères ( \" ' ou aucun )\n",
    "- L'encodage des caractères ( UTF-8, ASCII, ISO8859-1, ... )\n",
    "- Le caractère spéarateur de décimales ( , . ) ou le séparateur de millier si il existe\n",
    "- etc ....\n",
    "\n",
    "Documentation python: https://docs.python.org/fr/3/library/csv.html"
   ]
  },
  {
   "cell_type": "markdown",
   "metadata": {},
   "source": [
    "Exemple de tableau de données en CSV:\n",
    "\n",
    "| Caractéristiques  | Mercure  | Venus  | Terre  | Mars  | Jupiter  | Saturne  | Uranus  | Neptune |\n",
    "|-------------------|----------|--------|--------|-------|----------|----------|---------|---------|\n",
    "| Diamètre (km)  | 4 878  | 12 104  | 12 756  | 6 794  | 142 984  | 120 536  | 51 118  | 49 528 |\n",
    "| Circonférence (km)  | 15324,689  | 38019,554  | 40024  | 21318,84  | 449197,484  | 378675,012  | 160591,933  | 155596,8 |\n",
    "| Périhélie (millions de km)  | 45,9  | 107,4  | 147,1  | 206,6  | 740,5  | 1 352,6  | 2 741,3  | 4 456 |\n",
    "| Aphélie (millions de km)  | 69,7  | 109  | 152,1  | 249,2  | 815,6  | 1 514,5  | 3 013,6  | 4 545,7 |\n",
    "| Distance Moyenne avec le Soleil (millions de km)  | 57,8  | 108,2  | 149,6  | 227,9  | 778,6  | 1 433,5  | 2 872,5  | 4 495,1 |\n",
    "| Température Moyenne (°C)  | 167  | 465  | 15  | -65  | -54  | -150  | -210  | -220 |\n",
    "| Masse (Terre = 1)  | 0,0553  | 0,81  | 1  | 0,11  | 318  | 95,1  | 14,5  | 17,1 |\n",
    "| Période de Révolution (an)  | 0,24  | 0,615  | 1  | 1,88  | 11,86  | 29,46  | 84  | 164,79 |\n",
    "| Rotation sur son axe  | 58j 15 h 38min  | 243j  | 23 h 56min 4s  | 24 h 37min 23s  | 9 h 50min  | 11.5 h  | 17 h 24min  | 16 h 3min |\n",
    "| Attraction gravitationnelle (N/kg)  | 3,78  | 8,6  | 9,81  | 3,72  | 24,892  | 10,584  | 8,624  | 11,27 |\n",
    "| Temps Lumière Soleil-Planète (min)  | 3,2  | 6,012  | 8  | 12,66  | 43,24  | 79,44  | 159,7  | 249,81 |\n"
   ]
  },
  {
   "cell_type": "markdown",
   "metadata": {},
   "source": [
    "Les données en format CSV:\n",
    "```\n",
    " Caractéristiques  ; Mercure  ; Venus  ; Terre  ; Mars  ; Jupiter  ; Saturne  ; Uranus  ; Neptune \n",
    " Diamètre (km)  ;4878;12104;12756;6794;142984;120536;51118;49528 \n",
    " Circonférence (km)  ;15324,689;38019,554;40024;21318,84;449197,484;378675,012;160591,933;155596,8 \n",
    " Périhélie (millions de km)  ;45,9;107,4;147,1;206,6;740,5;1352,6;2741,3;4456 \n",
    " Aphélie (millions de km)  ;69,7;109;152,1;249,2;815,6;1514,5;3013,6;4545,7 \n",
    " Distance Moyenne avec le Soleil (millions de km)  ;57,8;108,2;149,6;227,9;778,6;1433,5;2872,5;4495,1 \n",
    " Température Moyenne (°C)  ;167;465;15;-65;-54;-150;-210;-220 \n",
    " Masse (Terre = 1)  ;0,0553;0,81;1;0,11;318;95,1;14,5;17,1 \n",
    " Période de Révolution (an)  ;0,24;0,615;1;1,88;11,86;29,46;84;164,79 \n",
    " Rotation sur son axe  ; 58j 15 h 38min  ; 243j  ; 23 h 56min 4s  ; 24 h 37min 23s  ; 9 h 50min  ; 11.5 h  ; 17 h 24min  ; 16 h 3min  \n",
    " Attraction gravitationnelle (N/kg)  ;3,78;8,6;9,81;3,72;24,892;10,584;8,624;11,27 \n",
    " Temps Lumière Soleil-Planète (min)  ;3,2;6,012;8;12,66;43,24;79,44;159,7;249,81\n",
    "```\n"
   ]
  },
  {
   "cell_type": "markdown",
   "metadata": {},
   "source": [
    "### 1.1 Lecture de fichier CSV\n",
    "Nous allons lire les données du fichier departement.csv\n",
    "\n",
    "Déterminer les caractéristiques du fichier"
   ]
  },
  {
   "cell_type": "code",
   "execution_count": 5,
   "metadata": {},
   "outputs": [
    {
     "name": "stdout",
     "output_type": "stream",
     "text": [
      "1 01 Ain AIN ain A500\n",
      "2 02 Aisne AISNE aisne A250\n",
      "3 03 Allier ALLIER allier A460\n",
      "5 05 Hautes-Alpes HAUTES-ALPES hautes-alpes H32412\n",
      "4 04 Alpes-de-Haute-Provence ALPES-DE-HAUTE-PROVENCE alpes-de-haute-provence A412316152\n",
      "6 06 Alpes-Maritimes ALPES-MARITIMES alpes-maritimes A41256352\n",
      "7 07 Ardèche ARDÈCHE ardeche A632\n",
      "8 08 Ardennes ARDENNES ardennes A6352\n",
      "9 09 Ariège ARIÈGE ariege A620\n",
      "10 10 Aube AUBE aube A100\n",
      "11 11 Aude AUDE aude A300\n",
      "12 12 Aveyron AVEYRON aveyron A165\n",
      "13 13 Bouches-du-Rhône BOUCHES-DU-RHÔNE bouches-du-rhone B2365\n",
      "14 14 Calvados CALVADOS calvados C4132\n",
      "15 15 Cantal CANTAL cantal C534\n",
      "16 16 Charente CHARENTE charente C653\n",
      "17 17 Charente-Maritime CHARENTE-MARITIME charente-maritime C6535635\n",
      "18 18 Cher CHER cher C600\n",
      "19 19 Corrèze CORRÈZE correze C620\n",
      "20 2a Corse-du-sud CORSE-DU-SUD corse-du-sud C62323\n",
      "21 2b Haute-corse HAUTE-CORSE haute-corse H3262\n",
      "22 21 Côte-d'or CÔTE-D'OR cote-dor C360\n",
      "23 22 Côtes-d'armor CÔTES-D'ARMOR cotes-darmor C323656\n",
      "24 23 Creuse CREUSE creuse C620\n",
      "25 24 Dordogne DORDOGNE dordogne D6325\n",
      "26 25 Doubs DOUBS doubs D120\n",
      "27 26 Drôme DRÔME drome D650\n",
      "28 27 Eure EURE eure E600\n",
      "29 28 Eure-et-Loir EURE-ET-LOIR eure-et-loir E6346\n",
      "30 29 Finistère FINISTÈRE finistere F5236\n",
      "31 30 Gard GARD gard G630\n",
      "32 31 Haute-Garonne HAUTE-GARONNE haute-garonne H3265\n",
      "33 32 Gers GERS gers G620\n",
      "34 33 Gironde GIRONDE gironde G653\n",
      "35 34 Hérault HÉRAULT herault H643\n",
      "36 35 Ile-et-Vilaine ILE-ET-VILAINE ile-et-vilaine I43145\n",
      "37 36 Indre INDRE indre I536\n",
      "38 37 Indre-et-Loire INDRE-ET-LOIRE indre-et-loire I536346\n",
      "39 38 Isère ISÈRE isere I260\n",
      "40 39 Jura JURA jura J600\n",
      "41 40 Landes LANDES landes L532\n",
      "42 41 Loir-et-Cher LOIR-ET-CHER loir-et-cher L6326\n",
      "43 42 Loire LOIRE loire L600\n",
      "44 43 Haute-Loire HAUTE-LOIRE haute-loire H346\n",
      "45 44 Loire-Atlantique LOIRE-ATLANTIQUE loire-atlantique L634532\n",
      "46 45 Loiret LOIRET loiret L630\n",
      "47 46 Lot LOT lot L300\n",
      "48 47 Lot-et-Garonne LOT-ET-GARONNE lot-et-garonne L3265\n",
      "49 48 Lozère LOZÈRE lozere L260\n",
      "50 49 Maine-et-Loire MAINE-ET-LOIRE maine-et-loire M346\n",
      "51 50 Manche MANCHE manche M200\n",
      "52 51 Marne MARNE marne M650\n",
      "53 52 Haute-Marne HAUTE-MARNE haute-marne H3565\n",
      "54 53 Mayenne MAYENNE mayenne M000\n",
      "55 54 Meurthe-et-Moselle MEURTHE-ET-MOSELLE meurthe-et-moselle M63524\n",
      "56 55 Meuse MEUSE meuse M200\n",
      "57 56 Morbihan MORBIHAN morbihan M615\n",
      "58 57 Moselle MOSELLE moselle M240\n",
      "59 58 Nièvre NIÈVRE nievre N160\n",
      "60 59 Nord NORD nord N630\n",
      "61 60 Oise OISE oise O200\n",
      "62 61 Orne ORNE orne O650\n",
      "63 62 Pas-de-Calais PAS-DE-CALAIS pas-de-calais P23242\n",
      "64 63 Puy-de-Dôme PUY-DE-DÔME puy-de-dome P350\n",
      "65 64 Pyrénées-Atlantiques PYRÉNÉES-ATLANTIQUES pyrenees-atlantiques P65234532\n",
      "66 65 Hautes-Pyrénées HAUTES-PYRÉNÉES hautes-pyrenees H321652\n",
      "67 66 Pyrénées-Orientales PYRÉNÉES-ORIENTALES pyrenees-orientales P65265342\n",
      "68 67 Bas-Rhin BAS-RHIN bas-rhin B265\n",
      "69 68 Haut-Rhin HAUT-RHIN haut-rhin H365\n",
      "70 69 Rhône RHÔNE rhone R500\n",
      "71 70 Haute-Saône HAUTE-SAÔNE haute-saone H325\n",
      "72 71 Saône-et-Loire SAÔNE-ET-LOIRE saone-et-loire S5346\n",
      "73 72 Sarthe SARTHE sarthe S630\n",
      "74 73 Savoie SAVOIE savoie S100\n",
      "75 74 Haute-Savoie HAUTE-SAVOIE haute-savoie H321\n",
      "76 75 Paris PARIS paris P620\n",
      "77 76 Seine-Maritime SEINE-MARITIME seine-maritime S5635\n",
      "78 77 Seine-et-Marne SEINE-ET-MARNE seine-et-marne S53565\n",
      "79 78 Yvelines YVELINES yvelines Y1452\n",
      "80 79 Deux-Sèvres DEUX-SÈVRES deux-sevres D2162\n",
      "81 80 Somme SOMME somme S500\n",
      "82 81 Tarn TARN tarn T650\n",
      "83 82 Tarn-et-Garonne TARN-ET-GARONNE tarn-et-garonne T653265\n",
      "84 83 Var VAR var V600\n",
      "85 84 Vaucluse VAUCLUSE vaucluse V242\n",
      "86 85 Vendée VENDÉE vendee V530\n",
      "87 86 Vienne VIENNE vienne V500\n",
      "88 87 Haute-Vienne HAUTE-VIENNE haute-vienne H315\n",
      "89 88 Vosges VOSGES vosges V200\n",
      "90 89 Yonne YONNE yonne Y500\n",
      "91 90 Territoire de Belfort TERRITOIRE DE BELFORT territoire-de-belfort T636314163\n",
      "92 91 Essonne ESSONNE essonne E250\n",
      "93 92 Hauts-de-Seine HAUTS-DE-SEINE hauts-de-seine H32325\n",
      "94 93 Seine-Saint-Denis SEINE-SAINT-DENIS seine-saint-denis S525352\n",
      "95 94 Val-de-Marne VAL-DE-MARNE val-de-marne V43565\n",
      "96 95 Val-d'oise VAL-D'OISE val-doise V432\n",
      "97 976 Mayotte MAYOTTE mayotte M300\n",
      "98 971 Guadeloupe GUADELOUPE guadeloupe G341\n",
      "99 973 Guyane GUYANE guyane G500\n",
      "100 972 Martinique MARTINIQUE martinique M6352\n",
      "101 974 Réunion RÉUNION reunion R500\n",
      "\n",
      "Nombre de lignes lues dans le fichier: 101\n"
     ]
    }
   ],
   "source": [
    "# Lit tout\n",
    "import csv\n",
    "\n",
    "with open('departement.csv', encoding=\"utf8\") as fichier_csv:\n",
    "    lecteur_csv = csv.reader(fichier_csv, delimiter=',')\n",
    "    \n",
    "    nombre_lignes = 0\n",
    "    # Lire les lignes du fichier une par une\n",
    "    for ligne in lecteur_csv:\n",
    "        # Les champs sont lus dans une liste\n",
    "        print(ligne[0],ligne[1],ligne[2],ligne[3],ligne[4],ligne[5])\n",
    "        nombre_lignes += 1\n",
    "        \n",
    "    print('\\nNombre de lignes lues dans le fichier: {}'.format(nombre_lignes))\n"
   ]
  },
  {
   "cell_type": "markdown",
   "metadata": {},
   "source": [
    "### Exercice : \n",
    "Lire le fichier departement.csv et n'afficher que les DOM/TOM."
   ]
  },
  {
   "cell_type": "code",
   "execution_count": 10,
   "metadata": {},
   "outputs": [],
   "source": [
    "# Afficher les DOM/TOM\n"
   ]
  },
  {
   "cell_type": "markdown",
   "metadata": {},
   "source": [
    "### 1.2 écriture dans un fichier CSV"
   ]
  },
  {
   "cell_type": "code",
   "execution_count": 12,
   "metadata": {},
   "outputs": [],
   "source": [
    "# enregistrer les DOM/TOM dans un fichier CSV\n",
    "import csv\n",
    "\n",
    "with open('departement.csv', encoding=\"utf8\") as fichier_csv:\n",
    "    lecteur_csv = csv.reader(fichier_csv, delimiter=',', quotechar='\"')\n",
    "\n",
    "    with open('dom_tom.csv', 'w', newline='') as fichier_csv_sortie:\n",
    "        enregistreur_csv = csv.writer(fichier_csv_sortie)\n",
    "    \n",
    "        for ligne in lecteur_csv:\n",
    "        \n",
    "            departement = ligne[1]\n",
    "            if departement[0:2] == \"97\":\n",
    "                enregistreur_csv.writerow( [ ligne[1], ligne[2] ] ) # écrire une ligne dans le fichier CSV\n"
   ]
  },
  {
   "cell_type": "markdown",
   "metadata": {},
   "source": [
    "## 2 - Les bases de données SQL\n",
    "Pour simplifier la configuration nous allons utiliser la base de données SQLlite qui est directement intégrée dans Python et ne demande pas l'instalation d'un serveur de base de données. Le fonctionnement est le même avec une base de données comme MySQL. Le langage SQL dispose de plusieures variantes qui diffèrent principalement par les options disponibles.\n",
    "\n",
    "Le langage SQL dispose de 4 types de commandes:\n",
    "- Les instructions de manipulation de données: INSERT, UPDATE, DELETE, SELECT\n",
    "- Les instructions de définition de données : CREATE, DROP, ALTER\n",
    "- Les instructions de contrôle des données: GRANT, REVOKE\n",
    "- Les instructions de contrôle de transactions: COMMIT, ROLLBACK\n",
    "\n",
    "Comme une feuille dans un tableur, une table contient plusieurs enregistrements ( lignes ) contenant chacuns plusieurs champs ( colonnes ).\n"
   ]
  },
  {
   "cell_type": "markdown",
   "metadata": {},
   "source": [
    "### 2.1 Création d'une base de données\n",
    "Dans SQLlite, créer revient à créer un fichier dans le dossier courant. Ouvrir et fermer la base de données suiffit à la créer, ainsi que le fichier correspondant."
   ]
  },
  {
   "cell_type": "code",
   "execution_count": 14,
   "metadata": {},
   "outputs": [
    {
     "name": "stdout",
     "output_type": "stream",
     "text": [
      "Base de données crée\n"
     ]
    }
   ],
   "source": [
    "# creation de la base de données\n",
    "import sqlite3 \n",
    "\n",
    "connexion_bdd = sqlite3.connect('mabasededonnees.db')\n",
    "curseur = connexion_bdd.cursor() \n",
    "\n",
    "\n",
    "# Fermer la connexion \n",
    "connexion_bdd.close\n",
    "\n",
    "print(\"Base de données crée avec succès\")"
   ]
  },
  {
   "cell_type": "markdown",
   "metadata": {},
   "source": [
    "### 2.2 Créer une table dans la base de données\n",
    "\n",
    "Pour créer une table, on utilise la requête SQL :\n",
    "```\n",
    "CREATE TABLE departement ( \n",
    "  dep_code varchar(3) NOT NULL, \n",
    "  dep_desc varchar(100) NOT NULL\n",
    ") \n",
    "```\n",
    "Cette requête crée la table departement avec 2 champs: dep_code pour le code de département et dep_desc pour le nom du département."
   ]
  },
  {
   "cell_type": "code",
   "execution_count": 2,
   "metadata": {},
   "outputs": [
    {
     "name": "stdout",
     "output_type": "stream",
     "text": [
      "Table departement crée.\n"
     ]
    }
   ],
   "source": [
    "# creation de la table departement (vide)\n",
    "import sqlite3 \n",
    "\n",
    "# connexion à la base de données\n",
    "connexion_bdd = sqlite3.connect('mabasededonnees.db')\n",
    "curseur = connexion_bdd.cursor() \n",
    "\n",
    "# Création de la requete SQL\n",
    "requete = \"CREATE TABLE departement ( \\\n",
    "  dep_code varchar(3) NOT NULL, \\\n",
    "  dep_desc varchar(100) NOT NULL \\\n",
    ")\" \n",
    "\n",
    "# Exécution de la requete \n",
    "curseur.execute(requete) \n",
    "\n",
    "# Enregistrer definitivement les données\n",
    "connexion_bdd.commit() \n",
    "\n",
    "# Fermer la connexion \n",
    "connexion_bdd.close\n",
    "print(\"Table departement crée.\")"
   ]
  },
  {
   "cell_type": "markdown",
   "metadata": {},
   "source": [
    "### 2.3 Ajouter des lignes dans une table\n",
    "Pour ajouter des lignes dans une table on utilise la requête SQL :\n",
    "```\n",
    "INSERT INTO departement (dep_code,dep_desc) \n",
    "VALUES ('42', 'Loire :)' )\n",
    "```"
   ]
  },
  {
   "cell_type": "code",
   "execution_count": 5,
   "metadata": {},
   "outputs": [
    {
     "name": "stdout",
     "output_type": "stream",
     "text": [
      "Entrez un code de département (fin pour terminer):fin\n",
      "\n"
     ]
    }
   ],
   "source": [
    "# Ajouter une ligne dans la table departement\n",
    "import sqlite3 \n",
    "\n",
    "# connexion à la base de données\n",
    "connexion_bdd = sqlite3.connect('mabasededonnees.db')\n",
    "curseur = connexion_bdd.cursor() \n",
    "\n",
    "code_departement = \"\"\n",
    "nom_departement = \"\"\n",
    "\n",
    "while code_departement != \"fin\":\n",
    "    code_departement = input(\"Entrez un code de département (fin pour terminer):\")\n",
    "    if code_departement != \"fin\":\n",
    "        nom_departement = input(\"Entrez le nom du département:\")\n",
    "        \n",
    "        # Création de la requete SQL\n",
    "        requete = \" INSERT INTO departement (dep_code,dep_desc) \\\n",
    "                    VALUES ('{}', '{}' ) \". format( code_departement, nom_departement )\n",
    "        \n",
    "        # Exécution de la requete \n",
    "        curseur.execute(requete) \n",
    "        # Enregistrer definitivement les données\n",
    "        connexion_bdd.commit() \n",
    "        print( \"Une ligne à été ajoutée dans la table\\n\")\n",
    "\n",
    "# Fermer la connexion \n",
    "connexion_bdd.close\n",
    "print(\"\")"
   ]
  },
  {
   "cell_type": "markdown",
   "metadata": {},
   "source": [
    "### 2.4 Lecture d'une table\n",
    "Pour lire les données d'une table on utilise une requête SQL:\n",
    "```\n",
    "SELECT * FROM departement\n",
    "SELECT * FROM departement WHERE dep_code = \"42\"\n",
    "```"
   ]
  },
  {
   "cell_type": "code",
   "execution_count": 3,
   "metadata": {},
   "outputs": [
    {
     "name": "stdout",
     "output_type": "stream",
     "text": [
      "\n"
     ]
    }
   ],
   "source": [
    "# lecture de la table\n",
    "import sqlite3 \n",
    "\n",
    "# connexion à la base de données\n",
    "connexion_bdd = sqlite3.connect('mabasededonnees.db')\n",
    "curseur = connexion_bdd.cursor() \n",
    "\n",
    "# Création de la requete SQL\n",
    "requete = \"SELECT * FROM departement\"\n",
    "\n",
    "# Exécution de la requete \n",
    "resultat = curseur.execute(requete) \n",
    "\n",
    "for enregistrement in resultat:\n",
    "  print(enregistrement)\n",
    "\n",
    "# Enregistrer definitivement les données\n",
    "connexion_bdd.commit() \n",
    "\n",
    "# Fermer la connexion \n",
    "connexion_bdd.close\n",
    "print(\"\")"
   ]
  },
  {
   "cell_type": "markdown",
   "metadata": {},
   "source": [
    "### 2.5 Effacer un enregistrement\n",
    "Pour effacer un enregistrement d'une table on utilise la requête SQL:\n",
    "```\n",
    "DELETE FROM departement WHERE dep_code = \"42\"\n",
    "```"
   ]
  },
  {
   "cell_type": "code",
   "execution_count": 8,
   "metadata": {},
   "outputs": [
    {
     "name": "stdout",
     "output_type": "stream",
     "text": [
      "\n"
     ]
    }
   ],
   "source": [
    "# Effacer un enregistrement\n",
    "import sqlite3 \n",
    "\n",
    "# connexion à la base de données\n",
    "connexion_bdd = sqlite3.connect('mabasededonnees.db')\n",
    "curseur = connexion_bdd.cursor() \n",
    "\n",
    "# Création de la requete SQL\n",
    "requete = \"DELETE FROM departement WHERE dep_code = '42' \"\n",
    "\n",
    "# Exécution de la requete \n",
    "resultat = curseur.execute(requete) \n",
    "\n",
    "# Enregistrer definitivement les données\n",
    "connexion_bdd.commit() \n",
    "\n",
    "# Fermer la connexion \n",
    "connexion_bdd.close\n",
    "print(\"\")"
   ]
  },
  {
   "cell_type": "markdown",
   "metadata": {},
   "source": [
    "### 2.6 Exercice\n",
    "Lire les données du fichier departement.csv et ajouter les enregistrements dans la table département"
   ]
  },
  {
   "cell_type": "code",
   "execution_count": null,
   "metadata": {},
   "outputs": [],
   "source": [
    "# Insérer les données du fichier departement.csv\n"
   ]
  },
  {
   "cell_type": "markdown",
   "metadata": {},
   "source": [
    "## 3 - Proposition de solutions"
   ]
  },
  {
   "cell_type": "code",
   "execution_count": 9,
   "metadata": {},
   "outputs": [
    {
     "name": "stdout",
     "output_type": "stream",
     "text": [
      "976 Mayotte\n",
      "971 Guadeloupe\n",
      "973 Guyane\n",
      "972 Martinique\n",
      "974 Réunion\n",
      "\n",
      "Nombre de lignes lues dans le fichier: 101\n"
     ]
    }
   ],
   "source": [
    "# afficher les DOM/TOM    \n",
    "import csv\n",
    "\n",
    "with open('departement.csv', encoding=\"utf8\") as fichier_csv:\n",
    "    lecteur_csv = csv.reader(fichier_csv, delimiter=',', quotechar='\"')\n",
    "    \n",
    "    nombre_lignes = 0\n",
    "    for ligne in lecteur_csv:\n",
    "        \n",
    "        departement = ligne[1]\n",
    "        if departement[0:2] == \"97\":\n",
    "          print(ligne[1],ligne[2])\n",
    "        \n",
    "        nombre_lignes += 1\n",
    "        \n",
    "    print('\\nNombre de lignes lues dans le fichier: {}'.format(nombre_lignes))\n"
   ]
  },
  {
   "cell_type": "code",
   "execution_count": 12,
   "metadata": {},
   "outputs": [
    {
     "name": "stdout",
     "output_type": "stream",
     "text": [
      "Nombre de lignes ajoutées:101\n"
     ]
    }
   ],
   "source": [
    "# Insérer les données du fichier departement.csv\n",
    "import csv\n",
    "import sqlite3 \n",
    "\n",
    "connexion_bdd = sqlite3.connect('mabasededonnees.db')\n",
    "curseur = connexion_bdd.cursor() \n",
    "\n",
    "nombre_lignes = 0\n",
    "\n",
    "with open('departement.csv', encoding=\"utf8\") as fichier_csv:\n",
    "    lecteur_csv = csv.reader(fichier_csv, delimiter=',')\n",
    "    \n",
    "    for ligne in lecteur_csv:\n",
    "\n",
    "        # Création de la requete \n",
    "        requete = \"INSERT INTO departement (dep_code,dep_desc) \\\n",
    "          VALUES (\\\"{}\\\", \\\"{}\\\")\".format(ligne[1], ligne[2])\n",
    "\n",
    "        # print(requete)\n",
    "\n",
    "        # Insérer une ligne de données \n",
    "        curseur.execute( requete )\n",
    "        # Commettre ou engager les données\n",
    "        connexion_bdd.commit()\n",
    "    \n",
    "        nombre_lignes += 1\n",
    "    \n",
    "\n",
    "# Fermer la connexion \n",
    "connexion_bdd.close\n",
    "print('Nombre de lignes ajoutées:{}'.format(nombre_lignes))"
   ]
  },
  {
   "cell_type": "code",
   "execution_count": null,
   "metadata": {},
   "outputs": [],
   "source": []
  }
 ],
 "metadata": {
  "kernelspec": {
   "display_name": "Python 3",
   "language": "python",
   "name": "python3"
  },
  "language_info": {
   "codemirror_mode": {
    "name": "ipython",
    "version": 3
   },
   "file_extension": ".py",
   "mimetype": "text/x-python",
   "name": "python",
   "nbconvert_exporter": "python",
   "pygments_lexer": "ipython3",
   "version": "3.8.3"
  }
 },
 "nbformat": 4,
 "nbformat_minor": 4
}
